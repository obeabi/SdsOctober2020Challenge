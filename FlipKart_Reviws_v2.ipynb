{
  "nbformat": 4,
  "nbformat_minor": 0,
  "metadata": {
    "colab": {
      "name": "FlipKart_Reviws_v2.ipynb",
      "provenance": [],
      "toc_visible": true,
      "authorship_tag": "ABX9TyP5RCcdVHvFdVvt7LcbQ+Ct",
      "include_colab_link": true
    },
    "kernelspec": {
      "name": "python3",
      "display_name": "Python 3"
    }
  },
  "cells": [
    {
      "cell_type": "markdown",
      "metadata": {
        "id": "view-in-github",
        "colab_type": "text"
      },
      "source": [
        "<a href=\"https://colab.research.google.com/github/obeabi/SdsOctober2020Challenge/blob/main/FlipKart_Reviws_v2.ipynb\" target=\"_parent\"><img src=\"https://colab.research.google.com/assets/colab-badge.svg\" alt=\"Open In Colab\"/></a>"
      ]
    },
    {
      "cell_type": "markdown",
      "metadata": {
        "id": "DWMWvdi3iIX1"
      },
      "source": [
        "# Web scraper for text review\r\n",
        "## Written by Abiola Obembe\r\n",
        "### Date: 2021-01-12\r\n",
        "### Course: ML masters with deployment and deep learning"
      ]
    },
    {
      "cell_type": "code",
      "metadata": {
        "colab": {
          "base_uri": "https://localhost:8080/"
        },
        "id": "jB6eKt75iZ4v",
        "outputId": "15ccd507-9374-4bb4-cca8-28182d16e83b"
      },
      "source": [
        "# Importing necessary libraries\r\n",
        "\r\n",
        "from flask import Flask, render_template, request,jsonify\r\n",
        "import pandas as pd\r\n",
        "import requests\r\n",
        "from bs4 import BeautifulSoup as bs\r\n",
        "from urllib.request import urlopen as uReq\r\n",
        "import pymongo\r\n",
        "\r\n",
        "print(\"Libraries installed successfully!\")"
      ],
      "execution_count": 3,
      "outputs": [
        {
          "output_type": "stream",
          "text": [
            "Libraries installed successfully!\n"
          ],
          "name": "stdout"
        }
      ]
    },
    {
      "cell_type": "code",
      "metadata": {
        "id": "aY6hJQg7kG0M"
      },
      "source": [
        "# Create Flask object\r\n",
        "app = Flask(__name__)  # initialising the flask app with the name 'app'\r\n"
      ],
      "execution_count": 4,
      "outputs": []
    },
    {
      "cell_type": "markdown",
      "metadata": {
        "id": "7Fc3uYRRkejo"
      },
      "source": [
        "## Build Main Body of Code"
      ]
    },
    {
      "cell_type": "code",
      "metadata": {
        "colab": {
          "base_uri": "https://localhost:8080/"
        },
        "id": "JG1PWweZlO5T",
        "outputId": "c20f5f4f-4cee-41a2-a145-7050af89e2ff"
      },
      "source": [
        "# Type search string and build complete url\r\n",
        "searchString = 'samsung'\r\n",
        "searchString = searchString.replace(\" \", \"\")\r\n",
        "flipkart_url = \"https://www.flipkart.com/search?q=\" + searchString # preparing the URL to search the product on flipkart\r\n",
        "\r\n",
        "print(flipkart_url)"
      ],
      "execution_count": 64,
      "outputs": [
        {
          "output_type": "stream",
          "text": [
            "https://www.flipkart.com/search?q=samsung\n"
          ],
          "name": "stdout"
        }
      ]
    },
    {
      "cell_type": "code",
      "metadata": {
        "colab": {
          "base_uri": "https://localhost:8080/"
        },
        "id": "F3jYDw6OnNa6",
        "outputId": "405f5e12-7e60-43a9-edea-f878aeb39c3f"
      },
      "source": [
        "# Request webpage from the internet\r\n",
        "#uClient = requests.get(flipkart_url) # requesting the webpage from the internet\r\n",
        "uClient = uReq(flipkart_url)\r\n",
        "flipkartPage = uClient.read() # reading the webpage\r\n",
        "uClient.close() # closing the connection to the web server\r\n",
        "uClient"
      ],
      "execution_count": 115,
      "outputs": [
        {
          "output_type": "execute_result",
          "data": {
            "text/plain": [
              "<http.client.HTTPResponse at 0x7f8e21978b70>"
            ]
          },
          "metadata": {
            "tags": []
          },
          "execution_count": 115
        }
      ]
    },
    {
      "cell_type": "code",
      "metadata": {
        "colab": {
          "base_uri": "https://localhost:8080/"
        },
        "id": "MPoVaIDOnnTK",
        "outputId": "6df60b57-2326-460b-f69a-65f52ff09b53"
      },
      "source": [
        "# Clean the data to be scraped\r\n",
        "# Parse the webapage as HTML and find bigboxes that contains each device listed\r\n",
        "flipkart_html = bs(flipkartPage, \"html.parser\") # parsing the webpage as HTML\r\n",
        "total_boxes = []\r\n",
        "bigboxes = flipkart_html.findAll(\"div\", { \"class\": \"_2pi5LC col-12-12\"})\r\n",
        "del bigboxes[0:3] \r\n",
        "del bigboxes[-4:] \r\n",
        "entries = len(bigboxes)\r\n",
        "bigboxes[-5:]\r\n",
        "  "
      ],
      "execution_count": 166,
      "outputs": [
        {
          "output_type": "execute_result",
          "data": {
            "text/plain": [
              "[<div class=\"_2pi5LC col-12-12\"><div class=\"_13oc-S\"><div data-id=\"MOBFRZZHHUZTTYCZ\" style=\"width:100%\"><div class=\"_2kHMtA\"><a class=\"_1fQZEK\" href=\"/samsung-galaxy-m11-metallic-blue-32-gb/p/itme875f568bb05b?pid=MOBFRZZHHUZTTYCZ&amp;lid=LSTMOBFRZZHHUZTTYCZGZVDV8&amp;marketplace=FLIPKART&amp;srno=s_1_20&amp;otracker=search&amp;fm=organic&amp;iid=515a47a5-de33-4dad-953d-d71b7397b585.MOBFRZZHHUZTTYCZ.SEARCH&amp;ssid=yxgewpv5ts0000001610480875979&amp;qH=fe546279a62683de\" rel=\"noopener noreferrer\" target=\"_blank\"><div class=\"MIXNux\"><div class=\"_2QcLo-\"><div><div class=\"CXW8mj\" style=\"height:200px;width:200px\"><img alt=\"Samsung Galaxy M11 (Metallic Blue, 32 GB)\" class=\"_396cs4\" src=\"//img1a.flixcart.com/www/linchpin/fk-cp-zion/img/placeholder_fcebae.svg\"/></div></div></div><div class=\"_3wLduG\"><div class=\"_3PzNI-\"><span class=\"f3A4_V\"><div class=\"_2iDkf8\"><label><input class=\"_30VH1S\" readonly=\"\" type=\"checkbox\"/><div class=\"_24_Dny\"></div></label></div></span><label class=\"_6Up2sF\"><span>Add to Compare</span></label></div></div><div class=\"_2hVSre _3nq8ih\"><div class=\"_36FSn5\"><svg class=\"_1l0elc\" height=\"16\" viewbox=\"0 0 20 16\" width=\"16\" xmlns=\"http://www.w3.org/2000/svg\"><path class=\"eX72wL\" d=\"M8.695 16.682C4.06 12.382 1 9.536 1 6.065 1 3.219 3.178 1 5.95 1c1.566 0 3.069.746 4.05 1.915C10.981 1.745 12.484 1 14.05 1 16.822 1 19 3.22 19 6.065c0 3.471-3.06 6.316-7.695 10.617L10 17.897l-1.305-1.215z\" fill=\"#2874F0\" fill-rule=\"evenodd\" opacity=\".9\" stroke=\"#FFF\"></path></svg></div></div></div><div class=\"_3pLy-c row\"><div class=\"col col-7-12\"><div class=\"_4rR01T\">Samsung Galaxy M11 (Metallic Blue, 32 GB)</div><div class=\"gUuXy-\"><span class=\"_1lRcqv\" id=\"productRating_LSTMOBFRZZHHUZTTYCZGZVDV8_MOBFRZZHHUZTTYCZ_\"><div class=\"_3LWZlK\">4.2<img class=\"_1wB99o\" src=\"data:image/svg+xml;base64,PHN2ZyB4bWxucz0iaHR0cDovL3d3dy53My5vcmcvMjAwMC9zdmciIHdpZHRoPSIxMyIgaGVpZ2h0PSIxMiI+PHBhdGggZmlsbD0iI0ZGRiIgZD0iTTYuNSA5LjQzOWwtMy42NzQgMi4yMy45NC00LjI2LTMuMjEtMi44ODMgNC4yNTQtLjQwNEw2LjUuMTEybDEuNjkgNC4wMSA0LjI1NC40MDQtMy4yMSAyLjg4Mi45NCA0LjI2eiIvPjwvc3ZnPg==\"/></div></span><span class=\"_2_R_DZ\"><span><span>9,232 Ratings </span><span class=\"_13vcmD\">&amp;</span><span> 779 Reviews</span></span></span></div><div class=\"fMghEO\"><ul class=\"_1xgFaf\"><li class=\"rgWa7D\">3 GB RAM | 32 GB ROM | Expandable Upto 512 GB</li><li class=\"rgWa7D\">16.26 cm (6.4 inch) HD+ Display</li><li class=\"rgWa7D\">13MP + 5MP + 2MP | 8MP Front Camera</li><li class=\"rgWa7D\">5000 mAh Lithium-ion Battery</li><li class=\"rgWa7D\">Qualcomm Snapdragon (SDM450-F01) Octa Core Processor</li><li class=\"rgWa7D\">1 Year Manufacturer Warranty for Phone and 6 Months Warranty for in the Box Accessories</li></ul></div></div><div class=\"col col-5-12 nlI3QM\"><div class=\"_3tbKJL\"><div class=\"_25b18c\"><div class=\"_30jeq3 _1_WHN1\">₹10,639</div><div class=\"_3I9_wc _27UcVY\">₹<!-- -->11,180</div><div class=\"_3Ay6Sb\"><span>4% off</span></div></div></div><div class=\"_13J9qT\"><img height=\"21\" src=\"//img1a.flixcart.com/www/linchpin/fk-cp-zion/img/fa_62673a.png\"/></div><div class=\"_2ZdXDB\"><div class=\"_18hQoS\" style=\"color:#000000;font-size:12px;font-family:inherit;font-weight:normal\">No Cost EMI</div></div></div></div></a></div></div></div></div>,\n",
              " <div class=\"_2pi5LC col-12-12\"><div class=\"_13oc-S\"><div data-id=\"MOBFSF867ET7DDMZ\" style=\"width:100%\"><div class=\"_2kHMtA\"><a class=\"_1fQZEK\" href=\"/samsung-galaxy-m21-raven-black-64-gb/p/itm771ab543df368?pid=MOBFSF867ET7DDMZ&amp;lid=LSTMOBFSF867ET7DDMZHIUJP8&amp;marketplace=FLIPKART&amp;srno=s_1_21&amp;otracker=search&amp;fm=organic&amp;iid=515a47a5-de33-4dad-953d-d71b7397b585.MOBFSF867ET7DDMZ.SEARCH&amp;ssid=yxgewpv5ts0000001610480875979&amp;qH=fe546279a62683de\" rel=\"noopener noreferrer\" target=\"_blank\"><div class=\"MIXNux\"><div class=\"_2QcLo-\"><div><div class=\"CXW8mj\" style=\"height:200px;width:200px\"><img alt=\"Samsung Galaxy M21 (Raven Black, 64 GB)\" class=\"_396cs4\" src=\"//img1a.flixcart.com/www/linchpin/fk-cp-zion/img/placeholder_fcebae.svg\"/></div></div></div><div class=\"_3wLduG\"><div class=\"_3PzNI-\"><span class=\"f3A4_V\"><div class=\"_2iDkf8\"><label><input class=\"_30VH1S\" readonly=\"\" type=\"checkbox\"/><div class=\"_24_Dny\"></div></label></div></span><label class=\"_6Up2sF\"><span>Add to Compare</span></label></div></div><div class=\"_2hVSre _3nq8ih\"><div class=\"_36FSn5\"><svg class=\"_1l0elc\" height=\"16\" viewbox=\"0 0 20 16\" width=\"16\" xmlns=\"http://www.w3.org/2000/svg\"><path class=\"eX72wL\" d=\"M8.695 16.682C4.06 12.382 1 9.536 1 6.065 1 3.219 3.178 1 5.95 1c1.566 0 3.069.746 4.05 1.915C10.981 1.745 12.484 1 14.05 1 16.822 1 19 3.22 19 6.065c0 3.471-3.06 6.316-7.695 10.617L10 17.897l-1.305-1.215z\" fill=\"#2874F0\" fill-rule=\"evenodd\" opacity=\".9\" stroke=\"#FFF\"></path></svg></div></div></div><div class=\"_3pLy-c row\"><div class=\"col col-7-12\"><div class=\"_4rR01T\">Samsung Galaxy M21 (Raven Black, 64 GB)</div><div class=\"gUuXy-\"><span class=\"_1lRcqv\" id=\"productRating_LSTMOBFSF867ET7DDMZHIUJP8_MOBFSF867ET7DDMZ_\"><div class=\"_3LWZlK\">4.3<img class=\"_1wB99o\" src=\"data:image/svg+xml;base64,PHN2ZyB4bWxucz0iaHR0cDovL3d3dy53My5vcmcvMjAwMC9zdmciIHdpZHRoPSIxMyIgaGVpZ2h0PSIxMiI+PHBhdGggZmlsbD0iI0ZGRiIgZD0iTTYuNSA5LjQzOWwtMy42NzQgMi4yMy45NC00LjI2LTMuMjEtMi44ODMgNC4yNTQtLjQwNEw2LjUuMTEybDEuNjkgNC4wMSA0LjI1NC40MDQtMy4yMSAyLjg4Mi45NCA0LjI2eiIvPjwvc3ZnPg==\"/></div></span><span class=\"_2_R_DZ\"><span><span>4,660 Ratings </span><span class=\"_13vcmD\">&amp;</span><span> 357 Reviews</span></span></span></div><div class=\"fMghEO\"><ul class=\"_1xgFaf\"><li class=\"rgWa7D\">4 GB RAM | 64 GB ROM | Expandable Upto 512 GB</li><li class=\"rgWa7D\">16.26 cm (6.4 inch) Full HD+ Display</li><li class=\"rgWa7D\">48MP + 8MP + 5MP | 20MP Front Camera</li><li class=\"rgWa7D\">6000 mAh Battery</li><li class=\"rgWa7D\"> Exynos 9611-Octa Core processor Processor</li><li class=\"rgWa7D\">1 year manufacturer warranty for device and 6 months manufacturer warranty for in-box accessories including batteries from the date of purchase</li></ul></div></div><div class=\"col col-5-12 nlI3QM\"><div class=\"_3tbKJL\"><div class=\"_25b18c\"><div class=\"_30jeq3 _1_WHN1\">₹14,699</div></div></div><div class=\"_13J9qT\"><img height=\"21\" src=\"//img1a.flixcart.com/www/linchpin/fk-cp-zion/img/fa_62673a.png\"/></div><div class=\"_2ZdXDB\"><div class=\"_18hQoS\" style=\"color:#000000;font-size:12px;font-family:inherit;font-weight:normal\">No Cost EMI</div></div></div></div></a></div></div></div></div>,\n",
              " <div class=\"_2pi5LC col-12-12\"><div class=\"_13oc-S\"><div data-id=\"MOBE996SKVGGH94Q\" style=\"width:100%\"><div class=\"_2kHMtA\"><a class=\"_1fQZEK\" href=\"/samsung-guru-fm-plus-sm-b110e-d/p/itmf4w45bqfdfnef?pid=MOBE996SKVGGH94Q&amp;lid=LSTMOBE996SKVGGH94QNNT19E&amp;marketplace=FLIPKART&amp;srno=s_1_22&amp;otracker=search&amp;fm=organic&amp;iid=515a47a5-de33-4dad-953d-d71b7397b585.MOBE996SKVGGH94Q.SEARCH&amp;ssid=yxgewpv5ts0000001610480875979&amp;qH=fe546279a62683de\" rel=\"noopener noreferrer\" target=\"_blank\"><div class=\"MIXNux\"><div class=\"_2QcLo-\"><div><div class=\"CXW8mj\" style=\"height:200px;width:200px\"><img alt=\"Samsung Guru FM Plus SM-B110E/D\" class=\"_396cs4\" src=\"//img1a.flixcart.com/www/linchpin/fk-cp-zion/img/placeholder_fcebae.svg\"/></div></div></div><div class=\"_3wLduG\"><div class=\"_3PzNI-\"><span class=\"f3A4_V\"><div class=\"_2iDkf8\"><label><input class=\"_30VH1S\" readonly=\"\" type=\"checkbox\"/><div class=\"_24_Dny\"></div></label></div></span><label class=\"_6Up2sF\"><span>Add to Compare</span></label></div></div><div class=\"_2hVSre _3nq8ih\"><div class=\"_36FSn5\"><svg class=\"_1l0elc\" height=\"16\" viewbox=\"0 0 20 16\" width=\"16\" xmlns=\"http://www.w3.org/2000/svg\"><path class=\"eX72wL\" d=\"M8.695 16.682C4.06 12.382 1 9.536 1 6.065 1 3.219 3.178 1 5.95 1c1.566 0 3.069.746 4.05 1.915C10.981 1.745 12.484 1 14.05 1 16.822 1 19 3.22 19 6.065c0 3.471-3.06 6.316-7.695 10.617L10 17.897l-1.305-1.215z\" fill=\"#2874F0\" fill-rule=\"evenodd\" opacity=\".9\" stroke=\"#FFF\"></path></svg></div></div></div><div class=\"_3pLy-c row\"><div class=\"col col-7-12\"><div class=\"_4rR01T\">Samsung Guru FM Plus SM-B110E/D</div><div class=\"gUuXy-\"><span class=\"_1lRcqv\" id=\"productRating_LSTMOBE996SKVGGH94QNNT19E_MOBE996SKVGGH94Q_\"><div class=\"_3LWZlK\">4.3<img class=\"_1wB99o\" src=\"data:image/svg+xml;base64,PHN2ZyB4bWxucz0iaHR0cDovL3d3dy53My5vcmcvMjAwMC9zdmciIHdpZHRoPSIxMyIgaGVpZ2h0PSIxMiI+PHBhdGggZmlsbD0iI0ZGRiIgZD0iTTYuNSA5LjQzOWwtMy42NzQgMi4yMy45NC00LjI2LTMuMjEtMi44ODMgNC4yNTQtLjQwNEw2LjUuMTEybDEuNjkgNC4wMSA0LjI1NC40MDQtMy4yMSAyLjg4Mi45NCA0LjI2eiIvPjwvc3ZnPg==\"/></div></span><span class=\"_2_R_DZ\"><span><span>52,977 Ratings </span><span class=\"_13vcmD\">&amp;</span><span> 5,527 Reviews</span></span></span></div><div class=\"fMghEO\"><ul class=\"_1xgFaf\"><li class=\"rgWa7D\">NA ROM</li><li class=\"rgWa7D\">3.81 cm (1.5 inch) Display</li><li class=\"rgWa7D\">800 mAh Battery</li><li class=\"rgWa7D\">1 year warranty on handset and 6 months warranty on the accessories.</li></ul></div></div><div class=\"col col-5-12 nlI3QM\"><div class=\"_3tbKJL\"><div class=\"_25b18c\"><div class=\"_30jeq3 _1_WHN1\">₹1,597</div><div class=\"_3I9_wc _27UcVY\">₹<!-- -->1,650</div><div class=\"_3Ay6Sb\"><span>3% off</span></div></div></div><div class=\"_13J9qT\"><img height=\"21\" src=\"//img1a.flixcart.com/www/linchpin/fk-cp-zion/img/fa_62673a.png\"/></div><div class=\"_2ZdXDB\"><div class=\"_18hQoS\" style=\"color:#000000;font-size:12px;font-family:inherit;font-weight:normal\">No Cost EMI</div></div></div></div></a></div></div></div></div>,\n",
              " <div class=\"_2pi5LC col-12-12\"><div class=\"_13oc-S\"><div data-id=\"MOBFRZZHV9KS2XGR\" style=\"width:100%\"><div class=\"_2kHMtA\"><a class=\"_1fQZEK\" href=\"/samsung-galaxy-m01-black-32-gb/p/itm068396ac0c4a3?pid=MOBFRZZHV9KS2XGR&amp;lid=LSTMOBFRZZHV9KS2XGRK1BUJL&amp;marketplace=FLIPKART&amp;srno=s_1_23&amp;otracker=search&amp;fm=organic&amp;iid=515a47a5-de33-4dad-953d-d71b7397b585.MOBFRZZHV9KS2XGR.SEARCH&amp;ssid=yxgewpv5ts0000001610480875979&amp;qH=fe546279a62683de\" rel=\"noopener noreferrer\" target=\"_blank\"><div class=\"MIXNux\"><div class=\"_2QcLo-\"><div><div class=\"CXW8mj\" style=\"height:200px;width:200px\"><img alt=\"Samsung Galaxy M01 (Black, 32 GB)\" class=\"_396cs4\" src=\"//img1a.flixcart.com/www/linchpin/fk-cp-zion/img/placeholder_fcebae.svg\"/></div></div></div><div class=\"_3wLduG\"><div class=\"_3PzNI-\"><span class=\"f3A4_V\"><div class=\"_2iDkf8\"><label><input class=\"_30VH1S\" readonly=\"\" type=\"checkbox\"/><div class=\"_24_Dny\"></div></label></div></span><label class=\"_6Up2sF\"><span>Add to Compare</span></label></div></div><div class=\"_2hVSre _3nq8ih\"><div class=\"_36FSn5\"><svg class=\"_1l0elc\" height=\"16\" viewbox=\"0 0 20 16\" width=\"16\" xmlns=\"http://www.w3.org/2000/svg\"><path class=\"eX72wL\" d=\"M8.695 16.682C4.06 12.382 1 9.536 1 6.065 1 3.219 3.178 1 5.95 1c1.566 0 3.069.746 4.05 1.915C10.981 1.745 12.484 1 14.05 1 16.822 1 19 3.22 19 6.065c0 3.471-3.06 6.316-7.695 10.617L10 17.897l-1.305-1.215z\" fill=\"#2874F0\" fill-rule=\"evenodd\" opacity=\".9\" stroke=\"#FFF\"></path></svg></div></div></div><div class=\"_3pLy-c row\"><div class=\"col col-7-12\"><div class=\"_4rR01T\">Samsung Galaxy M01 (Black, 32 GB)</div><div class=\"gUuXy-\"><span class=\"_1lRcqv\" id=\"productRating_LSTMOBFRZZHV9KS2XGRK1BUJL_MOBFRZZHV9KS2XGR_\"><div class=\"_3LWZlK\">4.2<img class=\"_1wB99o\" src=\"data:image/svg+xml;base64,PHN2ZyB4bWxucz0iaHR0cDovL3d3dy53My5vcmcvMjAwMC9zdmciIHdpZHRoPSIxMyIgaGVpZ2h0PSIxMiI+PHBhdGggZmlsbD0iI0ZGRiIgZD0iTTYuNSA5LjQzOWwtMy42NzQgMi4yMy45NC00LjI2LTMuMjEtMi44ODMgNC4yNTQtLjQwNEw2LjUuMTEybDEuNjkgNC4wMSA0LjI1NC40MDQtMy4yMSAyLjg4Mi45NCA0LjI2eiIvPjwvc3ZnPg==\"/></div></span><span class=\"_2_R_DZ\"><span><span>14,515 Ratings </span><span class=\"_13vcmD\">&amp;</span><span> 1,106 Reviews</span></span></span></div><div class=\"fMghEO\"><ul class=\"_1xgFaf\"><li class=\"rgWa7D\">3 GB RAM | 32 GB ROM | Expandable Upto 512 GB</li><li class=\"rgWa7D\">14.48 cm (5.7 inch) HD+ Display</li><li class=\"rgWa7D\">13MP + 2MP | 5MP Front Camera</li><li class=\"rgWa7D\">4000 mAh Lithium-ion Battery</li><li class=\"rgWa7D\">Qualcomm Snapdragon (SDM439) Octa Core Processor</li><li class=\"rgWa7D\">1 Year Manufacturer Warranty for Phone and 6 Months Warranty for in the Box Accessories</li></ul></div></div><div class=\"col col-5-12 nlI3QM\"><div class=\"_3tbKJL\"><div class=\"_25b18c\"><div class=\"_30jeq3 _1_WHN1\">₹7,929</div><div class=\"_3I9_wc _27UcVY\">₹<!-- -->8,300</div><div class=\"_3Ay6Sb\"><span>4% off</span></div></div></div><div class=\"_13J9qT\"><img height=\"21\" src=\"//img1a.flixcart.com/www/linchpin/fk-cp-zion/img/fa_62673a.png\"/></div><div class=\"_2ZdXDB\"><div class=\"_18hQoS\" style=\"color:#000000;font-size:12px;font-family:inherit;font-weight:normal\">No Cost EMI</div></div></div></div></a></div></div></div></div>,\n",
              " <div class=\"_2pi5LC col-12-12\"><div class=\"_13oc-S\"><div data-id=\"MOBFSFMJJBTXPTRR\" style=\"width:100%\"><div class=\"_2kHMtA\"><a class=\"_1fQZEK\" href=\"/samsung-galaxy-a21s-blue-64-gb/p/itm2da4d839feeaf?pid=MOBFSFMJJBTXPTRR&amp;lid=LSTMOBFSFMJJBTXPTRR4BE1KX&amp;marketplace=FLIPKART&amp;srno=s_1_24&amp;otracker=search&amp;fm=organic&amp;iid=515a47a5-de33-4dad-953d-d71b7397b585.MOBFSFMJJBTXPTRR.SEARCH&amp;ssid=yxgewpv5ts0000001610480875979&amp;qH=fe546279a62683de\" rel=\"noopener noreferrer\" target=\"_blank\"><div class=\"MIXNux\"><div class=\"_2QcLo-\"><div><div class=\"CXW8mj\" style=\"height:200px;width:200px\"><img alt=\"Samsung Galaxy A21s (Blue, 64 GB)\" class=\"_396cs4\" src=\"//img1a.flixcart.com/www/linchpin/fk-cp-zion/img/placeholder_fcebae.svg\"/></div></div></div><div class=\"_3wLduG\"><div class=\"_3PzNI-\"><span class=\"f3A4_V\"><div class=\"_2iDkf8\"><label><input class=\"_30VH1S\" readonly=\"\" type=\"checkbox\"/><div class=\"_24_Dny\"></div></label></div></span><label class=\"_6Up2sF\"><span>Add to Compare</span></label></div></div><div class=\"_2hVSre _3nq8ih\"><div class=\"_36FSn5\"><svg class=\"_1l0elc\" height=\"16\" viewbox=\"0 0 20 16\" width=\"16\" xmlns=\"http://www.w3.org/2000/svg\"><path class=\"eX72wL\" d=\"M8.695 16.682C4.06 12.382 1 9.536 1 6.065 1 3.219 3.178 1 5.95 1c1.566 0 3.069.746 4.05 1.915C10.981 1.745 12.484 1 14.05 1 16.822 1 19 3.22 19 6.065c0 3.471-3.06 6.316-7.695 10.617L10 17.897l-1.305-1.215z\" fill=\"#2874F0\" fill-rule=\"evenodd\" opacity=\".9\" stroke=\"#FFF\"></path></svg></div></div></div><div class=\"_3pLy-c row\"><div class=\"col col-7-12\"><div class=\"_4rR01T\">Samsung Galaxy A21s (Blue, 64 GB)</div><div class=\"gUuXy-\"><span class=\"_1lRcqv\" id=\"productRating_LSTMOBFSFMJJBTXPTRR4BE1KX_MOBFSFMJJBTXPTRR_\"><div class=\"_3LWZlK\">4.2<img class=\"_1wB99o\" src=\"data:image/svg+xml;base64,PHN2ZyB4bWxucz0iaHR0cDovL3d3dy53My5vcmcvMjAwMC9zdmciIHdpZHRoPSIxMyIgaGVpZ2h0PSIxMiI+PHBhdGggZmlsbD0iI0ZGRiIgZD0iTTYuNSA5LjQzOWwtMy42NzQgMi4yMy45NC00LjI2LTMuMjEtMi44ODMgNC4yNTQtLjQwNEw2LjUuMTEybDEuNjkgNC4wMSA0LjI1NC40MDQtMy4yMSAyLjg4Mi45NCA0LjI2eiIvPjwvc3ZnPg==\"/></div></span><span class=\"_2_R_DZ\"><span><span>13,386 Ratings </span><span class=\"_13vcmD\">&amp;</span><span> 1,344 Reviews</span></span></span></div><div class=\"fMghEO\"><ul class=\"_1xgFaf\"><li class=\"rgWa7D\">4 GB RAM | 64 GB ROM | Expandable Upto 512 GB</li><li class=\"rgWa7D\">16.51 cm (6.5 inch) HD+ Display</li><li class=\"rgWa7D\">48MP + 8MP + 2MP + 2MP | 13MP Front Camera</li><li class=\"rgWa7D\">5000 mAh Lithium-ion Battery</li><li class=\"rgWa7D\">Exynos 850 Octa Core Processor</li><li class=\"rgWa7D\">Super AMOLED Display</li><li class=\"rgWa7D\">1 Year Manufacturer Warranty for Phone and 6 Months Warranty for in the Box Accessories</li></ul></div></div><div class=\"col col-5-12 nlI3QM\"><div class=\"_3tbKJL\"><div class=\"_25b18c\"><div class=\"_30jeq3 _1_WHN1\">₹14,999</div><div class=\"_3I9_wc _27UcVY\">₹<!-- -->17,999</div><div class=\"_3Ay6Sb\"><span>16% off</span></div></div></div><div class=\"_13J9qT\"><img height=\"21\" src=\"//img1a.flixcart.com/www/linchpin/fk-cp-zion/img/fa_62673a.png\"/></div><div class=\"_2ZdXDB\"><div class=\"_18hQoS\" style=\"color:#000000;font-size:12px;font-family:inherit;font-weight:normal\">No Cost EMI</div></div><div class=\"_2ZdXDB\"><div class=\"_18hQoS\" style=\"color:#000000;font-size:14px;font-family:inherit;font-weight:normal\">Upto </div><div class=\"_18hQoS\" style=\"color:#000000;font-size:14px;font-family:inherit;font-weight:bold\">₹13,200</div><div class=\"_18hQoS\" style=\"color:#000000;font-size:14px;font-family:inherit;font-weight:normal\"> Off on Exchange</div></div></div></div></a></div></div></div></div>]"
            ]
          },
          "metadata": {
            "tags": []
          },
          "execution_count": 166
        }
      ]
    },
    {
      "cell_type": "code",
      "metadata": {
        "id": "pa8nuawmPPUi"
      },
      "source": [
        "# Scrape data from big boxes and Iterate through the boxes\r\n",
        "entries = len(bigboxes)\r\n",
        "#table = db[searchString] # creating a collection with the same name as search string. Tables and Collections are analogous.\r\n",
        "total_pages = 10\r\n",
        "for page in range(total_pages+1):\r\n",
        "  total_reviews = [] # initializing an empty list for reviews\r\n",
        "  box = bigboxes[i] #  taking the first iteration (for demo)\r\n",
        "  productLink = \"https://www.flipkart.com\" + box.div.div.div.a['href'] # extracting the actual product link\r\n",
        "  prodRes = requests.get(productLink) # getting the product page from serve\r\n",
        "  prod_html = bs(prodRes.text, \"html.parser\") # parsing the product page as HTML\r\n",
        "\r\n",
        "  commentboxes = prod_html.find_all('div', {'class': \"_16PBlm\"}) # finding the HTML section containing the customer comments\r\n",
        "  #table = db[searchString] # creating a collection with the same name as search string. Tables and Collections are analogous.\r\n",
        "  #  iterating over the comment section to get the details of customer and their comments\r\n",
        "  for commentbox in commentboxes:\r\n",
        "      try:              \r\n",
        "         name = commentbox.div.div.find_all('p', {'class': '_2sc7ZR _2V5EHH'})[0].text\r\n",
        "      except:\r\n",
        "         name = 'No Name'\r\n",
        "\r\n",
        "      try:\r\n",
        "        rating = commentbox.div.div.div.div.text\r\n",
        "\r\n",
        "      except:\r\n",
        "        rating = 'No Rating'\r\n",
        "\r\n",
        "      try:\r\n",
        "        commentHead = commentbox.div.div.div.p.text\r\n",
        "      except:\r\n",
        "        commentHead = 'No Comment Heading'\r\n",
        "      try:\r\n",
        "        comtag = commentbox.div.div.find_all('div', {'class': ''})\r\n",
        "        custComment = comtag[0].div.text\r\n",
        "      except:\r\n",
        "        custComment = 'No Customer Comment'\r\n",
        "      mydict = {\"Product\": searchString, \"Name\": name, \"Rating\": rating, \"CommentHead\": commentHead,\r\n",
        "                              \"Comment\": custComment} # saving that detail to a dictionary\r\n",
        "      #x = table.insert_one(mydict) #insertig the dictionary containing the rview comments to the collection\r\n",
        "      total_reviews.append(mydict) #  appending the comments to the review list\r\n",
        "  "
      ],
      "execution_count": 171,
      "outputs": []
    },
    {
      "cell_type": "code",
      "metadata": {
        "colab": {
          "base_uri": "https://localhost:8080/",
          "height": 195
        },
        "id": "eMrSnR786fTm",
        "outputId": "0ee337b9-7411-42f3-a647-a44b01694ad8"
      },
      "source": [
        "# Create dataframe with appropriate headers\r\n",
        "columns = ['Comment', 'CommentHead','Name', 'Product', 'Rating']\r\n",
        "df = pd.DataFrame (total_reviews,columns=columns)\r\n",
        "\r\n",
        "df.head()"
      ],
      "execution_count": 170,
      "outputs": [
        {
          "output_type": "execute_result",
          "data": {
            "text/html": [
              "<div>\n",
              "<style scoped>\n",
              "    .dataframe tbody tr th:only-of-type {\n",
              "        vertical-align: middle;\n",
              "    }\n",
              "\n",
              "    .dataframe tbody tr th {\n",
              "        vertical-align: top;\n",
              "    }\n",
              "\n",
              "    .dataframe thead th {\n",
              "        text-align: right;\n",
              "    }\n",
              "</style>\n",
              "<table border=\"1\" class=\"dataframe\">\n",
              "  <thead>\n",
              "    <tr style=\"text-align: right;\">\n",
              "      <th></th>\n",
              "      <th>Comment</th>\n",
              "      <th>CommentHead</th>\n",
              "      <th>Name</th>\n",
              "      <th>Product</th>\n",
              "      <th>Rating</th>\n",
              "    </tr>\n",
              "  </thead>\n",
              "  <tbody>\n",
              "    <tr>\n",
              "      <th>0</th>\n",
              "      <td>Awsome phone best camera  best and beast batte...</td>\n",
              "      <td>Mind-blowing purchase</td>\n",
              "      <td>Ashwin Rathakaran</td>\n",
              "      <td>samsung</td>\n",
              "      <td>5</td>\n",
              "    </tr>\n",
              "    <tr>\n",
              "      <th>1</th>\n",
              "      <td>No regretsI'm just blown away by the budget fr...</td>\n",
              "      <td>Excellent</td>\n",
              "      <td>Saurabh Kumar</td>\n",
              "      <td>samsung</td>\n",
              "      <td>5</td>\n",
              "    </tr>\n",
              "    <tr>\n",
              "      <th>2</th>\n",
              "      <td>Nice phone , camera is nice, display is super,...</td>\n",
              "      <td>Really Nice</td>\n",
              "      <td>Dragon Peps</td>\n",
              "      <td>samsung</td>\n",
              "      <td>4</td>\n",
              "    </tr>\n",
              "    <tr>\n",
              "      <th>3</th>\n",
              "      <td>Amazing phone. Superb camera front and back. A...</td>\n",
              "      <td>Really Nice</td>\n",
              "      <td>Dishi Mehrotra</td>\n",
              "      <td>samsung</td>\n",
              "      <td>4</td>\n",
              "    </tr>\n",
              "    <tr>\n",
              "      <th>4</th>\n",
              "      <td>Excellent product with best viewing experience...</td>\n",
              "      <td>Terrific</td>\n",
              "      <td>Flipkart Customer</td>\n",
              "      <td>samsung</td>\n",
              "      <td>5</td>\n",
              "    </tr>\n",
              "  </tbody>\n",
              "</table>\n",
              "</div>"
            ],
            "text/plain": [
              "                                             Comment  ... Rating\n",
              "0  Awsome phone best camera  best and beast batte...  ...      5\n",
              "1  No regretsI'm just blown away by the budget fr...  ...      5\n",
              "2  Nice phone , camera is nice, display is super,...  ...      4\n",
              "3  Amazing phone. Superb camera front and back. A...  ...      4\n",
              "4  Excellent product with best viewing experience...  ...      5\n",
              "\n",
              "[5 rows x 5 columns]"
            ]
          },
          "metadata": {
            "tags": []
          },
          "execution_count": 170
        }
      ]
    },
    {
      "cell_type": "code",
      "metadata": {
        "colab": {
          "base_uri": "https://localhost:8080/"
        },
        "id": "D-R6lM9e86Gd",
        "outputId": "2c650d7a-34e4-4416-ce23-eec0ff29ff36"
      },
      "source": [
        "# Let's print shape of dataframe\r\n",
        "df.shape"
      ],
      "execution_count": 169,
      "outputs": [
        {
          "output_type": "execute_result",
          "data": {
            "text/plain": [
              "(253, 5)"
            ]
          },
          "metadata": {
            "tags": []
          },
          "execution_count": 169
        }
      ]
    }
  ]
}