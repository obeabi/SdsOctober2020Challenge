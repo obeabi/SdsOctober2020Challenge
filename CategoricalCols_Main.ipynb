{
  "nbformat": 4,
  "nbformat_minor": 0,
  "metadata": {
    "colab": {
      "name": "CategoricalCols_Main.ipynb",
      "provenance": [],
      "authorship_tag": "ABX9TyM5DquT4lepkGoYaVHlll9K",
      "include_colab_link": true
    },
    "kernelspec": {
      "name": "python3",
      "display_name": "Python 3"
    }
  },
  "cells": [
    {
      "cell_type": "markdown",
      "metadata": {
        "id": "view-in-github",
        "colab_type": "text"
      },
      "source": [
        "<a href=\"https://colab.research.google.com/github/obeabi/SdsOctober2020Challenge/blob/main/CategoricalCols_Main.ipynb\" target=\"_parent\"><img src=\"https://colab.research.google.com/assets/colab-badge.svg\" alt=\"Open In Colab\"/></a>"
      ]
    },
    {
      "cell_type": "markdown",
      "metadata": {
        "id": "2GIPKTDgJo-A"
      },
      "source": [
        "# Written by Abiola Obembe\r\n",
        "# SDS October Challenge #2 - Used Car Prices\r\n",
        "## 2021-01-09\r\n",
        "\r\n",
        "## Feature engineering of categorical columns"
      ]
    },
    {
      "cell_type": "markdown",
      "metadata": {
        "id": "sABBqnV0JuJZ"
      },
      "source": [
        "This month you have been hired by a new car trader company to help sell its used cars. You will be analyzing used cars from multiple manufacturers and of different models. Your job is to help the car trader company determine the price of its used cars."
      ]
    },
    {
      "cell_type": "markdown",
      "metadata": {
        "id": "nxmJ1I_5J0Lb"
      },
      "source": [
        "## Step 1: Data Preprocessing "
      ]
    },
    {
      "cell_type": "code",
      "metadata": {
        "id": "hlTyudKpJ3gr"
      },
      "source": [
        "# Download packages\r\n",
        "!pip install category_encoders"
      ],
      "execution_count": null,
      "outputs": []
    },
    {
      "cell_type": "code",
      "metadata": {
        "id": "P0UBKVwuJ6_w"
      },
      "source": [
        "# Importing the libraries\r\n",
        "import pickle\r\n",
        "import numpy as np\r\n",
        "import matplotlib.pyplot as plt\r\n",
        "import pandas as pd\r\n",
        "import seaborn as sns\r\n",
        "from scipy import stats\r\n",
        "from scipy.stats import f_oneway\r\n",
        "from scipy.stats import  zscore\r\n",
        "import category_encoders as ce\r\n",
        "from sklearn.preprocessing import StandardScaler \r\n",
        "from sklearn.linear_model  import Ridge,Lasso,RidgeCV, LassoCV, ElasticNet, ElasticNetCV, LinearRegression\r\n",
        "from sklearn.model_selection import train_test_split\r\n",
        "\r\n",
        "%matplotlib inline\r\n",
        "plt.rcParams['figure.figsize'] = (8.0, 6.0) # set default size of plots\r\n",
        "plt.rcParams['image.interpolation'] = 'nearest'\r\n",
        "plt.rcParams['image.cmap'] = 'gray'\r\n",
        "\r\n",
        "print('Libraries installed successfully!')\r\n",
        "\r\n",
        "np.random.seed(0)"
      ],
      "execution_count": null,
      "outputs": []
    },
    {
      "cell_type": "code",
      "metadata": {
        "id": "Nahwx5n0KMwq"
      },
      "source": [
        "# Importing the training dataset\r\n",
        "\r\n",
        "df_train = pd.read_csv('Train.csv', engine= 'python', encoding= 'latin1')\r\n",
        "df_train.drop('Unnamed: 0', axis = 1, inplace = True)\r\n",
        "\r\n",
        "df_train.head()"
      ],
      "execution_count": null,
      "outputs": []
    },
    {
      "cell_type": "code",
      "metadata": {
        "id": "81GUuctgKii3"
      },
      "source": [
        "# priniting the details about the train dataset\r\n",
        "\r\n",
        "print(\"\\nEDA on Training Set\\n\")\r\n",
        "print(\"#\"*30)\r\n",
        "\r\n",
        "print(\"\\nFeatures/Columns : \\n\", df_train.columns)\r\n",
        "print(\"\\n\\nNumber of Features/Columns : \", len(df_train.columns))\r\n",
        "print(\"\\nNumber of Rows : \",len(df_train))\r\n",
        "print(\"\\n\\nData Types :\\n\", df_train.dtypes)\r\n",
        "\r\n",
        "print(\"\\n Contains NaN/Empty cells : \", df_train.isnull().values.any())\r\n",
        "\r\n",
        "print(\"\\n Total empty cells by column :\\n\", df_train.isnull().sum(), \"\\n\\n\")\r\n",
        "\r\n",
        "print(\"\\n Perecentage of missing values in train datframe is: \\n\", str(100*(df_train.isnull().sum().sum()/len(df_train)))+'%')"
      ],
      "execution_count": null,
      "outputs": []
    },
    {
      "cell_type": "code",
      "metadata": {
        "id": "avxAa5gXKT15"
      },
      "source": [
        "# Importing the test dataset\r\n",
        "\r\n",
        "df_test = pd.read_csv('Test.csv', engine= 'python', encoding= 'latin1')\r\n",
        "df_test.drop('Unnamed: 0', axis = 1, inplace = True)\r\n",
        "df_test.head()"
      ],
      "execution_count": null,
      "outputs": []
    },
    {
      "cell_type": "code",
      "metadata": {
        "id": "qaDHb5r5Kkax"
      },
      "source": [
        "# priniting the details about the test dataset\r\n",
        "\r\n",
        "print(\"#\"*30)\r\n",
        "print(\"\\nEDA on Test Set\\n\")\r\n",
        "print(\"#\"*30)\r\n",
        "\r\n",
        "\r\n",
        "print(\"\\nFeatures/Columns : \\n\",df_test.columns)\r\n",
        "print(\"\\n\\nNumber of Features/Columns : \",len(df_test.columns))\r\n",
        "print(\"\\nNumber of Rows : \",len(df_test))\r\n",
        "print(\"\\n\\nData Types :\\n\", df_test.dtypes)\r\n",
        "print(\"\\n Contains NaN/Empty cells : \", df_test.isnull().values.any())\r\n",
        "print(\"\\n Total empty cells by column :\\n\", df_test.isnull().sum())\r\n",
        "print(\"\\n Perecentage of missing values in test datframe is: \\n\", str(100*(df_test.isnull().sum().sum()/len(df_test)))+'%')"
      ],
      "execution_count": null,
      "outputs": []
    }
  ]
}