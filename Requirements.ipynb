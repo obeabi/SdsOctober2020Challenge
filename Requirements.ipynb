{
  "nbformat": 4,
  "nbformat_minor": 0,
  "metadata": {
    "colab": {
      "name": "Requirements.ipynb",
      "provenance": [],
      "authorship_tag": "ABX9TyMmw3vMTL/to2t6e9L49QBb",
      "include_colab_link": true
    },
    "kernelspec": {
      "name": "python3",
      "display_name": "Python 3"
    }
  },
  "cells": [
    {
      "cell_type": "markdown",
      "metadata": {
        "id": "view-in-github",
        "colab_type": "text"
      },
      "source": [
        "<a href=\"https://colab.research.google.com/github/obeabi/SdsOctober2020Challenge/blob/main/Requirements.ipynb\" target=\"_parent\"><img src=\"https://colab.research.google.com/assets/colab-badge.svg\" alt=\"Open In Colab\"/></a>"
      ]
    },
    {
      "cell_type": "markdown",
      "metadata": {
        "id": "-JxbfiV2Dz6q"
      },
      "source": [
        "# Written by Abiola Obembe\r\n",
        "# SDS October Challenge #2 - Used Car Prices\r\n",
        "## 2021-01-02"
      ]
    },
    {
      "cell_type": "markdown",
      "metadata": {
        "id": "EDCdOsvcEHnv"
      },
      "source": [
        "This month you have been hired by a new car trader company to help sell its used cars. You will be analyzing used cars from multiple manufacturers and of different models. Your job is to help the car trader company determine the price of its used cars.\r\n",
        "\r\n",
        "Evaluation\r\n",
        "$$\\begin{equation*}\r\n",
        "MSE = {\\frac{1}{n}\\sum_{i=1}^{n}(y_{i} - \\hat{y}_{i})^{2}}\r\n",
        "\\end{equation*}$$\r\n",
        "\r\n",
        "\r\n",
        "\r\n",
        "\r\n",
        "\r\n",
        "## Understanding the Dataset\r\n",
        "Each column in the dataset is labeled and explained in more detail below.\r\n",
        "\r\n",
        "* manufacturer_name: the name of the car manufacturer\r\n",
        "* model_name: the name of the car model\r\n",
        "* transmission: the type of transmission the car has\r\n",
        "* color: the body color of the car\r\n",
        "* odometer_value: odometer state in kilometers\r\n",
        "* year_produced: the year the car was produced\r\n",
        "* engine_fuel: the fuel type of the engine of the car\r\n",
        "* engine_has_gas: whether or not the car has a propane tank with tubing\r\n",
        "* engine_type: the engine type of the car\r\n",
        "* engine_capacity: capacity of the engine in liters\r\n",
        "* body_type: the of body the car has\r\n",
        "* has_warranty: whether the car has warranty\r\n",
        "* state: the state of the car (new, owned, etc.)\r\n",
        "* drivetrain: type of drivetrain (front, rear, all)\r\n",
        "* feature_1 - feature_9: features are boolean values about properties of the car\r\n",
        "* duration_listed: the number of days the car is listed in the catalog\r\n",
        "* price_usd: price of the car in USD\r\n",
        "\r\n",
        "## Dataset Files\r\n",
        "* public_cars.csv - Dataset to train and analyze\r\n",
        "* pred_cars.csv - Dataset to predict cars prices\r\n",
        "\r\n"
      ]
    },
    {
      "cell_type": "code",
      "metadata": {
        "id": "mbO_cZj1E8Yj"
      },
      "source": [
        ""
      ],
      "execution_count": null,
      "outputs": []
    },
    {
      "cell_type": "code",
      "metadata": {
        "id": "EbnCttHjEclr"
      },
      "source": [
        ""
      ],
      "execution_count": null,
      "outputs": []
    }
  ]
}