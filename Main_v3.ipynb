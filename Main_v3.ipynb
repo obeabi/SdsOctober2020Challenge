{
  "nbformat": 4,
  "nbformat_minor": 0,
  "metadata": {
    "colab": {
      "name": "Main_v3.ipynb",
      "provenance": [],
      "toc_visible": true,
      "authorship_tag": "ABX9TyOJMX9p0kUeQU7HNoK518TK",
      "include_colab_link": true
    },
    "kernelspec": {
      "name": "python3",
      "display_name": "Python 3"
    }
  },
  "cells": [
    {
      "cell_type": "markdown",
      "metadata": {
        "id": "view-in-github",
        "colab_type": "text"
      },
      "source": [
        "<a href=\"https://colab.research.google.com/github/obeabi/SdsOctober2020Challenge/blob/main/Main_v3.ipynb\" target=\"_parent\"><img src=\"https://colab.research.google.com/assets/colab-badge.svg\" alt=\"Open In Colab\"/></a>"
      ]
    },
    {
      "cell_type": "markdown",
      "metadata": {
        "id": "7i3DzeOAFN48"
      },
      "source": [
        "# Written by Abiola Obembe\r\n",
        "# SDS October Challenge #2 - Used Car Prices\r\n",
        "## 2021-01-02\r\n",
        "\r\n",
        "### In this example the catgeorical columns were all transformed using target encoding"
      ]
    },
    {
      "cell_type": "markdown",
      "metadata": {
        "id": "C5Wy1C3FFWlF"
      },
      "source": [
        "This month you have been hired by a new car trader company to help sell its used cars. You will be analyzing used cars from multiple manufacturers and of different models. Your job is to help the car trader company determine the price of its used cars."
      ]
    },
    {
      "cell_type": "markdown",
      "metadata": {
        "id": "P4iVP8uAGZim"
      },
      "source": [
        "## Step 1: Data Preprocessing "
      ]
    },
    {
      "cell_type": "code",
      "metadata": {
        "colab": {
          "base_uri": "https://localhost:8080/"
        },
        "id": "LU2Es40IFaa2",
        "outputId": "cf47fd54-4f57-4d38-b5bd-8a24cede6502"
      },
      "source": [
        "# Importing the libraries\r\n",
        "import pickle\r\n",
        "import numpy as np\r\n",
        "import matplotlib.pyplot as plt\r\n",
        "import pandas as pd\r\n",
        "import seaborn as sns\r\n",
        "from scipy import stats\r\n",
        "from scipy.stats import f_oneway\r\n",
        "from scipy.stats import  zscore\r\n",
        "from sklearn.preprocessing import StandardScaler \r\n",
        "from sklearn.linear_model  import Ridge,Lasso,RidgeCV, LassoCV, ElasticNet, ElasticNetCV, LinearRegression\r\n",
        "from sklearn.model_selection import train_test_split\r\n",
        "\r\n",
        "%matplotlib inline\r\n",
        "plt.rcParams['figure.figsize'] = (8.0, 6.0) # set default size of plots\r\n",
        "plt.rcParams['image.interpolation'] = 'nearest'\r\n",
        "plt.rcParams['image.cmap'] = 'gray'\r\n",
        "\r\n",
        "print('Libraries installed successfully!')\r\n",
        "\r\n",
        "np.random.seed(0)"
      ],
      "execution_count": 4,
      "outputs": [
        {
          "output_type": "stream",
          "text": [
            "Libraries installed successfully!\n"
          ],
          "name": "stdout"
        }
      ]
    },
    {
      "cell_type": "code",
      "metadata": {
        "colab": {
          "base_uri": "https://localhost:8080/",
          "height": 232
        },
        "id": "MrnpIY0BG3vj",
        "outputId": "cf5abed1-77df-4f52-ad98-4c4496005895"
      },
      "source": [
        "# Importing the training dataset\r\n",
        "\r\n",
        "df_train = pd.read_csv('df_train_te.csv', engine= 'python', encoding= 'latin1')\r\n",
        "\r\n",
        "\r\n",
        "df_train.head()"
      ],
      "execution_count": 5,
      "outputs": [
        {
          "output_type": "execute_result",
          "data": {
            "text/html": [
              "<div>\n",
              "<style scoped>\n",
              "    .dataframe tbody tr th:only-of-type {\n",
              "        vertical-align: middle;\n",
              "    }\n",
              "\n",
              "    .dataframe tbody tr th {\n",
              "        vertical-align: top;\n",
              "    }\n",
              "\n",
              "    .dataframe thead th {\n",
              "        text-align: right;\n",
              "    }\n",
              "</style>\n",
              "<table border=\"1\" class=\"dataframe\">\n",
              "  <thead>\n",
              "    <tr style=\"text-align: right;\">\n",
              "      <th></th>\n",
              "      <th>Unnamed: 0</th>\n",
              "      <th>odometer_value</th>\n",
              "      <th>year_produced</th>\n",
              "      <th>engine_has_gas</th>\n",
              "      <th>engine_capacity</th>\n",
              "      <th>has_warranty</th>\n",
              "      <th>feature_0</th>\n",
              "      <th>feature_1</th>\n",
              "      <th>feature_2</th>\n",
              "      <th>feature_3</th>\n",
              "      <th>feature_4</th>\n",
              "      <th>feature_5</th>\n",
              "      <th>feature_6</th>\n",
              "      <th>feature_7</th>\n",
              "      <th>feature_8</th>\n",
              "      <th>feature_9</th>\n",
              "      <th>duration_listed</th>\n",
              "      <th>price_usd</th>\n",
              "      <th>manufacturer_name_te</th>\n",
              "      <th>model_name_te</th>\n",
              "      <th>transmission_te</th>\n",
              "      <th>color_te</th>\n",
              "      <th>engine_fuel_te</th>\n",
              "      <th>engine_type_te</th>\n",
              "      <th>body_type_te</th>\n",
              "      <th>state_te</th>\n",
              "      <th>drivetrain_te</th>\n",
              "    </tr>\n",
              "  </thead>\n",
              "  <tbody>\n",
              "    <tr>\n",
              "      <th>0</th>\n",
              "      <td>0</td>\n",
              "      <td>245000</td>\n",
              "      <td>2006</td>\n",
              "      <td>0</td>\n",
              "      <td>1.6</td>\n",
              "      <td>0</td>\n",
              "      <td>1</td>\n",
              "      <td>0</td>\n",
              "      <td>0</td>\n",
              "      <td>0</td>\n",
              "      <td>0</td>\n",
              "      <td>0</td>\n",
              "      <td>0</td>\n",
              "      <td>0</td>\n",
              "      <td>0</td>\n",
              "      <td>0</td>\n",
              "      <td>7</td>\n",
              "      <td>4250.0</td>\n",
              "      <td>5029.863851</td>\n",
              "      <td>9575.330756</td>\n",
              "      <td>4470.104020</td>\n",
              "      <td>4786.850334</td>\n",
              "      <td>6270.954384</td>\n",
              "      <td>6222.792804</td>\n",
              "      <td>4038.937757</td>\n",
              "      <td>6460.257538</td>\n",
              "      <td>5373.827909</td>\n",
              "    </tr>\n",
              "    <tr>\n",
              "      <th>1</th>\n",
              "      <td>1</td>\n",
              "      <td>265542</td>\n",
              "      <td>2002</td>\n",
              "      <td>0</td>\n",
              "      <td>3.3</td>\n",
              "      <td>0</td>\n",
              "      <td>0</td>\n",
              "      <td>1</td>\n",
              "      <td>0</td>\n",
              "      <td>0</td>\n",
              "      <td>0</td>\n",
              "      <td>0</td>\n",
              "      <td>0</td>\n",
              "      <td>0</td>\n",
              "      <td>0</td>\n",
              "      <td>0</td>\n",
              "      <td>133</td>\n",
              "      <td>4000.0</td>\n",
              "      <td>5735.589271</td>\n",
              "      <td>3179.271449</td>\n",
              "      <td>10916.245249</td>\n",
              "      <td>5934.723934</td>\n",
              "      <td>6270.954384</td>\n",
              "      <td>6222.792804</td>\n",
              "      <td>6182.120881</td>\n",
              "      <td>6460.257538</td>\n",
              "      <td>5373.827909</td>\n",
              "    </tr>\n",
              "    <tr>\n",
              "      <th>2</th>\n",
              "      <td>2</td>\n",
              "      <td>168000</td>\n",
              "      <td>2009</td>\n",
              "      <td>0</td>\n",
              "      <td>1.8</td>\n",
              "      <td>0</td>\n",
              "      <td>0</td>\n",
              "      <td>0</td>\n",
              "      <td>0</td>\n",
              "      <td>1</td>\n",
              "      <td>0</td>\n",
              "      <td>0</td>\n",
              "      <td>1</td>\n",
              "      <td>1</td>\n",
              "      <td>1</td>\n",
              "      <td>1</td>\n",
              "      <td>0</td>\n",
              "      <td>10900.0</td>\n",
              "      <td>5029.863851</td>\n",
              "      <td>5543.469085</td>\n",
              "      <td>4470.104020</td>\n",
              "      <td>4786.850334</td>\n",
              "      <td>7433.666811</td>\n",
              "      <td>7432.738394</td>\n",
              "      <td>6182.120881</td>\n",
              "      <td>6460.257538</td>\n",
              "      <td>5373.827909</td>\n",
              "    </tr>\n",
              "    <tr>\n",
              "      <th>3</th>\n",
              "      <td>3</td>\n",
              "      <td>225522</td>\n",
              "      <td>2008</td>\n",
              "      <td>0</td>\n",
              "      <td>1.8</td>\n",
              "      <td>0</td>\n",
              "      <td>0</td>\n",
              "      <td>1</td>\n",
              "      <td>1</td>\n",
              "      <td>0</td>\n",
              "      <td>0</td>\n",
              "      <td>1</td>\n",
              "      <td>0</td>\n",
              "      <td>0</td>\n",
              "      <td>1</td>\n",
              "      <td>1</td>\n",
              "      <td>20</td>\n",
              "      <td>6999.0</td>\n",
              "      <td>4735.107530</td>\n",
              "      <td>8128.120448</td>\n",
              "      <td>4470.104020</td>\n",
              "      <td>5854.666404</td>\n",
              "      <td>6270.954384</td>\n",
              "      <td>6222.792804</td>\n",
              "      <td>4971.458897</td>\n",
              "      <td>6460.257538</td>\n",
              "      <td>5373.827909</td>\n",
              "    </tr>\n",
              "    <tr>\n",
              "      <th>4</th>\n",
              "      <td>4</td>\n",
              "      <td>370000</td>\n",
              "      <td>1991</td>\n",
              "      <td>0</td>\n",
              "      <td>1.8</td>\n",
              "      <td>0</td>\n",
              "      <td>0</td>\n",
              "      <td>0</td>\n",
              "      <td>0</td>\n",
              "      <td>0</td>\n",
              "      <td>0</td>\n",
              "      <td>0</td>\n",
              "      <td>0</td>\n",
              "      <td>0</td>\n",
              "      <td>0</td>\n",
              "      <td>1</td>\n",
              "      <td>160</td>\n",
              "      <td>1600.0</td>\n",
              "      <td>7121.501476</td>\n",
              "      <td>1643.286410</td>\n",
              "      <td>4470.104020</td>\n",
              "      <td>9160.871863</td>\n",
              "      <td>6270.954384</td>\n",
              "      <td>6222.792804</td>\n",
              "      <td>5788.889002</td>\n",
              "      <td>6460.257538</td>\n",
              "      <td>5373.827909</td>\n",
              "    </tr>\n",
              "  </tbody>\n",
              "</table>\n",
              "</div>"
            ],
            "text/plain": [
              "   Unnamed: 0  odometer_value  ...     state_te  drivetrain_te\n",
              "0           0          245000  ...  6460.257538    5373.827909\n",
              "1           1          265542  ...  6460.257538    5373.827909\n",
              "2           2          168000  ...  6460.257538    5373.827909\n",
              "3           3          225522  ...  6460.257538    5373.827909\n",
              "4           4          370000  ...  6460.257538    5373.827909\n",
              "\n",
              "[5 rows x 27 columns]"
            ]
          },
          "metadata": {
            "tags": []
          },
          "execution_count": 5
        }
      ]
    },
    {
      "cell_type": "code",
      "metadata": {
        "colab": {
          "base_uri": "https://localhost:8080/",
          "height": 215
        },
        "id": "0Me6-AUoby3t",
        "outputId": "8303c367-239c-46cc-d749-f10bb13e26cf"
      },
      "source": [
        "# drop first column\r\n",
        "df_train.drop(['Unnamed: 0','duration_listed'], axis = 1, inplace = True)\r\n",
        "\r\n",
        "df_train.head()"
      ],
      "execution_count": 6,
      "outputs": [
        {
          "output_type": "execute_result",
          "data": {
            "text/html": [
              "<div>\n",
              "<style scoped>\n",
              "    .dataframe tbody tr th:only-of-type {\n",
              "        vertical-align: middle;\n",
              "    }\n",
              "\n",
              "    .dataframe tbody tr th {\n",
              "        vertical-align: top;\n",
              "    }\n",
              "\n",
              "    .dataframe thead th {\n",
              "        text-align: right;\n",
              "    }\n",
              "</style>\n",
              "<table border=\"1\" class=\"dataframe\">\n",
              "  <thead>\n",
              "    <tr style=\"text-align: right;\">\n",
              "      <th></th>\n",
              "      <th>odometer_value</th>\n",
              "      <th>year_produced</th>\n",
              "      <th>engine_has_gas</th>\n",
              "      <th>engine_capacity</th>\n",
              "      <th>has_warranty</th>\n",
              "      <th>feature_0</th>\n",
              "      <th>feature_1</th>\n",
              "      <th>feature_2</th>\n",
              "      <th>feature_3</th>\n",
              "      <th>feature_4</th>\n",
              "      <th>feature_5</th>\n",
              "      <th>feature_6</th>\n",
              "      <th>feature_7</th>\n",
              "      <th>feature_8</th>\n",
              "      <th>feature_9</th>\n",
              "      <th>price_usd</th>\n",
              "      <th>manufacturer_name_te</th>\n",
              "      <th>model_name_te</th>\n",
              "      <th>transmission_te</th>\n",
              "      <th>color_te</th>\n",
              "      <th>engine_fuel_te</th>\n",
              "      <th>engine_type_te</th>\n",
              "      <th>body_type_te</th>\n",
              "      <th>state_te</th>\n",
              "      <th>drivetrain_te</th>\n",
              "    </tr>\n",
              "  </thead>\n",
              "  <tbody>\n",
              "    <tr>\n",
              "      <th>0</th>\n",
              "      <td>245000</td>\n",
              "      <td>2006</td>\n",
              "      <td>0</td>\n",
              "      <td>1.6</td>\n",
              "      <td>0</td>\n",
              "      <td>1</td>\n",
              "      <td>0</td>\n",
              "      <td>0</td>\n",
              "      <td>0</td>\n",
              "      <td>0</td>\n",
              "      <td>0</td>\n",
              "      <td>0</td>\n",
              "      <td>0</td>\n",
              "      <td>0</td>\n",
              "      <td>0</td>\n",
              "      <td>4250.0</td>\n",
              "      <td>5029.863851</td>\n",
              "      <td>9575.330756</td>\n",
              "      <td>4470.104020</td>\n",
              "      <td>4786.850334</td>\n",
              "      <td>6270.954384</td>\n",
              "      <td>6222.792804</td>\n",
              "      <td>4038.937757</td>\n",
              "      <td>6460.257538</td>\n",
              "      <td>5373.827909</td>\n",
              "    </tr>\n",
              "    <tr>\n",
              "      <th>1</th>\n",
              "      <td>265542</td>\n",
              "      <td>2002</td>\n",
              "      <td>0</td>\n",
              "      <td>3.3</td>\n",
              "      <td>0</td>\n",
              "      <td>0</td>\n",
              "      <td>1</td>\n",
              "      <td>0</td>\n",
              "      <td>0</td>\n",
              "      <td>0</td>\n",
              "      <td>0</td>\n",
              "      <td>0</td>\n",
              "      <td>0</td>\n",
              "      <td>0</td>\n",
              "      <td>0</td>\n",
              "      <td>4000.0</td>\n",
              "      <td>5735.589271</td>\n",
              "      <td>3179.271449</td>\n",
              "      <td>10916.245249</td>\n",
              "      <td>5934.723934</td>\n",
              "      <td>6270.954384</td>\n",
              "      <td>6222.792804</td>\n",
              "      <td>6182.120881</td>\n",
              "      <td>6460.257538</td>\n",
              "      <td>5373.827909</td>\n",
              "    </tr>\n",
              "    <tr>\n",
              "      <th>2</th>\n",
              "      <td>168000</td>\n",
              "      <td>2009</td>\n",
              "      <td>0</td>\n",
              "      <td>1.8</td>\n",
              "      <td>0</td>\n",
              "      <td>0</td>\n",
              "      <td>0</td>\n",
              "      <td>0</td>\n",
              "      <td>1</td>\n",
              "      <td>0</td>\n",
              "      <td>0</td>\n",
              "      <td>1</td>\n",
              "      <td>1</td>\n",
              "      <td>1</td>\n",
              "      <td>1</td>\n",
              "      <td>10900.0</td>\n",
              "      <td>5029.863851</td>\n",
              "      <td>5543.469085</td>\n",
              "      <td>4470.104020</td>\n",
              "      <td>4786.850334</td>\n",
              "      <td>7433.666811</td>\n",
              "      <td>7432.738394</td>\n",
              "      <td>6182.120881</td>\n",
              "      <td>6460.257538</td>\n",
              "      <td>5373.827909</td>\n",
              "    </tr>\n",
              "    <tr>\n",
              "      <th>3</th>\n",
              "      <td>225522</td>\n",
              "      <td>2008</td>\n",
              "      <td>0</td>\n",
              "      <td>1.8</td>\n",
              "      <td>0</td>\n",
              "      <td>0</td>\n",
              "      <td>1</td>\n",
              "      <td>1</td>\n",
              "      <td>0</td>\n",
              "      <td>0</td>\n",
              "      <td>1</td>\n",
              "      <td>0</td>\n",
              "      <td>0</td>\n",
              "      <td>1</td>\n",
              "      <td>1</td>\n",
              "      <td>6999.0</td>\n",
              "      <td>4735.107530</td>\n",
              "      <td>8128.120448</td>\n",
              "      <td>4470.104020</td>\n",
              "      <td>5854.666404</td>\n",
              "      <td>6270.954384</td>\n",
              "      <td>6222.792804</td>\n",
              "      <td>4971.458897</td>\n",
              "      <td>6460.257538</td>\n",
              "      <td>5373.827909</td>\n",
              "    </tr>\n",
              "    <tr>\n",
              "      <th>4</th>\n",
              "      <td>370000</td>\n",
              "      <td>1991</td>\n",
              "      <td>0</td>\n",
              "      <td>1.8</td>\n",
              "      <td>0</td>\n",
              "      <td>0</td>\n",
              "      <td>0</td>\n",
              "      <td>0</td>\n",
              "      <td>0</td>\n",
              "      <td>0</td>\n",
              "      <td>0</td>\n",
              "      <td>0</td>\n",
              "      <td>0</td>\n",
              "      <td>0</td>\n",
              "      <td>1</td>\n",
              "      <td>1600.0</td>\n",
              "      <td>7121.501476</td>\n",
              "      <td>1643.286410</td>\n",
              "      <td>4470.104020</td>\n",
              "      <td>9160.871863</td>\n",
              "      <td>6270.954384</td>\n",
              "      <td>6222.792804</td>\n",
              "      <td>5788.889002</td>\n",
              "      <td>6460.257538</td>\n",
              "      <td>5373.827909</td>\n",
              "    </tr>\n",
              "  </tbody>\n",
              "</table>\n",
              "</div>"
            ],
            "text/plain": [
              "   odometer_value  year_produced  ...     state_te  drivetrain_te\n",
              "0          245000           2006  ...  6460.257538    5373.827909\n",
              "1          265542           2002  ...  6460.257538    5373.827909\n",
              "2          168000           2009  ...  6460.257538    5373.827909\n",
              "3          225522           2008  ...  6460.257538    5373.827909\n",
              "4          370000           1991  ...  6460.257538    5373.827909\n",
              "\n",
              "[5 rows x 25 columns]"
            ]
          },
          "metadata": {
            "tags": []
          },
          "execution_count": 6
        }
      ]
    },
    {
      "cell_type": "code",
      "metadata": {
        "colab": {
          "base_uri": "https://localhost:8080/"
        },
        "id": "1ja7A4-OHn2H",
        "outputId": "7ee2257d-0124-407a-f6b8-b7868840287f"
      },
      "source": [
        "# print shape and check for missing values\r\n",
        "print(df_train.shape)\r\n",
        "print(df_train.isnull().sum().sum())"
      ],
      "execution_count": 7,
      "outputs": [
        {
          "output_type": "stream",
          "text": [
            "(30824, 25)\n",
            "0\n"
          ],
          "name": "stdout"
        }
      ]
    },
    {
      "cell_type": "code",
      "metadata": {
        "colab": {
          "base_uri": "https://localhost:8080/",
          "height": 232
        },
        "id": "EMD4GiggHVdX",
        "outputId": "270bb056-3371-4a9d-e6a8-d01f2614f518"
      },
      "source": [
        "# Importing the test dataset\r\n",
        "\r\n",
        "df_test = pd.read_csv('df_test_te.csv', engine= 'python', encoding= 'latin1')\r\n",
        "\r\n",
        "df_test.head()"
      ],
      "execution_count": 8,
      "outputs": [
        {
          "output_type": "execute_result",
          "data": {
            "text/html": [
              "<div>\n",
              "<style scoped>\n",
              "    .dataframe tbody tr th:only-of-type {\n",
              "        vertical-align: middle;\n",
              "    }\n",
              "\n",
              "    .dataframe tbody tr th {\n",
              "        vertical-align: top;\n",
              "    }\n",
              "\n",
              "    .dataframe thead th {\n",
              "        text-align: right;\n",
              "    }\n",
              "</style>\n",
              "<table border=\"1\" class=\"dataframe\">\n",
              "  <thead>\n",
              "    <tr style=\"text-align: right;\">\n",
              "      <th></th>\n",
              "      <th>Unnamed: 0</th>\n",
              "      <th>odometer_value</th>\n",
              "      <th>year_produced</th>\n",
              "      <th>engine_has_gas</th>\n",
              "      <th>engine_capacity</th>\n",
              "      <th>has_warranty</th>\n",
              "      <th>feature_0</th>\n",
              "      <th>feature_1</th>\n",
              "      <th>feature_2</th>\n",
              "      <th>feature_3</th>\n",
              "      <th>feature_4</th>\n",
              "      <th>feature_5</th>\n",
              "      <th>feature_6</th>\n",
              "      <th>feature_7</th>\n",
              "      <th>feature_8</th>\n",
              "      <th>feature_9</th>\n",
              "      <th>duration_listed</th>\n",
              "      <th>manufacturer_name_te</th>\n",
              "      <th>model_name_te</th>\n",
              "      <th>transmission_te</th>\n",
              "      <th>color_te</th>\n",
              "      <th>engine_fuel_te</th>\n",
              "      <th>engine_type_te</th>\n",
              "      <th>body_type_te</th>\n",
              "      <th>state_te</th>\n",
              "      <th>drivetrain_te</th>\n",
              "    </tr>\n",
              "  </thead>\n",
              "  <tbody>\n",
              "    <tr>\n",
              "      <th>0</th>\n",
              "      <td>0</td>\n",
              "      <td>360000</td>\n",
              "      <td>1997</td>\n",
              "      <td>0</td>\n",
              "      <td>1.6</td>\n",
              "      <td>0</td>\n",
              "      <td>0</td>\n",
              "      <td>1</td>\n",
              "      <td>0</td>\n",
              "      <td>0</td>\n",
              "      <td>0</td>\n",
              "      <td>0</td>\n",
              "      <td>0</td>\n",
              "      <td>1</td>\n",
              "      <td>0</td>\n",
              "      <td>1</td>\n",
              "      <td>114</td>\n",
              "      <td>4527.444987</td>\n",
              "      <td>3579.201887</td>\n",
              "      <td>4470.10402</td>\n",
              "      <td>4786.850334</td>\n",
              "      <td>6270.954384</td>\n",
              "      <td>6222.792804</td>\n",
              "      <td>7279.898552</td>\n",
              "      <td>6460.257538</td>\n",
              "      <td>5373.827909</td>\n",
              "    </tr>\n",
              "    <tr>\n",
              "      <th>1</th>\n",
              "      <td>1</td>\n",
              "      <td>267000</td>\n",
              "      <td>1999</td>\n",
              "      <td>0</td>\n",
              "      <td>1.4</td>\n",
              "      <td>0</td>\n",
              "      <td>0</td>\n",
              "      <td>0</td>\n",
              "      <td>0</td>\n",
              "      <td>0</td>\n",
              "      <td>0</td>\n",
              "      <td>0</td>\n",
              "      <td>0</td>\n",
              "      <td>0</td>\n",
              "      <td>0</td>\n",
              "      <td>1</td>\n",
              "      <td>67</td>\n",
              "      <td>4366.573198</td>\n",
              "      <td>2982.466306</td>\n",
              "      <td>4470.10402</td>\n",
              "      <td>5934.723934</td>\n",
              "      <td>6270.954384</td>\n",
              "      <td>6222.792804</td>\n",
              "      <td>4038.937757</td>\n",
              "      <td>6460.257538</td>\n",
              "      <td>5373.827909</td>\n",
              "    </tr>\n",
              "    <tr>\n",
              "      <th>2</th>\n",
              "      <td>2</td>\n",
              "      <td>172000</td>\n",
              "      <td>2000</td>\n",
              "      <td>0</td>\n",
              "      <td>2.0</td>\n",
              "      <td>0</td>\n",
              "      <td>1</td>\n",
              "      <td>0</td>\n",
              "      <td>0</td>\n",
              "      <td>0</td>\n",
              "      <td>0</td>\n",
              "      <td>0</td>\n",
              "      <td>0</td>\n",
              "      <td>0</td>\n",
              "      <td>0</td>\n",
              "      <td>0</td>\n",
              "      <td>50</td>\n",
              "      <td>6422.908952</td>\n",
              "      <td>7369.254926</td>\n",
              "      <td>4470.10402</td>\n",
              "      <td>4786.850334</td>\n",
              "      <td>6270.954384</td>\n",
              "      <td>6222.792804</td>\n",
              "      <td>6182.120881</td>\n",
              "      <td>6460.257538</td>\n",
              "      <td>5373.827909</td>\n",
              "    </tr>\n",
              "    <tr>\n",
              "      <th>3</th>\n",
              "      <td>3</td>\n",
              "      <td>230000</td>\n",
              "      <td>2009</td>\n",
              "      <td>0</td>\n",
              "      <td>2.4</td>\n",
              "      <td>0</td>\n",
              "      <td>0</td>\n",
              "      <td>1</td>\n",
              "      <td>1</td>\n",
              "      <td>1</td>\n",
              "      <td>0</td>\n",
              "      <td>1</td>\n",
              "      <td>1</td>\n",
              "      <td>1</td>\n",
              "      <td>1</td>\n",
              "      <td>1</td>\n",
              "      <td>79</td>\n",
              "      <td>8321.328778</td>\n",
              "      <td>19373.482632</td>\n",
              "      <td>4470.10402</td>\n",
              "      <td>8388.715029</td>\n",
              "      <td>7433.666811</td>\n",
              "      <td>7432.738394</td>\n",
              "      <td>4971.458897</td>\n",
              "      <td>6460.257538</td>\n",
              "      <td>5373.827909</td>\n",
              "    </tr>\n",
              "    <tr>\n",
              "      <th>4</th>\n",
              "      <td>4</td>\n",
              "      <td>206000</td>\n",
              "      <td>2007</td>\n",
              "      <td>0</td>\n",
              "      <td>1.6</td>\n",
              "      <td>0</td>\n",
              "      <td>0</td>\n",
              "      <td>1</td>\n",
              "      <td>0</td>\n",
              "      <td>1</td>\n",
              "      <td>0</td>\n",
              "      <td>1</td>\n",
              "      <td>0</td>\n",
              "      <td>0</td>\n",
              "      <td>0</td>\n",
              "      <td>0</td>\n",
              "      <td>74</td>\n",
              "      <td>4735.107530</td>\n",
              "      <td>7140.549826</td>\n",
              "      <td>4470.10402</td>\n",
              "      <td>5934.723934</td>\n",
              "      <td>6270.954384</td>\n",
              "      <td>6222.792804</td>\n",
              "      <td>5788.889002</td>\n",
              "      <td>6460.257538</td>\n",
              "      <td>5373.827909</td>\n",
              "    </tr>\n",
              "  </tbody>\n",
              "</table>\n",
              "</div>"
            ],
            "text/plain": [
              "   Unnamed: 0  odometer_value  ...     state_te  drivetrain_te\n",
              "0           0          360000  ...  6460.257538    5373.827909\n",
              "1           1          267000  ...  6460.257538    5373.827909\n",
              "2           2          172000  ...  6460.257538    5373.827909\n",
              "3           3          230000  ...  6460.257538    5373.827909\n",
              "4           4          206000  ...  6460.257538    5373.827909\n",
              "\n",
              "[5 rows x 26 columns]"
            ]
          },
          "metadata": {
            "tags": []
          },
          "execution_count": 8
        }
      ]
    },
    {
      "cell_type": "code",
      "metadata": {
        "colab": {
          "base_uri": "https://localhost:8080/",
          "height": 215
        },
        "id": "pt-LMa8gcgsA",
        "outputId": "cf7e3e5b-0669-4194-d66a-706a26c08693"
      },
      "source": [
        "# drop first column\r\n",
        "df_test.drop(['Unnamed: 0','duration_listed'], axis = 1, inplace = True)\r\n",
        "\r\n",
        "df_test.head()"
      ],
      "execution_count": 9,
      "outputs": [
        {
          "output_type": "execute_result",
          "data": {
            "text/html": [
              "<div>\n",
              "<style scoped>\n",
              "    .dataframe tbody tr th:only-of-type {\n",
              "        vertical-align: middle;\n",
              "    }\n",
              "\n",
              "    .dataframe tbody tr th {\n",
              "        vertical-align: top;\n",
              "    }\n",
              "\n",
              "    .dataframe thead th {\n",
              "        text-align: right;\n",
              "    }\n",
              "</style>\n",
              "<table border=\"1\" class=\"dataframe\">\n",
              "  <thead>\n",
              "    <tr style=\"text-align: right;\">\n",
              "      <th></th>\n",
              "      <th>odometer_value</th>\n",
              "      <th>year_produced</th>\n",
              "      <th>engine_has_gas</th>\n",
              "      <th>engine_capacity</th>\n",
              "      <th>has_warranty</th>\n",
              "      <th>feature_0</th>\n",
              "      <th>feature_1</th>\n",
              "      <th>feature_2</th>\n",
              "      <th>feature_3</th>\n",
              "      <th>feature_4</th>\n",
              "      <th>feature_5</th>\n",
              "      <th>feature_6</th>\n",
              "      <th>feature_7</th>\n",
              "      <th>feature_8</th>\n",
              "      <th>feature_9</th>\n",
              "      <th>manufacturer_name_te</th>\n",
              "      <th>model_name_te</th>\n",
              "      <th>transmission_te</th>\n",
              "      <th>color_te</th>\n",
              "      <th>engine_fuel_te</th>\n",
              "      <th>engine_type_te</th>\n",
              "      <th>body_type_te</th>\n",
              "      <th>state_te</th>\n",
              "      <th>drivetrain_te</th>\n",
              "    </tr>\n",
              "  </thead>\n",
              "  <tbody>\n",
              "    <tr>\n",
              "      <th>0</th>\n",
              "      <td>360000</td>\n",
              "      <td>1997</td>\n",
              "      <td>0</td>\n",
              "      <td>1.6</td>\n",
              "      <td>0</td>\n",
              "      <td>0</td>\n",
              "      <td>1</td>\n",
              "      <td>0</td>\n",
              "      <td>0</td>\n",
              "      <td>0</td>\n",
              "      <td>0</td>\n",
              "      <td>0</td>\n",
              "      <td>1</td>\n",
              "      <td>0</td>\n",
              "      <td>1</td>\n",
              "      <td>4527.444987</td>\n",
              "      <td>3579.201887</td>\n",
              "      <td>4470.10402</td>\n",
              "      <td>4786.850334</td>\n",
              "      <td>6270.954384</td>\n",
              "      <td>6222.792804</td>\n",
              "      <td>7279.898552</td>\n",
              "      <td>6460.257538</td>\n",
              "      <td>5373.827909</td>\n",
              "    </tr>\n",
              "    <tr>\n",
              "      <th>1</th>\n",
              "      <td>267000</td>\n",
              "      <td>1999</td>\n",
              "      <td>0</td>\n",
              "      <td>1.4</td>\n",
              "      <td>0</td>\n",
              "      <td>0</td>\n",
              "      <td>0</td>\n",
              "      <td>0</td>\n",
              "      <td>0</td>\n",
              "      <td>0</td>\n",
              "      <td>0</td>\n",
              "      <td>0</td>\n",
              "      <td>0</td>\n",
              "      <td>0</td>\n",
              "      <td>1</td>\n",
              "      <td>4366.573198</td>\n",
              "      <td>2982.466306</td>\n",
              "      <td>4470.10402</td>\n",
              "      <td>5934.723934</td>\n",
              "      <td>6270.954384</td>\n",
              "      <td>6222.792804</td>\n",
              "      <td>4038.937757</td>\n",
              "      <td>6460.257538</td>\n",
              "      <td>5373.827909</td>\n",
              "    </tr>\n",
              "    <tr>\n",
              "      <th>2</th>\n",
              "      <td>172000</td>\n",
              "      <td>2000</td>\n",
              "      <td>0</td>\n",
              "      <td>2.0</td>\n",
              "      <td>0</td>\n",
              "      <td>1</td>\n",
              "      <td>0</td>\n",
              "      <td>0</td>\n",
              "      <td>0</td>\n",
              "      <td>0</td>\n",
              "      <td>0</td>\n",
              "      <td>0</td>\n",
              "      <td>0</td>\n",
              "      <td>0</td>\n",
              "      <td>0</td>\n",
              "      <td>6422.908952</td>\n",
              "      <td>7369.254926</td>\n",
              "      <td>4470.10402</td>\n",
              "      <td>4786.850334</td>\n",
              "      <td>6270.954384</td>\n",
              "      <td>6222.792804</td>\n",
              "      <td>6182.120881</td>\n",
              "      <td>6460.257538</td>\n",
              "      <td>5373.827909</td>\n",
              "    </tr>\n",
              "    <tr>\n",
              "      <th>3</th>\n",
              "      <td>230000</td>\n",
              "      <td>2009</td>\n",
              "      <td>0</td>\n",
              "      <td>2.4</td>\n",
              "      <td>0</td>\n",
              "      <td>0</td>\n",
              "      <td>1</td>\n",
              "      <td>1</td>\n",
              "      <td>1</td>\n",
              "      <td>0</td>\n",
              "      <td>1</td>\n",
              "      <td>1</td>\n",
              "      <td>1</td>\n",
              "      <td>1</td>\n",
              "      <td>1</td>\n",
              "      <td>8321.328778</td>\n",
              "      <td>19373.482632</td>\n",
              "      <td>4470.10402</td>\n",
              "      <td>8388.715029</td>\n",
              "      <td>7433.666811</td>\n",
              "      <td>7432.738394</td>\n",
              "      <td>4971.458897</td>\n",
              "      <td>6460.257538</td>\n",
              "      <td>5373.827909</td>\n",
              "    </tr>\n",
              "    <tr>\n",
              "      <th>4</th>\n",
              "      <td>206000</td>\n",
              "      <td>2007</td>\n",
              "      <td>0</td>\n",
              "      <td>1.6</td>\n",
              "      <td>0</td>\n",
              "      <td>0</td>\n",
              "      <td>1</td>\n",
              "      <td>0</td>\n",
              "      <td>1</td>\n",
              "      <td>0</td>\n",
              "      <td>1</td>\n",
              "      <td>0</td>\n",
              "      <td>0</td>\n",
              "      <td>0</td>\n",
              "      <td>0</td>\n",
              "      <td>4735.107530</td>\n",
              "      <td>7140.549826</td>\n",
              "      <td>4470.10402</td>\n",
              "      <td>5934.723934</td>\n",
              "      <td>6270.954384</td>\n",
              "      <td>6222.792804</td>\n",
              "      <td>5788.889002</td>\n",
              "      <td>6460.257538</td>\n",
              "      <td>5373.827909</td>\n",
              "    </tr>\n",
              "  </tbody>\n",
              "</table>\n",
              "</div>"
            ],
            "text/plain": [
              "   odometer_value  year_produced  ...     state_te  drivetrain_te\n",
              "0          360000           1997  ...  6460.257538    5373.827909\n",
              "1          267000           1999  ...  6460.257538    5373.827909\n",
              "2          172000           2000  ...  6460.257538    5373.827909\n",
              "3          230000           2009  ...  6460.257538    5373.827909\n",
              "4          206000           2007  ...  6460.257538    5373.827909\n",
              "\n",
              "[5 rows x 24 columns]"
            ]
          },
          "metadata": {
            "tags": []
          },
          "execution_count": 9
        }
      ]
    },
    {
      "cell_type": "code",
      "metadata": {
        "colab": {
          "base_uri": "https://localhost:8080/"
        },
        "id": "QQ5bTIyHKOhU",
        "outputId": "1478fbeb-faab-4ebd-a7a5-ada676be574e"
      },
      "source": [
        "# print shape and number of total missing values\r\n",
        "print(df_test.shape)\r\n",
        "print(df_test.isnull().sum().sum())"
      ],
      "execution_count": 10,
      "outputs": [
        {
          "output_type": "stream",
          "text": [
            "(7707, 24)\n",
            "0\n"
          ],
          "name": "stdout"
        }
      ]
    },
    {
      "cell_type": "code",
      "metadata": {
        "id": "SVu-bFY-hByC"
      },
      "source": [
        "# Let's create a function to create adjusted R-Squared\r\n",
        "def adj_r2(x,y):\r\n",
        "    r2 = regression.score(x,y)\r\n",
        "    n = x.shape[0]\r\n",
        "    p = x.shape[1]\r\n",
        "    adjusted_r2 = 1-(1-r2)*(n-1)/(n-p-1)\r\n",
        "    return adjusted_r2"
      ],
      "execution_count": 11,
      "outputs": []
    },
    {
      "cell_type": "markdown",
      "metadata": {
        "id": "Q2bgteTkfqpn"
      },
      "source": [
        "## Building  first model with only numericals columns"
      ]
    },
    {
      "cell_type": "code",
      "metadata": {
        "colab": {
          "base_uri": "https://localhost:8080/",
          "height": 1000
        },
        "id": "6lX3C-swmVh3",
        "outputId": "651b65fa-b123-45a9-cef6-4af12943aa63"
      },
      "source": [
        "# Viusalize realtionship between indepednet and dependent variable\r\n",
        "y = df_train['price_usd']\r\n",
        "X = df_train.drop(columns = ['price_usd'])\r\n",
        "\r\n",
        "plt.figure(figsize=(20,30), facecolor='white')\r\n",
        "plotnumber = 1\r\n",
        "\r\n",
        "for column in X:\r\n",
        "    if plotnumber<=15 :\r\n",
        "        ax = plt.subplot(5,3,plotnumber)\r\n",
        "        plt.scatter(X[column],y)\r\n",
        "        plt.xlabel(column,fontsize=20)\r\n",
        "        plt.ylabel('Price_usd',fontsize=20)\r\n",
        "    plotnumber+=1\r\n",
        "plt.tight_layout()"
      ],
      "execution_count": 12,
      "outputs": [
        {
          "output_type": "display_data",
          "data": {
            "image/png": "[encoded data removed]",
            "text/plain": [
              "<Figure size 1440x2160 with 15 Axes>"
            ]
          },
          "metadata": {
            "tags": []
          }
        }
      ]
    },
    {
      "cell_type": "code",
      "metadata": {
        "colab": {
          "base_uri": "https://localhost:8080/",
          "height": 1000
        },
        "id": "X5e89x83CZet",
        "outputId": "0ef83d87-d1f2-461c-97fc-901157a28370"
      },
      "source": [
        "# let's see how data is distributed for every column\r\n",
        "plt.figure(figsize=(20,25), facecolor='white')\r\n",
        "plotnumber = 1\r\n",
        "\r\n",
        "for column in df_train.columns:\r\n",
        "    if plotnumber<=16 :\r\n",
        "        ax = plt.subplot(4,4,plotnumber)\r\n",
        "        sns.distplot(df_train[column])\r\n",
        "        plt.xlabel(column,fontsize=20)\r\n",
        "    plotnumber+=1\r\n",
        "plt.tight_layout()"
      ],
      "execution_count": 13,
      "outputs": [
        {
          "output_type": "stream",
          "text": [
            "/usr/local/lib/python3.6/dist-packages/seaborn/distributions.py:2557: FutureWarning: `distplot` is a deprecated function and will be removed in a future version. Please adapt your code to use either `displot` (a figure-level function with similar flexibility) or `histplot` (an axes-level function for histograms).\n",
            "  warnings.warn(msg, FutureWarning)\n",
            "/usr/local/lib/python3.6/dist-packages/seaborn/distributions.py:2557: FutureWarning: `distplot` is a deprecated function and will be removed in a future version. Please adapt your code to use either `displot` (a figure-level function with similar flexibility) or `histplot` (an axes-level function for histograms).\n",
            "  warnings.warn(msg, FutureWarning)\n",
            "/usr/local/lib/python3.6/dist-packages/seaborn/distributions.py:2557: FutureWarning: `distplot` is a deprecated function and will be removed in a future version. Please adapt your code to use either `displot` (a figure-level function with similar flexibility) or `histplot` (an axes-level function for histograms).\n",
            "  warnings.warn(msg, FutureWarning)\n",
            "/usr/local/lib/python3.6/dist-packages/seaborn/distributions.py:2557: FutureWarning: `distplot` is a deprecated function and will be removed in a future version. Please adapt your code to use either `displot` (a figure-level function with similar flexibility) or `histplot` (an axes-level function for histograms).\n",
            "  warnings.warn(msg, FutureWarning)\n",
            "/usr/local/lib/python3.6/dist-packages/seaborn/distributions.py:2557: FutureWarning: `distplot` is a deprecated function and will be removed in a future version. Please adapt your code to use either `displot` (a figure-level function with similar flexibility) or `histplot` (an axes-level function for histograms).\n",
            "  warnings.warn(msg, FutureWarning)\n",
            "/usr/local/lib/python3.6/dist-packages/seaborn/distributions.py:2557: FutureWarning: `distplot` is a deprecated function and will be removed in a future version. Please adapt your code to use either `displot` (a figure-level function with similar flexibility) or `histplot` (an axes-level function for histograms).\n",
            "  warnings.warn(msg, FutureWarning)\n",
            "/usr/local/lib/python3.6/dist-packages/seaborn/distributions.py:2557: FutureWarning: `distplot` is a deprecated function and will be removed in a future version. Please adapt your code to use either `displot` (a figure-level function with similar flexibility) or `histplot` (an axes-level function for histograms).\n",
            "  warnings.warn(msg, FutureWarning)\n",
            "/usr/local/lib/python3.6/dist-packages/seaborn/distributions.py:2557: FutureWarning: `distplot` is a deprecated function and will be removed in a future version. Please adapt your code to use either `displot` (a figure-level function with similar flexibility) or `histplot` (an axes-level function for histograms).\n",
            "  warnings.warn(msg, FutureWarning)\n",
            "/usr/local/lib/python3.6/dist-packages/seaborn/distributions.py:2557: FutureWarning: `distplot` is a deprecated function and will be removed in a future version. Please adapt your code to use either `displot` (a figure-level function with similar flexibility) or `histplot` (an axes-level function for histograms).\n",
            "  warnings.warn(msg, FutureWarning)\n",
            "/usr/local/lib/python3.6/dist-packages/seaborn/distributions.py:2557: FutureWarning: `distplot` is a deprecated function and will be removed in a future version. Please adapt your code to use either `displot` (a figure-level function with similar flexibility) or `histplot` (an axes-level function for histograms).\n",
            "  warnings.warn(msg, FutureWarning)\n",
            "/usr/local/lib/python3.6/dist-packages/seaborn/distributions.py:2557: FutureWarning: `distplot` is a deprecated function and will be removed in a future version. Please adapt your code to use either `displot` (a figure-level function with similar flexibility) or `histplot` (an axes-level function for histograms).\n",
            "  warnings.warn(msg, FutureWarning)\n",
            "/usr/local/lib/python3.6/dist-packages/seaborn/distributions.py:2557: FutureWarning: `distplot` is a deprecated function and will be removed in a future version. Please adapt your code to use either `displot` (a figure-level function with similar flexibility) or `histplot` (an axes-level function for histograms).\n",
            "  warnings.warn(msg, FutureWarning)\n",
            "/usr/local/lib/python3.6/dist-packages/seaborn/distributions.py:2557: FutureWarning: `distplot` is a deprecated function and will be removed in a future version. Please adapt your code to use either `displot` (a figure-level function with similar flexibility) or `histplot` (an axes-level function for histograms).\n",
            "  warnings.warn(msg, FutureWarning)\n",
            "/usr/local/lib/python3.6/dist-packages/seaborn/distributions.py:2557: FutureWarning: `distplot` is a deprecated function and will be removed in a future version. Please adapt your code to use either `displot` (a figure-level function with similar flexibility) or `histplot` (an axes-level function for histograms).\n",
            "  warnings.warn(msg, FutureWarning)\n",
            "/usr/local/lib/python3.6/dist-packages/seaborn/distributions.py:2557: FutureWarning: `distplot` is a deprecated function and will be removed in a future version. Please adapt your code to use either `displot` (a figure-level function with similar flexibility) or `histplot` (an axes-level function for histograms).\n",
            "  warnings.warn(msg, FutureWarning)\n",
            "/usr/local/lib/python3.6/dist-packages/seaborn/distributions.py:2557: FutureWarning: `distplot` is a deprecated function and will be removed in a future version. Please adapt your code to use either `displot` (a figure-level function with similar flexibility) or `histplot` (an axes-level function for histograms).\n",
            "  warnings.warn(msg, FutureWarning)\n"
          ],
          "name": "stderr"
        },
        {
          "output_type": "display_data",
          "data": {
            "image/png": "[encoded data removed]",
            "text/plain": [
              "<Figure size 1440x1800 with 16 Axes>"
            ]
          },
          "metadata": {
            "tags": []
          }
        }
      ]
    },
    {
      "cell_type": "code",
      "metadata": {
        "colab": {
          "base_uri": "https://localhost:8080/"
        },
        "id": "FPY0XCrYQM8M",
        "outputId": "3263cdef-3d4e-4490-c859-29754e81f31b"
      },
      "source": [
        "# Check for outliers\r\n",
        "Zscore = np.abs(stats.zscore(df_train))\r\n",
        "print(np.where(Zscore >3))"
      ],
      "execution_count": 14,
      "outputs": [
        {
          "output_type": "stream",
          "text": [
            "(array([   33,    49,    60, ..., 30798, 30808, 30823]), array([ 3,  2, 20, ...,  1, 20, 15]))\n"
          ],
          "name": "stdout"
        }
      ]
    },
    {
      "cell_type": "code",
      "metadata": {
        "colab": {
          "base_uri": "https://localhost:8080/"
        },
        "id": "k18V-TEFQVJn",
        "outputId": "bf0d2e6a-695d-4a8e-dc64-22dbb856f5ad"
      },
      "source": [
        "# Obtain clean dataframe\r\n",
        "clean_df_train = df_train[(Zscore <3).all(axis = 1)]\r\n",
        "print(\"The shape of the clean dataframe is :\", clean_df_train.shape)"
      ],
      "execution_count": 15,
      "outputs": [
        {
          "output_type": "stream",
          "text": [
            "The shape of the clean dataframe is : (27399, 25)\n"
          ],
          "name": "stdout"
        }
      ]
    },
    {
      "cell_type": "code",
      "metadata": {
        "colab": {
          "base_uri": "https://localhost:8080/",
          "height": 811
        },
        "id": "0LzHw_wpLuWs",
        "outputId": "c4093c96-e228-4cc8-de75-779f75bf39b2"
      },
      "source": [
        "# Checking for colinearity\r\n",
        "y = df_train['price_usd'].values\r\n",
        "#X = clean_df_train.drop(columns = ['price_usd'])\r\n",
        "y = y.reshape(len(y),1)\r\n",
        "y.shape\r\n",
        "scaler =StandardScaler()\r\n",
        "scaler_y = StandardScaler()\r\n",
        "\r\n",
        "X_scaled = scaler.fit_transform(X)\r\n",
        "y_scaled = scaler_y.fit_transform(y)\r\n",
        "from statsmodels.stats.outliers_influence import variance_inflation_factor\r\n",
        "variables = X_scaled\r\n",
        "\r\n",
        "# we create a new data frame which will include all the VIFs\r\n",
        "# note that each variable has its own variance inflation factor as this measure is variable specific (not model specific)\r\n",
        "# we do not include categorical values for mulitcollinearity as they do not provide much information as numerical ones do\r\n",
        "vif = pd.DataFrame()\r\n",
        "\r\n",
        "# here we make use of the variance_inflation_factor, which will basically output the respective VIFs \r\n",
        "vif[\"VIF\"] = [variance_inflation_factor(variables, i) for i in range(variables.shape[1])]\r\n",
        "# Finally, I like to include names so it is easier to explore the result\r\n",
        "vif[\"Features\"] = X.columns\r\n",
        "\r\n",
        "vif"
      ],
      "execution_count": 16,
      "outputs": [
        {
          "output_type": "stream",
          "text": [
            "/usr/local/lib/python3.6/dist-packages/statsmodels/tools/_testing.py:19: FutureWarning: pandas.util.testing is deprecated. Use the functions in the public API at pandas.testing instead.\n",
            "  import pandas.util.testing as tm\n"
          ],
          "name": "stderr"
        },
        {
          "output_type": "execute_result",
          "data": {
            "text/html": [
              "<div>\n",
              "<style scoped>\n",
              "    .dataframe tbody tr th:only-of-type {\n",
              "        vertical-align: middle;\n",
              "    }\n",
              "\n",
              "    .dataframe tbody tr th {\n",
              "        vertical-align: top;\n",
              "    }\n",
              "\n",
              "    .dataframe thead th {\n",
              "        text-align: right;\n",
              "    }\n",
              "</style>\n",
              "<table border=\"1\" class=\"dataframe\">\n",
              "  <thead>\n",
              "    <tr style=\"text-align: right;\">\n",
              "      <th></th>\n",
              "      <th>VIF</th>\n",
              "      <th>Features</th>\n",
              "    </tr>\n",
              "  </thead>\n",
              "  <tbody>\n",
              "    <tr>\n",
              "      <th>0</th>\n",
              "      <td>1.505826</td>\n",
              "      <td>odometer_value</td>\n",
              "    </tr>\n",
              "    <tr>\n",
              "      <th>1</th>\n",
              "      <td>2.596178</td>\n",
              "      <td>year_produced</td>\n",
              "    </tr>\n",
              "    <tr>\n",
              "      <th>2</th>\n",
              "      <td>1.804840</td>\n",
              "      <td>engine_has_gas</td>\n",
              "    </tr>\n",
              "    <tr>\n",
              "      <th>3</th>\n",
              "      <td>1.906321</td>\n",
              "      <td>engine_capacity</td>\n",
              "    </tr>\n",
              "    <tr>\n",
              "      <th>4</th>\n",
              "      <td>3.323156</td>\n",
              "      <td>has_warranty</td>\n",
              "    </tr>\n",
              "    <tr>\n",
              "      <th>5</th>\n",
              "      <td>2.746678</td>\n",
              "      <td>feature_0</td>\n",
              "    </tr>\n",
              "    <tr>\n",
              "      <th>6</th>\n",
              "      <td>2.130635</td>\n",
              "      <td>feature_1</td>\n",
              "    </tr>\n",
              "    <tr>\n",
              "      <th>7</th>\n",
              "      <td>1.608954</td>\n",
              "      <td>feature_2</td>\n",
              "    </tr>\n",
              "    <tr>\n",
              "      <th>8</th>\n",
              "      <td>1.821120</td>\n",
              "      <td>feature_3</td>\n",
              "    </tr>\n",
              "    <tr>\n",
              "      <th>9</th>\n",
              "      <td>1.800804</td>\n",
              "      <td>feature_4</td>\n",
              "    </tr>\n",
              "    <tr>\n",
              "      <th>10</th>\n",
              "      <td>1.912768</td>\n",
              "      <td>feature_5</td>\n",
              "    </tr>\n",
              "    <tr>\n",
              "      <th>11</th>\n",
              "      <td>1.840773</td>\n",
              "      <td>feature_6</td>\n",
              "    </tr>\n",
              "    <tr>\n",
              "      <th>12</th>\n",
              "      <td>1.993021</td>\n",
              "      <td>feature_7</td>\n",
              "    </tr>\n",
              "    <tr>\n",
              "      <th>13</th>\n",
              "      <td>1.972601</td>\n",
              "      <td>feature_8</td>\n",
              "    </tr>\n",
              "    <tr>\n",
              "      <th>14</th>\n",
              "      <td>1.989360</td>\n",
              "      <td>feature_9</td>\n",
              "    </tr>\n",
              "    <tr>\n",
              "      <th>15</th>\n",
              "      <td>1.556197</td>\n",
              "      <td>manufacturer_name_te</td>\n",
              "    </tr>\n",
              "    <tr>\n",
              "      <th>16</th>\n",
              "      <td>3.082483</td>\n",
              "      <td>model_name_te</td>\n",
              "    </tr>\n",
              "    <tr>\n",
              "      <th>17</th>\n",
              "      <td>1.791729</td>\n",
              "      <td>transmission_te</td>\n",
              "    </tr>\n",
              "    <tr>\n",
              "      <th>18</th>\n",
              "      <td>1.163908</td>\n",
              "      <td>color_te</td>\n",
              "    </tr>\n",
              "    <tr>\n",
              "      <th>19</th>\n",
              "      <td>4.445498</td>\n",
              "      <td>engine_fuel_te</td>\n",
              "    </tr>\n",
              "    <tr>\n",
              "      <th>20</th>\n",
              "      <td>3.513318</td>\n",
              "      <td>engine_type_te</td>\n",
              "    </tr>\n",
              "    <tr>\n",
              "      <th>21</th>\n",
              "      <td>2.266422</td>\n",
              "      <td>body_type_te</td>\n",
              "    </tr>\n",
              "    <tr>\n",
              "      <th>22</th>\n",
              "      <td>3.320238</td>\n",
              "      <td>state_te</td>\n",
              "    </tr>\n",
              "    <tr>\n",
              "      <th>23</th>\n",
              "      <td>2.175217</td>\n",
              "      <td>drivetrain_te</td>\n",
              "    </tr>\n",
              "  </tbody>\n",
              "</table>\n",
              "</div>"
            ],
            "text/plain": [
              "         VIF              Features\n",
              "0   1.505826        odometer_value\n",
              "1   2.596178         year_produced\n",
              "2   1.804840        engine_has_gas\n",
              "3   1.906321       engine_capacity\n",
              "4   3.323156          has_warranty\n",
              "5   2.746678             feature_0\n",
              "6   2.130635             feature_1\n",
              "7   1.608954             feature_2\n",
              "8   1.821120             feature_3\n",
              "9   1.800804             feature_4\n",
              "10  1.912768             feature_5\n",
              "11  1.840773             feature_6\n",
              "12  1.993021             feature_7\n",
              "13  1.972601             feature_8\n",
              "14  1.989360             feature_9\n",
              "15  1.556197  manufacturer_name_te\n",
              "16  3.082483         model_name_te\n",
              "17  1.791729       transmission_te\n",
              "18  1.163908              color_te\n",
              "19  4.445498        engine_fuel_te\n",
              "20  3.513318        engine_type_te\n",
              "21  2.266422          body_type_te\n",
              "22  3.320238              state_te\n",
              "23  2.175217         drivetrain_te"
            ]
          },
          "metadata": {
            "tags": []
          },
          "execution_count": 16
        }
      ]
    },
    {
      "cell_type": "code",
      "metadata": {
        "id": "S2LLPjHTMAu8"
      },
      "source": [
        "# Drop columns with high vif score\r\n",
        "bad_features = vif[vif['VIF'] >  5]\r\n",
        "colinear_cols = list(bad_features.Features.values)\r\n",
        "df_train.drop(colinear_cols, axis = 1, inplace= True)\r\n",
        "df_test.drop(colinear_cols, axis = 1, inplace= True)\r\n",
        "X = df_train.drop(columns = ['price_usd'])\r\n",
        "y = df_train['price_usd'].values\r\n",
        "y = y.reshape(len(y),1)"
      ],
      "execution_count": 17,
      "outputs": []
    },
    {
      "cell_type": "code",
      "metadata": {
        "id": "h7-XIoKaNXgg"
      },
      "source": [
        "# Scale the new X and y\r\n",
        "sc =StandardScaler()\r\n",
        "sc_y = StandardScaler()\r\n",
        "\r\n",
        "X_scaled = sc.fit_transform(X)\r\n",
        "y_scaled = sc_y.fit_transform(y)\r\n",
        "\r\n",
        "# Split data into train and validation set\r\n",
        "x_train,x_valid,y_train,y_valid = train_test_split(X_scaled,y_scaled,test_size = 0.2,random_state=35)"
      ],
      "execution_count": 18,
      "outputs": []
    },
    {
      "cell_type": "code",
      "metadata": {
        "colab": {
          "base_uri": "https://localhost:8080/"
        },
        "id": "rwVnOSuHmHk2",
        "outputId": "b76ce230-d565-4052-bde8-6fdae6530f41"
      },
      "source": [
        "# print X_train\r\n",
        "print(x_train)"
      ],
      "execution_count": 19,
      "outputs": [
        {
          "output_type": "stream",
          "text": [
            "[[ 5.53333137 -1.73192784 -0.18963531 ... -0.27911559 -0.08395013\n",
            "  -0.17868078]\n",
            " [-0.13850424 -0.24099552  5.2732795  ... -0.27911559 -0.08395013\n",
            "  -0.17868078]\n",
            " [-0.0869421  -0.11675116 -0.18963531 ... -0.27911559 -0.08395013\n",
            "  -0.44330964]\n",
            " ...\n",
            " [-0.42577903  1.49842551 -0.18963531 ... -0.55017996 -0.08395013\n",
            "  -0.44330964]\n",
            " [-0.35948485  0.50447064 -0.18963531 ... -0.85940916 -0.08395013\n",
            "  -0.44330964]\n",
            " [-1.34653157 -2.22890528 -0.18963531 ... -0.85940916 -2.40872722\n",
            "  -0.44330964]]\n"
          ],
          "name": "stdout"
        }
      ]
    },
    {
      "cell_type": "code",
      "metadata": {
        "colab": {
          "base_uri": "https://localhost:8080/"
        },
        "id": "PqP0eIYCkgBy",
        "outputId": "845e984c-6c84-4c7c-e659-4beafac36e27"
      },
      "source": [
        "print(y_train)"
      ],
      "execution_count": 20,
      "outputs": [
        {
          "output_type": "stream",
          "text": [
            "[[-0.92490599]\n",
            " [-0.56620969]\n",
            " [-0.3790638 ]\n",
            " ...\n",
            " [ 1.2584628 ]\n",
            " [-0.1061427 ]\n",
            " [-1.00288345]]\n"
          ],
          "name": "stdout"
        }
      ]
    },
    {
      "cell_type": "code",
      "metadata": {
        "colab": {
          "base_uri": "https://localhost:8080/"
        },
        "id": "iblcckZCmPey",
        "outputId": "51dd7452-5d63-4b81-c2af-39170cbbc796"
      },
      "source": [
        "# Build linear regreesion model\r\n",
        "regression = LinearRegression()\r\n",
        "\r\n",
        "regression.fit(x_train,y_train)"
      ],
      "execution_count": 21,
      "outputs": [
        {
          "output_type": "execute_result",
          "data": {
            "text/plain": [
              "LinearRegression(copy_X=True, fit_intercept=True, n_jobs=None, normalize=False)"
            ]
          },
          "metadata": {
            "tags": []
          },
          "execution_count": 21
        }
      ]
    },
    {
      "cell_type": "code",
      "metadata": {
        "colab": {
          "base_uri": "https://localhost:8080/"
        },
        "id": "ME1G9Pf9qk6K",
        "outputId": "68eb9de5-71cd-4d31-be73-9c13b4ee4e3c"
      },
      "source": [
        "# Check accuracy on train set\r\n",
        "regression.score(x_train,y_train)"
      ],
      "execution_count": 22,
      "outputs": [
        {
          "output_type": "execute_result",
          "data": {
            "text/plain": [
              "0.7646155148583772"
            ]
          },
          "metadata": {
            "tags": []
          },
          "execution_count": 22
        }
      ]
    },
    {
      "cell_type": "code",
      "metadata": {
        "colab": {
          "base_uri": "https://localhost:8080/"
        },
        "id": "eSAMPMgcrPoe",
        "outputId": "23a1209e-cec1-40c6-db51-fef1311cf9a8"
      },
      "source": [
        "# check adjusted r2 on train set\r\n",
        "adj_r2(x_train,y_train)"
      ],
      "execution_count": 23,
      "outputs": [
        {
          "output_type": "execute_result",
          "data": {
            "text/plain": [
              "0.764386188413488"
            ]
          },
          "metadata": {
            "tags": []
          },
          "execution_count": 23
        }
      ]
    },
    {
      "cell_type": "code",
      "metadata": {
        "colab": {
          "base_uri": "https://localhost:8080/"
        },
        "id": "gTT7Uw2TrUyk",
        "outputId": "71258bde-b685-40c8-e02d-e8792059e5a8"
      },
      "source": [
        "# Check accuracy on validation set\r\n",
        "regression.score(x_valid,y_valid)"
      ],
      "execution_count": 24,
      "outputs": [
        {
          "output_type": "execute_result",
          "data": {
            "text/plain": [
              "0.7601067765181337"
            ]
          },
          "metadata": {
            "tags": []
          },
          "execution_count": 24
        }
      ]
    },
    {
      "cell_type": "code",
      "metadata": {
        "colab": {
          "base_uri": "https://localhost:8080/"
        },
        "id": "eXdQ_cDOrb4_",
        "outputId": "c76010a5-fdc6-41bd-e85d-4a10fd204c6c"
      },
      "source": [
        "# check adjusted r2 on validation set\r\n",
        "adj_r2(x_valid,y_valid)"
      ],
      "execution_count": 25,
      "outputs": [
        {
          "output_type": "execute_result",
          "data": {
            "text/plain": [
              "0.7591690831364457"
            ]
          },
          "metadata": {
            "tags": []
          },
          "execution_count": 25
        }
      ]
    },
    {
      "cell_type": "code",
      "metadata": {
        "colab": {
          "base_uri": "https://localhost:8080/"
        },
        "id": "loPN6Mo6ZtHo",
        "outputId": "c4acee0b-aa5e-44e9-8483-ca2508461f20"
      },
      "source": [
        "# MSE Metrics on validation set\r\n",
        "from sklearn.metrics import mean_squared_error\r\n",
        "y_pred = regression.predict(x_valid)\r\n",
        "print(\"The mean square error of the model is: \" , mean_squared_error(y_valid,y_pred))"
      ],
      "execution_count": 26,
      "outputs": [
        {
          "output_type": "stream",
          "text": [
            "The mean square error of the model is:  0.24225406932554877\n"
          ],
          "name": "stdout"
        }
      ]
    },
    {
      "cell_type": "code",
      "metadata": {
        "colab": {
          "base_uri": "https://localhost:8080/"
        },
        "id": "esZnCNm6g7bO",
        "outputId": "145d942f-080b-4422-ddb4-0831320b5673"
      },
      "source": [
        "# Applying cross validation\r\n",
        "from sklearn.model_selection import cross_val_score, cross_val_predict\r\n",
        "Rcross = cross_val_score(regression, x_train, y_train, cv = 3)\r\n",
        "y_pred_cv = cross_val_predict(regression, x_train,y_train, cv = 3)\r\n",
        "print(Rcross)\r\n",
        "print(Rcross.mean())\r\n",
        "print(Rcross.std())\r\n",
        "#print(\"The mean square error of the model is: \" , mean_squared_error(y_valid,y_pred))"
      ],
      "execution_count": 27,
      "outputs": [
        {
          "output_type": "stream",
          "text": [
            "[0.75402915 0.76588226 0.77195335]\n",
            "0.7639549186910589\n",
            "0.007443353679104164\n"
          ],
          "name": "stdout"
        }
      ]
    },
    {
      "cell_type": "markdown",
      "metadata": {
        "id": "nBwnqmPmrxbT"
      },
      "source": [
        "## Lasso Regression"
      ]
    },
    {
      "cell_type": "code",
      "metadata": {
        "colab": {
          "base_uri": "https://localhost:8080/"
        },
        "id": "NfGHiXy_r4zK",
        "outputId": "fd757816-4e81-4a58-c0c4-f03f0693b29e"
      },
      "source": [
        "# Lasso Regularization\r\n",
        "# LassoCV will return best alpha and coefficients after performing 10 cross validations\r\n",
        "lasscv = LassoCV(alphas = None,cv =10, max_iter = 100000, normalize = True)\r\n",
        "lasscv.fit(x_train, y_train)"
      ],
      "execution_count": 28,
      "outputs": [
        {
          "output_type": "stream",
          "text": [
            "/usr/local/lib/python3.6/dist-packages/sklearn/linear_model/_coordinate_descent.py:1088: DataConversionWarning: A column-vector y was passed when a 1d array was expected. Please change the shape of y to (n_samples, ), for example using ravel().\n",
            "  y = column_or_1d(y, warn=True)\n"
          ],
          "name": "stderr"
        },
        {
          "output_type": "execute_result",
          "data": {
            "text/plain": [
              "LassoCV(alphas=None, copy_X=True, cv=10, eps=0.001, fit_intercept=True,\n",
              "        max_iter=100000, n_alphas=100, n_jobs=None, normalize=True,\n",
              "        positive=False, precompute='auto', random_state=None,\n",
              "        selection='cyclic', tol=0.0001, verbose=False)"
            ]
          },
          "metadata": {
            "tags": []
          },
          "execution_count": 28
        }
      ]
    },
    {
      "cell_type": "code",
      "metadata": {
        "colab": {
          "base_uri": "https://localhost:8080/"
        },
        "id": "4m3yH0EBr8wa",
        "outputId": "44681a20-a1c1-43fb-e55b-0f5c9734dfc1"
      },
      "source": [
        "# best alpha parameter\r\n",
        "alpha = lasscv.alpha_\r\n",
        "alpha"
      ],
      "execution_count": 29,
      "outputs": [
        {
          "output_type": "execute_result",
          "data": {
            "text/plain": [
              "5.256673747899733e-06"
            ]
          },
          "metadata": {
            "tags": []
          },
          "execution_count": 29
        }
      ]
    },
    {
      "cell_type": "code",
      "metadata": {
        "colab": {
          "base_uri": "https://localhost:8080/"
        },
        "id": "qDLNfuuIsAGj",
        "outputId": "c5006466-6899-47f8-8f96-d78b0a75c2ea"
      },
      "source": [
        "#now that we have best parameter, let's use Lasso regression and see how well our data has fitted before\r\n",
        "\r\n",
        "lasso_reg = Lasso(alpha)\r\n",
        "lasso_reg.fit(x_train, y_train)"
      ],
      "execution_count": 30,
      "outputs": [
        {
          "output_type": "execute_result",
          "data": {
            "text/plain": [
              "Lasso(alpha=5.256673747899733e-06, copy_X=True, fit_intercept=True,\n",
              "      max_iter=1000, normalize=False, positive=False, precompute=False,\n",
              "      random_state=None, selection='cyclic', tol=0.0001, warm_start=False)"
            ]
          },
          "metadata": {
            "tags": []
          },
          "execution_count": 30
        }
      ]
    },
    {
      "cell_type": "code",
      "metadata": {
        "colab": {
          "base_uri": "https://localhost:8080/"
        },
        "id": "4cCyoyXXsFuu",
        "outputId": "7f9a933f-b209-48c3-c222-b7a07c2513e3"
      },
      "source": [
        "# Examine r2 score on train set\r\n",
        "lasso_reg.score(x_train, y_train)"
      ],
      "execution_count": 31,
      "outputs": [
        {
          "output_type": "execute_result",
          "data": {
            "text/plain": [
              "0.7646155140362334"
            ]
          },
          "metadata": {
            "tags": []
          },
          "execution_count": 31
        }
      ]
    },
    {
      "cell_type": "code",
      "metadata": {
        "colab": {
          "base_uri": "https://localhost:8080/"
        },
        "id": "hd3m_ybmsM-w",
        "outputId": "30732389-ee47-43c3-b4d2-1d146ae24fc9"
      },
      "source": [
        "# Examine r2 score on validation set\r\n",
        "lasso_reg.score(x_valid, y_valid)"
      ],
      "execution_count": 32,
      "outputs": [
        {
          "output_type": "execute_result",
          "data": {
            "text/plain": [
              "0.7601068092657204"
            ]
          },
          "metadata": {
            "tags": []
          },
          "execution_count": 32
        }
      ]
    },
    {
      "cell_type": "code",
      "metadata": {
        "colab": {
          "base_uri": "https://localhost:8080/"
        },
        "id": "neXx9XiZZoig",
        "outputId": "1dbb0398-a564-4221-ffed-afb5cafc6b56"
      },
      "source": [
        "# MSE Metrics on validation set\r\n",
        "from sklearn.metrics import mean_squared_error\r\n",
        "y_pred = lasso_reg.predict(x_valid)\r\n",
        "print(\"The mean square error of the model is: \" , mean_squared_error(y_valid,y_pred))"
      ],
      "execution_count": 33,
      "outputs": [
        {
          "output_type": "stream",
          "text": [
            "The mean square error of the model is:  0.24225403625568542\n"
          ],
          "name": "stdout"
        }
      ]
    },
    {
      "cell_type": "code",
      "metadata": {
        "colab": {
          "base_uri": "https://localhost:8080/"
        },
        "id": "ZXf8UWEzkD_X",
        "outputId": "5adc3089-d6a1-4cc3-9892-1d4671f28a33"
      },
      "source": [
        "# Applying cross validation\r\n",
        "from sklearn.model_selection import cross_val_score, cross_val_predict\r\n",
        "Rcross = cross_val_score(lasso_reg, x_train, y_train, cv = 3)\r\n",
        "y_pred_cv = cross_val_predict(lasso_reg, x_train,y_train, cv = 3)\r\n",
        "print(Rcross)\r\n",
        "print(Rcross.mean())\r\n",
        "print(Rcross.std())"
      ],
      "execution_count": 34,
      "outputs": [
        {
          "output_type": "stream",
          "text": [
            "[0.75402891 0.76588258 0.77195408]\n",
            "0.7639551884069884\n",
            "0.007443745484419563\n"
          ],
          "name": "stdout"
        }
      ]
    },
    {
      "cell_type": "markdown",
      "metadata": {
        "id": "1keChAiMsjJw"
      },
      "source": [
        "### Ridge Regression"
      ]
    },
    {
      "cell_type": "code",
      "metadata": {
        "colab": {
          "base_uri": "https://localhost:8080/"
        },
        "id": "H_R0WQTdsmMx",
        "outputId": "2b9d25d5-4e06-4132-ce0a-a5d8c2607915"
      },
      "source": [
        "# Using Ridge regression model\r\n",
        "# RidgeCV will return best alpha and coefficients after performing 10 cross validations. \r\n",
        "# We will pass an array of random numbers for ridgeCV to select best alpha from them\r\n",
        "\r\n",
        "alphas = np.random.uniform(low=0, high=10, size=(50,))\r\n",
        "ridgecv = RidgeCV(alphas = alphas,cv=10,normalize = True)\r\n",
        "ridgecv.fit(x_train, y_train)"
      ],
      "execution_count": 35,
      "outputs": [
        {
          "output_type": "execute_result",
          "data": {
            "text/plain": [
              "RidgeCV(alphas=array([3.33507466, 9.24158767, 8.62318547, 0.48690296, 2.53642524,\n",
              "       4.46135513, 1.04627889, 3.48475989, 7.40097526, 6.80514481,\n",
              "       6.22384429, 7.10528403, 2.04923687, 3.41698115, 6.76242482,\n",
              "       8.79234763, 5.43678054, 2.82699651, 0.30235258, 7.10336829,\n",
              "       0.07884104, 3.7267907 , 5.30537215, 9.22111462, 0.89494545,\n",
              "       4.05942322, 0.243132  , 3.42610984, 6.22231059, 2.79067948,\n",
              "       2.0974995 , 1.15703233, 5.77140244, 6.95270006, 6.71957141,\n",
              "       9.48861021, 0.02703214, 6.47196654, 6.00392237, 5.8873961 ,\n",
              "       9.6277032 , 0.16871673, 6.96482431, 8.1367865 , 5.09807197,\n",
              "       3.3396487 , 7.90840163, 0.97242926, 4.42035638, 5.19952375]),\n",
              "        cv=10, fit_intercept=True, gcv_mode=None, normalize=True, scoring=None,\n",
              "        store_cv_values=False)"
            ]
          },
          "metadata": {
            "tags": []
          },
          "execution_count": 35
        }
      ]
    },
    {
      "cell_type": "code",
      "metadata": {
        "colab": {
          "base_uri": "https://localhost:8080/"
        },
        "id": "l1rmQhH-srVx",
        "outputId": "ebea3182-254a-4e83-bbf7-885ba82904bf"
      },
      "source": [
        "ridgecv.alpha_"
      ],
      "execution_count": 36,
      "outputs": [
        {
          "output_type": "execute_result",
          "data": {
            "text/plain": [
              "0.027032138935026984"
            ]
          },
          "metadata": {
            "tags": []
          },
          "execution_count": 36
        }
      ]
    },
    {
      "cell_type": "code",
      "metadata": {
        "colab": {
          "base_uri": "https://localhost:8080/"
        },
        "id": "t5zzYPF3sb4m",
        "outputId": "a1459438-673d-4acb-a35a-f642437a1b73"
      },
      "source": [
        "# Now fit model with best alpha\r\n",
        "ridge_model = Ridge(alpha=ridgecv.alpha_)\r\n",
        "ridge_model.fit(x_train, y_train)"
      ],
      "execution_count": 37,
      "outputs": [
        {
          "output_type": "execute_result",
          "data": {
            "text/plain": [
              "Ridge(alpha=0.027032138935026984, copy_X=True, fit_intercept=True,\n",
              "      max_iter=None, normalize=False, random_state=None, solver='auto',\n",
              "      tol=0.001)"
            ]
          },
          "metadata": {
            "tags": []
          },
          "execution_count": 37
        }
      ]
    },
    {
      "cell_type": "code",
      "metadata": {
        "colab": {
          "base_uri": "https://localhost:8080/"
        },
        "id": "IFVr8R7Ks0lF",
        "outputId": "23c69f76-e57e-4596-cc15-05ca56140ea8"
      },
      "source": [
        "# Test model performance\r\n",
        "ridge_model.score(x_valid, y_valid)"
      ],
      "execution_count": 38,
      "outputs": [
        {
          "output_type": "execute_result",
          "data": {
            "text/plain": [
              "0.7601067858672983"
            ]
          },
          "metadata": {
            "tags": []
          },
          "execution_count": 38
        }
      ]
    },
    {
      "cell_type": "code",
      "metadata": {
        "colab": {
          "base_uri": "https://localhost:8080/"
        },
        "id": "WR820ixFZknd",
        "outputId": "30a3e5b3-8dbb-44ba-cfc5-f80775c74648"
      },
      "source": [
        "# MSE Metrics on validation set\r\n",
        "from sklearn.metrics import mean_squared_error\r\n",
        "y_pred = ridge_model.predict(x_valid)\r\n",
        "print(\"The mean square error of the model is: \" , mean_squared_error(y_valid,y_pred))"
      ],
      "execution_count": 39,
      "outputs": [
        {
          "output_type": "stream",
          "text": [
            "The mean square error of the model is:  0.2422540598843769\n"
          ],
          "name": "stdout"
        }
      ]
    },
    {
      "cell_type": "code",
      "metadata": {
        "colab": {
          "base_uri": "https://localhost:8080/"
        },
        "id": "ZziZe3pzlEsa",
        "outputId": "00a39b6d-7087-40f2-dc1a-33f9d860db94"
      },
      "source": [
        "# Applying cross validation\r\n",
        "from sklearn.model_selection import cross_val_score, cross_val_predict\r\n",
        "Rcross = cross_val_score(ridge_model, x_train, y_train, cv = 3)\r\n",
        "y_pred_cv = cross_val_predict(ridge_model, x_train,y_train, cv = 3)\r\n",
        "print(Rcross)\r\n",
        "print(Rcross.mean())\r\n",
        "print(Rcross.std())"
      ],
      "execution_count": 40,
      "outputs": [
        {
          "output_type": "stream",
          "text": [
            "[0.75402915 0.76588223 0.77195339]\n",
            "0.7639549224618029\n",
            "0.007443364622064358\n"
          ],
          "name": "stdout"
        }
      ]
    },
    {
      "cell_type": "markdown",
      "metadata": {
        "id": "LxszDY_wtB0v"
      },
      "source": [
        "## Elastic net"
      ]
    },
    {
      "cell_type": "code",
      "metadata": {
        "colab": {
          "base_uri": "https://localhost:8080/"
        },
        "id": "j3CsOgD7tD2Y",
        "outputId": "a5642ff0-ef15-4ef9-9f09-060249d45e2e"
      },
      "source": [
        "# Elastic net\r\n",
        "\r\n",
        "elasticCV = ElasticNetCV(alphas = None, cv =10)\r\n",
        "\r\n",
        "elasticCV.fit(x_train, y_train)"
      ],
      "execution_count": 41,
      "outputs": [
        {
          "output_type": "stream",
          "text": [
            "/usr/local/lib/python3.6/dist-packages/sklearn/linear_model/_coordinate_descent.py:1088: DataConversionWarning: A column-vector y was passed when a 1d array was expected. Please change the shape of y to (n_samples, ), for example using ravel().\n",
            "  y = column_or_1d(y, warn=True)\n"
          ],
          "name": "stderr"
        },
        {
          "output_type": "execute_result",
          "data": {
            "text/plain": [
              "ElasticNetCV(alphas=None, copy_X=True, cv=10, eps=0.001, fit_intercept=True,\n",
              "             l1_ratio=0.5, max_iter=1000, n_alphas=100, n_jobs=None,\n",
              "             normalize=False, positive=False, precompute='auto',\n",
              "             random_state=None, selection='cyclic', tol=0.0001, verbose=0)"
            ]
          },
          "metadata": {
            "tags": []
          },
          "execution_count": 41
        }
      ]
    },
    {
      "cell_type": "code",
      "metadata": {
        "colab": {
          "base_uri": "https://localhost:8080/"
        },
        "id": "MYZEM5uLtHxf",
        "outputId": "0fdc2a86-d2fa-4fa0-fba5-2f400e781971"
      },
      "source": [
        "# # l1_ration gives how close the model is to L1 regularization, below value indicates we are giving equal\r\n",
        "#preference to L1 and L2\r\n",
        "print(elasticCV.alpha_)\r\n",
        "print(elasticCV.l1_ratio)"
      ],
      "execution_count": 42,
      "outputs": [
        {
          "output_type": "stream",
          "text": [
            "0.0015428897516320073\n",
            "0.5\n"
          ],
          "name": "stdout"
        }
      ]
    },
    {
      "cell_type": "code",
      "metadata": {
        "colab": {
          "base_uri": "https://localhost:8080/"
        },
        "id": "dK1v0nRFtVBk",
        "outputId": "32de2a05-b1e2-4f0d-f753-e127a8d91450"
      },
      "source": [
        "# Fit elastic net regressor\r\n",
        "elasticnet_reg = ElasticNet(alpha = elasticCV.alpha_,l1_ratio=0.5)\r\n",
        "elasticnet_reg.fit(x_train, y_train)"
      ],
      "execution_count": 43,
      "outputs": [
        {
          "output_type": "execute_result",
          "data": {
            "text/plain": [
              "ElasticNet(alpha=0.0015428897516320073, copy_X=True, fit_intercept=True,\n",
              "           l1_ratio=0.5, max_iter=1000, normalize=False, positive=False,\n",
              "           precompute=False, random_state=None, selection='cyclic', tol=0.0001,\n",
              "           warm_start=False)"
            ]
          },
          "metadata": {
            "tags": []
          },
          "execution_count": 43
        }
      ]
    },
    {
      "cell_type": "code",
      "metadata": {
        "colab": {
          "base_uri": "https://localhost:8080/"
        },
        "id": "Az3bZpsBtatL",
        "outputId": "694e4871-b3f0-4af3-89ee-2369e9a74831"
      },
      "source": [
        "# Examine r2s core\r\n",
        "elasticnet_reg.score(x_valid, y_valid)"
      ],
      "execution_count": 44,
      "outputs": [
        {
          "output_type": "execute_result",
          "data": {
            "text/plain": [
              "0.7601041276013413"
            ]
          },
          "metadata": {
            "tags": []
          },
          "execution_count": 44
        }
      ]
    },
    {
      "cell_type": "code",
      "metadata": {
        "colab": {
          "base_uri": "https://localhost:8080/"
        },
        "id": "c5nXj_x_Zf_D",
        "outputId": "3e8d6a68-140f-4b4f-ee74-c30807a6f796"
      },
      "source": [
        "# MSE Metrics on validation set\r\n",
        "from sklearn.metrics import mean_squared_error\r\n",
        "y_pred = elasticnet_reg.predict(x_valid)\r\n",
        "print(\"The mean square error of the model is: \" , mean_squared_error(y_valid,y_pred))"
      ],
      "execution_count": 45,
      "outputs": [
        {
          "output_type": "stream",
          "text": [
            "The mean square error of the model is:  0.24225674431095676\n"
          ],
          "name": "stdout"
        }
      ]
    },
    {
      "cell_type": "code",
      "metadata": {
        "colab": {
          "base_uri": "https://localhost:8080/"
        },
        "id": "Fpx1zlYVk_OR",
        "outputId": "3ef1de12-3b00-41f0-f40a-f9b080a663d2"
      },
      "source": [
        "# Applying cross validation\r\n",
        "from sklearn.model_selection import cross_val_score, cross_val_predict\r\n",
        "Rcross = cross_val_score(elasticnet_reg, x_train, y_train, cv = 3)\r\n",
        "y_pred_cv = cross_val_predict(elasticnet_reg, x_train,y_train, cv = 3)\r\n",
        "print(Rcross)\r\n",
        "print(Rcross.mean())\r\n",
        "print(Rcross.std())"
      ],
      "execution_count": 46,
      "outputs": [
        {
          "output_type": "stream",
          "text": [
            "[0.75399012 0.76589547 0.77206108]\n",
            "0.7639822224223193\n",
            "0.007500456431587416\n"
          ],
          "name": "stdout"
        }
      ]
    },
    {
      "cell_type": "markdown",
      "metadata": {
        "id": "Y99sEEc2tkVZ"
      },
      "source": [
        "## Polynomial Regression"
      ]
    },
    {
      "cell_type": "code",
      "metadata": {
        "colab": {
          "base_uri": "https://localhost:8080/"
        },
        "id": "ZMGby0IwtnC_",
        "outputId": "3258e0e2-1339-4564-e149-784edca14331"
      },
      "source": [
        "# Fitting Polynomial Regression to the dataset\r\n",
        "from sklearn.preprocessing import PolynomialFeatures\r\n",
        "poly_reg = PolynomialFeatures(degree = 2)  #trying to create a 2 degree polynomial equation. It simply squares the x as shown in the output\r\n",
        "X_poly_train = poly_reg.fit_transform(x_train)\r\n",
        "X_poly_valid = poly_reg.transform(x_valid)\r\n",
        "print(X_poly_train)\r\n"
      ],
      "execution_count": 47,
      "outputs": [
        {
          "output_type": "stream",
          "text": [
            "[[ 1.          5.53333137 -1.73192784 ...  0.00704762  0.01500027\n",
            "   0.03192682]\n",
            " [ 1.         -0.13850424 -0.24099552 ...  0.00704762  0.01500027\n",
            "   0.03192682]\n",
            " [ 1.         -0.0869421  -0.11675116 ...  0.00704762  0.0372159\n",
            "   0.19652344]\n",
            " ...\n",
            " [ 1.         -0.42577903  1.49842551 ...  0.00704762  0.0372159\n",
            "   0.19652344]\n",
            " [ 1.         -0.35948485  0.50447064 ...  0.00704762  0.0372159\n",
            "   0.19652344]\n",
            " [ 1.         -1.34653157 -2.22890528 ...  5.80196682  1.06781199\n",
            "   0.19652344]]\n"
          ],
          "name": "stdout"
        }
      ]
    },
    {
      "cell_type": "code",
      "metadata": {
        "colab": {
          "base_uri": "https://localhost:8080/"
        },
        "id": "Lo8IogBotyVg",
        "outputId": "cc68029b-4769-4e46-9c0d-ca25597f3639"
      },
      "source": [
        "# Train polynomial regression model or order = 2\r\n",
        "# doing the actual polynomial Regression\r\n",
        "# doing the actual polynomial Regression\r\n",
        "lin_reg_2 = LinearRegression()\r\n",
        "lin_reg_2.fit(X_poly_train, y_train)"
      ],
      "execution_count": 48,
      "outputs": [
        {
          "output_type": "execute_result",
          "data": {
            "text/plain": [
              "LinearRegression(copy_X=True, fit_intercept=True, n_jobs=None, normalize=False)"
            ]
          },
          "metadata": {
            "tags": []
          },
          "execution_count": 48
        }
      ]
    },
    {
      "cell_type": "code",
      "metadata": {
        "colab": {
          "base_uri": "https://localhost:8080/"
        },
        "id": "76B8mPvJuzZP",
        "outputId": "fc4e895c-db41-4951-8a5f-3f215547506f"
      },
      "source": [
        "# Examine r2 score on train set\r\n",
        "lin_reg_2.score(X_poly_train, y_train)"
      ],
      "execution_count": 49,
      "outputs": [
        {
          "output_type": "execute_result",
          "data": {
            "text/plain": [
              "0.8819282085084448"
            ]
          },
          "metadata": {
            "tags": []
          },
          "execution_count": 49
        }
      ]
    },
    {
      "cell_type": "code",
      "metadata": {
        "colab": {
          "base_uri": "https://localhost:8080/"
        },
        "id": "GBnfckTHvGKo",
        "outputId": "f963386e-c8a3-48d7-d5df-4ca10761413c"
      },
      "source": [
        "# Examine r2 score on validation set\r\n",
        "lin_reg_2.score(X_poly_valid, y_valid)"
      ],
      "execution_count": 50,
      "outputs": [
        {
          "output_type": "execute_result",
          "data": {
            "text/plain": [
              "-1.3272365697765272e+16"
            ]
          },
          "metadata": {
            "tags": []
          },
          "execution_count": 50
        }
      ]
    },
    {
      "cell_type": "code",
      "metadata": {
        "colab": {
          "base_uri": "https://localhost:8080/"
        },
        "id": "Lvjf36tpZYi-",
        "outputId": "76508c21-c992-465e-adfc-d60aff28b911"
      },
      "source": [
        "# MSE Metrics on validation set\r\n",
        "from sklearn.metrics import mean_squared_error\r\n",
        "y_pred = lin_reg_2.predict(X_poly_valid)\r\n",
        "print(\"The mean square error of the model is: \" , mean_squared_error(y_valid,y_pred))"
      ],
      "execution_count": 51,
      "outputs": [
        {
          "output_type": "stream",
          "text": [
            "The mean square error of the model is:  1.3402982181793518e+16\n"
          ],
          "name": "stdout"
        }
      ]
    },
    {
      "cell_type": "markdown",
      "metadata": {
        "id": "AS09vbp3SzC9"
      },
      "source": [
        "## Support Vector Regression"
      ]
    },
    {
      "cell_type": "code",
      "metadata": {
        "colab": {
          "base_uri": "https://localhost:8080/"
        },
        "id": "gpJIadXPSRTR",
        "outputId": "73acef13-3a8b-4f3c-ffc7-364c3b32b087"
      },
      "source": [
        "# Training the SVR model on the whole dataset\r\n",
        "from sklearn.svm import SVR\r\n",
        "regressor = SVR(kernel = 'rbf')\r\n",
        "regressor.fit(x_train, y_train)"
      ],
      "execution_count": 52,
      "outputs": [
        {
          "output_type": "stream",
          "text": [
            "/usr/local/lib/python3.6/dist-packages/sklearn/utils/validation.py:760: DataConversionWarning: A column-vector y was passed when a 1d array was expected. Please change the shape of y to (n_samples, ), for example using ravel().\n",
            "  y = column_or_1d(y, warn=True)\n"
          ],
          "name": "stderr"
        },
        {
          "output_type": "execute_result",
          "data": {
            "text/plain": [
              "SVR(C=1.0, cache_size=200, coef0=0.0, degree=3, epsilon=0.1, gamma='scale',\n",
              "    kernel='rbf', max_iter=-1, shrinking=True, tol=0.001, verbose=False)"
            ]
          },
          "metadata": {
            "tags": []
          },
          "execution_count": 52
        }
      ]
    },
    {
      "cell_type": "code",
      "metadata": {
        "colab": {
          "base_uri": "https://localhost:8080/"
        },
        "id": "NbTu-0VbTSE6",
        "outputId": "e43b0d5c-45fb-4e82-ccc0-d2987929d930"
      },
      "source": [
        "# Examine r2 score on train set\r\n",
        "regressor.score(x_train, y_train)"
      ],
      "execution_count": 53,
      "outputs": [
        {
          "output_type": "execute_result",
          "data": {
            "text/plain": [
              "0.9105967211429553"
            ]
          },
          "metadata": {
            "tags": []
          },
          "execution_count": 53
        }
      ]
    },
    {
      "cell_type": "code",
      "metadata": {
        "colab": {
          "base_uri": "https://localhost:8080/"
        },
        "id": "mweYu3O_Tivx",
        "outputId": "53422b73-35eb-45e7-f276-e8c112775e83"
      },
      "source": [
        "# Examine r2 score on test set\r\n",
        "regressor.score(x_valid, y_valid)"
      ],
      "execution_count": 54,
      "outputs": [
        {
          "output_type": "execute_result",
          "data": {
            "text/plain": [
              "0.8854766205300444"
            ]
          },
          "metadata": {
            "tags": []
          },
          "execution_count": 54
        }
      ]
    },
    {
      "cell_type": "code",
      "metadata": {
        "id": "id_g0uMoUO0T"
      },
      "source": [
        "# Let's create a function to create adjusted R-Squared\r\n",
        "def adj_r2_new(x,y,model):\r\n",
        "    r2 = model.score(x,y)\r\n",
        "    n = x.shape[0]\r\n",
        "    p = x.shape[1]\r\n",
        "    adjusted_r2 = 1-(1-r2)*(n-1)/(n-p-1)\r\n",
        "    return adjusted_r2"
      ],
      "execution_count": 55,
      "outputs": []
    },
    {
      "cell_type": "code",
      "metadata": {
        "colab": {
          "base_uri": "https://localhost:8080/"
        },
        "id": "3HG2lLYDTyZj",
        "outputId": "dcb350f2-c972-4781-ace7-a37ca58d54d2"
      },
      "source": [
        "# check adjusted r2 on validation set\r\n",
        "adj_r2_new(x_valid,y_valid,regressor)"
      ],
      "execution_count": 56,
      "outputs": [
        {
          "output_type": "execute_result",
          "data": {
            "text/plain": [
              "0.8850289721412368"
            ]
          },
          "metadata": {
            "tags": []
          },
          "execution_count": 56
        }
      ]
    },
    {
      "cell_type": "code",
      "metadata": {
        "colab": {
          "base_uri": "https://localhost:8080/"
        },
        "id": "ZVxEJEj-ZVzz",
        "outputId": "a356738c-3ebc-458e-e4e8-4c90a33fa64b"
      },
      "source": [
        "# MSE Metrics on validation set\r\n",
        "from sklearn.metrics import mean_squared_error\r\n",
        "y_pred = regressor.predict(x_valid)\r\n",
        "print(\"The mean square error of the model is: \" , mean_squared_error(y_valid,y_pred))"
      ],
      "execution_count": 57,
      "outputs": [
        {
          "output_type": "stream",
          "text": [
            "The mean square error of the model is:  0.11565043108276021\n"
          ],
          "name": "stdout"
        }
      ]
    },
    {
      "cell_type": "code",
      "metadata": {
        "colab": {
          "base_uri": "https://localhost:8080/"
        },
        "id": "eZMhFmFNksHY",
        "outputId": "713111a3-9613-42ae-aa49-ffde2f407dde"
      },
      "source": [
        "# Applying cross validation\r\n",
        "from sklearn.model_selection import cross_val_score, cross_val_predict\r\n",
        "Rcross = cross_val_score(regressor, x_train, y_train, cv = 3)\r\n",
        "y_pred_cv = cross_val_predict(regressor, x_train,y_train, cv = 3)\r\n",
        "print(Rcross)\r\n",
        "print(Rcross.mean())\r\n",
        "print(Rcross.std())"
      ],
      "execution_count": 58,
      "outputs": [
        {
          "output_type": "stream",
          "text": [
            "/usr/local/lib/python3.6/dist-packages/sklearn/utils/validation.py:760: DataConversionWarning: A column-vector y was passed when a 1d array was expected. Please change the shape of y to (n_samples, ), for example using ravel().\n",
            "  y = column_or_1d(y, warn=True)\n",
            "/usr/local/lib/python3.6/dist-packages/sklearn/utils/validation.py:760: DataConversionWarning: A column-vector y was passed when a 1d array was expected. Please change the shape of y to (n_samples, ), for example using ravel().\n",
            "  y = column_or_1d(y, warn=True)\n",
            "/usr/local/lib/python3.6/dist-packages/sklearn/utils/validation.py:760: DataConversionWarning: A column-vector y was passed when a 1d array was expected. Please change the shape of y to (n_samples, ), for example using ravel().\n",
            "  y = column_or_1d(y, warn=True)\n",
            "/usr/local/lib/python3.6/dist-packages/sklearn/utils/validation.py:760: DataConversionWarning: A column-vector y was passed when a 1d array was expected. Please change the shape of y to (n_samples, ), for example using ravel().\n",
            "  y = column_or_1d(y, warn=True)\n",
            "/usr/local/lib/python3.6/dist-packages/sklearn/utils/validation.py:760: DataConversionWarning: A column-vector y was passed when a 1d array was expected. Please change the shape of y to (n_samples, ), for example using ravel().\n",
            "  y = column_or_1d(y, warn=True)\n",
            "/usr/local/lib/python3.6/dist-packages/sklearn/utils/validation.py:760: DataConversionWarning: A column-vector y was passed when a 1d array was expected. Please change the shape of y to (n_samples, ), for example using ravel().\n",
            "  y = column_or_1d(y, warn=True)\n"
          ],
          "name": "stderr"
        },
        {
          "output_type": "stream",
          "text": [
            "[0.88024507 0.88504527 0.8836873 ]\n",
            "0.8829925459794175\n",
            "0.002020312620476722\n"
          ],
          "name": "stdout"
        }
      ]
    },
    {
      "cell_type": "markdown",
      "metadata": {
        "id": "Ira7r66aUiNG"
      },
      "source": [
        "## Decision Tree Regression"
      ]
    },
    {
      "cell_type": "code",
      "metadata": {
        "colab": {
          "base_uri": "https://localhost:8080/"
        },
        "id": "qcgcWF0aU0vR",
        "outputId": "f0e7d2f2-204a-4ad9-dcb5-c2cd0ed6d830"
      },
      "source": [
        "# Training the Decision Tree Regression model on the whole dataset\r\n",
        "from sklearn.tree import DecisionTreeRegressor\r\n",
        "regressor = DecisionTreeRegressor(random_state = 0)\r\n",
        "regressor.fit(x_train, y_train)"
      ],
      "execution_count": 59,
      "outputs": [
        {
          "output_type": "execute_result",
          "data": {
            "text/plain": [
              "DecisionTreeRegressor(ccp_alpha=0.0, criterion='mse', max_depth=None,\n",
              "                      max_features=None, max_leaf_nodes=None,\n",
              "                      min_impurity_decrease=0.0, min_impurity_split=None,\n",
              "                      min_samples_leaf=1, min_samples_split=2,\n",
              "                      min_weight_fraction_leaf=0.0, presort='deprecated',\n",
              "                      random_state=0, splitter='best')"
            ]
          },
          "metadata": {
            "tags": []
          },
          "execution_count": 59
        }
      ]
    },
    {
      "cell_type": "code",
      "metadata": {
        "colab": {
          "base_uri": "https://localhost:8080/"
        },
        "id": "QzhHy2rfU64B",
        "outputId": "26dfdda3-65e0-47b1-821a-831e5c40c069"
      },
      "source": [
        "# Examine r2 score on train set\r\n",
        "regressor.score(x_train, y_train)"
      ],
      "execution_count": 60,
      "outputs": [
        {
          "output_type": "execute_result",
          "data": {
            "text/plain": [
              "0.999525975207098"
            ]
          },
          "metadata": {
            "tags": []
          },
          "execution_count": 60
        }
      ]
    },
    {
      "cell_type": "code",
      "metadata": {
        "colab": {
          "base_uri": "https://localhost:8080/"
        },
        "id": "uK2qQoaPVAbZ",
        "outputId": "722408da-1b92-428b-b7b5-e086f25e2b69"
      },
      "source": [
        "# Examine r2 score on validtion set\r\n",
        "regressor.score(x_valid, y_valid)"
      ],
      "execution_count": 61,
      "outputs": [
        {
          "output_type": "execute_result",
          "data": {
            "text/plain": [
              "0.8563294654458531"
            ]
          },
          "metadata": {
            "tags": []
          },
          "execution_count": 61
        }
      ]
    },
    {
      "cell_type": "code",
      "metadata": {
        "colab": {
          "base_uri": "https://localhost:8080/"
        },
        "id": "gMuDAioFVGDY",
        "outputId": "7a23b2bf-3465-4123-9e94-1a31c65d1d70"
      },
      "source": [
        "# check adjusted r2 on validation set\r\n",
        "adj_r2_new(x_valid,y_valid,regressor)"
      ],
      "execution_count": 62,
      "outputs": [
        {
          "output_type": "execute_result",
          "data": {
            "text/plain": [
              "0.8557678868091594"
            ]
          },
          "metadata": {
            "tags": []
          },
          "execution_count": 62
        }
      ]
    },
    {
      "cell_type": "code",
      "metadata": {
        "colab": {
          "base_uri": "https://localhost:8080/"
        },
        "id": "sS1IlTDhZSqr",
        "outputId": "a4b632c7-7f40-4b55-8916-daf655b8724f"
      },
      "source": [
        "# MSE Metrics on validation set\r\n",
        "from sklearn.metrics import mean_squared_error\r\n",
        "y_pred = regressor.predict(x_valid)\r\n",
        "print(\"The mean square error of the model is: \" , mean_squared_error(y_valid,y_pred))"
      ],
      "execution_count": 63,
      "outputs": [
        {
          "output_type": "stream",
          "text": [
            "The mean square error of the model is:  0.14508443020088\n"
          ],
          "name": "stdout"
        }
      ]
    },
    {
      "cell_type": "code",
      "metadata": {
        "colab": {
          "base_uri": "https://localhost:8080/"
        },
        "id": "_Ut3b9kjkmiG",
        "outputId": "ecd0982d-3c79-447f-d25c-b8655c2cee91"
      },
      "source": [
        "# Applying cross validation\r\n",
        "from sklearn.model_selection import cross_val_score, cross_val_predict\r\n",
        "Rcross = cross_val_score(regressor, x_train, y_train, cv = 3)\r\n",
        "y_pred_cv = cross_val_predict(regressor, x_train,y_train, cv = 3)\r\n",
        "print(Rcross)\r\n",
        "print(Rcross.mean())\r\n",
        "print(Rcross.std())"
      ],
      "execution_count": 64,
      "outputs": [
        {
          "output_type": "stream",
          "text": [
            "[0.84077195 0.83470158 0.82249907]\n",
            "0.8326575345290407\n",
            "0.007598600861647807\n"
          ],
          "name": "stdout"
        }
      ]
    },
    {
      "cell_type": "markdown",
      "metadata": {
        "id": "3_D8Bt04VLHq"
      },
      "source": [
        "## Random Forest Regression"
      ]
    },
    {
      "cell_type": "code",
      "metadata": {
        "colab": {
          "base_uri": "https://localhost:8080/"
        },
        "id": "Q4PyNKOcVSdT",
        "outputId": "3dd9f774-53f0-4191-ad2b-03ccc125d728"
      },
      "source": [
        "# Training the Random Forest Regression model on the whole dataset\r\n",
        "from sklearn.ensemble import RandomForestRegressor\r\n",
        "regressor = RandomForestRegressor(n_estimators = 10, random_state = 0)\r\n",
        "regressor.fit(x_train, y_train)"
      ],
      "execution_count": 65,
      "outputs": [
        {
          "output_type": "stream",
          "text": [
            "/usr/local/lib/python3.6/dist-packages/ipykernel_launcher.py:4: DataConversionWarning: A column-vector y was passed when a 1d array was expected. Please change the shape of y to (n_samples,), for example using ravel().\n",
            "  after removing the cwd from sys.path.\n"
          ],
          "name": "stderr"
        },
        {
          "output_type": "execute_result",
          "data": {
            "text/plain": [
              "RandomForestRegressor(bootstrap=True, ccp_alpha=0.0, criterion='mse',\n",
              "                      max_depth=None, max_features='auto', max_leaf_nodes=None,\n",
              "                      max_samples=None, min_impurity_decrease=0.0,\n",
              "                      min_impurity_split=None, min_samples_leaf=1,\n",
              "                      min_samples_split=2, min_weight_fraction_leaf=0.0,\n",
              "                      n_estimators=10, n_jobs=None, oob_score=False,\n",
              "                      random_state=0, verbose=0, warm_start=False)"
            ]
          },
          "metadata": {
            "tags": []
          },
          "execution_count": 65
        }
      ]
    },
    {
      "cell_type": "code",
      "metadata": {
        "colab": {
          "base_uri": "https://localhost:8080/"
        },
        "id": "ouhYeS8RVcQ6",
        "outputId": "672fadda-827b-4278-e84b-abbac94e26cb"
      },
      "source": [
        "# Examine r2 score on train set\r\n",
        "regressor.score(x_train, y_train)"
      ],
      "execution_count": 66,
      "outputs": [
        {
          "output_type": "execute_result",
          "data": {
            "text/plain": [
              "0.9838873651494843"
            ]
          },
          "metadata": {
            "tags": []
          },
          "execution_count": 66
        }
      ]
    },
    {
      "cell_type": "code",
      "metadata": {
        "colab": {
          "base_uri": "https://localhost:8080/"
        },
        "id": "YGY8v8y0VhYM",
        "outputId": "bf48af10-0c17-490e-88a0-7d1153dc08e0"
      },
      "source": [
        "# Examine r2 score on test set\r\n",
        "regressor.score(x_valid, y_valid)"
      ],
      "execution_count": 67,
      "outputs": [
        {
          "output_type": "execute_result",
          "data": {
            "text/plain": [
              "0.9154734608064039"
            ]
          },
          "metadata": {
            "tags": []
          },
          "execution_count": 67
        }
      ]
    },
    {
      "cell_type": "code",
      "metadata": {
        "colab": {
          "base_uri": "https://localhost:8080/"
        },
        "id": "OcABmv5ZVmN6",
        "outputId": "887b9dfd-3254-4cb0-a6ef-6ea578b99224"
      },
      "source": [
        "# check adjusted r2 on validation set\r\n",
        "adj_r2_new(x_valid,y_valid,regressor)"
      ],
      "execution_count": 68,
      "outputs": [
        {
          "output_type": "execute_result",
          "data": {
            "text/plain": [
              "0.9151430639105331"
            ]
          },
          "metadata": {
            "tags": []
          },
          "execution_count": 68
        }
      ]
    },
    {
      "cell_type": "code",
      "metadata": {
        "colab": {
          "base_uri": "https://localhost:8080/"
        },
        "id": "XCFFM-uLZOtA",
        "outputId": "50dbec05-ef0b-4a54-965b-6f3850886806"
      },
      "source": [
        "# MSE Metrics on validation set\r\n",
        "from sklearn.metrics import mean_squared_error\r\n",
        "y_pred = regressor.predict(x_valid)\r\n",
        "print(\"The mean square error of the model is: \" , mean_squared_error(y_valid,y_pred))"
      ],
      "execution_count": 69,
      "outputs": [
        {
          "output_type": "stream",
          "text": [
            "The mean square error of the model is:  0.08535838481991141\n"
          ],
          "name": "stdout"
        }
      ]
    },
    {
      "cell_type": "code",
      "metadata": {
        "colab": {
          "base_uri": "https://localhost:8080/"
        },
        "id": "rE_PeshukiAx",
        "outputId": "d0e5e3b7-f7f7-492e-e710-2883c337d66a"
      },
      "source": [
        "# Applying cross validation\r\n",
        "from sklearn.model_selection import cross_val_score, cross_val_predict\r\n",
        "Rcross = cross_val_score(regressor, x_train, y_train, cv = 3)\r\n",
        "y_pred_cv = cross_val_predict(regressor, x_train,y_train, cv = 3)\r\n",
        "print(Rcross)\r\n",
        "print(Rcross.mean())\r\n",
        "print(Rcross.std())"
      ],
      "execution_count": 70,
      "outputs": [
        {
          "output_type": "stream",
          "text": [
            "/usr/local/lib/python3.6/dist-packages/sklearn/model_selection/_validation.py:515: DataConversionWarning: A column-vector y was passed when a 1d array was expected. Please change the shape of y to (n_samples,), for example using ravel().\n",
            "  estimator.fit(X_train, y_train, **fit_params)\n",
            "/usr/local/lib/python3.6/dist-packages/sklearn/model_selection/_validation.py:515: DataConversionWarning: A column-vector y was passed when a 1d array was expected. Please change the shape of y to (n_samples,), for example using ravel().\n",
            "  estimator.fit(X_train, y_train, **fit_params)\n",
            "/usr/local/lib/python3.6/dist-packages/sklearn/model_selection/_validation.py:515: DataConversionWarning: A column-vector y was passed when a 1d array was expected. Please change the shape of y to (n_samples,), for example using ravel().\n",
            "  estimator.fit(X_train, y_train, **fit_params)\n",
            "/usr/local/lib/python3.6/dist-packages/sklearn/model_selection/_validation.py:841: DataConversionWarning: A column-vector y was passed when a 1d array was expected. Please change the shape of y to (n_samples,), for example using ravel().\n",
            "  estimator.fit(X_train, y_train, **fit_params)\n",
            "/usr/local/lib/python3.6/dist-packages/sklearn/model_selection/_validation.py:841: DataConversionWarning: A column-vector y was passed when a 1d array was expected. Please change the shape of y to (n_samples,), for example using ravel().\n",
            "  estimator.fit(X_train, y_train, **fit_params)\n",
            "/usr/local/lib/python3.6/dist-packages/sklearn/model_selection/_validation.py:841: DataConversionWarning: A column-vector y was passed when a 1d array was expected. Please change the shape of y to (n_samples,), for example using ravel().\n",
            "  estimator.fit(X_train, y_train, **fit_params)\n"
          ],
          "name": "stderr"
        },
        {
          "output_type": "stream",
          "text": [
            "[0.90719103 0.90435839 0.90476579]\n",
            "0.9054384029855256\n",
            "0.0012504041149931982\n"
          ],
          "name": "stdout"
        }
      ]
    },
    {
      "cell_type": "markdown",
      "metadata": {
        "id": "FKdrJFTZVvy4"
      },
      "source": [
        "## XGBoost Regression"
      ]
    },
    {
      "cell_type": "code",
      "metadata": {
        "colab": {
          "base_uri": "https://localhost:8080/"
        },
        "id": "IUa1b1n0V2QF",
        "outputId": "bffd78ed-edd2-4545-814c-58d26779924b"
      },
      "source": [
        "# Training XGBoost on the Training set\r\n",
        "import xgboost\r\n",
        "from xgboost import XGBRegressor\r\n",
        "regressor2 = XGBRegressor()\r\n",
        "regressor2.fit(x_train, y_train)"
      ],
      "execution_count": 71,
      "outputs": [
        {
          "output_type": "stream",
          "text": [
            "[16:16:23] WARNING: /workspace/src/objective/regression_obj.cu:152: reg:linear is now deprecated in favor of reg:squarederror.\n"
          ],
          "name": "stdout"
        },
        {
          "output_type": "execute_result",
          "data": {
            "text/plain": [
              "XGBRegressor(base_score=0.5, booster='gbtree', colsample_bylevel=1,\n",
              "             colsample_bynode=1, colsample_bytree=1, gamma=0,\n",
              "             importance_type='gain', learning_rate=0.1, max_delta_step=0,\n",
              "             max_depth=3, min_child_weight=1, missing=None, n_estimators=100,\n",
              "             n_jobs=1, nthread=None, objective='reg:linear', random_state=0,\n",
              "             reg_alpha=0, reg_lambda=1, scale_pos_weight=1, seed=None,\n",
              "             silent=None, subsample=1, verbosity=1)"
            ]
          },
          "metadata": {
            "tags": []
          },
          "execution_count": 71
        }
      ]
    },
    {
      "cell_type": "code",
      "metadata": {
        "colab": {
          "base_uri": "https://localhost:8080/"
        },
        "id": "W0OoPLfAWXCp",
        "outputId": "0eb99e20-c02c-4ba2-a266-26bf4ce11271"
      },
      "source": [
        "# Examine r2 score on train set\r\n",
        "regressor2.score(x_train, y_train)"
      ],
      "execution_count": 72,
      "outputs": [
        {
          "output_type": "execute_result",
          "data": {
            "text/plain": [
              "0.910243257321586"
            ]
          },
          "metadata": {
            "tags": []
          },
          "execution_count": 72
        }
      ]
    },
    {
      "cell_type": "code",
      "metadata": {
        "colab": {
          "base_uri": "https://localhost:8080/"
        },
        "id": "yQrIrZzJWcrG",
        "outputId": "c4c7b125-077e-4d62-8a83-61ac63787d76"
      },
      "source": [
        "# Examine r2 score on test set\r\n",
        "regressor2.score(x_valid, y_valid)"
      ],
      "execution_count": 73,
      "outputs": [
        {
          "output_type": "execute_result",
          "data": {
            "text/plain": [
              "0.9040586672211857"
            ]
          },
          "metadata": {
            "tags": []
          },
          "execution_count": 73
        }
      ]
    },
    {
      "cell_type": "code",
      "metadata": {
        "colab": {
          "base_uri": "https://localhost:8080/"
        },
        "id": "GV_RZBTQWjvO",
        "outputId": "5ff082bf-36b0-462c-a148-1c210349cdec"
      },
      "source": [
        "# check adjusted r2 on validation set\r\n",
        "adj_r2_new(x_valid,y_valid,regressor2)"
      ],
      "execution_count": 74,
      "outputs": [
        {
          "output_type": "execute_result",
          "data": {
            "text/plain": [
              "0.9036836522396399"
            ]
          },
          "metadata": {
            "tags": []
          },
          "execution_count": 74
        }
      ]
    },
    {
      "cell_type": "code",
      "metadata": {
        "colab": {
          "base_uri": "https://localhost:8080/"
        },
        "id": "EFsZsTGJZCsY",
        "outputId": "43240e3d-5432-45d7-e895-6af2ffaa7bd3"
      },
      "source": [
        "# MSE Metrics on validation set\r\n",
        "from sklearn.metrics import mean_squared_error\r\n",
        "y_pred = regressor2.predict(x_valid)\r\n",
        "print(\"The mean square error of the model is: \" , mean_squared_error(y_valid,y_pred))"
      ],
      "execution_count": 75,
      "outputs": [
        {
          "output_type": "stream",
          "text": [
            "The mean square error of the model is:  0.0968855140834828\n"
          ],
          "name": "stdout"
        }
      ]
    },
    {
      "cell_type": "code",
      "metadata": {
        "colab": {
          "base_uri": "https://localhost:8080/"
        },
        "id": "ennAyrg2kbdh",
        "outputId": "8624c963-3a63-4606-9d11-df4276672955"
      },
      "source": [
        "# Applying cross validation\r\n",
        "from sklearn.model_selection import cross_val_score, cross_val_predict\r\n",
        "Rcross = cross_val_score(regressor2, x_train, y_train, cv = 3)\r\n",
        "y_pred_cv = cross_val_predict(regressor2, x_train,y_train, cv = 3)\r\n",
        "print(Rcross)\r\n",
        "print(Rcross.mean())\r\n",
        "print(Rcross.std())"
      ],
      "execution_count": 76,
      "outputs": [
        {
          "output_type": "stream",
          "text": [
            "[16:16:25] WARNING: /workspace/src/objective/regression_obj.cu:152: reg:linear is now deprecated in favor of reg:squarederror.\n",
            "[16:16:26] WARNING: /workspace/src/objective/regression_obj.cu:152: reg:linear is now deprecated in favor of reg:squarederror.\n",
            "[16:16:27] WARNING: /workspace/src/objective/regression_obj.cu:152: reg:linear is now deprecated in favor of reg:squarederror.\n",
            "[16:16:29] WARNING: /workspace/src/objective/regression_obj.cu:152: reg:linear is now deprecated in favor of reg:squarederror.\n",
            "[16:16:30] WARNING: /workspace/src/objective/regression_obj.cu:152: reg:linear is now deprecated in favor of reg:squarederror.\n",
            "[16:16:31] WARNING: /workspace/src/objective/regression_obj.cu:152: reg:linear is now deprecated in favor of reg:squarederror.\n",
            "[0.90196681 0.89902986 0.90171092]\n",
            "0.9009025294083468\n",
            "0.0013282913618474115\n"
          ],
          "name": "stdout"
        }
      ]
    },
    {
      "cell_type": "markdown",
      "metadata": {
        "id": "RywAZC42Wo0K"
      },
      "source": [
        "## CatBoost Regression"
      ]
    },
    {
      "cell_type": "code",
      "metadata": {
        "colab": {
          "base_uri": "https://localhost:8080/"
        },
        "id": "fbXnJxxiWukP",
        "outputId": "fb464ae0-19f1-4948-819e-872ac6ce6f79"
      },
      "source": [
        "!pip install catboost\r\n"
      ],
      "execution_count": 77,
      "outputs": [
        {
          "output_type": "stream",
          "text": [
            "Collecting catboost\n",
            "\u001b[?25l  Downloading https://files.pythonhosted.org/packages/20/37/bc4e0ddc30c07a96482abf1de7ed1ca54e59bba2026a33bca6d2ef286e5b/catboost-0.24.4-cp36-none-manylinux1_x86_64.whl (65.7MB)\n",
            "\u001b[K     |████████████████████████████████| 65.8MB 71kB/s \n",
            "\u001b[?25hRequirement already satisfied: pandas>=0.24.0 in /usr/local/lib/python3.6/dist-packages (from catboost) (1.1.5)\n",
            "Requirement already satisfied: scipy in /usr/local/lib/python3.6/dist-packages (from catboost) (1.4.1)\n",
            "Requirement already satisfied: six in /usr/local/lib/python3.6/dist-packages (from catboost) (1.15.0)\n",
            "Requirement already satisfied: plotly in /usr/local/lib/python3.6/dist-packages (from catboost) (4.4.1)\n",
            "Requirement already satisfied: graphviz in /usr/local/lib/python3.6/dist-packages (from catboost) (0.10.1)\n",
            "Requirement already satisfied: numpy>=1.16.0 in /usr/local/lib/python3.6/dist-packages (from catboost) (1.19.5)\n",
            "Requirement already satisfied: matplotlib in /usr/local/lib/python3.6/dist-packages (from catboost) (3.2.2)\n",
            "Requirement already satisfied: pytz>=2017.2 in /usr/local/lib/python3.6/dist-packages (from pandas>=0.24.0->catboost) (2018.9)\n",
            "Requirement already satisfied: python-dateutil>=2.7.3 in /usr/local/lib/python3.6/dist-packages (from pandas>=0.24.0->catboost) (2.8.1)\n",
            "Requirement already satisfied: retrying>=1.3.3 in /usr/local/lib/python3.6/dist-packages (from plotly->catboost) (1.3.3)\n",
            "Requirement already satisfied: cycler>=0.10 in /usr/local/lib/python3.6/dist-packages (from matplotlib->catboost) (0.10.0)\n",
            "Requirement already satisfied: kiwisolver>=1.0.1 in /usr/local/lib/python3.6/dist-packages (from matplotlib->catboost) (1.3.1)\n",
            "Requirement already satisfied: pyparsing!=2.0.4,!=2.1.2,!=2.1.6,>=2.0.1 in /usr/local/lib/python3.6/dist-packages (from matplotlib->catboost) (2.4.7)\n",
            "Installing collected packages: catboost\n",
            "Successfully installed catboost-0.24.4\n"
          ],
          "name": "stdout"
        }
      ]
    },
    {
      "cell_type": "code",
      "metadata": {
        "colab": {
          "base_uri": "https://localhost:8080/"
        },
        "id": "N7yqYGngXFl7",
        "outputId": "2d875199-a479-4d73-8f8a-e46dc838b9c8"
      },
      "source": [
        "# Training CatBoost model on the Training set\r\n",
        "import catboost\r\n",
        "from catboost import  CatBoostRegressor\r\n",
        "regressor3 = CatBoostRegressor()\r\n",
        "regressor3.fit(x_train, y_train)"
      ],
      "execution_count": 78,
      "outputs": [
        {
          "output_type": "stream",
          "text": [
            "Learning rate set to 0.069051\n",
            "0:\tlearn: 0.9478121\ttotal: 53.8ms\tremaining: 53.7s\n",
            "1:\tlearn: 0.8991392\ttotal: 60.1ms\tremaining: 30s\n",
            "2:\tlearn: 0.8570120\ttotal: 65.9ms\tremaining: 21.9s\n",
            "3:\tlearn: 0.8137146\ttotal: 72ms\tremaining: 17.9s\n",
            "4:\tlearn: 0.7751705\ttotal: 77.9ms\tremaining: 15.5s\n",
            "5:\tlearn: 0.7390637\ttotal: 84ms\tremaining: 13.9s\n",
            "6:\tlearn: 0.7054582\ttotal: 90ms\tremaining: 12.8s\n",
            "7:\tlearn: 0.6758248\ttotal: 96.1ms\tremaining: 11.9s\n",
            "8:\tlearn: 0.6497555\ttotal: 102ms\tremaining: 11.2s\n",
            "9:\tlearn: 0.6240847\ttotal: 108ms\tremaining: 10.7s\n",
            "10:\tlearn: 0.5995690\ttotal: 114ms\tremaining: 10.2s\n",
            "11:\tlearn: 0.5778296\ttotal: 119ms\tremaining: 9.82s\n",
            "12:\tlearn: 0.5569423\ttotal: 125ms\tremaining: 9.51s\n",
            "13:\tlearn: 0.5377145\ttotal: 131ms\tremaining: 9.24s\n",
            "14:\tlearn: 0.5201174\ttotal: 137ms\tremaining: 9s\n",
            "15:\tlearn: 0.5039983\ttotal: 143ms\tremaining: 8.8s\n",
            "16:\tlearn: 0.4891155\ttotal: 149ms\tremaining: 8.63s\n",
            "17:\tlearn: 0.4755200\ttotal: 155ms\tremaining: 8.47s\n",
            "18:\tlearn: 0.4626531\ttotal: 161ms\tremaining: 8.32s\n",
            "19:\tlearn: 0.4511271\ttotal: 167ms\tremaining: 8.19s\n",
            "20:\tlearn: 0.4411481\ttotal: 173ms\tremaining: 8.07s\n",
            "21:\tlearn: 0.4308604\ttotal: 179ms\tremaining: 7.97s\n",
            "22:\tlearn: 0.4224609\ttotal: 185ms\tremaining: 7.88s\n",
            "23:\tlearn: 0.4139559\ttotal: 196ms\tremaining: 7.98s\n",
            "24:\tlearn: 0.4063519\ttotal: 203ms\tremaining: 7.91s\n",
            "25:\tlearn: 0.3992576\ttotal: 209ms\tremaining: 7.82s\n",
            "26:\tlearn: 0.3931559\ttotal: 215ms\tremaining: 7.73s\n",
            "27:\tlearn: 0.3877010\ttotal: 221ms\tremaining: 7.66s\n",
            "28:\tlearn: 0.3828259\ttotal: 227ms\tremaining: 7.61s\n",
            "29:\tlearn: 0.3783915\ttotal: 233ms\tremaining: 7.54s\n",
            "30:\tlearn: 0.3740410\ttotal: 239ms\tremaining: 7.47s\n",
            "31:\tlearn: 0.3695594\ttotal: 245ms\tremaining: 7.41s\n",
            "32:\tlearn: 0.3657583\ttotal: 251ms\tremaining: 7.34s\n",
            "33:\tlearn: 0.3618623\ttotal: 257ms\tremaining: 7.29s\n",
            "34:\tlearn: 0.3581082\ttotal: 263ms\tremaining: 7.24s\n",
            "35:\tlearn: 0.3549235\ttotal: 269ms\tremaining: 7.19s\n",
            "36:\tlearn: 0.3521818\ttotal: 274ms\tremaining: 7.14s\n",
            "37:\tlearn: 0.3496043\ttotal: 280ms\tremaining: 7.09s\n",
            "38:\tlearn: 0.3467930\ttotal: 286ms\tremaining: 7.05s\n",
            "39:\tlearn: 0.3445088\ttotal: 292ms\tremaining: 7.01s\n",
            "40:\tlearn: 0.3426388\ttotal: 298ms\tremaining: 6.96s\n",
            "41:\tlearn: 0.3404440\ttotal: 303ms\tremaining: 6.92s\n",
            "42:\tlearn: 0.3385395\ttotal: 309ms\tremaining: 6.88s\n",
            "43:\tlearn: 0.3368338\ttotal: 315ms\tremaining: 6.84s\n",
            "44:\tlearn: 0.3345411\ttotal: 321ms\tremaining: 6.81s\n",
            "45:\tlearn: 0.3329480\ttotal: 327ms\tremaining: 6.77s\n",
            "46:\tlearn: 0.3313865\ttotal: 333ms\tremaining: 6.75s\n",
            "47:\tlearn: 0.3300815\ttotal: 339ms\tremaining: 6.72s\n",
            "48:\tlearn: 0.3286043\ttotal: 345ms\tremaining: 6.69s\n",
            "49:\tlearn: 0.3273186\ttotal: 351ms\tremaining: 6.67s\n",
            "50:\tlearn: 0.3258567\ttotal: 357ms\tremaining: 6.64s\n",
            "51:\tlearn: 0.3250297\ttotal: 362ms\tremaining: 6.61s\n",
            "52:\tlearn: 0.3239227\ttotal: 368ms\tremaining: 6.58s\n",
            "53:\tlearn: 0.3227565\ttotal: 374ms\tremaining: 6.55s\n",
            "54:\tlearn: 0.3217855\ttotal: 380ms\tremaining: 6.52s\n",
            "55:\tlearn: 0.3207200\ttotal: 386ms\tremaining: 6.5s\n",
            "56:\tlearn: 0.3193147\ttotal: 396ms\tremaining: 6.55s\n",
            "57:\tlearn: 0.3182657\ttotal: 402ms\tremaining: 6.54s\n",
            "58:\tlearn: 0.3171366\ttotal: 408ms\tremaining: 6.51s\n",
            "59:\tlearn: 0.3163809\ttotal: 414ms\tremaining: 6.49s\n",
            "60:\tlearn: 0.3154494\ttotal: 420ms\tremaining: 6.46s\n",
            "61:\tlearn: 0.3146959\ttotal: 425ms\tremaining: 6.43s\n",
            "62:\tlearn: 0.3141162\ttotal: 430ms\tremaining: 6.4s\n",
            "63:\tlearn: 0.3129394\ttotal: 437ms\tremaining: 6.39s\n",
            "64:\tlearn: 0.3121659\ttotal: 443ms\tremaining: 6.37s\n",
            "65:\tlearn: 0.3116225\ttotal: 448ms\tremaining: 6.34s\n",
            "66:\tlearn: 0.3109333\ttotal: 454ms\tremaining: 6.32s\n",
            "67:\tlearn: 0.3102689\ttotal: 459ms\tremaining: 6.29s\n",
            "68:\tlearn: 0.3098246\ttotal: 465ms\tremaining: 6.27s\n",
            "69:\tlearn: 0.3090431\ttotal: 470ms\tremaining: 6.25s\n",
            "70:\tlearn: 0.3084360\ttotal: 476ms\tremaining: 6.23s\n",
            "71:\tlearn: 0.3078500\ttotal: 481ms\tremaining: 6.2s\n",
            "72:\tlearn: 0.3072865\ttotal: 487ms\tremaining: 6.18s\n",
            "73:\tlearn: 0.3067536\ttotal: 492ms\tremaining: 6.15s\n",
            "74:\tlearn: 0.3063633\ttotal: 497ms\tremaining: 6.13s\n",
            "75:\tlearn: 0.3057725\ttotal: 503ms\tremaining: 6.12s\n",
            "76:\tlearn: 0.3050871\ttotal: 509ms\tremaining: 6.1s\n",
            "77:\tlearn: 0.3045706\ttotal: 516ms\tremaining: 6.1s\n",
            "78:\tlearn: 0.3039955\ttotal: 523ms\tremaining: 6.09s\n",
            "79:\tlearn: 0.3036728\ttotal: 528ms\tremaining: 6.07s\n",
            "80:\tlearn: 0.3033258\ttotal: 534ms\tremaining: 6.05s\n",
            "81:\tlearn: 0.3029170\ttotal: 539ms\tremaining: 6.04s\n",
            "82:\tlearn: 0.3023267\ttotal: 545ms\tremaining: 6.02s\n",
            "83:\tlearn: 0.3017611\ttotal: 551ms\tremaining: 6.01s\n",
            "84:\tlearn: 0.3011304\ttotal: 557ms\tremaining: 5.99s\n",
            "85:\tlearn: 0.3008244\ttotal: 562ms\tremaining: 5.97s\n",
            "86:\tlearn: 0.2999085\ttotal: 568ms\tremaining: 5.96s\n",
            "87:\tlearn: 0.2994146\ttotal: 574ms\tremaining: 5.94s\n",
            "88:\tlearn: 0.2988986\ttotal: 579ms\tremaining: 5.93s\n",
            "89:\tlearn: 0.2983947\ttotal: 585ms\tremaining: 5.91s\n",
            "90:\tlearn: 0.2979955\ttotal: 593ms\tremaining: 5.92s\n",
            "91:\tlearn: 0.2974240\ttotal: 602ms\tremaining: 5.94s\n",
            "92:\tlearn: 0.2970616\ttotal: 608ms\tremaining: 5.93s\n",
            "93:\tlearn: 0.2966140\ttotal: 617ms\tremaining: 5.94s\n",
            "94:\tlearn: 0.2958224\ttotal: 623ms\tremaining: 5.94s\n",
            "95:\tlearn: 0.2951943\ttotal: 629ms\tremaining: 5.92s\n",
            "96:\tlearn: 0.2947134\ttotal: 635ms\tremaining: 5.91s\n",
            "97:\tlearn: 0.2943485\ttotal: 640ms\tremaining: 5.89s\n",
            "98:\tlearn: 0.2936791\ttotal: 646ms\tremaining: 5.88s\n",
            "99:\tlearn: 0.2930187\ttotal: 652ms\tremaining: 5.87s\n",
            "100:\tlearn: 0.2924773\ttotal: 658ms\tremaining: 5.85s\n",
            "101:\tlearn: 0.2921563\ttotal: 664ms\tremaining: 5.84s\n",
            "102:\tlearn: 0.2918120\ttotal: 669ms\tremaining: 5.83s\n",
            "103:\tlearn: 0.2912928\ttotal: 675ms\tremaining: 5.81s\n",
            "104:\tlearn: 0.2910114\ttotal: 680ms\tremaining: 5.8s\n",
            "105:\tlearn: 0.2904747\ttotal: 686ms\tremaining: 5.78s\n",
            "106:\tlearn: 0.2901231\ttotal: 692ms\tremaining: 5.77s\n",
            "107:\tlearn: 0.2899508\ttotal: 697ms\tremaining: 5.75s\n",
            "108:\tlearn: 0.2896249\ttotal: 702ms\tremaining: 5.74s\n",
            "109:\tlearn: 0.2890751\ttotal: 708ms\tremaining: 5.73s\n",
            "110:\tlearn: 0.2888519\ttotal: 719ms\tremaining: 5.76s\n",
            "111:\tlearn: 0.2886534\ttotal: 729ms\tremaining: 5.78s\n",
            "112:\tlearn: 0.2884062\ttotal: 735ms\tremaining: 5.77s\n",
            "113:\tlearn: 0.2880902\ttotal: 740ms\tremaining: 5.75s\n",
            "114:\tlearn: 0.2878534\ttotal: 746ms\tremaining: 5.74s\n",
            "115:\tlearn: 0.2876197\ttotal: 752ms\tremaining: 5.73s\n",
            "116:\tlearn: 0.2871207\ttotal: 758ms\tremaining: 5.72s\n",
            "117:\tlearn: 0.2869087\ttotal: 763ms\tremaining: 5.71s\n",
            "118:\tlearn: 0.2865608\ttotal: 769ms\tremaining: 5.7s\n",
            "119:\tlearn: 0.2861244\ttotal: 775ms\tremaining: 5.68s\n",
            "120:\tlearn: 0.2859346\ttotal: 780ms\tremaining: 5.67s\n",
            "121:\tlearn: 0.2856807\ttotal: 786ms\tremaining: 5.66s\n",
            "122:\tlearn: 0.2853743\ttotal: 796ms\tremaining: 5.68s\n",
            "123:\tlearn: 0.2851405\ttotal: 802ms\tremaining: 5.67s\n",
            "124:\tlearn: 0.2847714\ttotal: 808ms\tremaining: 5.66s\n",
            "125:\tlearn: 0.2844576\ttotal: 813ms\tremaining: 5.64s\n",
            "126:\tlearn: 0.2839592\ttotal: 819ms\tremaining: 5.63s\n",
            "127:\tlearn: 0.2835279\ttotal: 825ms\tremaining: 5.62s\n",
            "128:\tlearn: 0.2832336\ttotal: 830ms\tremaining: 5.61s\n",
            "129:\tlearn: 0.2826264\ttotal: 836ms\tremaining: 5.6s\n",
            "130:\tlearn: 0.2821815\ttotal: 842ms\tremaining: 5.58s\n",
            "131:\tlearn: 0.2819536\ttotal: 847ms\tremaining: 5.57s\n",
            "132:\tlearn: 0.2816605\ttotal: 853ms\tremaining: 5.56s\n",
            "133:\tlearn: 0.2812110\ttotal: 859ms\tremaining: 5.55s\n",
            "134:\tlearn: 0.2810486\ttotal: 865ms\tremaining: 5.54s\n",
            "135:\tlearn: 0.2806334\ttotal: 871ms\tremaining: 5.53s\n",
            "136:\tlearn: 0.2802621\ttotal: 876ms\tremaining: 5.52s\n",
            "137:\tlearn: 0.2799697\ttotal: 881ms\tremaining: 5.5s\n",
            "138:\tlearn: 0.2793505\ttotal: 887ms\tremaining: 5.49s\n",
            "139:\tlearn: 0.2789765\ttotal: 892ms\tremaining: 5.48s\n",
            "140:\tlearn: 0.2786089\ttotal: 900ms\tremaining: 5.48s\n",
            "141:\tlearn: 0.2781298\ttotal: 906ms\tremaining: 5.48s\n",
            "142:\tlearn: 0.2779857\ttotal: 912ms\tremaining: 5.47s\n",
            "143:\tlearn: 0.2776532\ttotal: 917ms\tremaining: 5.45s\n",
            "144:\tlearn: 0.2773028\ttotal: 923ms\tremaining: 5.44s\n",
            "145:\tlearn: 0.2769440\ttotal: 929ms\tremaining: 5.43s\n",
            "146:\tlearn: 0.2767575\ttotal: 935ms\tremaining: 5.42s\n",
            "147:\tlearn: 0.2766053\ttotal: 940ms\tremaining: 5.41s\n",
            "148:\tlearn: 0.2762058\ttotal: 946ms\tremaining: 5.4s\n",
            "149:\tlearn: 0.2757856\ttotal: 951ms\tremaining: 5.39s\n",
            "150:\tlearn: 0.2754338\ttotal: 959ms\tremaining: 5.39s\n",
            "151:\tlearn: 0.2752455\ttotal: 966ms\tremaining: 5.39s\n",
            "152:\tlearn: 0.2749636\ttotal: 974ms\tremaining: 5.39s\n",
            "153:\tlearn: 0.2748787\ttotal: 979ms\tremaining: 5.38s\n",
            "154:\tlearn: 0.2747020\ttotal: 986ms\tremaining: 5.37s\n",
            "155:\tlearn: 0.2743462\ttotal: 992ms\tremaining: 5.37s\n",
            "156:\tlearn: 0.2740830\ttotal: 1000ms\tremaining: 5.37s\n",
            "157:\tlearn: 0.2739023\ttotal: 1s\tremaining: 5.36s\n",
            "158:\tlearn: 0.2735796\ttotal: 1.01s\tremaining: 5.35s\n",
            "159:\tlearn: 0.2732857\ttotal: 1.02s\tremaining: 5.34s\n",
            "160:\tlearn: 0.2729445\ttotal: 1.02s\tremaining: 5.33s\n",
            "161:\tlearn: 0.2727481\ttotal: 1.03s\tremaining: 5.32s\n",
            "162:\tlearn: 0.2725151\ttotal: 1.03s\tremaining: 5.31s\n",
            "163:\tlearn: 0.2722116\ttotal: 1.04s\tremaining: 5.3s\n",
            "164:\tlearn: 0.2720046\ttotal: 1.04s\tremaining: 5.29s\n",
            "165:\tlearn: 0.2717737\ttotal: 1.05s\tremaining: 5.28s\n",
            "166:\tlearn: 0.2714488\ttotal: 1.06s\tremaining: 5.27s\n",
            "167:\tlearn: 0.2711689\ttotal: 1.06s\tremaining: 5.26s\n",
            "168:\tlearn: 0.2708478\ttotal: 1.07s\tremaining: 5.25s\n",
            "169:\tlearn: 0.2705600\ttotal: 1.07s\tremaining: 5.24s\n",
            "170:\tlearn: 0.2704146\ttotal: 1.08s\tremaining: 5.23s\n",
            "171:\tlearn: 0.2701990\ttotal: 1.08s\tremaining: 5.22s\n",
            "172:\tlearn: 0.2699711\ttotal: 1.09s\tremaining: 5.21s\n",
            "173:\tlearn: 0.2697886\ttotal: 1.1s\tremaining: 5.21s\n",
            "174:\tlearn: 0.2695948\ttotal: 1.1s\tremaining: 5.2s\n",
            "175:\tlearn: 0.2693366\ttotal: 1.11s\tremaining: 5.19s\n",
            "176:\tlearn: 0.2690049\ttotal: 1.11s\tremaining: 5.18s\n",
            "177:\tlearn: 0.2687930\ttotal: 1.12s\tremaining: 5.17s\n",
            "178:\tlearn: 0.2686207\ttotal: 1.13s\tremaining: 5.16s\n",
            "179:\tlearn: 0.2684446\ttotal: 1.13s\tremaining: 5.16s\n",
            "180:\tlearn: 0.2682100\ttotal: 1.14s\tremaining: 5.15s\n",
            "181:\tlearn: 0.2680671\ttotal: 1.14s\tremaining: 5.13s\n",
            "182:\tlearn: 0.2678547\ttotal: 1.15s\tremaining: 5.13s\n",
            "183:\tlearn: 0.2674756\ttotal: 1.16s\tremaining: 5.13s\n",
            "184:\tlearn: 0.2671756\ttotal: 1.17s\tremaining: 5.13s\n",
            "185:\tlearn: 0.2669351\ttotal: 1.17s\tremaining: 5.12s\n",
            "186:\tlearn: 0.2665954\ttotal: 1.18s\tremaining: 5.12s\n",
            "187:\tlearn: 0.2663824\ttotal: 1.18s\tremaining: 5.11s\n",
            "188:\tlearn: 0.2661507\ttotal: 1.19s\tremaining: 5.1s\n",
            "189:\tlearn: 0.2659481\ttotal: 1.2s\tremaining: 5.1s\n",
            "190:\tlearn: 0.2658221\ttotal: 1.2s\tremaining: 5.09s\n",
            "191:\tlearn: 0.2657020\ttotal: 1.21s\tremaining: 5.09s\n",
            "192:\tlearn: 0.2654812\ttotal: 1.21s\tremaining: 5.08s\n",
            "193:\tlearn: 0.2653700\ttotal: 1.22s\tremaining: 5.07s\n",
            "194:\tlearn: 0.2651642\ttotal: 1.23s\tremaining: 5.06s\n",
            "195:\tlearn: 0.2649593\ttotal: 1.23s\tremaining: 5.05s\n",
            "196:\tlearn: 0.2647557\ttotal: 1.24s\tremaining: 5.04s\n",
            "197:\tlearn: 0.2644833\ttotal: 1.24s\tremaining: 5.03s\n",
            "198:\tlearn: 0.2643918\ttotal: 1.25s\tremaining: 5.02s\n",
            "199:\tlearn: 0.2642159\ttotal: 1.25s\tremaining: 5.01s\n",
            "200:\tlearn: 0.2640552\ttotal: 1.26s\tremaining: 5.01s\n",
            "201:\tlearn: 0.2637420\ttotal: 1.26s\tremaining: 5s\n",
            "202:\tlearn: 0.2634849\ttotal: 1.27s\tremaining: 4.99s\n",
            "203:\tlearn: 0.2633014\ttotal: 1.28s\tremaining: 4.98s\n",
            "204:\tlearn: 0.2630299\ttotal: 1.28s\tremaining: 4.97s\n",
            "205:\tlearn: 0.2628089\ttotal: 1.29s\tremaining: 4.96s\n",
            "206:\tlearn: 0.2626591\ttotal: 1.29s\tremaining: 4.95s\n",
            "207:\tlearn: 0.2623856\ttotal: 1.3s\tremaining: 4.95s\n",
            "208:\tlearn: 0.2622468\ttotal: 1.3s\tremaining: 4.94s\n",
            "209:\tlearn: 0.2621375\ttotal: 1.31s\tremaining: 4.93s\n",
            "210:\tlearn: 0.2618639\ttotal: 1.32s\tremaining: 4.93s\n",
            "211:\tlearn: 0.2617453\ttotal: 1.32s\tremaining: 4.92s\n",
            "212:\tlearn: 0.2615855\ttotal: 1.33s\tremaining: 4.92s\n",
            "213:\tlearn: 0.2613239\ttotal: 1.34s\tremaining: 4.91s\n",
            "214:\tlearn: 0.2610557\ttotal: 1.34s\tremaining: 4.9s\n",
            "215:\tlearn: 0.2608000\ttotal: 1.35s\tremaining: 4.89s\n",
            "216:\tlearn: 0.2605768\ttotal: 1.35s\tremaining: 4.89s\n",
            "217:\tlearn: 0.2603889\ttotal: 1.36s\tremaining: 4.88s\n",
            "218:\tlearn: 0.2601164\ttotal: 1.37s\tremaining: 4.88s\n",
            "219:\tlearn: 0.2598798\ttotal: 1.37s\tremaining: 4.87s\n",
            "220:\tlearn: 0.2596529\ttotal: 1.38s\tremaining: 4.86s\n",
            "221:\tlearn: 0.2595481\ttotal: 1.38s\tremaining: 4.85s\n",
            "222:\tlearn: 0.2594278\ttotal: 1.39s\tremaining: 4.84s\n",
            "223:\tlearn: 0.2592700\ttotal: 1.4s\tremaining: 4.84s\n",
            "224:\tlearn: 0.2591296\ttotal: 1.4s\tremaining: 4.84s\n",
            "225:\tlearn: 0.2589908\ttotal: 1.41s\tremaining: 4.83s\n",
            "226:\tlearn: 0.2588541\ttotal: 1.42s\tremaining: 4.82s\n",
            "227:\tlearn: 0.2585849\ttotal: 1.42s\tremaining: 4.81s\n",
            "228:\tlearn: 0.2584579\ttotal: 1.43s\tremaining: 4.81s\n",
            "229:\tlearn: 0.2582666\ttotal: 1.43s\tremaining: 4.8s\n",
            "230:\tlearn: 0.2582248\ttotal: 1.44s\tremaining: 4.79s\n",
            "231:\tlearn: 0.2581846\ttotal: 1.45s\tremaining: 4.79s\n",
            "232:\tlearn: 0.2580183\ttotal: 1.45s\tremaining: 4.78s\n",
            "233:\tlearn: 0.2578189\ttotal: 1.46s\tremaining: 4.78s\n",
            "234:\tlearn: 0.2576057\ttotal: 1.47s\tremaining: 4.77s\n",
            "235:\tlearn: 0.2574149\ttotal: 1.47s\tremaining: 4.76s\n",
            "236:\tlearn: 0.2571842\ttotal: 1.48s\tremaining: 4.76s\n",
            "237:\tlearn: 0.2570627\ttotal: 1.48s\tremaining: 4.75s\n",
            "238:\tlearn: 0.2569647\ttotal: 1.49s\tremaining: 4.74s\n",
            "239:\tlearn: 0.2568238\ttotal: 1.49s\tremaining: 4.73s\n",
            "240:\tlearn: 0.2566645\ttotal: 1.5s\tremaining: 4.73s\n",
            "241:\tlearn: 0.2563817\ttotal: 1.51s\tremaining: 4.72s\n",
            "242:\tlearn: 0.2562478\ttotal: 1.51s\tremaining: 4.71s\n",
            "243:\tlearn: 0.2560640\ttotal: 1.52s\tremaining: 4.71s\n",
            "244:\tlearn: 0.2558714\ttotal: 1.52s\tremaining: 4.7s\n",
            "245:\tlearn: 0.2557548\ttotal: 1.53s\tremaining: 4.69s\n",
            "246:\tlearn: 0.2556599\ttotal: 1.53s\tremaining: 4.68s\n",
            "247:\tlearn: 0.2556233\ttotal: 1.54s\tremaining: 4.67s\n",
            "248:\tlearn: 0.2555375\ttotal: 1.55s\tremaining: 4.67s\n",
            "249:\tlearn: 0.2553944\ttotal: 1.55s\tremaining: 4.66s\n",
            "250:\tlearn: 0.2553201\ttotal: 1.56s\tremaining: 4.65s\n",
            "251:\tlearn: 0.2550658\ttotal: 1.56s\tremaining: 4.64s\n",
            "252:\tlearn: 0.2548416\ttotal: 1.57s\tremaining: 4.64s\n",
            "253:\tlearn: 0.2546826\ttotal: 1.58s\tremaining: 4.63s\n",
            "254:\tlearn: 0.2545262\ttotal: 1.58s\tremaining: 4.63s\n",
            "255:\tlearn: 0.2542868\ttotal: 1.59s\tremaining: 4.62s\n",
            "256:\tlearn: 0.2541733\ttotal: 1.6s\tremaining: 4.63s\n",
            "257:\tlearn: 0.2540964\ttotal: 1.61s\tremaining: 4.62s\n",
            "258:\tlearn: 0.2538464\ttotal: 1.61s\tremaining: 4.62s\n",
            "259:\tlearn: 0.2535187\ttotal: 1.62s\tremaining: 4.62s\n",
            "260:\tlearn: 0.2532860\ttotal: 1.63s\tremaining: 4.61s\n",
            "261:\tlearn: 0.2531485\ttotal: 1.63s\tremaining: 4.6s\n",
            "262:\tlearn: 0.2530108\ttotal: 1.64s\tremaining: 4.6s\n",
            "263:\tlearn: 0.2528228\ttotal: 1.65s\tremaining: 4.59s\n",
            "264:\tlearn: 0.2525244\ttotal: 1.65s\tremaining: 4.58s\n",
            "265:\tlearn: 0.2523850\ttotal: 1.66s\tremaining: 4.58s\n",
            "266:\tlearn: 0.2521358\ttotal: 1.67s\tremaining: 4.57s\n",
            "267:\tlearn: 0.2519508\ttotal: 1.67s\tremaining: 4.56s\n",
            "268:\tlearn: 0.2518465\ttotal: 1.68s\tremaining: 4.56s\n",
            "269:\tlearn: 0.2516787\ttotal: 1.68s\tremaining: 4.55s\n",
            "270:\tlearn: 0.2514808\ttotal: 1.69s\tremaining: 4.54s\n",
            "271:\tlearn: 0.2513845\ttotal: 1.69s\tremaining: 4.53s\n",
            "272:\tlearn: 0.2513515\ttotal: 1.7s\tremaining: 4.54s\n",
            "273:\tlearn: 0.2512623\ttotal: 1.71s\tremaining: 4.53s\n",
            "274:\tlearn: 0.2510557\ttotal: 1.72s\tremaining: 4.53s\n",
            "275:\tlearn: 0.2509341\ttotal: 1.72s\tremaining: 4.52s\n",
            "276:\tlearn: 0.2508526\ttotal: 1.73s\tremaining: 4.51s\n",
            "277:\tlearn: 0.2506982\ttotal: 1.73s\tremaining: 4.5s\n",
            "278:\tlearn: 0.2505740\ttotal: 1.74s\tremaining: 4.5s\n",
            "279:\tlearn: 0.2503277\ttotal: 1.75s\tremaining: 4.5s\n",
            "280:\tlearn: 0.2502958\ttotal: 1.75s\tremaining: 4.49s\n",
            "281:\tlearn: 0.2500736\ttotal: 1.76s\tremaining: 4.49s\n",
            "282:\tlearn: 0.2499502\ttotal: 1.77s\tremaining: 4.48s\n",
            "283:\tlearn: 0.2498223\ttotal: 1.77s\tremaining: 4.47s\n",
            "284:\tlearn: 0.2495829\ttotal: 1.78s\tremaining: 4.46s\n",
            "285:\tlearn: 0.2495522\ttotal: 1.78s\tremaining: 4.46s\n",
            "286:\tlearn: 0.2494943\ttotal: 1.79s\tremaining: 4.45s\n",
            "287:\tlearn: 0.2493008\ttotal: 1.8s\tremaining: 4.46s\n",
            "288:\tlearn: 0.2491901\ttotal: 1.81s\tremaining: 4.46s\n",
            "289:\tlearn: 0.2490538\ttotal: 1.82s\tremaining: 4.45s\n",
            "290:\tlearn: 0.2489758\ttotal: 1.82s\tremaining: 4.44s\n",
            "291:\tlearn: 0.2488591\ttotal: 1.83s\tremaining: 4.44s\n",
            "292:\tlearn: 0.2487462\ttotal: 1.84s\tremaining: 4.43s\n",
            "293:\tlearn: 0.2485841\ttotal: 1.84s\tremaining: 4.43s\n",
            "294:\tlearn: 0.2484039\ttotal: 1.85s\tremaining: 4.42s\n",
            "295:\tlearn: 0.2483108\ttotal: 1.85s\tremaining: 4.41s\n",
            "296:\tlearn: 0.2481356\ttotal: 1.86s\tremaining: 4.41s\n",
            "297:\tlearn: 0.2479917\ttotal: 1.87s\tremaining: 4.4s\n",
            "298:\tlearn: 0.2478107\ttotal: 1.87s\tremaining: 4.39s\n",
            "299:\tlearn: 0.2476956\ttotal: 1.88s\tremaining: 4.39s\n",
            "300:\tlearn: 0.2476426\ttotal: 1.89s\tremaining: 4.38s\n",
            "301:\tlearn: 0.2475011\ttotal: 1.89s\tremaining: 4.37s\n",
            "302:\tlearn: 0.2473409\ttotal: 1.9s\tremaining: 4.36s\n",
            "303:\tlearn: 0.2471619\ttotal: 1.9s\tremaining: 4.36s\n",
            "304:\tlearn: 0.2470432\ttotal: 1.91s\tremaining: 4.35s\n",
            "305:\tlearn: 0.2469063\ttotal: 1.91s\tremaining: 4.34s\n",
            "306:\tlearn: 0.2468838\ttotal: 1.92s\tremaining: 4.33s\n",
            "307:\tlearn: 0.2466982\ttotal: 1.93s\tremaining: 4.33s\n",
            "308:\tlearn: 0.2465274\ttotal: 1.93s\tremaining: 4.32s\n",
            "309:\tlearn: 0.2464996\ttotal: 1.94s\tremaining: 4.31s\n",
            "310:\tlearn: 0.2463363\ttotal: 1.94s\tremaining: 4.31s\n",
            "311:\tlearn: 0.2461856\ttotal: 1.95s\tremaining: 4.3s\n",
            "312:\tlearn: 0.2459792\ttotal: 1.96s\tremaining: 4.29s\n",
            "313:\tlearn: 0.2458918\ttotal: 1.96s\tremaining: 4.29s\n",
            "314:\tlearn: 0.2457477\ttotal: 1.97s\tremaining: 4.28s\n",
            "315:\tlearn: 0.2456464\ttotal: 1.97s\tremaining: 4.27s\n",
            "316:\tlearn: 0.2454505\ttotal: 1.98s\tremaining: 4.26s\n",
            "317:\tlearn: 0.2452914\ttotal: 1.98s\tremaining: 4.25s\n",
            "318:\tlearn: 0.2451664\ttotal: 1.99s\tremaining: 4.25s\n",
            "319:\tlearn: 0.2450261\ttotal: 2s\tremaining: 4.24s\n",
            "320:\tlearn: 0.2449375\ttotal: 2s\tremaining: 4.24s\n",
            "321:\tlearn: 0.2448092\ttotal: 2.01s\tremaining: 4.24s\n",
            "322:\tlearn: 0.2447824\ttotal: 2.02s\tremaining: 4.23s\n",
            "323:\tlearn: 0.2446745\ttotal: 2.02s\tremaining: 4.22s\n",
            "324:\tlearn: 0.2445331\ttotal: 2.03s\tremaining: 4.21s\n",
            "325:\tlearn: 0.2444669\ttotal: 2.04s\tremaining: 4.21s\n",
            "326:\tlearn: 0.2444381\ttotal: 2.04s\tremaining: 4.2s\n",
            "327:\tlearn: 0.2442690\ttotal: 2.05s\tremaining: 4.2s\n",
            "328:\tlearn: 0.2441814\ttotal: 2.05s\tremaining: 4.19s\n",
            "329:\tlearn: 0.2440879\ttotal: 2.06s\tremaining: 4.18s\n",
            "330:\tlearn: 0.2439720\ttotal: 2.07s\tremaining: 4.18s\n",
            "331:\tlearn: 0.2439207\ttotal: 2.07s\tremaining: 4.17s\n",
            "332:\tlearn: 0.2438162\ttotal: 2.08s\tremaining: 4.16s\n",
            "333:\tlearn: 0.2437149\ttotal: 2.08s\tremaining: 4.16s\n",
            "334:\tlearn: 0.2436902\ttotal: 2.09s\tremaining: 4.15s\n",
            "335:\tlearn: 0.2436246\ttotal: 2.1s\tremaining: 4.14s\n",
            "336:\tlearn: 0.2434935\ttotal: 2.1s\tremaining: 4.14s\n",
            "337:\tlearn: 0.2434101\ttotal: 2.11s\tremaining: 4.13s\n",
            "338:\tlearn: 0.2432236\ttotal: 2.12s\tremaining: 4.13s\n",
            "339:\tlearn: 0.2430762\ttotal: 2.12s\tremaining: 4.12s\n",
            "340:\tlearn: 0.2428983\ttotal: 2.13s\tremaining: 4.12s\n",
            "341:\tlearn: 0.2428146\ttotal: 2.14s\tremaining: 4.11s\n",
            "342:\tlearn: 0.2427088\ttotal: 2.14s\tremaining: 4.1s\n",
            "343:\tlearn: 0.2425658\ttotal: 2.15s\tremaining: 4.09s\n",
            "344:\tlearn: 0.2424765\ttotal: 2.15s\tremaining: 4.09s\n",
            "345:\tlearn: 0.2423553\ttotal: 2.16s\tremaining: 4.08s\n",
            "346:\tlearn: 0.2422863\ttotal: 2.16s\tremaining: 4.07s\n",
            "347:\tlearn: 0.2421710\ttotal: 2.17s\tremaining: 4.06s\n",
            "348:\tlearn: 0.2419753\ttotal: 2.17s\tremaining: 4.06s\n",
            "349:\tlearn: 0.2417662\ttotal: 2.18s\tremaining: 4.05s\n",
            "350:\tlearn: 0.2415802\ttotal: 2.19s\tremaining: 4.04s\n",
            "351:\tlearn: 0.2414299\ttotal: 2.19s\tremaining: 4.04s\n",
            "352:\tlearn: 0.2413501\ttotal: 2.2s\tremaining: 4.03s\n",
            "353:\tlearn: 0.2411930\ttotal: 2.21s\tremaining: 4.03s\n",
            "354:\tlearn: 0.2410687\ttotal: 2.22s\tremaining: 4.03s\n",
            "355:\tlearn: 0.2409234\ttotal: 2.22s\tremaining: 4.02s\n",
            "356:\tlearn: 0.2408216\ttotal: 2.23s\tremaining: 4.01s\n",
            "357:\tlearn: 0.2407399\ttotal: 2.23s\tremaining: 4s\n",
            "358:\tlearn: 0.2406588\ttotal: 2.24s\tremaining: 4s\n",
            "359:\tlearn: 0.2404906\ttotal: 2.25s\tremaining: 3.99s\n",
            "360:\tlearn: 0.2404095\ttotal: 2.25s\tremaining: 3.99s\n",
            "361:\tlearn: 0.2402960\ttotal: 2.26s\tremaining: 3.98s\n",
            "362:\tlearn: 0.2401714\ttotal: 2.26s\tremaining: 3.97s\n",
            "363:\tlearn: 0.2400389\ttotal: 2.27s\tremaining: 3.96s\n",
            "364:\tlearn: 0.2398765\ttotal: 2.27s\tremaining: 3.96s\n",
            "365:\tlearn: 0.2397784\ttotal: 2.28s\tremaining: 3.95s\n",
            "366:\tlearn: 0.2396886\ttotal: 2.29s\tremaining: 3.94s\n",
            "367:\tlearn: 0.2395537\ttotal: 2.29s\tremaining: 3.94s\n",
            "368:\tlearn: 0.2394644\ttotal: 2.3s\tremaining: 3.93s\n",
            "369:\tlearn: 0.2393960\ttotal: 2.3s\tremaining: 3.92s\n",
            "370:\tlearn: 0.2392357\ttotal: 2.31s\tremaining: 3.92s\n",
            "371:\tlearn: 0.2391012\ttotal: 2.32s\tremaining: 3.91s\n",
            "372:\tlearn: 0.2389900\ttotal: 2.33s\tremaining: 3.91s\n",
            "373:\tlearn: 0.2388817\ttotal: 2.33s\tremaining: 3.9s\n",
            "374:\tlearn: 0.2388462\ttotal: 2.34s\tremaining: 3.9s\n",
            "375:\tlearn: 0.2386937\ttotal: 2.34s\tremaining: 3.89s\n",
            "376:\tlearn: 0.2385418\ttotal: 2.35s\tremaining: 3.88s\n",
            "377:\tlearn: 0.2384272\ttotal: 2.35s\tremaining: 3.88s\n",
            "378:\tlearn: 0.2384065\ttotal: 2.36s\tremaining: 3.87s\n",
            "379:\tlearn: 0.2383381\ttotal: 2.37s\tremaining: 3.86s\n",
            "380:\tlearn: 0.2382260\ttotal: 2.37s\tremaining: 3.85s\n",
            "381:\tlearn: 0.2380264\ttotal: 2.38s\tremaining: 3.85s\n",
            "382:\tlearn: 0.2378967\ttotal: 2.38s\tremaining: 3.84s\n",
            "383:\tlearn: 0.2378419\ttotal: 2.39s\tremaining: 3.83s\n",
            "384:\tlearn: 0.2377789\ttotal: 2.4s\tremaining: 3.83s\n",
            "385:\tlearn: 0.2376443\ttotal: 2.41s\tremaining: 3.83s\n",
            "386:\tlearn: 0.2375107\ttotal: 2.41s\tremaining: 3.82s\n",
            "387:\tlearn: 0.2373329\ttotal: 2.42s\tremaining: 3.81s\n",
            "388:\tlearn: 0.2372385\ttotal: 2.42s\tremaining: 3.81s\n",
            "389:\tlearn: 0.2371415\ttotal: 2.43s\tremaining: 3.8s\n",
            "390:\tlearn: 0.2370365\ttotal: 2.44s\tremaining: 3.79s\n",
            "391:\tlearn: 0.2369438\ttotal: 2.44s\tremaining: 3.79s\n",
            "392:\tlearn: 0.2368594\ttotal: 2.45s\tremaining: 3.78s\n",
            "393:\tlearn: 0.2366757\ttotal: 2.45s\tremaining: 3.77s\n",
            "394:\tlearn: 0.2366022\ttotal: 2.46s\tremaining: 3.77s\n",
            "395:\tlearn: 0.2364378\ttotal: 2.46s\tremaining: 3.76s\n",
            "396:\tlearn: 0.2363449\ttotal: 2.47s\tremaining: 3.75s\n",
            "397:\tlearn: 0.2362493\ttotal: 2.48s\tremaining: 3.75s\n",
            "398:\tlearn: 0.2361508\ttotal: 2.48s\tremaining: 3.74s\n",
            "399:\tlearn: 0.2360673\ttotal: 2.49s\tremaining: 3.73s\n",
            "400:\tlearn: 0.2360059\ttotal: 2.49s\tremaining: 3.72s\n",
            "401:\tlearn: 0.2358976\ttotal: 2.5s\tremaining: 3.72s\n",
            "402:\tlearn: 0.2358349\ttotal: 2.5s\tremaining: 3.71s\n",
            "403:\tlearn: 0.2357388\ttotal: 2.51s\tremaining: 3.7s\n",
            "404:\tlearn: 0.2356288\ttotal: 2.52s\tremaining: 3.7s\n",
            "405:\tlearn: 0.2354363\ttotal: 2.52s\tremaining: 3.69s\n",
            "406:\tlearn: 0.2353886\ttotal: 2.53s\tremaining: 3.68s\n",
            "407:\tlearn: 0.2352696\ttotal: 2.53s\tremaining: 3.68s\n",
            "408:\tlearn: 0.2351842\ttotal: 2.54s\tremaining: 3.67s\n",
            "409:\tlearn: 0.2351473\ttotal: 2.54s\tremaining: 3.66s\n",
            "410:\tlearn: 0.2349495\ttotal: 2.55s\tremaining: 3.66s\n",
            "411:\tlearn: 0.2348725\ttotal: 2.56s\tremaining: 3.65s\n",
            "412:\tlearn: 0.2346983\ttotal: 2.56s\tremaining: 3.65s\n",
            "413:\tlearn: 0.2346135\ttotal: 2.57s\tremaining: 3.64s\n",
            "414:\tlearn: 0.2345742\ttotal: 2.58s\tremaining: 3.63s\n",
            "415:\tlearn: 0.2344817\ttotal: 2.58s\tremaining: 3.63s\n",
            "416:\tlearn: 0.2343828\ttotal: 2.59s\tremaining: 3.62s\n",
            "417:\tlearn: 0.2343229\ttotal: 2.59s\tremaining: 3.61s\n",
            "418:\tlearn: 0.2342217\ttotal: 2.6s\tremaining: 3.6s\n",
            "419:\tlearn: 0.2341511\ttotal: 2.61s\tremaining: 3.61s\n",
            "420:\tlearn: 0.2339842\ttotal: 2.62s\tremaining: 3.6s\n",
            "421:\tlearn: 0.2338902\ttotal: 2.62s\tremaining: 3.59s\n",
            "422:\tlearn: 0.2337776\ttotal: 2.63s\tremaining: 3.59s\n",
            "423:\tlearn: 0.2337042\ttotal: 2.63s\tremaining: 3.58s\n",
            "424:\tlearn: 0.2336318\ttotal: 2.64s\tremaining: 3.57s\n",
            "425:\tlearn: 0.2335491\ttotal: 2.65s\tremaining: 3.57s\n",
            "426:\tlearn: 0.2334443\ttotal: 2.65s\tremaining: 3.56s\n",
            "427:\tlearn: 0.2333852\ttotal: 2.66s\tremaining: 3.55s\n",
            "428:\tlearn: 0.2333637\ttotal: 2.66s\tremaining: 3.55s\n",
            "429:\tlearn: 0.2332161\ttotal: 2.67s\tremaining: 3.54s\n",
            "430:\tlearn: 0.2331377\ttotal: 2.68s\tremaining: 3.54s\n",
            "431:\tlearn: 0.2330319\ttotal: 2.69s\tremaining: 3.54s\n",
            "432:\tlearn: 0.2329490\ttotal: 2.69s\tremaining: 3.53s\n",
            "433:\tlearn: 0.2328233\ttotal: 2.7s\tremaining: 3.52s\n",
            "434:\tlearn: 0.2327757\ttotal: 2.71s\tremaining: 3.52s\n",
            "435:\tlearn: 0.2326800\ttotal: 2.71s\tremaining: 3.51s\n",
            "436:\tlearn: 0.2325844\ttotal: 2.72s\tremaining: 3.5s\n",
            "437:\tlearn: 0.2325398\ttotal: 2.73s\tremaining: 3.5s\n",
            "438:\tlearn: 0.2324959\ttotal: 2.73s\tremaining: 3.49s\n",
            "439:\tlearn: 0.2324215\ttotal: 2.74s\tremaining: 3.48s\n",
            "440:\tlearn: 0.2323036\ttotal: 2.74s\tremaining: 3.48s\n",
            "441:\tlearn: 0.2322413\ttotal: 2.75s\tremaining: 3.47s\n",
            "442:\tlearn: 0.2321648\ttotal: 2.76s\tremaining: 3.46s\n",
            "443:\tlearn: 0.2320516\ttotal: 2.76s\tremaining: 3.46s\n",
            "444:\tlearn: 0.2320309\ttotal: 2.77s\tremaining: 3.45s\n",
            "445:\tlearn: 0.2319147\ttotal: 2.77s\tremaining: 3.44s\n",
            "446:\tlearn: 0.2317790\ttotal: 2.78s\tremaining: 3.44s\n",
            "447:\tlearn: 0.2317260\ttotal: 2.78s\tremaining: 3.43s\n",
            "448:\tlearn: 0.2316202\ttotal: 2.79s\tremaining: 3.42s\n",
            "449:\tlearn: 0.2315251\ttotal: 2.79s\tremaining: 3.42s\n",
            "450:\tlearn: 0.2314447\ttotal: 2.8s\tremaining: 3.41s\n",
            "451:\tlearn: 0.2313616\ttotal: 2.81s\tremaining: 3.4s\n",
            "452:\tlearn: 0.2312321\ttotal: 2.81s\tremaining: 3.4s\n",
            "453:\tlearn: 0.2310913\ttotal: 2.82s\tremaining: 3.39s\n",
            "454:\tlearn: 0.2309729\ttotal: 2.83s\tremaining: 3.39s\n",
            "455:\tlearn: 0.2309531\ttotal: 2.83s\tremaining: 3.38s\n",
            "456:\tlearn: 0.2308248\ttotal: 2.84s\tremaining: 3.38s\n",
            "457:\tlearn: 0.2307388\ttotal: 2.85s\tremaining: 3.37s\n",
            "458:\tlearn: 0.2306539\ttotal: 2.85s\tremaining: 3.36s\n",
            "459:\tlearn: 0.2304990\ttotal: 2.86s\tremaining: 3.36s\n",
            "460:\tlearn: 0.2304557\ttotal: 2.86s\tremaining: 3.35s\n",
            "461:\tlearn: 0.2303182\ttotal: 2.87s\tremaining: 3.34s\n",
            "462:\tlearn: 0.2302272\ttotal: 2.88s\tremaining: 3.33s\n",
            "463:\tlearn: 0.2301146\ttotal: 2.88s\tremaining: 3.33s\n",
            "464:\tlearn: 0.2300029\ttotal: 2.89s\tremaining: 3.32s\n",
            "465:\tlearn: 0.2298615\ttotal: 2.89s\tremaining: 3.31s\n",
            "466:\tlearn: 0.2296811\ttotal: 2.9s\tremaining: 3.31s\n",
            "467:\tlearn: 0.2296386\ttotal: 2.9s\tremaining: 3.3s\n",
            "468:\tlearn: 0.2295319\ttotal: 2.91s\tremaining: 3.29s\n",
            "469:\tlearn: 0.2294427\ttotal: 2.92s\tremaining: 3.29s\n",
            "470:\tlearn: 0.2293561\ttotal: 2.92s\tremaining: 3.28s\n",
            "471:\tlearn: 0.2291759\ttotal: 2.93s\tremaining: 3.27s\n",
            "472:\tlearn: 0.2291570\ttotal: 2.93s\tremaining: 3.27s\n",
            "473:\tlearn: 0.2290171\ttotal: 2.94s\tremaining: 3.27s\n",
            "474:\tlearn: 0.2289406\ttotal: 2.95s\tremaining: 3.26s\n",
            "475:\tlearn: 0.2289083\ttotal: 2.95s\tremaining: 3.25s\n",
            "476:\tlearn: 0.2288113\ttotal: 2.96s\tremaining: 3.25s\n",
            "477:\tlearn: 0.2287938\ttotal: 2.96s\tremaining: 3.24s\n",
            "478:\tlearn: 0.2287163\ttotal: 2.97s\tremaining: 3.23s\n",
            "479:\tlearn: 0.2286377\ttotal: 2.98s\tremaining: 3.23s\n",
            "480:\tlearn: 0.2285331\ttotal: 2.98s\tremaining: 3.22s\n",
            "481:\tlearn: 0.2284647\ttotal: 2.99s\tremaining: 3.21s\n",
            "482:\tlearn: 0.2284176\ttotal: 3s\tremaining: 3.21s\n",
            "483:\tlearn: 0.2283687\ttotal: 3s\tremaining: 3.2s\n",
            "484:\tlearn: 0.2282844\ttotal: 3.01s\tremaining: 3.19s\n",
            "485:\tlearn: 0.2282423\ttotal: 3.02s\tremaining: 3.19s\n",
            "486:\tlearn: 0.2281105\ttotal: 3.03s\tremaining: 3.19s\n",
            "487:\tlearn: 0.2279918\ttotal: 3.03s\tremaining: 3.18s\n",
            "488:\tlearn: 0.2279231\ttotal: 3.04s\tremaining: 3.17s\n",
            "489:\tlearn: 0.2278573\ttotal: 3.04s\tremaining: 3.17s\n",
            "490:\tlearn: 0.2277655\ttotal: 3.05s\tremaining: 3.16s\n",
            "491:\tlearn: 0.2277073\ttotal: 3.05s\tremaining: 3.15s\n",
            "492:\tlearn: 0.2276477\ttotal: 3.06s\tremaining: 3.15s\n",
            "493:\tlearn: 0.2275109\ttotal: 3.07s\tremaining: 3.14s\n",
            "494:\tlearn: 0.2274624\ttotal: 3.07s\tremaining: 3.13s\n",
            "495:\tlearn: 0.2274074\ttotal: 3.08s\tremaining: 3.13s\n",
            "496:\tlearn: 0.2273712\ttotal: 3.08s\tremaining: 3.12s\n",
            "497:\tlearn: 0.2273306\ttotal: 3.09s\tremaining: 3.11s\n",
            "498:\tlearn: 0.2271971\ttotal: 3.09s\tremaining: 3.11s\n",
            "499:\tlearn: 0.2270749\ttotal: 3.1s\tremaining: 3.1s\n",
            "500:\tlearn: 0.2269547\ttotal: 3.11s\tremaining: 3.09s\n",
            "501:\tlearn: 0.2268751\ttotal: 3.11s\tremaining: 3.09s\n",
            "502:\tlearn: 0.2268285\ttotal: 3.12s\tremaining: 3.08s\n",
            "503:\tlearn: 0.2267690\ttotal: 3.12s\tremaining: 3.07s\n",
            "504:\tlearn: 0.2267211\ttotal: 3.13s\tremaining: 3.07s\n",
            "505:\tlearn: 0.2266252\ttotal: 3.14s\tremaining: 3.06s\n",
            "506:\tlearn: 0.2264973\ttotal: 3.14s\tremaining: 3.06s\n",
            "507:\tlearn: 0.2264193\ttotal: 3.15s\tremaining: 3.05s\n",
            "508:\tlearn: 0.2263772\ttotal: 3.15s\tremaining: 3.04s\n",
            "509:\tlearn: 0.2262910\ttotal: 3.16s\tremaining: 3.04s\n",
            "510:\tlearn: 0.2262102\ttotal: 3.17s\tremaining: 3.03s\n",
            "511:\tlearn: 0.2261229\ttotal: 3.17s\tremaining: 3.02s\n",
            "512:\tlearn: 0.2259945\ttotal: 3.18s\tremaining: 3.02s\n",
            "513:\tlearn: 0.2259164\ttotal: 3.19s\tremaining: 3.01s\n",
            "514:\tlearn: 0.2258239\ttotal: 3.19s\tremaining: 3.01s\n",
            "515:\tlearn: 0.2257593\ttotal: 3.2s\tremaining: 3s\n",
            "516:\tlearn: 0.2256189\ttotal: 3.2s\tremaining: 2.99s\n",
            "517:\tlearn: 0.2255240\ttotal: 3.21s\tremaining: 2.98s\n",
            "518:\tlearn: 0.2254349\ttotal: 3.21s\tremaining: 2.98s\n",
            "519:\tlearn: 0.2253489\ttotal: 3.22s\tremaining: 2.98s\n",
            "520:\tlearn: 0.2252464\ttotal: 3.23s\tremaining: 2.97s\n",
            "521:\tlearn: 0.2251662\ttotal: 3.23s\tremaining: 2.96s\n",
            "522:\tlearn: 0.2251037\ttotal: 3.24s\tremaining: 2.96s\n",
            "523:\tlearn: 0.2250302\ttotal: 3.25s\tremaining: 2.95s\n",
            "524:\tlearn: 0.2249922\ttotal: 3.25s\tremaining: 2.94s\n",
            "525:\tlearn: 0.2249472\ttotal: 3.26s\tremaining: 2.94s\n",
            "526:\tlearn: 0.2248666\ttotal: 3.26s\tremaining: 2.93s\n",
            "527:\tlearn: 0.2247396\ttotal: 3.27s\tremaining: 2.92s\n",
            "528:\tlearn: 0.2246573\ttotal: 3.27s\tremaining: 2.92s\n",
            "529:\tlearn: 0.2245845\ttotal: 3.28s\tremaining: 2.91s\n",
            "530:\tlearn: 0.2245092\ttotal: 3.29s\tremaining: 2.9s\n",
            "531:\tlearn: 0.2243988\ttotal: 3.29s\tremaining: 2.9s\n",
            "532:\tlearn: 0.2243106\ttotal: 3.3s\tremaining: 2.89s\n",
            "533:\tlearn: 0.2242353\ttotal: 3.3s\tremaining: 2.88s\n",
            "534:\tlearn: 0.2241841\ttotal: 3.31s\tremaining: 2.88s\n",
            "535:\tlearn: 0.2240351\ttotal: 3.31s\tremaining: 2.87s\n",
            "536:\tlearn: 0.2239471\ttotal: 3.32s\tremaining: 2.86s\n",
            "537:\tlearn: 0.2239222\ttotal: 3.33s\tremaining: 2.86s\n",
            "538:\tlearn: 0.2238742\ttotal: 3.33s\tremaining: 2.85s\n",
            "539:\tlearn: 0.2238378\ttotal: 3.34s\tremaining: 2.84s\n",
            "540:\tlearn: 0.2237077\ttotal: 3.34s\tremaining: 2.84s\n",
            "541:\tlearn: 0.2236073\ttotal: 3.35s\tremaining: 2.83s\n",
            "542:\tlearn: 0.2235268\ttotal: 3.36s\tremaining: 2.82s\n",
            "543:\tlearn: 0.2234184\ttotal: 3.36s\tremaining: 2.82s\n",
            "544:\tlearn: 0.2233005\ttotal: 3.37s\tremaining: 2.81s\n",
            "545:\tlearn: 0.2232599\ttotal: 3.37s\tremaining: 2.81s\n",
            "546:\tlearn: 0.2231659\ttotal: 3.38s\tremaining: 2.8s\n",
            "547:\tlearn: 0.2230957\ttotal: 3.38s\tremaining: 2.79s\n",
            "548:\tlearn: 0.2229998\ttotal: 3.39s\tremaining: 2.79s\n",
            "549:\tlearn: 0.2228457\ttotal: 3.4s\tremaining: 2.78s\n",
            "550:\tlearn: 0.2227494\ttotal: 3.4s\tremaining: 2.77s\n",
            "551:\tlearn: 0.2226774\ttotal: 3.41s\tremaining: 2.77s\n",
            "552:\tlearn: 0.2226120\ttotal: 3.42s\tremaining: 2.76s\n",
            "553:\tlearn: 0.2225287\ttotal: 3.43s\tremaining: 2.76s\n",
            "554:\tlearn: 0.2224363\ttotal: 3.43s\tremaining: 2.75s\n",
            "555:\tlearn: 0.2223953\ttotal: 3.44s\tremaining: 2.75s\n",
            "556:\tlearn: 0.2223076\ttotal: 3.44s\tremaining: 2.74s\n",
            "557:\tlearn: 0.2222399\ttotal: 3.45s\tremaining: 2.73s\n",
            "558:\tlearn: 0.2221768\ttotal: 3.46s\tremaining: 2.73s\n",
            "559:\tlearn: 0.2221234\ttotal: 3.46s\tremaining: 2.72s\n",
            "560:\tlearn: 0.2220253\ttotal: 3.47s\tremaining: 2.71s\n",
            "561:\tlearn: 0.2219813\ttotal: 3.47s\tremaining: 2.71s\n",
            "562:\tlearn: 0.2219636\ttotal: 3.48s\tremaining: 2.7s\n",
            "563:\tlearn: 0.2219303\ttotal: 3.48s\tremaining: 2.69s\n",
            "564:\tlearn: 0.2218398\ttotal: 3.49s\tremaining: 2.69s\n",
            "565:\tlearn: 0.2217457\ttotal: 3.5s\tremaining: 2.68s\n",
            "566:\tlearn: 0.2216923\ttotal: 3.5s\tremaining: 2.67s\n",
            "567:\tlearn: 0.2215906\ttotal: 3.51s\tremaining: 2.67s\n",
            "568:\tlearn: 0.2215440\ttotal: 3.51s\tremaining: 2.66s\n",
            "569:\tlearn: 0.2214861\ttotal: 3.52s\tremaining: 2.65s\n",
            "570:\tlearn: 0.2214047\ttotal: 3.52s\tremaining: 2.65s\n",
            "571:\tlearn: 0.2212571\ttotal: 3.53s\tremaining: 2.64s\n",
            "572:\tlearn: 0.2210918\ttotal: 3.54s\tremaining: 2.63s\n",
            "573:\tlearn: 0.2209886\ttotal: 3.54s\tremaining: 2.63s\n",
            "574:\tlearn: 0.2208723\ttotal: 3.55s\tremaining: 2.62s\n",
            "575:\tlearn: 0.2208245\ttotal: 3.55s\tremaining: 2.62s\n",
            "576:\tlearn: 0.2207612\ttotal: 3.56s\tremaining: 2.61s\n",
            "577:\tlearn: 0.2206556\ttotal: 3.56s\tremaining: 2.6s\n",
            "578:\tlearn: 0.2205307\ttotal: 3.57s\tremaining: 2.6s\n",
            "579:\tlearn: 0.2204589\ttotal: 3.58s\tremaining: 2.59s\n",
            "580:\tlearn: 0.2203966\ttotal: 3.58s\tremaining: 2.58s\n",
            "581:\tlearn: 0.2202729\ttotal: 3.59s\tremaining: 2.58s\n",
            "582:\tlearn: 0.2201533\ttotal: 3.59s\tremaining: 2.57s\n",
            "583:\tlearn: 0.2200426\ttotal: 3.6s\tremaining: 2.56s\n",
            "584:\tlearn: 0.2199318\ttotal: 3.6s\tremaining: 2.56s\n",
            "585:\tlearn: 0.2198597\ttotal: 3.61s\tremaining: 2.55s\n",
            "586:\tlearn: 0.2197874\ttotal: 3.62s\tremaining: 2.54s\n",
            "587:\tlearn: 0.2197113\ttotal: 3.63s\tremaining: 2.54s\n",
            "588:\tlearn: 0.2196309\ttotal: 3.63s\tremaining: 2.54s\n",
            "589:\tlearn: 0.2195553\ttotal: 3.64s\tremaining: 2.53s\n",
            "590:\tlearn: 0.2194817\ttotal: 3.65s\tremaining: 2.52s\n",
            "591:\tlearn: 0.2193905\ttotal: 3.65s\tremaining: 2.52s\n",
            "592:\tlearn: 0.2193127\ttotal: 3.66s\tremaining: 2.51s\n",
            "593:\tlearn: 0.2192064\ttotal: 3.67s\tremaining: 2.51s\n",
            "594:\tlearn: 0.2191544\ttotal: 3.67s\tremaining: 2.5s\n",
            "595:\tlearn: 0.2190944\ttotal: 3.68s\tremaining: 2.5s\n",
            "596:\tlearn: 0.2189826\ttotal: 3.69s\tremaining: 2.49s\n",
            "597:\tlearn: 0.2189426\ttotal: 3.69s\tremaining: 2.48s\n",
            "598:\tlearn: 0.2188897\ttotal: 3.7s\tremaining: 2.48s\n",
            "599:\tlearn: 0.2188120\ttotal: 3.71s\tremaining: 2.47s\n",
            "600:\tlearn: 0.2187330\ttotal: 3.71s\tremaining: 2.46s\n",
            "601:\tlearn: 0.2187168\ttotal: 3.72s\tremaining: 2.46s\n",
            "602:\tlearn: 0.2186240\ttotal: 3.72s\tremaining: 2.45s\n",
            "603:\tlearn: 0.2185572\ttotal: 3.73s\tremaining: 2.44s\n",
            "604:\tlearn: 0.2184713\ttotal: 3.73s\tremaining: 2.44s\n",
            "605:\tlearn: 0.2183945\ttotal: 3.74s\tremaining: 2.43s\n",
            "606:\tlearn: 0.2183789\ttotal: 3.75s\tremaining: 2.42s\n",
            "607:\tlearn: 0.2183059\ttotal: 3.75s\tremaining: 2.42s\n",
            "608:\tlearn: 0.2182381\ttotal: 3.76s\tremaining: 2.41s\n",
            "609:\tlearn: 0.2181637\ttotal: 3.76s\tremaining: 2.41s\n",
            "610:\tlearn: 0.2180991\ttotal: 3.77s\tremaining: 2.4s\n",
            "611:\tlearn: 0.2180724\ttotal: 3.77s\tremaining: 2.39s\n",
            "612:\tlearn: 0.2180007\ttotal: 3.78s\tremaining: 2.39s\n",
            "613:\tlearn: 0.2179423\ttotal: 3.79s\tremaining: 2.38s\n",
            "614:\tlearn: 0.2178833\ttotal: 3.79s\tremaining: 2.37s\n",
            "615:\tlearn: 0.2178030\ttotal: 3.8s\tremaining: 2.37s\n",
            "616:\tlearn: 0.2176844\ttotal: 3.8s\tremaining: 2.36s\n",
            "617:\tlearn: 0.2176365\ttotal: 3.81s\tremaining: 2.35s\n",
            "618:\tlearn: 0.2175795\ttotal: 3.81s\tremaining: 2.35s\n",
            "619:\tlearn: 0.2175641\ttotal: 3.82s\tremaining: 2.34s\n",
            "620:\tlearn: 0.2175207\ttotal: 3.83s\tremaining: 2.34s\n",
            "621:\tlearn: 0.2174669\ttotal: 3.84s\tremaining: 2.33s\n",
            "622:\tlearn: 0.2173448\ttotal: 3.84s\tremaining: 2.33s\n",
            "623:\tlearn: 0.2172877\ttotal: 3.85s\tremaining: 2.32s\n",
            "624:\tlearn: 0.2172393\ttotal: 3.85s\tremaining: 2.31s\n",
            "625:\tlearn: 0.2171340\ttotal: 3.86s\tremaining: 2.31s\n",
            "626:\tlearn: 0.2170368\ttotal: 3.87s\tremaining: 2.3s\n",
            "627:\tlearn: 0.2169742\ttotal: 3.87s\tremaining: 2.29s\n",
            "628:\tlearn: 0.2168980\ttotal: 3.88s\tremaining: 2.29s\n",
            "629:\tlearn: 0.2168383\ttotal: 3.88s\tremaining: 2.28s\n",
            "630:\tlearn: 0.2167913\ttotal: 3.89s\tremaining: 2.27s\n",
            "631:\tlearn: 0.2166938\ttotal: 3.9s\tremaining: 2.27s\n",
            "632:\tlearn: 0.2166394\ttotal: 3.9s\tremaining: 2.26s\n",
            "633:\tlearn: 0.2166109\ttotal: 3.91s\tremaining: 2.26s\n",
            "634:\tlearn: 0.2165949\ttotal: 3.92s\tremaining: 2.25s\n",
            "635:\tlearn: 0.2164961\ttotal: 3.92s\tremaining: 2.24s\n",
            "636:\tlearn: 0.2164226\ttotal: 3.93s\tremaining: 2.24s\n",
            "637:\tlearn: 0.2163674\ttotal: 3.93s\tremaining: 2.23s\n",
            "638:\tlearn: 0.2162398\ttotal: 3.94s\tremaining: 2.22s\n",
            "639:\tlearn: 0.2161261\ttotal: 3.94s\tremaining: 2.22s\n",
            "640:\tlearn: 0.2160872\ttotal: 3.95s\tremaining: 2.21s\n",
            "641:\tlearn: 0.2160023\ttotal: 3.96s\tremaining: 2.21s\n",
            "642:\tlearn: 0.2159471\ttotal: 3.96s\tremaining: 2.2s\n",
            "643:\tlearn: 0.2158719\ttotal: 3.97s\tremaining: 2.19s\n",
            "644:\tlearn: 0.2158159\ttotal: 3.97s\tremaining: 2.19s\n",
            "645:\tlearn: 0.2157979\ttotal: 3.98s\tremaining: 2.18s\n",
            "646:\tlearn: 0.2157377\ttotal: 3.98s\tremaining: 2.17s\n",
            "647:\tlearn: 0.2156913\ttotal: 3.99s\tremaining: 2.17s\n",
            "648:\tlearn: 0.2156194\ttotal: 4s\tremaining: 2.16s\n",
            "649:\tlearn: 0.2155518\ttotal: 4s\tremaining: 2.15s\n",
            "650:\tlearn: 0.2154519\ttotal: 4.01s\tremaining: 2.15s\n",
            "651:\tlearn: 0.2154417\ttotal: 4.01s\tremaining: 2.14s\n",
            "652:\tlearn: 0.2154306\ttotal: 4.02s\tremaining: 2.13s\n",
            "653:\tlearn: 0.2153906\ttotal: 4.02s\tremaining: 2.13s\n",
            "654:\tlearn: 0.2153116\ttotal: 4.04s\tremaining: 2.13s\n",
            "655:\tlearn: 0.2152510\ttotal: 4.04s\tremaining: 2.12s\n",
            "656:\tlearn: 0.2152386\ttotal: 4.05s\tremaining: 2.11s\n",
            "657:\tlearn: 0.2151637\ttotal: 4.06s\tremaining: 2.11s\n",
            "658:\tlearn: 0.2150648\ttotal: 4.06s\tremaining: 2.1s\n",
            "659:\tlearn: 0.2150055\ttotal: 4.07s\tremaining: 2.1s\n",
            "660:\tlearn: 0.2148961\ttotal: 4.08s\tremaining: 2.09s\n",
            "661:\tlearn: 0.2148715\ttotal: 4.08s\tremaining: 2.08s\n",
            "662:\tlearn: 0.2147671\ttotal: 4.09s\tremaining: 2.08s\n",
            "663:\tlearn: 0.2147553\ttotal: 4.1s\tremaining: 2.07s\n",
            "664:\tlearn: 0.2147004\ttotal: 4.1s\tremaining: 2.07s\n",
            "665:\tlearn: 0.2146148\ttotal: 4.11s\tremaining: 2.06s\n",
            "666:\tlearn: 0.2145498\ttotal: 4.11s\tremaining: 2.05s\n",
            "667:\tlearn: 0.2145027\ttotal: 4.12s\tremaining: 2.05s\n",
            "668:\tlearn: 0.2144659\ttotal: 4.12s\tremaining: 2.04s\n",
            "669:\tlearn: 0.2144464\ttotal: 4.13s\tremaining: 2.03s\n",
            "670:\tlearn: 0.2143881\ttotal: 4.13s\tremaining: 2.03s\n",
            "671:\tlearn: 0.2143028\ttotal: 4.14s\tremaining: 2.02s\n",
            "672:\tlearn: 0.2142543\ttotal: 4.15s\tremaining: 2.02s\n",
            "673:\tlearn: 0.2142270\ttotal: 4.15s\tremaining: 2.01s\n",
            "674:\tlearn: 0.2142084\ttotal: 4.16s\tremaining: 2s\n",
            "675:\tlearn: 0.2141056\ttotal: 4.16s\tremaining: 2s\n",
            "676:\tlearn: 0.2140540\ttotal: 4.17s\tremaining: 1.99s\n",
            "677:\tlearn: 0.2140136\ttotal: 4.17s\tremaining: 1.98s\n",
            "678:\tlearn: 0.2139680\ttotal: 4.18s\tremaining: 1.98s\n",
            "679:\tlearn: 0.2139149\ttotal: 4.19s\tremaining: 1.97s\n",
            "680:\tlearn: 0.2138783\ttotal: 4.19s\tremaining: 1.96s\n",
            "681:\tlearn: 0.2138146\ttotal: 4.2s\tremaining: 1.96s\n",
            "682:\tlearn: 0.2137284\ttotal: 4.2s\tremaining: 1.95s\n",
            "683:\tlearn: 0.2136809\ttotal: 4.21s\tremaining: 1.95s\n",
            "684:\tlearn: 0.2135948\ttotal: 4.22s\tremaining: 1.94s\n",
            "685:\tlearn: 0.2135503\ttotal: 4.22s\tremaining: 1.93s\n",
            "686:\tlearn: 0.2135356\ttotal: 4.23s\tremaining: 1.93s\n",
            "687:\tlearn: 0.2134470\ttotal: 4.24s\tremaining: 1.92s\n",
            "688:\tlearn: 0.2133946\ttotal: 4.25s\tremaining: 1.92s\n",
            "689:\tlearn: 0.2133016\ttotal: 4.25s\tremaining: 1.91s\n",
            "690:\tlearn: 0.2132561\ttotal: 4.26s\tremaining: 1.9s\n",
            "691:\tlearn: 0.2132301\ttotal: 4.26s\tremaining: 1.9s\n",
            "692:\tlearn: 0.2131595\ttotal: 4.27s\tremaining: 1.89s\n",
            "693:\tlearn: 0.2130550\ttotal: 4.27s\tremaining: 1.88s\n",
            "694:\tlearn: 0.2129904\ttotal: 4.28s\tremaining: 1.88s\n",
            "695:\tlearn: 0.2129467\ttotal: 4.29s\tremaining: 1.87s\n",
            "696:\tlearn: 0.2128666\ttotal: 4.29s\tremaining: 1.86s\n",
            "697:\tlearn: 0.2128248\ttotal: 4.3s\tremaining: 1.86s\n",
            "698:\tlearn: 0.2127544\ttotal: 4.3s\tremaining: 1.85s\n",
            "699:\tlearn: 0.2126886\ttotal: 4.31s\tremaining: 1.85s\n",
            "700:\tlearn: 0.2126529\ttotal: 4.32s\tremaining: 1.84s\n",
            "701:\tlearn: 0.2125801\ttotal: 4.32s\tremaining: 1.83s\n",
            "702:\tlearn: 0.2124973\ttotal: 4.33s\tremaining: 1.83s\n",
            "703:\tlearn: 0.2124453\ttotal: 4.33s\tremaining: 1.82s\n",
            "704:\tlearn: 0.2123904\ttotal: 4.34s\tremaining: 1.81s\n",
            "705:\tlearn: 0.2123279\ttotal: 4.34s\tremaining: 1.81s\n",
            "706:\tlearn: 0.2122372\ttotal: 4.35s\tremaining: 1.8s\n",
            "707:\tlearn: 0.2121746\ttotal: 4.36s\tremaining: 1.8s\n",
            "708:\tlearn: 0.2121021\ttotal: 4.37s\tremaining: 1.79s\n",
            "709:\tlearn: 0.2119942\ttotal: 4.38s\tremaining: 1.79s\n",
            "710:\tlearn: 0.2119521\ttotal: 4.38s\tremaining: 1.78s\n",
            "711:\tlearn: 0.2119223\ttotal: 4.39s\tremaining: 1.77s\n",
            "712:\tlearn: 0.2118774\ttotal: 4.39s\tremaining: 1.77s\n",
            "713:\tlearn: 0.2118236\ttotal: 4.4s\tremaining: 1.76s\n",
            "714:\tlearn: 0.2117367\ttotal: 4.41s\tremaining: 1.76s\n",
            "715:\tlearn: 0.2116790\ttotal: 4.41s\tremaining: 1.75s\n",
            "716:\tlearn: 0.2116387\ttotal: 4.42s\tremaining: 1.74s\n",
            "717:\tlearn: 0.2115517\ttotal: 4.42s\tremaining: 1.74s\n",
            "718:\tlearn: 0.2114775\ttotal: 4.43s\tremaining: 1.73s\n",
            "719:\tlearn: 0.2114428\ttotal: 4.44s\tremaining: 1.73s\n",
            "720:\tlearn: 0.2113868\ttotal: 4.45s\tremaining: 1.72s\n",
            "721:\tlearn: 0.2112923\ttotal: 4.46s\tremaining: 1.72s\n",
            "722:\tlearn: 0.2112015\ttotal: 4.46s\tremaining: 1.71s\n",
            "723:\tlearn: 0.2111700\ttotal: 4.47s\tremaining: 1.7s\n",
            "724:\tlearn: 0.2111260\ttotal: 4.47s\tremaining: 1.7s\n",
            "725:\tlearn: 0.2110888\ttotal: 4.48s\tremaining: 1.69s\n",
            "726:\tlearn: 0.2109784\ttotal: 4.48s\tremaining: 1.68s\n",
            "727:\tlearn: 0.2108874\ttotal: 4.49s\tremaining: 1.68s\n",
            "728:\tlearn: 0.2108244\ttotal: 4.49s\tremaining: 1.67s\n",
            "729:\tlearn: 0.2107574\ttotal: 4.5s\tremaining: 1.66s\n",
            "730:\tlearn: 0.2107045\ttotal: 4.51s\tremaining: 1.66s\n",
            "731:\tlearn: 0.2106826\ttotal: 4.51s\tremaining: 1.65s\n",
            "732:\tlearn: 0.2106761\ttotal: 4.52s\tremaining: 1.65s\n",
            "733:\tlearn: 0.2106033\ttotal: 4.52s\tremaining: 1.64s\n",
            "734:\tlearn: 0.2105450\ttotal: 4.53s\tremaining: 1.63s\n",
            "735:\tlearn: 0.2105208\ttotal: 4.53s\tremaining: 1.63s\n",
            "736:\tlearn: 0.2104655\ttotal: 4.54s\tremaining: 1.62s\n",
            "737:\tlearn: 0.2104595\ttotal: 4.54s\tremaining: 1.61s\n",
            "738:\tlearn: 0.2104139\ttotal: 4.55s\tremaining: 1.61s\n",
            "739:\tlearn: 0.2103690\ttotal: 4.55s\tremaining: 1.6s\n",
            "740:\tlearn: 0.2103042\ttotal: 4.56s\tremaining: 1.59s\n",
            "741:\tlearn: 0.2101974\ttotal: 4.57s\tremaining: 1.59s\n",
            "742:\tlearn: 0.2101215\ttotal: 4.57s\tremaining: 1.58s\n",
            "743:\tlearn: 0.2100857\ttotal: 4.58s\tremaining: 1.57s\n",
            "744:\tlearn: 0.2100358\ttotal: 4.59s\tremaining: 1.57s\n",
            "745:\tlearn: 0.2099510\ttotal: 4.59s\tremaining: 1.56s\n",
            "746:\tlearn: 0.2099129\ttotal: 4.6s\tremaining: 1.56s\n",
            "747:\tlearn: 0.2098436\ttotal: 4.6s\tremaining: 1.55s\n",
            "748:\tlearn: 0.2097878\ttotal: 4.61s\tremaining: 1.54s\n",
            "749:\tlearn: 0.2097265\ttotal: 4.62s\tremaining: 1.54s\n",
            "750:\tlearn: 0.2096869\ttotal: 4.62s\tremaining: 1.53s\n",
            "751:\tlearn: 0.2096335\ttotal: 4.63s\tremaining: 1.53s\n",
            "752:\tlearn: 0.2096056\ttotal: 4.64s\tremaining: 1.52s\n",
            "753:\tlearn: 0.2095677\ttotal: 4.65s\tremaining: 1.52s\n",
            "754:\tlearn: 0.2095324\ttotal: 4.66s\tremaining: 1.51s\n",
            "755:\tlearn: 0.2094897\ttotal: 4.67s\tremaining: 1.51s\n",
            "756:\tlearn: 0.2094420\ttotal: 4.67s\tremaining: 1.5s\n",
            "757:\tlearn: 0.2093639\ttotal: 4.68s\tremaining: 1.49s\n",
            "758:\tlearn: 0.2093344\ttotal: 4.68s\tremaining: 1.49s\n",
            "759:\tlearn: 0.2092557\ttotal: 4.69s\tremaining: 1.48s\n",
            "760:\tlearn: 0.2091580\ttotal: 4.7s\tremaining: 1.47s\n",
            "761:\tlearn: 0.2090795\ttotal: 4.7s\tremaining: 1.47s\n",
            "762:\tlearn: 0.2090088\ttotal: 4.71s\tremaining: 1.46s\n",
            "763:\tlearn: 0.2089165\ttotal: 4.71s\tremaining: 1.46s\n",
            "764:\tlearn: 0.2088538\ttotal: 4.72s\tremaining: 1.45s\n",
            "765:\tlearn: 0.2088404\ttotal: 4.72s\tremaining: 1.44s\n",
            "766:\tlearn: 0.2087585\ttotal: 4.73s\tremaining: 1.44s\n",
            "767:\tlearn: 0.2087397\ttotal: 4.74s\tremaining: 1.43s\n",
            "768:\tlearn: 0.2086785\ttotal: 4.74s\tremaining: 1.42s\n",
            "769:\tlearn: 0.2086592\ttotal: 4.75s\tremaining: 1.42s\n",
            "770:\tlearn: 0.2086164\ttotal: 4.75s\tremaining: 1.41s\n",
            "771:\tlearn: 0.2085607\ttotal: 4.76s\tremaining: 1.41s\n",
            "772:\tlearn: 0.2085550\ttotal: 4.76s\tremaining: 1.4s\n",
            "773:\tlearn: 0.2084962\ttotal: 4.77s\tremaining: 1.39s\n",
            "774:\tlearn: 0.2084734\ttotal: 4.78s\tremaining: 1.39s\n",
            "775:\tlearn: 0.2084353\ttotal: 4.79s\tremaining: 1.38s\n",
            "776:\tlearn: 0.2083845\ttotal: 4.79s\tremaining: 1.38s\n",
            "777:\tlearn: 0.2083468\ttotal: 4.8s\tremaining: 1.37s\n",
            "778:\tlearn: 0.2083040\ttotal: 4.8s\tremaining: 1.36s\n",
            "779:\tlearn: 0.2082622\ttotal: 4.81s\tremaining: 1.36s\n",
            "780:\tlearn: 0.2082139\ttotal: 4.81s\tremaining: 1.35s\n",
            "781:\tlearn: 0.2081701\ttotal: 4.82s\tremaining: 1.34s\n",
            "782:\tlearn: 0.2081440\ttotal: 4.83s\tremaining: 1.34s\n",
            "783:\tlearn: 0.2080864\ttotal: 4.83s\tremaining: 1.33s\n",
            "784:\tlearn: 0.2080467\ttotal: 4.84s\tremaining: 1.32s\n",
            "785:\tlearn: 0.2079903\ttotal: 4.84s\tremaining: 1.32s\n",
            "786:\tlearn: 0.2079293\ttotal: 4.85s\tremaining: 1.31s\n",
            "787:\tlearn: 0.2078941\ttotal: 4.86s\tremaining: 1.31s\n",
            "788:\tlearn: 0.2078178\ttotal: 4.87s\tremaining: 1.3s\n",
            "789:\tlearn: 0.2077635\ttotal: 4.87s\tremaining: 1.29s\n",
            "790:\tlearn: 0.2077425\ttotal: 4.88s\tremaining: 1.29s\n",
            "791:\tlearn: 0.2076753\ttotal: 4.88s\tremaining: 1.28s\n",
            "792:\tlearn: 0.2076150\ttotal: 4.89s\tremaining: 1.28s\n",
            "793:\tlearn: 0.2075931\ttotal: 4.9s\tremaining: 1.27s\n",
            "794:\tlearn: 0.2075387\ttotal: 4.9s\tremaining: 1.26s\n",
            "795:\tlearn: 0.2075039\ttotal: 4.91s\tremaining: 1.26s\n",
            "796:\tlearn: 0.2074567\ttotal: 4.92s\tremaining: 1.25s\n",
            "797:\tlearn: 0.2074061\ttotal: 4.92s\tremaining: 1.25s\n",
            "798:\tlearn: 0.2073631\ttotal: 4.93s\tremaining: 1.24s\n",
            "799:\tlearn: 0.2073236\ttotal: 4.93s\tremaining: 1.23s\n",
            "800:\tlearn: 0.2072589\ttotal: 4.94s\tremaining: 1.23s\n",
            "801:\tlearn: 0.2072227\ttotal: 4.94s\tremaining: 1.22s\n",
            "802:\tlearn: 0.2071715\ttotal: 4.95s\tremaining: 1.21s\n",
            "803:\tlearn: 0.2071437\ttotal: 4.96s\tremaining: 1.21s\n",
            "804:\tlearn: 0.2071001\ttotal: 4.96s\tremaining: 1.2s\n",
            "805:\tlearn: 0.2070505\ttotal: 4.97s\tremaining: 1.2s\n",
            "806:\tlearn: 0.2069758\ttotal: 4.97s\tremaining: 1.19s\n",
            "807:\tlearn: 0.2069048\ttotal: 4.98s\tremaining: 1.18s\n",
            "808:\tlearn: 0.2068779\ttotal: 4.98s\tremaining: 1.18s\n",
            "809:\tlearn: 0.2068219\ttotal: 4.99s\tremaining: 1.17s\n",
            "810:\tlearn: 0.2067232\ttotal: 5s\tremaining: 1.16s\n",
            "811:\tlearn: 0.2066831\ttotal: 5s\tremaining: 1.16s\n",
            "812:\tlearn: 0.2066482\ttotal: 5.01s\tremaining: 1.15s\n",
            "813:\tlearn: 0.2066133\ttotal: 5.01s\tremaining: 1.15s\n",
            "814:\tlearn: 0.2065148\ttotal: 5.02s\tremaining: 1.14s\n",
            "815:\tlearn: 0.2064194\ttotal: 5.03s\tremaining: 1.13s\n",
            "816:\tlearn: 0.2063280\ttotal: 5.03s\tremaining: 1.13s\n",
            "817:\tlearn: 0.2062839\ttotal: 5.04s\tremaining: 1.12s\n",
            "818:\tlearn: 0.2062057\ttotal: 5.04s\tremaining: 1.11s\n",
            "819:\tlearn: 0.2061396\ttotal: 5.06s\tremaining: 1.11s\n",
            "820:\tlearn: 0.2060325\ttotal: 5.06s\tremaining: 1.1s\n",
            "821:\tlearn: 0.2059737\ttotal: 5.07s\tremaining: 1.1s\n",
            "822:\tlearn: 0.2059361\ttotal: 5.08s\tremaining: 1.09s\n",
            "823:\tlearn: 0.2058972\ttotal: 5.08s\tremaining: 1.08s\n",
            "824:\tlearn: 0.2058406\ttotal: 5.09s\tremaining: 1.08s\n",
            "825:\tlearn: 0.2058007\ttotal: 5.09s\tremaining: 1.07s\n",
            "826:\tlearn: 0.2057295\ttotal: 5.1s\tremaining: 1.07s\n",
            "827:\tlearn: 0.2056157\ttotal: 5.11s\tremaining: 1.06s\n",
            "828:\tlearn: 0.2055779\ttotal: 5.11s\tremaining: 1.05s\n",
            "829:\tlearn: 0.2055171\ttotal: 5.12s\tremaining: 1.05s\n",
            "830:\tlearn: 0.2054575\ttotal: 5.12s\tremaining: 1.04s\n",
            "831:\tlearn: 0.2054226\ttotal: 5.13s\tremaining: 1.04s\n",
            "832:\tlearn: 0.2053424\ttotal: 5.14s\tremaining: 1.03s\n",
            "833:\tlearn: 0.2052597\ttotal: 5.14s\tremaining: 1.02s\n",
            "834:\tlearn: 0.2052364\ttotal: 5.15s\tremaining: 1.02s\n",
            "835:\tlearn: 0.2052091\ttotal: 5.15s\tremaining: 1.01s\n",
            "836:\tlearn: 0.2051661\ttotal: 5.16s\tremaining: 1s\n",
            "837:\tlearn: 0.2051459\ttotal: 5.17s\tremaining: 999ms\n",
            "838:\tlearn: 0.2050930\ttotal: 5.17s\tremaining: 992ms\n",
            "839:\tlearn: 0.2049978\ttotal: 5.18s\tremaining: 986ms\n",
            "840:\tlearn: 0.2049200\ttotal: 5.18s\tremaining: 980ms\n",
            "841:\tlearn: 0.2048640\ttotal: 5.19s\tremaining: 974ms\n",
            "842:\tlearn: 0.2048528\ttotal: 5.2s\tremaining: 968ms\n",
            "843:\tlearn: 0.2048191\ttotal: 5.2s\tremaining: 962ms\n",
            "844:\tlearn: 0.2047883\ttotal: 5.21s\tremaining: 955ms\n",
            "845:\tlearn: 0.2047540\ttotal: 5.21s\tremaining: 949ms\n",
            "846:\tlearn: 0.2046788\ttotal: 5.22s\tremaining: 943ms\n",
            "847:\tlearn: 0.2045830\ttotal: 5.22s\tremaining: 937ms\n",
            "848:\tlearn: 0.2045265\ttotal: 5.23s\tremaining: 931ms\n",
            "849:\tlearn: 0.2044645\ttotal: 5.24s\tremaining: 924ms\n",
            "850:\tlearn: 0.2044399\ttotal: 5.24s\tremaining: 918ms\n",
            "851:\tlearn: 0.2043842\ttotal: 5.25s\tremaining: 912ms\n",
            "852:\tlearn: 0.2043184\ttotal: 5.26s\tremaining: 907ms\n",
            "853:\tlearn: 0.2042560\ttotal: 5.26s\tremaining: 900ms\n",
            "854:\tlearn: 0.2042168\ttotal: 5.27s\tremaining: 894ms\n",
            "855:\tlearn: 0.2041509\ttotal: 5.28s\tremaining: 888ms\n",
            "856:\tlearn: 0.2040935\ttotal: 5.28s\tremaining: 882ms\n",
            "857:\tlearn: 0.2040346\ttotal: 5.29s\tremaining: 875ms\n",
            "858:\tlearn: 0.2040213\ttotal: 5.29s\tremaining: 869ms\n",
            "859:\tlearn: 0.2039835\ttotal: 5.3s\tremaining: 863ms\n",
            "860:\tlearn: 0.2039351\ttotal: 5.3s\tremaining: 856ms\n",
            "861:\tlearn: 0.2039104\ttotal: 5.31s\tremaining: 850ms\n",
            "862:\tlearn: 0.2038871\ttotal: 5.32s\tremaining: 844ms\n",
            "863:\tlearn: 0.2038655\ttotal: 5.32s\tremaining: 838ms\n",
            "864:\tlearn: 0.2038287\ttotal: 5.33s\tremaining: 831ms\n",
            "865:\tlearn: 0.2038000\ttotal: 5.33s\tremaining: 825ms\n",
            "866:\tlearn: 0.2037537\ttotal: 5.34s\tremaining: 819ms\n",
            "867:\tlearn: 0.2037061\ttotal: 5.34s\tremaining: 813ms\n",
            "868:\tlearn: 0.2036653\ttotal: 5.35s\tremaining: 807ms\n",
            "869:\tlearn: 0.2036327\ttotal: 5.36s\tremaining: 800ms\n",
            "870:\tlearn: 0.2036130\ttotal: 5.36s\tremaining: 794ms\n",
            "871:\tlearn: 0.2036027\ttotal: 5.37s\tremaining: 788ms\n",
            "872:\tlearn: 0.2035663\ttotal: 5.37s\tremaining: 782ms\n",
            "873:\tlearn: 0.2035415\ttotal: 5.38s\tremaining: 776ms\n",
            "874:\tlearn: 0.2034885\ttotal: 5.39s\tremaining: 770ms\n",
            "875:\tlearn: 0.2034483\ttotal: 5.39s\tremaining: 763ms\n",
            "876:\tlearn: 0.2033905\ttotal: 5.4s\tremaining: 757ms\n",
            "877:\tlearn: 0.2033377\ttotal: 5.4s\tremaining: 751ms\n",
            "878:\tlearn: 0.2032779\ttotal: 5.41s\tremaining: 745ms\n",
            "879:\tlearn: 0.2032253\ttotal: 5.42s\tremaining: 739ms\n",
            "880:\tlearn: 0.2031476\ttotal: 5.42s\tremaining: 732ms\n",
            "881:\tlearn: 0.2030806\ttotal: 5.43s\tremaining: 726ms\n",
            "882:\tlearn: 0.2030196\ttotal: 5.43s\tremaining: 720ms\n",
            "883:\tlearn: 0.2029640\ttotal: 5.44s\tremaining: 714ms\n",
            "884:\tlearn: 0.2029060\ttotal: 5.45s\tremaining: 708ms\n",
            "885:\tlearn: 0.2028242\ttotal: 5.46s\tremaining: 702ms\n",
            "886:\tlearn: 0.2027833\ttotal: 5.46s\tremaining: 696ms\n",
            "887:\tlearn: 0.2027473\ttotal: 5.47s\tremaining: 690ms\n",
            "888:\tlearn: 0.2026542\ttotal: 5.47s\tremaining: 684ms\n",
            "889:\tlearn: 0.2026099\ttotal: 5.48s\tremaining: 677ms\n",
            "890:\tlearn: 0.2025600\ttotal: 5.49s\tremaining: 671ms\n",
            "891:\tlearn: 0.2025474\ttotal: 5.49s\tremaining: 665ms\n",
            "892:\tlearn: 0.2025025\ttotal: 5.5s\tremaining: 659ms\n",
            "893:\tlearn: 0.2024784\ttotal: 5.5s\tremaining: 653ms\n",
            "894:\tlearn: 0.2024700\ttotal: 5.51s\tremaining: 646ms\n",
            "895:\tlearn: 0.2024533\ttotal: 5.51s\tremaining: 640ms\n",
            "896:\tlearn: 0.2024217\ttotal: 5.52s\tremaining: 634ms\n",
            "897:\tlearn: 0.2023629\ttotal: 5.53s\tremaining: 628ms\n",
            "898:\tlearn: 0.2023184\ttotal: 5.53s\tremaining: 621ms\n",
            "899:\tlearn: 0.2022679\ttotal: 5.54s\tremaining: 615ms\n",
            "900:\tlearn: 0.2022165\ttotal: 5.54s\tremaining: 609ms\n",
            "901:\tlearn: 0.2021754\ttotal: 5.55s\tremaining: 603ms\n",
            "902:\tlearn: 0.2021193\ttotal: 5.56s\tremaining: 597ms\n",
            "903:\tlearn: 0.2020359\ttotal: 5.56s\tremaining: 591ms\n",
            "904:\tlearn: 0.2020217\ttotal: 5.57s\tremaining: 584ms\n",
            "905:\tlearn: 0.2019894\ttotal: 5.57s\tremaining: 578ms\n",
            "906:\tlearn: 0.2019664\ttotal: 5.58s\tremaining: 572ms\n",
            "907:\tlearn: 0.2019228\ttotal: 5.59s\tremaining: 566ms\n",
            "908:\tlearn: 0.2019057\ttotal: 5.59s\tremaining: 560ms\n",
            "909:\tlearn: 0.2018638\ttotal: 5.6s\tremaining: 554ms\n",
            "910:\tlearn: 0.2018006\ttotal: 5.6s\tremaining: 547ms\n",
            "911:\tlearn: 0.2017661\ttotal: 5.62s\tremaining: 542ms\n",
            "912:\tlearn: 0.2017321\ttotal: 5.63s\tremaining: 536ms\n",
            "913:\tlearn: 0.2016683\ttotal: 5.63s\tremaining: 530ms\n",
            "914:\tlearn: 0.2016116\ttotal: 5.64s\tremaining: 524ms\n",
            "915:\tlearn: 0.2015498\ttotal: 5.64s\tremaining: 518ms\n",
            "916:\tlearn: 0.2014901\ttotal: 5.65s\tremaining: 512ms\n",
            "917:\tlearn: 0.2014413\ttotal: 5.66s\tremaining: 506ms\n",
            "918:\tlearn: 0.2014053\ttotal: 5.67s\tremaining: 500ms\n",
            "919:\tlearn: 0.2013845\ttotal: 5.67s\tremaining: 493ms\n",
            "920:\tlearn: 0.2013212\ttotal: 5.68s\tremaining: 487ms\n",
            "921:\tlearn: 0.2012769\ttotal: 5.69s\tremaining: 481ms\n",
            "922:\tlearn: 0.2012185\ttotal: 5.69s\tremaining: 475ms\n",
            "923:\tlearn: 0.2011564\ttotal: 5.7s\tremaining: 469ms\n",
            "924:\tlearn: 0.2011032\ttotal: 5.7s\tremaining: 463ms\n",
            "925:\tlearn: 0.2010915\ttotal: 5.71s\tremaining: 456ms\n",
            "926:\tlearn: 0.2010470\ttotal: 5.71s\tremaining: 450ms\n",
            "927:\tlearn: 0.2010046\ttotal: 5.72s\tremaining: 444ms\n",
            "928:\tlearn: 0.2009471\ttotal: 5.73s\tremaining: 438ms\n",
            "929:\tlearn: 0.2009065\ttotal: 5.73s\tremaining: 432ms\n",
            "930:\tlearn: 0.2008661\ttotal: 5.74s\tremaining: 426ms\n",
            "931:\tlearn: 0.2008228\ttotal: 5.75s\tremaining: 419ms\n",
            "932:\tlearn: 0.2007508\ttotal: 5.75s\tremaining: 413ms\n",
            "933:\tlearn: 0.2006888\ttotal: 5.76s\tremaining: 407ms\n",
            "934:\tlearn: 0.2006841\ttotal: 5.76s\tremaining: 401ms\n",
            "935:\tlearn: 0.2006391\ttotal: 5.77s\tremaining: 395ms\n",
            "936:\tlearn: 0.2006098\ttotal: 5.78s\tremaining: 388ms\n",
            "937:\tlearn: 0.2005687\ttotal: 5.78s\tremaining: 382ms\n",
            "938:\tlearn: 0.2005311\ttotal: 5.79s\tremaining: 376ms\n",
            "939:\tlearn: 0.2004941\ttotal: 5.79s\tremaining: 370ms\n",
            "940:\tlearn: 0.2004431\ttotal: 5.8s\tremaining: 364ms\n",
            "941:\tlearn: 0.2004097\ttotal: 5.81s\tremaining: 358ms\n",
            "942:\tlearn: 0.2003615\ttotal: 5.81s\tremaining: 351ms\n",
            "943:\tlearn: 0.2003168\ttotal: 5.82s\tremaining: 345ms\n",
            "944:\tlearn: 0.2002780\ttotal: 5.82s\tremaining: 339ms\n",
            "945:\tlearn: 0.2002440\ttotal: 5.83s\tremaining: 333ms\n",
            "946:\tlearn: 0.2002160\ttotal: 5.84s\tremaining: 327ms\n",
            "947:\tlearn: 0.2001481\ttotal: 5.84s\tremaining: 320ms\n",
            "948:\tlearn: 0.2001264\ttotal: 5.85s\tremaining: 314ms\n",
            "949:\tlearn: 0.2000980\ttotal: 5.86s\tremaining: 308ms\n",
            "950:\tlearn: 0.2000705\ttotal: 5.86s\tremaining: 302ms\n",
            "951:\tlearn: 0.2000210\ttotal: 5.87s\tremaining: 296ms\n",
            "952:\tlearn: 0.1999529\ttotal: 5.88s\tremaining: 290ms\n",
            "953:\tlearn: 0.1999125\ttotal: 5.88s\tremaining: 284ms\n",
            "954:\tlearn: 0.1998578\ttotal: 5.89s\tremaining: 277ms\n",
            "955:\tlearn: 0.1998281\ttotal: 5.89s\tremaining: 271ms\n",
            "956:\tlearn: 0.1997852\ttotal: 5.9s\tremaining: 265ms\n",
            "957:\tlearn: 0.1997426\ttotal: 5.91s\tremaining: 259ms\n",
            "958:\tlearn: 0.1997191\ttotal: 5.91s\tremaining: 253ms\n",
            "959:\tlearn: 0.1996901\ttotal: 5.92s\tremaining: 247ms\n",
            "960:\tlearn: 0.1996589\ttotal: 5.92s\tremaining: 240ms\n",
            "961:\tlearn: 0.1996187\ttotal: 5.93s\tremaining: 234ms\n",
            "962:\tlearn: 0.1995712\ttotal: 5.93s\tremaining: 228ms\n",
            "963:\tlearn: 0.1995276\ttotal: 5.94s\tremaining: 222ms\n",
            "964:\tlearn: 0.1994707\ttotal: 5.95s\tremaining: 216ms\n",
            "965:\tlearn: 0.1994333\ttotal: 5.95s\tremaining: 209ms\n",
            "966:\tlearn: 0.1994076\ttotal: 5.96s\tremaining: 203ms\n",
            "967:\tlearn: 0.1993527\ttotal: 5.96s\tremaining: 197ms\n",
            "968:\tlearn: 0.1993235\ttotal: 5.97s\tremaining: 191ms\n",
            "969:\tlearn: 0.1992920\ttotal: 5.97s\tremaining: 185ms\n",
            "970:\tlearn: 0.1992632\ttotal: 5.98s\tremaining: 179ms\n",
            "971:\tlearn: 0.1992233\ttotal: 5.99s\tremaining: 172ms\n",
            "972:\tlearn: 0.1991723\ttotal: 5.99s\tremaining: 166ms\n",
            "973:\tlearn: 0.1991252\ttotal: 6s\tremaining: 160ms\n",
            "974:\tlearn: 0.1990709\ttotal: 6s\tremaining: 154ms\n",
            "975:\tlearn: 0.1990399\ttotal: 6.01s\tremaining: 148ms\n",
            "976:\tlearn: 0.1990028\ttotal: 6.01s\tremaining: 142ms\n",
            "977:\tlearn: 0.1989954\ttotal: 6.02s\tremaining: 135ms\n",
            "978:\tlearn: 0.1989420\ttotal: 6.03s\tremaining: 129ms\n",
            "979:\tlearn: 0.1989029\ttotal: 6.03s\tremaining: 123ms\n",
            "980:\tlearn: 0.1988973\ttotal: 6.04s\tremaining: 117ms\n",
            "981:\tlearn: 0.1988612\ttotal: 6.04s\tremaining: 111ms\n",
            "982:\tlearn: 0.1988164\ttotal: 6.05s\tremaining: 105ms\n",
            "983:\tlearn: 0.1987856\ttotal: 6.06s\tremaining: 98.5ms\n",
            "984:\tlearn: 0.1987637\ttotal: 6.06s\tremaining: 92.3ms\n",
            "985:\tlearn: 0.1987298\ttotal: 6.07s\tremaining: 86.2ms\n",
            "986:\tlearn: 0.1986656\ttotal: 6.08s\tremaining: 80ms\n",
            "987:\tlearn: 0.1986417\ttotal: 6.08s\tremaining: 73.9ms\n",
            "988:\tlearn: 0.1985721\ttotal: 6.09s\tremaining: 67.7ms\n",
            "989:\tlearn: 0.1985269\ttotal: 6.09s\tremaining: 61.6ms\n",
            "990:\tlearn: 0.1984790\ttotal: 6.1s\tremaining: 55.4ms\n",
            "991:\tlearn: 0.1984595\ttotal: 6.11s\tremaining: 49.2ms\n",
            "992:\tlearn: 0.1984330\ttotal: 6.11s\tremaining: 43.1ms\n",
            "993:\tlearn: 0.1983730\ttotal: 6.12s\tremaining: 36.9ms\n",
            "994:\tlearn: 0.1983637\ttotal: 6.12s\tremaining: 30.8ms\n",
            "995:\tlearn: 0.1983365\ttotal: 6.13s\tremaining: 24.6ms\n",
            "996:\tlearn: 0.1982704\ttotal: 6.13s\tremaining: 18.5ms\n",
            "997:\tlearn: 0.1982127\ttotal: 6.14s\tremaining: 12.3ms\n",
            "998:\tlearn: 0.1982089\ttotal: 6.14s\tremaining: 6.15ms\n",
            "999:\tlearn: 0.1981353\ttotal: 6.15s\tremaining: 0us\n"
          ],
          "name": "stdout"
        },
        {
          "output_type": "execute_result",
          "data": {
            "text/plain": [
              "<catboost.core.CatBoostRegressor at 0x7f96a9e77ba8>"
            ]
          },
          "metadata": {
            "tags": []
          },
          "execution_count": 78
        }
      ]
    },
    {
      "cell_type": "code",
      "metadata": {
        "colab": {
          "base_uri": "https://localhost:8080/"
        },
        "id": "qfGJ4O_vXfPp",
        "outputId": "4cf226ad-5cca-4637-b6c8-2af03ef0edbc"
      },
      "source": [
        "# METRICS OF TRAINING SET\r\n",
        "from sklearn.metrics import r2_score\r\n",
        "y_hat = regressor3.predict(x_train)\r\n",
        "r2_score(y_train,y_hat)"
      ],
      "execution_count": 79,
      "outputs": [
        {
          "output_type": "execute_result",
          "data": {
            "text/plain": [
              "0.9606455128260516"
            ]
          },
          "metadata": {
            "tags": []
          },
          "execution_count": 79
        }
      ]
    },
    {
      "cell_type": "code",
      "metadata": {
        "colab": {
          "base_uri": "https://localhost:8080/"
        },
        "id": "EYZ1qHIzYF7h",
        "outputId": "9ce46f1f-f1ca-42ed-909c-26ebf7a001c5"
      },
      "source": [
        "# METRICS ON TEST SET\r\n",
        "from sklearn.metrics import r2_score, mean_squared_error\r\n",
        "y_pred = regressor3.predict(x_valid)\r\n",
        "print(\"The r2 score of the model is: \" , r2_score(y_valid,y_pred))\r\n",
        "print(\"The mean square error of the model is: \" , mean_squared_error(y_valid,y_pred))"
      ],
      "execution_count": 80,
      "outputs": [
        {
          "output_type": "stream",
          "text": [
            "The r2 score of the model is:  0.9353323443370148\n",
            "The mean square error of the model is:  0.06530406532840528\n"
          ],
          "name": "stdout"
        }
      ]
    },
    {
      "cell_type": "code",
      "metadata": {
        "id": "TAEo42UGZx1k"
      },
      "source": [
        "# saving the best model to the local file system\r\n",
        "filename = 'best_regression_model.pickle'\r\n",
        "pickle.dump(regressor3, open(filename, 'wb'))"
      ],
      "execution_count": 81,
      "outputs": []
    },
    {
      "cell_type": "markdown",
      "metadata": {
        "id": "AriQ1eUwYXI-"
      },
      "source": [
        "## # Conclusion: Best linear model achieved with CatBoost mODEL\r\n",
        "* train set: r2_score:0.80 (previous model)/ 0.95 (current mode)\r\n",
        "* validation set:  r2_score:     0.794 (previous model)/ 0.93 (current model)"
      ]
    },
    {
      "cell_type": "markdown",
      "metadata": {
        "id": "jn76Am5EpJ78"
      },
      "source": [
        "### Make prediction on validation set with best model"
      ]
    },
    {
      "cell_type": "code",
      "metadata": {
        "colab": {
          "base_uri": "https://localhost:8080/"
        },
        "id": "TeGvGM3CpPcm",
        "outputId": "201395cc-4b87-46eb-bdf9-244fba2266d9"
      },
      "source": [
        "# Make prediction on test set with \r\n",
        "best_model = regressor3\r\n",
        "# Predicting a new result\r\n",
        "y_hat = sc_y.inverse_transform(best_model.predict((x_valid)))\r\n",
        "# Predicting the Test set results\r\n",
        "np.set_printoptions(precision=2)\r\n",
        "y_valid_true = sc_y.inverse_transform(y_valid)\r\n",
        "print(np.concatenate((y_hat.reshape(len(y_hat),1), y_valid_true.reshape(len(y_valid_true),1)),1))"
      ],
      "execution_count": 83,
      "outputs": [
        {
          "output_type": "stream",
          "text": [
            "[[ 2959.33  3800.  ]\n",
            " [10319.33 10290.  ]\n",
            " [ 1181.52  1170.  ]\n",
            " ...\n",
            " [10860.17 10499.  ]\n",
            " [ 5048.31  4450.  ]\n",
            " [ 1825.49  1000.  ]]\n"
          ],
          "name": "stdout"
        }
      ]
    },
    {
      "cell_type": "code",
      "metadata": {
        "id": "si39nvpiW-uz",
        "outputId": "41818cee-3dd1-4640-93da-429ce195900e",
        "colab": {
          "base_uri": "https://localhost:8080/",
          "height": 491
        }
      },
      "source": [
        "# Let's visualize the fit\r\n",
        "plt.figure(figsize=(8, 6))\r\n",
        "\r\n",
        "\r\n",
        "ax1 = sns.distplot(y_valid_true, hist=False, color=\"r\", label=\"Actual Value\")\r\n",
        "sns.distplot(y_hat, hist=False, color=\"b\", label=\"Fitted Values\" , ax=ax1)\r\n",
        "\r\n",
        "\r\n",
        "plt.title('Actual vs Fitted Values for Price')\r\n",
        "plt.xlabel('Price (in dollars)')\r\n",
        "plt.ylabel('Proportion of Cars')\r\n",
        "plt.legend(['Actual Value','Fitted Value'])\r\n",
        "\r\n",
        "plt.show()\r\n",
        "plt.close()"
      ],
      "execution_count": 84,
      "outputs": [
        {
          "output_type": "stream",
          "text": [
            "/usr/local/lib/python3.6/dist-packages/seaborn/distributions.py:2557: FutureWarning: `distplot` is a deprecated function and will be removed in a future version. Please adapt your code to use either `displot` (a figure-level function with similar flexibility) or `kdeplot` (an axes-level function for kernel density plots).\n",
            "  warnings.warn(msg, FutureWarning)\n",
            "/usr/local/lib/python3.6/dist-packages/seaborn/distributions.py:2557: FutureWarning: `distplot` is a deprecated function and will be removed in a future version. Please adapt your code to use either `displot` (a figure-level function with similar flexibility) or `kdeplot` (an axes-level function for kernel density plots).\n",
            "  warnings.warn(msg, FutureWarning)\n"
          ],
          "name": "stderr"
        },
        {
          "output_type": "display_data",
          "data": {
            "image/png": "[encoded data removed]",
            "text/plain": [
              "<Figure size 576x432 with 1 Axes>"
            ]
          },
          "metadata": {
            "tags": [],
            "needs_background": "light"
          }
        }
      ]
    },
    {
      "cell_type": "markdown",
      "metadata": {
        "id": "dh8lf25knumF"
      },
      "source": [
        "### Make prediction on test set with best model"
      ]
    },
    {
      "cell_type": "code",
      "metadata": {
        "id": "zQzQ7JZcjsuY"
      },
      "source": [
        "# Make prediction\r\n",
        "X_test = df_test.values\r\n",
        "# load trained model\r\n",
        "loaded_model = pickle.load(open('best_regression_model.pickle', 'rb'))\r\n",
        "y_hat = sc_y.inverse_transform(loaded_model.predict(sc.transform(X_test)))"
      ],
      "execution_count": 85,
      "outputs": []
    },
    {
      "cell_type": "code",
      "metadata": {
        "id": "HpAtGXegniZL"
      },
      "source": [
        "# save file as txt file\r\n",
        "np.savetxt('October2020_Challenge_AbiolaObembe', y_hat, fmt='%d', delimiter=' ', newline='\\n', header='', footer='', comments='# ', encoding=None)\r\n",
        "\r\n",
        "# numpy.savetxt(fname, arr, fmt='%.18e', delimiter=' ', newline='\\n', header='', footer='', comments='# ', encoding=None)\r\n",
        "\r\n",
        " # Save Numpy array to csv with custom header and footer\r\n",
        "#np.savetxt('array_hf.csv', [arr], delimiter=',', fmt='%d' , header='A Sample 2D Numpy Array :: Header', footer='This is footer')"
      ],
      "execution_count": null,
      "outputs": []
    }
  ]
}