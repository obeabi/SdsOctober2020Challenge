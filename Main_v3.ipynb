{
  "nbformat": 4,
  "nbformat_minor": 0,
  "metadata": {
    "colab": {
      "name": "Main_v3.ipynb",
      "provenance": [],
      "authorship_tag": "ABX9TyPEEUUl7WEUVybSiyNFLL9o",
      "include_colab_link": true
    },
    "kernelspec": {
      "name": "python3",
      "display_name": "Python 3"
    }
  },
  "cells": [
    {
      "cell_type": "markdown",
      "metadata": {
        "id": "view-in-github",
        "colab_type": "text"
      },
      "source": [
        "<a href=\"https://colab.research.google.com/github/obeabi/SdsOctober2020Challenge/blob/main/Main_v3.ipynb\" target=\"_parent\"><img src=\"https://colab.research.google.com/assets/colab-badge.svg\" alt=\"Open In Colab\"/></a>"
      ]
    },
    {
      "cell_type": "markdown",
      "metadata": {
        "id": "7i3DzeOAFN48"
      },
      "source": [
        "# Written by Abiola Obembe\r\n",
        "# SDS October Challenge #2 - Used Car Prices\r\n",
        "## 2021-01-02\r\n",
        "\r\n",
        "### In this example the catgeorical columns were all transformed using target encoding"
      ]
    },
    {
      "cell_type": "markdown",
      "metadata": {
        "id": "C5Wy1C3FFWlF"
      },
      "source": [
        "This month you have been hired by a new car trader company to help sell its used cars. You will be analyzing used cars from multiple manufacturers and of different models. Your job is to help the car trader company determine the price of its used cars."
      ]
    },
    {
      "cell_type": "markdown",
      "metadata": {
        "id": "P4iVP8uAGZim"
      },
      "source": [
        "## Step 1: Data Preprocessing "
      ]
    },
    {
      "cell_type": "code",
      "metadata": {
        "colab": {
          "base_uri": "https://localhost:8080/"
        },
        "id": "LU2Es40IFaa2",
        "outputId": "b6616cfe-58f3-4169-86fd-f02c97dca67c"
      },
      "source": [
        "# Importing the libraries\r\n",
        "import pickle\r\n",
        "import numpy as np\r\n",
        "import matplotlib.pyplot as plt\r\n",
        "import pandas as pd\r\n",
        "import seaborn as sns\r\n",
        "from scipy import stats\r\n",
        "from scipy.stats import f_oneway\r\n",
        "from scipy.stats import  zscore\r\n",
        "from sklearn.preprocessing import StandardScaler \r\n",
        "from sklearn.linear_model  import Ridge,Lasso,RidgeCV, LassoCV, ElasticNet, ElasticNetCV, LinearRegression\r\n",
        "from sklearn.model_selection import train_test_split\r\n",
        "\r\n",
        "%matplotlib inline\r\n",
        "plt.rcParams['figure.figsize'] = (8.0, 6.0) # set default size of plots\r\n",
        "plt.rcParams['image.interpolation'] = 'nearest'\r\n",
        "plt.rcParams['image.cmap'] = 'gray'\r\n",
        "\r\n",
        "print('Libraries installed successfully!')\r\n",
        "\r\n",
        "np.random.seed(0)"
      ],
      "execution_count": 1,
      "outputs": [
        {
          "output_type": "stream",
          "text": [
            "Libraries installed successfully!\n"
          ],
          "name": "stdout"
        }
      ]
    },
    {
      "cell_type": "code",
      "metadata": {
        "colab": {
          "base_uri": "https://localhost:8080/",
          "height": 232
        },
        "id": "MrnpIY0BG3vj",
        "outputId": "f7193fb8-826c-46e8-88c5-cd8d970fd180"
      },
      "source": [
        "# Importing the training dataset\r\n",
        "\r\n",
        "df_train = pd.read_csv('df_train_te.csv', engine= 'python', encoding= 'latin1')\r\n",
        "\r\n",
        "\r\n",
        "df_train.head()"
      ],
      "execution_count": 2,
      "outputs": [
        {
          "output_type": "execute_result",
          "data": {
            "text/html": [
              "<div>\n",
              "<style scoped>\n",
              "    .dataframe tbody tr th:only-of-type {\n",
              "        vertical-align: middle;\n",
              "    }\n",
              "\n",
              "    .dataframe tbody tr th {\n",
              "        vertical-align: top;\n",
              "    }\n",
              "\n",
              "    .dataframe thead th {\n",
              "        text-align: right;\n",
              "    }\n",
              "</style>\n",
              "<table border=\"1\" class=\"dataframe\">\n",
              "  <thead>\n",
              "    <tr style=\"text-align: right;\">\n",
              "      <th></th>\n",
              "      <th>Unnamed: 0</th>\n",
              "      <th>odometer_value</th>\n",
              "      <th>year_produced</th>\n",
              "      <th>engine_has_gas</th>\n",
              "      <th>engine_capacity</th>\n",
              "      <th>has_warranty</th>\n",
              "      <th>feature_0</th>\n",
              "      <th>feature_1</th>\n",
              "      <th>feature_2</th>\n",
              "      <th>feature_3</th>\n",
              "      <th>feature_4</th>\n",
              "      <th>feature_5</th>\n",
              "      <th>feature_6</th>\n",
              "      <th>feature_7</th>\n",
              "      <th>feature_8</th>\n",
              "      <th>feature_9</th>\n",
              "      <th>duration_listed</th>\n",
              "      <th>price_usd</th>\n",
              "      <th>manufacturer_name_te</th>\n",
              "      <th>model_name_te</th>\n",
              "      <th>transmission_te</th>\n",
              "      <th>color_te</th>\n",
              "      <th>engine_fuel_te</th>\n",
              "      <th>engine_type_te</th>\n",
              "      <th>body_type_te</th>\n",
              "      <th>state_te</th>\n",
              "      <th>drivetrain_te</th>\n",
              "    </tr>\n",
              "  </thead>\n",
              "  <tbody>\n",
              "    <tr>\n",
              "      <th>0</th>\n",
              "      <td>0</td>\n",
              "      <td>245000</td>\n",
              "      <td>2006</td>\n",
              "      <td>0</td>\n",
              "      <td>1.6</td>\n",
              "      <td>0</td>\n",
              "      <td>1</td>\n",
              "      <td>0</td>\n",
              "      <td>0</td>\n",
              "      <td>0</td>\n",
              "      <td>0</td>\n",
              "      <td>0</td>\n",
              "      <td>0</td>\n",
              "      <td>0</td>\n",
              "      <td>0</td>\n",
              "      <td>0</td>\n",
              "      <td>7</td>\n",
              "      <td>4250.0</td>\n",
              "      <td>5029.863851</td>\n",
              "      <td>9575.330756</td>\n",
              "      <td>4470.104020</td>\n",
              "      <td>4786.850334</td>\n",
              "      <td>6270.954384</td>\n",
              "      <td>6222.792804</td>\n",
              "      <td>4038.937757</td>\n",
              "      <td>6460.257538</td>\n",
              "      <td>5373.827909</td>\n",
              "    </tr>\n",
              "    <tr>\n",
              "      <th>1</th>\n",
              "      <td>1</td>\n",
              "      <td>265542</td>\n",
              "      <td>2002</td>\n",
              "      <td>0</td>\n",
              "      <td>3.3</td>\n",
              "      <td>0</td>\n",
              "      <td>0</td>\n",
              "      <td>1</td>\n",
              "      <td>0</td>\n",
              "      <td>0</td>\n",
              "      <td>0</td>\n",
              "      <td>0</td>\n",
              "      <td>0</td>\n",
              "      <td>0</td>\n",
              "      <td>0</td>\n",
              "      <td>0</td>\n",
              "      <td>133</td>\n",
              "      <td>4000.0</td>\n",
              "      <td>5735.589271</td>\n",
              "      <td>3179.271449</td>\n",
              "      <td>10916.245249</td>\n",
              "      <td>5934.723934</td>\n",
              "      <td>6270.954384</td>\n",
              "      <td>6222.792804</td>\n",
              "      <td>6182.120881</td>\n",
              "      <td>6460.257538</td>\n",
              "      <td>5373.827909</td>\n",
              "    </tr>\n",
              "    <tr>\n",
              "      <th>2</th>\n",
              "      <td>2</td>\n",
              "      <td>168000</td>\n",
              "      <td>2009</td>\n",
              "      <td>0</td>\n",
              "      <td>1.8</td>\n",
              "      <td>0</td>\n",
              "      <td>0</td>\n",
              "      <td>0</td>\n",
              "      <td>0</td>\n",
              "      <td>1</td>\n",
              "      <td>0</td>\n",
              "      <td>0</td>\n",
              "      <td>1</td>\n",
              "      <td>1</td>\n",
              "      <td>1</td>\n",
              "      <td>1</td>\n",
              "      <td>0</td>\n",
              "      <td>10900.0</td>\n",
              "      <td>5029.863851</td>\n",
              "      <td>5543.469085</td>\n",
              "      <td>4470.104020</td>\n",
              "      <td>4786.850334</td>\n",
              "      <td>7433.666811</td>\n",
              "      <td>7432.738394</td>\n",
              "      <td>6182.120881</td>\n",
              "      <td>6460.257538</td>\n",
              "      <td>5373.827909</td>\n",
              "    </tr>\n",
              "    <tr>\n",
              "      <th>3</th>\n",
              "      <td>3</td>\n",
              "      <td>225522</td>\n",
              "      <td>2008</td>\n",
              "      <td>0</td>\n",
              "      <td>1.8</td>\n",
              "      <td>0</td>\n",
              "      <td>0</td>\n",
              "      <td>1</td>\n",
              "      <td>1</td>\n",
              "      <td>0</td>\n",
              "      <td>0</td>\n",
              "      <td>1</td>\n",
              "      <td>0</td>\n",
              "      <td>0</td>\n",
              "      <td>1</td>\n",
              "      <td>1</td>\n",
              "      <td>20</td>\n",
              "      <td>6999.0</td>\n",
              "      <td>4735.107530</td>\n",
              "      <td>8128.120448</td>\n",
              "      <td>4470.104020</td>\n",
              "      <td>5854.666404</td>\n",
              "      <td>6270.954384</td>\n",
              "      <td>6222.792804</td>\n",
              "      <td>4971.458897</td>\n",
              "      <td>6460.257538</td>\n",
              "      <td>5373.827909</td>\n",
              "    </tr>\n",
              "    <tr>\n",
              "      <th>4</th>\n",
              "      <td>4</td>\n",
              "      <td>370000</td>\n",
              "      <td>1991</td>\n",
              "      <td>0</td>\n",
              "      <td>1.8</td>\n",
              "      <td>0</td>\n",
              "      <td>0</td>\n",
              "      <td>0</td>\n",
              "      <td>0</td>\n",
              "      <td>0</td>\n",
              "      <td>0</td>\n",
              "      <td>0</td>\n",
              "      <td>0</td>\n",
              "      <td>0</td>\n",
              "      <td>0</td>\n",
              "      <td>1</td>\n",
              "      <td>160</td>\n",
              "      <td>1600.0</td>\n",
              "      <td>7121.501476</td>\n",
              "      <td>1643.286410</td>\n",
              "      <td>4470.104020</td>\n",
              "      <td>9160.871863</td>\n",
              "      <td>6270.954384</td>\n",
              "      <td>6222.792804</td>\n",
              "      <td>5788.889002</td>\n",
              "      <td>6460.257538</td>\n",
              "      <td>5373.827909</td>\n",
              "    </tr>\n",
              "  </tbody>\n",
              "</table>\n",
              "</div>"
            ],
            "text/plain": [
              "   Unnamed: 0  odometer_value  ...     state_te  drivetrain_te\n",
              "0           0          245000  ...  6460.257538    5373.827909\n",
              "1           1          265542  ...  6460.257538    5373.827909\n",
              "2           2          168000  ...  6460.257538    5373.827909\n",
              "3           3          225522  ...  6460.257538    5373.827909\n",
              "4           4          370000  ...  6460.257538    5373.827909\n",
              "\n",
              "[5 rows x 27 columns]"
            ]
          },
          "metadata": {
            "tags": []
          },
          "execution_count": 2
        }
      ]
    },
    {
      "cell_type": "code",
      "metadata": {
        "colab": {
          "base_uri": "https://localhost:8080/",
          "height": 215
        },
        "id": "0Me6-AUoby3t",
        "outputId": "7817c302-a911-4a60-d4e3-043364e3a7e5"
      },
      "source": [
        "# drop first column\r\n",
        "df_train.drop('Unnamed: 0', axis = 1, inplace = True)\r\n",
        "\r\n",
        "df_train.head()"
      ],
      "execution_count": 3,
      "outputs": [
        {
          "output_type": "execute_result",
          "data": {
            "text/html": [
              "<div>\n",
              "<style scoped>\n",
              "    .dataframe tbody tr th:only-of-type {\n",
              "        vertical-align: middle;\n",
              "    }\n",
              "\n",
              "    .dataframe tbody tr th {\n",
              "        vertical-align: top;\n",
              "    }\n",
              "\n",
              "    .dataframe thead th {\n",
              "        text-align: right;\n",
              "    }\n",
              "</style>\n",
              "<table border=\"1\" class=\"dataframe\">\n",
              "  <thead>\n",
              "    <tr style=\"text-align: right;\">\n",
              "      <th></th>\n",
              "      <th>odometer_value</th>\n",
              "      <th>year_produced</th>\n",
              "      <th>engine_has_gas</th>\n",
              "      <th>engine_capacity</th>\n",
              "      <th>has_warranty</th>\n",
              "      <th>feature_0</th>\n",
              "      <th>feature_1</th>\n",
              "      <th>feature_2</th>\n",
              "      <th>feature_3</th>\n",
              "      <th>feature_4</th>\n",
              "      <th>feature_5</th>\n",
              "      <th>feature_6</th>\n",
              "      <th>feature_7</th>\n",
              "      <th>feature_8</th>\n",
              "      <th>feature_9</th>\n",
              "      <th>duration_listed</th>\n",
              "      <th>price_usd</th>\n",
              "      <th>manufacturer_name_te</th>\n",
              "      <th>model_name_te</th>\n",
              "      <th>transmission_te</th>\n",
              "      <th>color_te</th>\n",
              "      <th>engine_fuel_te</th>\n",
              "      <th>engine_type_te</th>\n",
              "      <th>body_type_te</th>\n",
              "      <th>state_te</th>\n",
              "      <th>drivetrain_te</th>\n",
              "    </tr>\n",
              "  </thead>\n",
              "  <tbody>\n",
              "    <tr>\n",
              "      <th>0</th>\n",
              "      <td>245000</td>\n",
              "      <td>2006</td>\n",
              "      <td>0</td>\n",
              "      <td>1.6</td>\n",
              "      <td>0</td>\n",
              "      <td>1</td>\n",
              "      <td>0</td>\n",
              "      <td>0</td>\n",
              "      <td>0</td>\n",
              "      <td>0</td>\n",
              "      <td>0</td>\n",
              "      <td>0</td>\n",
              "      <td>0</td>\n",
              "      <td>0</td>\n",
              "      <td>0</td>\n",
              "      <td>7</td>\n",
              "      <td>4250.0</td>\n",
              "      <td>5029.863851</td>\n",
              "      <td>9575.330756</td>\n",
              "      <td>4470.104020</td>\n",
              "      <td>4786.850334</td>\n",
              "      <td>6270.954384</td>\n",
              "      <td>6222.792804</td>\n",
              "      <td>4038.937757</td>\n",
              "      <td>6460.257538</td>\n",
              "      <td>5373.827909</td>\n",
              "    </tr>\n",
              "    <tr>\n",
              "      <th>1</th>\n",
              "      <td>265542</td>\n",
              "      <td>2002</td>\n",
              "      <td>0</td>\n",
              "      <td>3.3</td>\n",
              "      <td>0</td>\n",
              "      <td>0</td>\n",
              "      <td>1</td>\n",
              "      <td>0</td>\n",
              "      <td>0</td>\n",
              "      <td>0</td>\n",
              "      <td>0</td>\n",
              "      <td>0</td>\n",
              "      <td>0</td>\n",
              "      <td>0</td>\n",
              "      <td>0</td>\n",
              "      <td>133</td>\n",
              "      <td>4000.0</td>\n",
              "      <td>5735.589271</td>\n",
              "      <td>3179.271449</td>\n",
              "      <td>10916.245249</td>\n",
              "      <td>5934.723934</td>\n",
              "      <td>6270.954384</td>\n",
              "      <td>6222.792804</td>\n",
              "      <td>6182.120881</td>\n",
              "      <td>6460.257538</td>\n",
              "      <td>5373.827909</td>\n",
              "    </tr>\n",
              "    <tr>\n",
              "      <th>2</th>\n",
              "      <td>168000</td>\n",
              "      <td>2009</td>\n",
              "      <td>0</td>\n",
              "      <td>1.8</td>\n",
              "      <td>0</td>\n",
              "      <td>0</td>\n",
              "      <td>0</td>\n",
              "      <td>0</td>\n",
              "      <td>1</td>\n",
              "      <td>0</td>\n",
              "      <td>0</td>\n",
              "      <td>1</td>\n",
              "      <td>1</td>\n",
              "      <td>1</td>\n",
              "      <td>1</td>\n",
              "      <td>0</td>\n",
              "      <td>10900.0</td>\n",
              "      <td>5029.863851</td>\n",
              "      <td>5543.469085</td>\n",
              "      <td>4470.104020</td>\n",
              "      <td>4786.850334</td>\n",
              "      <td>7433.666811</td>\n",
              "      <td>7432.738394</td>\n",
              "      <td>6182.120881</td>\n",
              "      <td>6460.257538</td>\n",
              "      <td>5373.827909</td>\n",
              "    </tr>\n",
              "    <tr>\n",
              "      <th>3</th>\n",
              "      <td>225522</td>\n",
              "      <td>2008</td>\n",
              "      <td>0</td>\n",
              "      <td>1.8</td>\n",
              "      <td>0</td>\n",
              "      <td>0</td>\n",
              "      <td>1</td>\n",
              "      <td>1</td>\n",
              "      <td>0</td>\n",
              "      <td>0</td>\n",
              "      <td>1</td>\n",
              "      <td>0</td>\n",
              "      <td>0</td>\n",
              "      <td>1</td>\n",
              "      <td>1</td>\n",
              "      <td>20</td>\n",
              "      <td>6999.0</td>\n",
              "      <td>4735.107530</td>\n",
              "      <td>8128.120448</td>\n",
              "      <td>4470.104020</td>\n",
              "      <td>5854.666404</td>\n",
              "      <td>6270.954384</td>\n",
              "      <td>6222.792804</td>\n",
              "      <td>4971.458897</td>\n",
              "      <td>6460.257538</td>\n",
              "      <td>5373.827909</td>\n",
              "    </tr>\n",
              "    <tr>\n",
              "      <th>4</th>\n",
              "      <td>370000</td>\n",
              "      <td>1991</td>\n",
              "      <td>0</td>\n",
              "      <td>1.8</td>\n",
              "      <td>0</td>\n",
              "      <td>0</td>\n",
              "      <td>0</td>\n",
              "      <td>0</td>\n",
              "      <td>0</td>\n",
              "      <td>0</td>\n",
              "      <td>0</td>\n",
              "      <td>0</td>\n",
              "      <td>0</td>\n",
              "      <td>0</td>\n",
              "      <td>1</td>\n",
              "      <td>160</td>\n",
              "      <td>1600.0</td>\n",
              "      <td>7121.501476</td>\n",
              "      <td>1643.286410</td>\n",
              "      <td>4470.104020</td>\n",
              "      <td>9160.871863</td>\n",
              "      <td>6270.954384</td>\n",
              "      <td>6222.792804</td>\n",
              "      <td>5788.889002</td>\n",
              "      <td>6460.257538</td>\n",
              "      <td>5373.827909</td>\n",
              "    </tr>\n",
              "  </tbody>\n",
              "</table>\n",
              "</div>"
            ],
            "text/plain": [
              "   odometer_value  year_produced  ...     state_te  drivetrain_te\n",
              "0          245000           2006  ...  6460.257538    5373.827909\n",
              "1          265542           2002  ...  6460.257538    5373.827909\n",
              "2          168000           2009  ...  6460.257538    5373.827909\n",
              "3          225522           2008  ...  6460.257538    5373.827909\n",
              "4          370000           1991  ...  6460.257538    5373.827909\n",
              "\n",
              "[5 rows x 26 columns]"
            ]
          },
          "metadata": {
            "tags": []
          },
          "execution_count": 3
        }
      ]
    },
    {
      "cell_type": "code",
      "metadata": {
        "colab": {
          "base_uri": "https://localhost:8080/"
        },
        "id": "1ja7A4-OHn2H",
        "outputId": "2d6bdece-bed7-4e70-f3e4-de3eb9eea4dd"
      },
      "source": [
        "# print shape and check for missing values\r\n",
        "print(df_train.shape)\r\n",
        "print(df_train.isnull().sum().sum())"
      ],
      "execution_count": 4,
      "outputs": [
        {
          "output_type": "stream",
          "text": [
            "(30824, 26)\n",
            "0\n"
          ],
          "name": "stdout"
        }
      ]
    },
    {
      "cell_type": "code",
      "metadata": {
        "colab": {
          "base_uri": "https://localhost:8080/",
          "height": 232
        },
        "id": "EMD4GiggHVdX",
        "outputId": "2ab2a05c-745c-4be5-ef97-cfe537206e1e"
      },
      "source": [
        "# Importing the test dataset\r\n",
        "\r\n",
        "df_test = pd.read_csv('df_test_te.csv', engine= 'python', encoding= 'latin1')\r\n",
        "\r\n",
        "df_test.head()"
      ],
      "execution_count": 5,
      "outputs": [
        {
          "output_type": "execute_result",
          "data": {
            "text/html": [
              "<div>\n",
              "<style scoped>\n",
              "    .dataframe tbody tr th:only-of-type {\n",
              "        vertical-align: middle;\n",
              "    }\n",
              "\n",
              "    .dataframe tbody tr th {\n",
              "        vertical-align: top;\n",
              "    }\n",
              "\n",
              "    .dataframe thead th {\n",
              "        text-align: right;\n",
              "    }\n",
              "</style>\n",
              "<table border=\"1\" class=\"dataframe\">\n",
              "  <thead>\n",
              "    <tr style=\"text-align: right;\">\n",
              "      <th></th>\n",
              "      <th>Unnamed: 0</th>\n",
              "      <th>odometer_value</th>\n",
              "      <th>year_produced</th>\n",
              "      <th>engine_has_gas</th>\n",
              "      <th>engine_capacity</th>\n",
              "      <th>has_warranty</th>\n",
              "      <th>feature_0</th>\n",
              "      <th>feature_1</th>\n",
              "      <th>feature_2</th>\n",
              "      <th>feature_3</th>\n",
              "      <th>feature_4</th>\n",
              "      <th>feature_5</th>\n",
              "      <th>feature_6</th>\n",
              "      <th>feature_7</th>\n",
              "      <th>feature_8</th>\n",
              "      <th>feature_9</th>\n",
              "      <th>duration_listed</th>\n",
              "      <th>manufacturer_name_te</th>\n",
              "      <th>model_name_te</th>\n",
              "      <th>transmission_te</th>\n",
              "      <th>color_te</th>\n",
              "      <th>engine_fuel_te</th>\n",
              "      <th>engine_type_te</th>\n",
              "      <th>body_type_te</th>\n",
              "      <th>state_te</th>\n",
              "      <th>drivetrain_te</th>\n",
              "    </tr>\n",
              "  </thead>\n",
              "  <tbody>\n",
              "    <tr>\n",
              "      <th>0</th>\n",
              "      <td>0</td>\n",
              "      <td>360000</td>\n",
              "      <td>1997</td>\n",
              "      <td>0</td>\n",
              "      <td>1.6</td>\n",
              "      <td>0</td>\n",
              "      <td>0</td>\n",
              "      <td>1</td>\n",
              "      <td>0</td>\n",
              "      <td>0</td>\n",
              "      <td>0</td>\n",
              "      <td>0</td>\n",
              "      <td>0</td>\n",
              "      <td>1</td>\n",
              "      <td>0</td>\n",
              "      <td>1</td>\n",
              "      <td>114</td>\n",
              "      <td>4527.444987</td>\n",
              "      <td>3579.201887</td>\n",
              "      <td>4470.10402</td>\n",
              "      <td>4786.850334</td>\n",
              "      <td>6270.954384</td>\n",
              "      <td>6222.792804</td>\n",
              "      <td>7279.898552</td>\n",
              "      <td>6460.257538</td>\n",
              "      <td>5373.827909</td>\n",
              "    </tr>\n",
              "    <tr>\n",
              "      <th>1</th>\n",
              "      <td>1</td>\n",
              "      <td>267000</td>\n",
              "      <td>1999</td>\n",
              "      <td>0</td>\n",
              "      <td>1.4</td>\n",
              "      <td>0</td>\n",
              "      <td>0</td>\n",
              "      <td>0</td>\n",
              "      <td>0</td>\n",
              "      <td>0</td>\n",
              "      <td>0</td>\n",
              "      <td>0</td>\n",
              "      <td>0</td>\n",
              "      <td>0</td>\n",
              "      <td>0</td>\n",
              "      <td>1</td>\n",
              "      <td>67</td>\n",
              "      <td>4366.573198</td>\n",
              "      <td>2982.466306</td>\n",
              "      <td>4470.10402</td>\n",
              "      <td>5934.723934</td>\n",
              "      <td>6270.954384</td>\n",
              "      <td>6222.792804</td>\n",
              "      <td>4038.937757</td>\n",
              "      <td>6460.257538</td>\n",
              "      <td>5373.827909</td>\n",
              "    </tr>\n",
              "    <tr>\n",
              "      <th>2</th>\n",
              "      <td>2</td>\n",
              "      <td>172000</td>\n",
              "      <td>2000</td>\n",
              "      <td>0</td>\n",
              "      <td>2.0</td>\n",
              "      <td>0</td>\n",
              "      <td>1</td>\n",
              "      <td>0</td>\n",
              "      <td>0</td>\n",
              "      <td>0</td>\n",
              "      <td>0</td>\n",
              "      <td>0</td>\n",
              "      <td>0</td>\n",
              "      <td>0</td>\n",
              "      <td>0</td>\n",
              "      <td>0</td>\n",
              "      <td>50</td>\n",
              "      <td>6422.908952</td>\n",
              "      <td>7369.254926</td>\n",
              "      <td>4470.10402</td>\n",
              "      <td>4786.850334</td>\n",
              "      <td>6270.954384</td>\n",
              "      <td>6222.792804</td>\n",
              "      <td>6182.120881</td>\n",
              "      <td>6460.257538</td>\n",
              "      <td>5373.827909</td>\n",
              "    </tr>\n",
              "    <tr>\n",
              "      <th>3</th>\n",
              "      <td>3</td>\n",
              "      <td>230000</td>\n",
              "      <td>2009</td>\n",
              "      <td>0</td>\n",
              "      <td>2.4</td>\n",
              "      <td>0</td>\n",
              "      <td>0</td>\n",
              "      <td>1</td>\n",
              "      <td>1</td>\n",
              "      <td>1</td>\n",
              "      <td>0</td>\n",
              "      <td>1</td>\n",
              "      <td>1</td>\n",
              "      <td>1</td>\n",
              "      <td>1</td>\n",
              "      <td>1</td>\n",
              "      <td>79</td>\n",
              "      <td>8321.328778</td>\n",
              "      <td>19373.482632</td>\n",
              "      <td>4470.10402</td>\n",
              "      <td>8388.715029</td>\n",
              "      <td>7433.666811</td>\n",
              "      <td>7432.738394</td>\n",
              "      <td>4971.458897</td>\n",
              "      <td>6460.257538</td>\n",
              "      <td>5373.827909</td>\n",
              "    </tr>\n",
              "    <tr>\n",
              "      <th>4</th>\n",
              "      <td>4</td>\n",
              "      <td>206000</td>\n",
              "      <td>2007</td>\n",
              "      <td>0</td>\n",
              "      <td>1.6</td>\n",
              "      <td>0</td>\n",
              "      <td>0</td>\n",
              "      <td>1</td>\n",
              "      <td>0</td>\n",
              "      <td>1</td>\n",
              "      <td>0</td>\n",
              "      <td>1</td>\n",
              "      <td>0</td>\n",
              "      <td>0</td>\n",
              "      <td>0</td>\n",
              "      <td>0</td>\n",
              "      <td>74</td>\n",
              "      <td>4735.107530</td>\n",
              "      <td>7140.549826</td>\n",
              "      <td>4470.10402</td>\n",
              "      <td>5934.723934</td>\n",
              "      <td>6270.954384</td>\n",
              "      <td>6222.792804</td>\n",
              "      <td>5788.889002</td>\n",
              "      <td>6460.257538</td>\n",
              "      <td>5373.827909</td>\n",
              "    </tr>\n",
              "  </tbody>\n",
              "</table>\n",
              "</div>"
            ],
            "text/plain": [
              "   Unnamed: 0  odometer_value  ...     state_te  drivetrain_te\n",
              "0           0          360000  ...  6460.257538    5373.827909\n",
              "1           1          267000  ...  6460.257538    5373.827909\n",
              "2           2          172000  ...  6460.257538    5373.827909\n",
              "3           3          230000  ...  6460.257538    5373.827909\n",
              "4           4          206000  ...  6460.257538    5373.827909\n",
              "\n",
              "[5 rows x 26 columns]"
            ]
          },
          "metadata": {
            "tags": []
          },
          "execution_count": 5
        }
      ]
    },
    {
      "cell_type": "code",
      "metadata": {
        "colab": {
          "base_uri": "https://localhost:8080/",
          "height": 215
        },
        "id": "pt-LMa8gcgsA",
        "outputId": "8beb899a-fa9e-4a98-fb44-720e79174340"
      },
      "source": [
        "# drop first column\r\n",
        "df_test.drop('Unnamed: 0', axis = 1, inplace = True)\r\n",
        "\r\n",
        "df_test.head()"
      ],
      "execution_count": 6,
      "outputs": [
        {
          "output_type": "execute_result",
          "data": {
            "text/html": [
              "<div>\n",
              "<style scoped>\n",
              "    .dataframe tbody tr th:only-of-type {\n",
              "        vertical-align: middle;\n",
              "    }\n",
              "\n",
              "    .dataframe tbody tr th {\n",
              "        vertical-align: top;\n",
              "    }\n",
              "\n",
              "    .dataframe thead th {\n",
              "        text-align: right;\n",
              "    }\n",
              "</style>\n",
              "<table border=\"1\" class=\"dataframe\">\n",
              "  <thead>\n",
              "    <tr style=\"text-align: right;\">\n",
              "      <th></th>\n",
              "      <th>odometer_value</th>\n",
              "      <th>year_produced</th>\n",
              "      <th>engine_has_gas</th>\n",
              "      <th>engine_capacity</th>\n",
              "      <th>has_warranty</th>\n",
              "      <th>feature_0</th>\n",
              "      <th>feature_1</th>\n",
              "      <th>feature_2</th>\n",
              "      <th>feature_3</th>\n",
              "      <th>feature_4</th>\n",
              "      <th>feature_5</th>\n",
              "      <th>feature_6</th>\n",
              "      <th>feature_7</th>\n",
              "      <th>feature_8</th>\n",
              "      <th>feature_9</th>\n",
              "      <th>duration_listed</th>\n",
              "      <th>manufacturer_name_te</th>\n",
              "      <th>model_name_te</th>\n",
              "      <th>transmission_te</th>\n",
              "      <th>color_te</th>\n",
              "      <th>engine_fuel_te</th>\n",
              "      <th>engine_type_te</th>\n",
              "      <th>body_type_te</th>\n",
              "      <th>state_te</th>\n",
              "      <th>drivetrain_te</th>\n",
              "    </tr>\n",
              "  </thead>\n",
              "  <tbody>\n",
              "    <tr>\n",
              "      <th>0</th>\n",
              "      <td>360000</td>\n",
              "      <td>1997</td>\n",
              "      <td>0</td>\n",
              "      <td>1.6</td>\n",
              "      <td>0</td>\n",
              "      <td>0</td>\n",
              "      <td>1</td>\n",
              "      <td>0</td>\n",
              "      <td>0</td>\n",
              "      <td>0</td>\n",
              "      <td>0</td>\n",
              "      <td>0</td>\n",
              "      <td>1</td>\n",
              "      <td>0</td>\n",
              "      <td>1</td>\n",
              "      <td>114</td>\n",
              "      <td>4527.444987</td>\n",
              "      <td>3579.201887</td>\n",
              "      <td>4470.10402</td>\n",
              "      <td>4786.850334</td>\n",
              "      <td>6270.954384</td>\n",
              "      <td>6222.792804</td>\n",
              "      <td>7279.898552</td>\n",
              "      <td>6460.257538</td>\n",
              "      <td>5373.827909</td>\n",
              "    </tr>\n",
              "    <tr>\n",
              "      <th>1</th>\n",
              "      <td>267000</td>\n",
              "      <td>1999</td>\n",
              "      <td>0</td>\n",
              "      <td>1.4</td>\n",
              "      <td>0</td>\n",
              "      <td>0</td>\n",
              "      <td>0</td>\n",
              "      <td>0</td>\n",
              "      <td>0</td>\n",
              "      <td>0</td>\n",
              "      <td>0</td>\n",
              "      <td>0</td>\n",
              "      <td>0</td>\n",
              "      <td>0</td>\n",
              "      <td>1</td>\n",
              "      <td>67</td>\n",
              "      <td>4366.573198</td>\n",
              "      <td>2982.466306</td>\n",
              "      <td>4470.10402</td>\n",
              "      <td>5934.723934</td>\n",
              "      <td>6270.954384</td>\n",
              "      <td>6222.792804</td>\n",
              "      <td>4038.937757</td>\n",
              "      <td>6460.257538</td>\n",
              "      <td>5373.827909</td>\n",
              "    </tr>\n",
              "    <tr>\n",
              "      <th>2</th>\n",
              "      <td>172000</td>\n",
              "      <td>2000</td>\n",
              "      <td>0</td>\n",
              "      <td>2.0</td>\n",
              "      <td>0</td>\n",
              "      <td>1</td>\n",
              "      <td>0</td>\n",
              "      <td>0</td>\n",
              "      <td>0</td>\n",
              "      <td>0</td>\n",
              "      <td>0</td>\n",
              "      <td>0</td>\n",
              "      <td>0</td>\n",
              "      <td>0</td>\n",
              "      <td>0</td>\n",
              "      <td>50</td>\n",
              "      <td>6422.908952</td>\n",
              "      <td>7369.254926</td>\n",
              "      <td>4470.10402</td>\n",
              "      <td>4786.850334</td>\n",
              "      <td>6270.954384</td>\n",
              "      <td>6222.792804</td>\n",
              "      <td>6182.120881</td>\n",
              "      <td>6460.257538</td>\n",
              "      <td>5373.827909</td>\n",
              "    </tr>\n",
              "    <tr>\n",
              "      <th>3</th>\n",
              "      <td>230000</td>\n",
              "      <td>2009</td>\n",
              "      <td>0</td>\n",
              "      <td>2.4</td>\n",
              "      <td>0</td>\n",
              "      <td>0</td>\n",
              "      <td>1</td>\n",
              "      <td>1</td>\n",
              "      <td>1</td>\n",
              "      <td>0</td>\n",
              "      <td>1</td>\n",
              "      <td>1</td>\n",
              "      <td>1</td>\n",
              "      <td>1</td>\n",
              "      <td>1</td>\n",
              "      <td>79</td>\n",
              "      <td>8321.328778</td>\n",
              "      <td>19373.482632</td>\n",
              "      <td>4470.10402</td>\n",
              "      <td>8388.715029</td>\n",
              "      <td>7433.666811</td>\n",
              "      <td>7432.738394</td>\n",
              "      <td>4971.458897</td>\n",
              "      <td>6460.257538</td>\n",
              "      <td>5373.827909</td>\n",
              "    </tr>\n",
              "    <tr>\n",
              "      <th>4</th>\n",
              "      <td>206000</td>\n",
              "      <td>2007</td>\n",
              "      <td>0</td>\n",
              "      <td>1.6</td>\n",
              "      <td>0</td>\n",
              "      <td>0</td>\n",
              "      <td>1</td>\n",
              "      <td>0</td>\n",
              "      <td>1</td>\n",
              "      <td>0</td>\n",
              "      <td>1</td>\n",
              "      <td>0</td>\n",
              "      <td>0</td>\n",
              "      <td>0</td>\n",
              "      <td>0</td>\n",
              "      <td>74</td>\n",
              "      <td>4735.107530</td>\n",
              "      <td>7140.549826</td>\n",
              "      <td>4470.10402</td>\n",
              "      <td>5934.723934</td>\n",
              "      <td>6270.954384</td>\n",
              "      <td>6222.792804</td>\n",
              "      <td>5788.889002</td>\n",
              "      <td>6460.257538</td>\n",
              "      <td>5373.827909</td>\n",
              "    </tr>\n",
              "  </tbody>\n",
              "</table>\n",
              "</div>"
            ],
            "text/plain": [
              "   odometer_value  year_produced  ...     state_te  drivetrain_te\n",
              "0          360000           1997  ...  6460.257538    5373.827909\n",
              "1          267000           1999  ...  6460.257538    5373.827909\n",
              "2          172000           2000  ...  6460.257538    5373.827909\n",
              "3          230000           2009  ...  6460.257538    5373.827909\n",
              "4          206000           2007  ...  6460.257538    5373.827909\n",
              "\n",
              "[5 rows x 25 columns]"
            ]
          },
          "metadata": {
            "tags": []
          },
          "execution_count": 6
        }
      ]
    },
    {
      "cell_type": "code",
      "metadata": {
        "colab": {
          "base_uri": "https://localhost:8080/"
        },
        "id": "QQ5bTIyHKOhU",
        "outputId": "7d182e97-c3e4-47ea-c7d3-12993f0b60f2"
      },
      "source": [
        "# print shape and number of total missing values\r\n",
        "print(df_test.shape)\r\n",
        "print(df_test.isnull().sum().sum())"
      ],
      "execution_count": 7,
      "outputs": [
        {
          "output_type": "stream",
          "text": [
            "(7707, 25)\n",
            "0\n"
          ],
          "name": "stdout"
        }
      ]
    },
    {
      "cell_type": "code",
      "metadata": {
        "id": "SVu-bFY-hByC"
      },
      "source": [
        "# Let's create a function to create adjusted R-Squared\r\n",
        "def adj_r2(x,y):\r\n",
        "    r2 = regression.score(x,y)\r\n",
        "    n = x.shape[0]\r\n",
        "    p = x.shape[1]\r\n",
        "    adjusted_r2 = 1-(1-r2)*(n-1)/(n-p-1)\r\n",
        "    return adjusted_r2"
      ],
      "execution_count": 8,
      "outputs": []
    },
    {
      "cell_type": "markdown",
      "metadata": {
        "id": "Q2bgteTkfqpn"
      },
      "source": [
        "## Building  first model with only numericals columns"
      ]
    },
    {
      "cell_type": "code",
      "metadata": {
        "colab": {
          "base_uri": "https://localhost:8080/",
          "height": 1000
        },
        "id": "6lX3C-swmVh3",
        "outputId": "438a1620-2a42-4a16-d2d1-3492005dd7c9"
      },
      "source": [
        "# Viusalize realtionship between indepednet and dependent variable\r\n",
        "y = df_train['price_usd']\r\n",
        "X = df_train.drop(columns = ['price_usd'])\r\n",
        "\r\n",
        "plt.figure(figsize=(20,30), facecolor='white')\r\n",
        "plotnumber = 1\r\n",
        "\r\n",
        "for column in X:\r\n",
        "    if plotnumber<=15 :\r\n",
        "        ax = plt.subplot(5,3,plotnumber)\r\n",
        "        plt.scatter(X[column],y)\r\n",
        "        plt.xlabel(column,fontsize=20)\r\n",
        "        plt.ylabel('Price_usd',fontsize=20)\r\n",
        "    plotnumber+=1\r\n",
        "plt.tight_layout()"
      ],
      "execution_count": 9,
      "outputs": [
        {
          "output_type": "display_data",
          "data": {
            "image/png": "[encoded data removed]",
            "text/plain": [
              "<Figure size 1440x2160 with 15 Axes>"
            ]
          },
          "metadata": {
            "tags": []
          }
        }
      ]
    },
    {
      "cell_type": "code",
      "metadata": {
        "colab": {
          "base_uri": "https://localhost:8080/",
          "height": 1000
        },
        "id": "X5e89x83CZet",
        "outputId": "609f3c15-bc64-49d4-fa25-310ce6a1caf9"
      },
      "source": [
        "# let's see how data is distributed for every column\r\n",
        "plt.figure(figsize=(20,25), facecolor='white')\r\n",
        "plotnumber = 1\r\n",
        "\r\n",
        "for column in df_train.columns:\r\n",
        "    if plotnumber<=16 :\r\n",
        "        ax = plt.subplot(4,4,plotnumber)\r\n",
        "        sns.distplot(df_train[column])\r\n",
        "        plt.xlabel(column,fontsize=20)\r\n",
        "    plotnumber+=1\r\n",
        "plt.tight_layout()"
      ],
      "execution_count": 10,
      "outputs": [
        {
          "output_type": "stream",
          "text": [
            "/usr/local/lib/python3.6/dist-packages/seaborn/distributions.py:2551: FutureWarning: `distplot` is a deprecated function and will be removed in a future version. Please adapt your code to use either `displot` (a figure-level function with similar flexibility) or `histplot` (an axes-level function for histograms).\n",
            "  warnings.warn(msg, FutureWarning)\n",
            "/usr/local/lib/python3.6/dist-packages/seaborn/distributions.py:2551: FutureWarning: `distplot` is a deprecated function and will be removed in a future version. Please adapt your code to use either `displot` (a figure-level function with similar flexibility) or `histplot` (an axes-level function for histograms).\n",
            "  warnings.warn(msg, FutureWarning)\n",
            "/usr/local/lib/python3.6/dist-packages/seaborn/distributions.py:2551: FutureWarning: `distplot` is a deprecated function and will be removed in a future version. Please adapt your code to use either `displot` (a figure-level function with similar flexibility) or `histplot` (an axes-level function for histograms).\n",
            "  warnings.warn(msg, FutureWarning)\n",
            "/usr/local/lib/python3.6/dist-packages/seaborn/distributions.py:2551: FutureWarning: `distplot` is a deprecated function and will be removed in a future version. Please adapt your code to use either `displot` (a figure-level function with similar flexibility) or `histplot` (an axes-level function for histograms).\n",
            "  warnings.warn(msg, FutureWarning)\n",
            "/usr/local/lib/python3.6/dist-packages/seaborn/distributions.py:2551: FutureWarning: `distplot` is a deprecated function and will be removed in a future version. Please adapt your code to use either `displot` (a figure-level function with similar flexibility) or `histplot` (an axes-level function for histograms).\n",
            "  warnings.warn(msg, FutureWarning)\n",
            "/usr/local/lib/python3.6/dist-packages/seaborn/distributions.py:2551: FutureWarning: `distplot` is a deprecated function and will be removed in a future version. Please adapt your code to use either `displot` (a figure-level function with similar flexibility) or `histplot` (an axes-level function for histograms).\n",
            "  warnings.warn(msg, FutureWarning)\n",
            "/usr/local/lib/python3.6/dist-packages/seaborn/distributions.py:2551: FutureWarning: `distplot` is a deprecated function and will be removed in a future version. Please adapt your code to use either `displot` (a figure-level function with similar flexibility) or `histplot` (an axes-level function for histograms).\n",
            "  warnings.warn(msg, FutureWarning)\n",
            "/usr/local/lib/python3.6/dist-packages/seaborn/distributions.py:2551: FutureWarning: `distplot` is a deprecated function and will be removed in a future version. Please adapt your code to use either `displot` (a figure-level function with similar flexibility) or `histplot` (an axes-level function for histograms).\n",
            "  warnings.warn(msg, FutureWarning)\n",
            "/usr/local/lib/python3.6/dist-packages/seaborn/distributions.py:2551: FutureWarning: `distplot` is a deprecated function and will be removed in a future version. Please adapt your code to use either `displot` (a figure-level function with similar flexibility) or `histplot` (an axes-level function for histograms).\n",
            "  warnings.warn(msg, FutureWarning)\n",
            "/usr/local/lib/python3.6/dist-packages/seaborn/distributions.py:2551: FutureWarning: `distplot` is a deprecated function and will be removed in a future version. Please adapt your code to use either `displot` (a figure-level function with similar flexibility) or `histplot` (an axes-level function for histograms).\n",
            "  warnings.warn(msg, FutureWarning)\n",
            "/usr/local/lib/python3.6/dist-packages/seaborn/distributions.py:2551: FutureWarning: `distplot` is a deprecated function and will be removed in a future version. Please adapt your code to use either `displot` (a figure-level function with similar flexibility) or `histplot` (an axes-level function for histograms).\n",
            "  warnings.warn(msg, FutureWarning)\n",
            "/usr/local/lib/python3.6/dist-packages/seaborn/distributions.py:2551: FutureWarning: `distplot` is a deprecated function and will be removed in a future version. Please adapt your code to use either `displot` (a figure-level function with similar flexibility) or `histplot` (an axes-level function for histograms).\n",
            "  warnings.warn(msg, FutureWarning)\n",
            "/usr/local/lib/python3.6/dist-packages/seaborn/distributions.py:2551: FutureWarning: `distplot` is a deprecated function and will be removed in a future version. Please adapt your code to use either `displot` (a figure-level function with similar flexibility) or `histplot` (an axes-level function for histograms).\n",
            "  warnings.warn(msg, FutureWarning)\n",
            "/usr/local/lib/python3.6/dist-packages/seaborn/distributions.py:2551: FutureWarning: `distplot` is a deprecated function and will be removed in a future version. Please adapt your code to use either `displot` (a figure-level function with similar flexibility) or `histplot` (an axes-level function for histograms).\n",
            "  warnings.warn(msg, FutureWarning)\n",
            "/usr/local/lib/python3.6/dist-packages/seaborn/distributions.py:2551: FutureWarning: `distplot` is a deprecated function and will be removed in a future version. Please adapt your code to use either `displot` (a figure-level function with similar flexibility) or `histplot` (an axes-level function for histograms).\n",
            "  warnings.warn(msg, FutureWarning)\n",
            "/usr/local/lib/python3.6/dist-packages/seaborn/distributions.py:2551: FutureWarning: `distplot` is a deprecated function and will be removed in a future version. Please adapt your code to use either `displot` (a figure-level function with similar flexibility) or `histplot` (an axes-level function for histograms).\n",
            "  warnings.warn(msg, FutureWarning)\n"
          ],
          "name": "stderr"
        },
        {
          "output_type": "display_data",
          "data": {
            "image/png": "[encoded data removed]",
            "text/plain": [
              "<Figure size 1440x1800 with 16 Axes>"
            ]
          },
          "metadata": {
            "tags": []
          }
        }
      ]
    },
    {
      "cell_type": "code",
      "metadata": {
        "colab": {
          "base_uri": "https://localhost:8080/"
        },
        "id": "FPY0XCrYQM8M",
        "outputId": "b2309e75-392f-4fc9-f696-93ed4a267cbd"
      },
      "source": [
        "# Check for outliers\r\n",
        "Zscore = np.abs(stats.zscore(df_train))\r\n",
        "print(np.where(Zscore >3))"
      ],
      "execution_count": 11,
      "outputs": [
        {
          "output_type": "stream",
          "text": [
            "(array([   33,    40,    49, ..., 30798, 30808, 30823]), array([ 3, 15,  2, ...,  1, 21, 16]))\n"
          ],
          "name": "stdout"
        }
      ]
    },
    {
      "cell_type": "code",
      "metadata": {
        "colab": {
          "base_uri": "https://localhost:8080/"
        },
        "id": "k18V-TEFQVJn",
        "outputId": "ff5e6fed-84a0-446d-e2da-82d0ec63184e"
      },
      "source": [
        "# Obtain clean dataframe\r\n",
        "clean_df_train = df_train[(Zscore <3).all(axis = 1)]\r\n",
        "print(\"The shape of the clean dataframe is :\", clean_df_train.shape)"
      ],
      "execution_count": 12,
      "outputs": [
        {
          "output_type": "stream",
          "text": [
            "The shape of the clean dataframe is : (27031, 26)\n"
          ],
          "name": "stdout"
        }
      ]
    },
    {
      "cell_type": "code",
      "metadata": {
        "colab": {
          "base_uri": "https://localhost:8080/",
          "height": 841
        },
        "id": "0LzHw_wpLuWs",
        "outputId": "7417bb76-85cd-4c53-f7c9-71f337e316f9"
      },
      "source": [
        "# Checking for colinearity\r\n",
        "y = df_train['price_usd'].values\r\n",
        "#X = clean_df_train.drop(columns = ['price_usd'])\r\n",
        "y = y.reshape(len(y),1)\r\n",
        "y.shape\r\n",
        "scaler =StandardScaler()\r\n",
        "scaler_y = StandardScaler()\r\n",
        "\r\n",
        "X_scaled = scaler.fit_transform(X)\r\n",
        "y_scaled = scaler_y.fit_transform(y)\r\n",
        "from statsmodels.stats.outliers_influence import variance_inflation_factor\r\n",
        "variables = X_scaled\r\n",
        "\r\n",
        "# we create a new data frame which will include all the VIFs\r\n",
        "# note that each variable has its own variance inflation factor as this measure is variable specific (not model specific)\r\n",
        "# we do not include categorical values for mulitcollinearity as they do not provide much information as numerical ones do\r\n",
        "vif = pd.DataFrame()\r\n",
        "\r\n",
        "# here we make use of the variance_inflation_factor, which will basically output the respective VIFs \r\n",
        "vif[\"VIF\"] = [variance_inflation_factor(variables, i) for i in range(variables.shape[1])]\r\n",
        "# Finally, I like to include names so it is easier to explore the result\r\n",
        "vif[\"Features\"] = X.columns\r\n",
        "\r\n",
        "vif"
      ],
      "execution_count": 13,
      "outputs": [
        {
          "output_type": "stream",
          "text": [
            "/usr/local/lib/python3.6/dist-packages/statsmodels/tools/_testing.py:19: FutureWarning: pandas.util.testing is deprecated. Use the functions in the public API at pandas.testing instead.\n",
            "  import pandas.util.testing as tm\n"
          ],
          "name": "stderr"
        },
        {
          "output_type": "execute_result",
          "data": {
            "text/html": [
              "<div>\n",
              "<style scoped>\n",
              "    .dataframe tbody tr th:only-of-type {\n",
              "        vertical-align: middle;\n",
              "    }\n",
              "\n",
              "    .dataframe tbody tr th {\n",
              "        vertical-align: top;\n",
              "    }\n",
              "\n",
              "    .dataframe thead th {\n",
              "        text-align: right;\n",
              "    }\n",
              "</style>\n",
              "<table border=\"1\" class=\"dataframe\">\n",
              "  <thead>\n",
              "    <tr style=\"text-align: right;\">\n",
              "      <th></th>\n",
              "      <th>VIF</th>\n",
              "      <th>Features</th>\n",
              "    </tr>\n",
              "  </thead>\n",
              "  <tbody>\n",
              "    <tr>\n",
              "      <th>0</th>\n",
              "      <td>1.506705</td>\n",
              "      <td>odometer_value</td>\n",
              "    </tr>\n",
              "    <tr>\n",
              "      <th>1</th>\n",
              "      <td>2.605330</td>\n",
              "      <td>year_produced</td>\n",
              "    </tr>\n",
              "    <tr>\n",
              "      <th>2</th>\n",
              "      <td>1.805226</td>\n",
              "      <td>engine_has_gas</td>\n",
              "    </tr>\n",
              "    <tr>\n",
              "      <th>3</th>\n",
              "      <td>1.908943</td>\n",
              "      <td>engine_capacity</td>\n",
              "    </tr>\n",
              "    <tr>\n",
              "      <th>4</th>\n",
              "      <td>3.327913</td>\n",
              "      <td>has_warranty</td>\n",
              "    </tr>\n",
              "    <tr>\n",
              "      <th>5</th>\n",
              "      <td>2.746777</td>\n",
              "      <td>feature_0</td>\n",
              "    </tr>\n",
              "    <tr>\n",
              "      <th>6</th>\n",
              "      <td>2.144362</td>\n",
              "      <td>feature_1</td>\n",
              "    </tr>\n",
              "    <tr>\n",
              "      <th>7</th>\n",
              "      <td>1.609072</td>\n",
              "      <td>feature_2</td>\n",
              "    </tr>\n",
              "    <tr>\n",
              "      <th>8</th>\n",
              "      <td>1.821122</td>\n",
              "      <td>feature_3</td>\n",
              "    </tr>\n",
              "    <tr>\n",
              "      <th>9</th>\n",
              "      <td>1.801460</td>\n",
              "      <td>feature_4</td>\n",
              "    </tr>\n",
              "    <tr>\n",
              "      <th>10</th>\n",
              "      <td>1.912814</td>\n",
              "      <td>feature_5</td>\n",
              "    </tr>\n",
              "    <tr>\n",
              "      <th>11</th>\n",
              "      <td>1.840773</td>\n",
              "      <td>feature_6</td>\n",
              "    </tr>\n",
              "    <tr>\n",
              "      <th>12</th>\n",
              "      <td>1.993036</td>\n",
              "      <td>feature_7</td>\n",
              "    </tr>\n",
              "    <tr>\n",
              "      <th>13</th>\n",
              "      <td>1.974090</td>\n",
              "      <td>feature_8</td>\n",
              "    </tr>\n",
              "    <tr>\n",
              "      <th>14</th>\n",
              "      <td>1.989360</td>\n",
              "      <td>feature_9</td>\n",
              "    </tr>\n",
              "    <tr>\n",
              "      <th>15</th>\n",
              "      <td>1.024642</td>\n",
              "      <td>duration_listed</td>\n",
              "    </tr>\n",
              "    <tr>\n",
              "      <th>16</th>\n",
              "      <td>1.556304</td>\n",
              "      <td>manufacturer_name_te</td>\n",
              "    </tr>\n",
              "    <tr>\n",
              "      <th>17</th>\n",
              "      <td>3.082541</td>\n",
              "      <td>model_name_te</td>\n",
              "    </tr>\n",
              "    <tr>\n",
              "      <th>18</th>\n",
              "      <td>1.792494</td>\n",
              "      <td>transmission_te</td>\n",
              "    </tr>\n",
              "    <tr>\n",
              "      <th>19</th>\n",
              "      <td>1.163970</td>\n",
              "      <td>color_te</td>\n",
              "    </tr>\n",
              "    <tr>\n",
              "      <th>20</th>\n",
              "      <td>4.445559</td>\n",
              "      <td>engine_fuel_te</td>\n",
              "    </tr>\n",
              "    <tr>\n",
              "      <th>21</th>\n",
              "      <td>3.513376</td>\n",
              "      <td>engine_type_te</td>\n",
              "    </tr>\n",
              "    <tr>\n",
              "      <th>22</th>\n",
              "      <td>2.266453</td>\n",
              "      <td>body_type_te</td>\n",
              "    </tr>\n",
              "    <tr>\n",
              "      <th>23</th>\n",
              "      <td>3.322771</td>\n",
              "      <td>state_te</td>\n",
              "    </tr>\n",
              "    <tr>\n",
              "      <th>24</th>\n",
              "      <td>2.175294</td>\n",
              "      <td>drivetrain_te</td>\n",
              "    </tr>\n",
              "  </tbody>\n",
              "</table>\n",
              "</div>"
            ],
            "text/plain": [
              "         VIF              Features\n",
              "0   1.506705        odometer_value\n",
              "1   2.605330         year_produced\n",
              "2   1.805226        engine_has_gas\n",
              "3   1.908943       engine_capacity\n",
              "4   3.327913          has_warranty\n",
              "5   2.746777             feature_0\n",
              "6   2.144362             feature_1\n",
              "7   1.609072             feature_2\n",
              "8   1.821122             feature_3\n",
              "9   1.801460             feature_4\n",
              "10  1.912814             feature_5\n",
              "11  1.840773             feature_6\n",
              "12  1.993036             feature_7\n",
              "13  1.974090             feature_8\n",
              "14  1.989360             feature_9\n",
              "15  1.024642       duration_listed\n",
              "16  1.556304  manufacturer_name_te\n",
              "17  3.082541         model_name_te\n",
              "18  1.792494       transmission_te\n",
              "19  1.163970              color_te\n",
              "20  4.445559        engine_fuel_te\n",
              "21  3.513376        engine_type_te\n",
              "22  2.266453          body_type_te\n",
              "23  3.322771              state_te\n",
              "24  2.175294         drivetrain_te"
            ]
          },
          "metadata": {
            "tags": []
          },
          "execution_count": 13
        }
      ]
    },
    {
      "cell_type": "code",
      "metadata": {
        "id": "S2LLPjHTMAu8"
      },
      "source": [
        "# Drop columns with high vif score\r\n",
        "bad_features = vif[vif['VIF'] >  5]\r\n",
        "colinear_cols = list(bad_features.Features.values)\r\n",
        "df_train.drop(colinear_cols, axis = 1, inplace= True)\r\n",
        "df_test.drop(colinear_cols, axis = 1, inplace= True)\r\n",
        "X = df_train.drop(columns = ['price_usd'])\r\n",
        "y = df_train['price_usd'].values\r\n",
        "y = y.reshape(len(y),1)"
      ],
      "execution_count": 14,
      "outputs": []
    },
    {
      "cell_type": "code",
      "metadata": {
        "id": "h7-XIoKaNXgg"
      },
      "source": [
        "# Scale the new X and y\r\n",
        "sc =StandardScaler()\r\n",
        "sc_y = StandardScaler()\r\n",
        "\r\n",
        "X_scaled = sc.fit_transform(X)\r\n",
        "y_scaled = sc_y.fit_transform(y)\r\n",
        "\r\n",
        "# Split data into train and validation set\r\n",
        "x_train,x_valid,y_train,y_valid = train_test_split(X_scaled,y_scaled,test_size = 0.2,random_state=35)"
      ],
      "execution_count": 15,
      "outputs": []
    },
    {
      "cell_type": "code",
      "metadata": {
        "colab": {
          "base_uri": "https://localhost:8080/"
        },
        "id": "rwVnOSuHmHk2",
        "outputId": "d6b9c33c-af04-42c5-d59d-1e4a5e620254"
      },
      "source": [
        "# print X_train\r\n",
        "print(x_train)"
      ],
      "execution_count": 16,
      "outputs": [
        {
          "output_type": "stream",
          "text": [
            "[[ 5.53333137 -1.73192784 -0.18963531 ... -0.27911559 -0.08395013\n",
            "  -0.17868078]\n",
            " [-0.13850424 -0.24099552  5.2732795  ... -0.27911559 -0.08395013\n",
            "  -0.17868078]\n",
            " [-0.0869421  -0.11675116 -0.18963531 ... -0.27911559 -0.08395013\n",
            "  -0.44330964]\n",
            " ...\n",
            " [-0.42577903  1.49842551 -0.18963531 ... -0.55017996 -0.08395013\n",
            "  -0.44330964]\n",
            " [-0.35948485  0.50447064 -0.18963531 ... -0.85940916 -0.08395013\n",
            "  -0.44330964]\n",
            " [-1.34653157 -2.22890528 -0.18963531 ... -0.85940916 -2.40872722\n",
            "  -0.44330964]]\n"
          ],
          "name": "stdout"
        }
      ]
    },
    {
      "cell_type": "code",
      "metadata": {
        "colab": {
          "base_uri": "https://localhost:8080/"
        },
        "id": "PqP0eIYCkgBy",
        "outputId": "11ee9433-3efb-4d75-ed5e-2775a4e9b984"
      },
      "source": [
        "print(y_train)"
      ],
      "execution_count": 17,
      "outputs": [
        {
          "output_type": "stream",
          "text": [
            "[[-0.92490599]\n",
            " [-0.56620969]\n",
            " [-0.3790638 ]\n",
            " ...\n",
            " [ 1.2584628 ]\n",
            " [-0.1061427 ]\n",
            " [-1.00288345]]\n"
          ],
          "name": "stdout"
        }
      ]
    },
    {
      "cell_type": "code",
      "metadata": {
        "colab": {
          "base_uri": "https://localhost:8080/"
        },
        "id": "iblcckZCmPey",
        "outputId": "99bdf18a-cac4-4d10-b826-a85a34c947c2"
      },
      "source": [
        "# Build linear regreesion model\r\n",
        "regression = LinearRegression()\r\n",
        "\r\n",
        "regression.fit(x_train,y_train)"
      ],
      "execution_count": 18,
      "outputs": [
        {
          "output_type": "execute_result",
          "data": {
            "text/plain": [
              "LinearRegression(copy_X=True, fit_intercept=True, n_jobs=None, normalize=False)"
            ]
          },
          "metadata": {
            "tags": []
          },
          "execution_count": 18
        }
      ]
    },
    {
      "cell_type": "code",
      "metadata": {
        "colab": {
          "base_uri": "https://localhost:8080/"
        },
        "id": "ME1G9Pf9qk6K",
        "outputId": "6e9aae4e-2786-4a1b-a45a-e754ddc1f892"
      },
      "source": [
        "# Check accuracy on train set\r\n",
        "regression.score(x_train,y_train)"
      ],
      "execution_count": 19,
      "outputs": [
        {
          "output_type": "execute_result",
          "data": {
            "text/plain": [
              "0.7652450776996068"
            ]
          },
          "metadata": {
            "tags": []
          },
          "execution_count": 19
        }
      ]
    },
    {
      "cell_type": "code",
      "metadata": {
        "colab": {
          "base_uri": "https://localhost:8080/"
        },
        "id": "eSAMPMgcrPoe",
        "outputId": "09830c58-e0b3-423e-eec7-2d844dfa5057"
      },
      "source": [
        "# check adjusted r2 on train set\r\n",
        "adj_r2(x_train,y_train)"
      ],
      "execution_count": 20,
      "outputs": [
        {
          "output_type": "execute_result",
          "data": {
            "text/plain": [
              "0.7650068252310682"
            ]
          },
          "metadata": {
            "tags": []
          },
          "execution_count": 20
        }
      ]
    },
    {
      "cell_type": "code",
      "metadata": {
        "colab": {
          "base_uri": "https://localhost:8080/"
        },
        "id": "gTT7Uw2TrUyk",
        "outputId": "6335dc4b-a3c9-4a0e-e012-598d34b1ac8a"
      },
      "source": [
        "# Check accuracy on validation set\r\n",
        "regression.score(x_valid,y_valid)"
      ],
      "execution_count": 21,
      "outputs": [
        {
          "output_type": "execute_result",
          "data": {
            "text/plain": [
              "0.7611119610294813"
            ]
          },
          "metadata": {
            "tags": []
          },
          "execution_count": 21
        }
      ]
    },
    {
      "cell_type": "code",
      "metadata": {
        "colab": {
          "base_uri": "https://localhost:8080/"
        },
        "id": "eXdQ_cDOrb4_",
        "outputId": "53795a0a-c86a-43ed-e296-0bce3464fa53"
      },
      "source": [
        "# check adjusted r2 on validation set\r\n",
        "adj_r2(x_valid,y_valid)"
      ],
      "execution_count": 22,
      "outputs": [
        {
          "output_type": "execute_result",
          "data": {
            "text/plain": [
              "0.7601391314197301"
            ]
          },
          "metadata": {
            "tags": []
          },
          "execution_count": 22
        }
      ]
    },
    {
      "cell_type": "code",
      "metadata": {
        "colab": {
          "base_uri": "https://localhost:8080/"
        },
        "id": "loPN6Mo6ZtHo",
        "outputId": "f2724680-daaf-43df-918a-cf286f4d4b4c"
      },
      "source": [
        "# MSE Metrics on validation set\r\n",
        "from sklearn.metrics import mean_squared_error\r\n",
        "y_pred = regression.predict(x_valid)\r\n",
        "print(\"The mean square error of the model is: \" , mean_squared_error(y_valid,y_pred))"
      ],
      "execution_count": 23,
      "outputs": [
        {
          "output_type": "stream",
          "text": [
            "The mean square error of the model is:  0.241238992556132\n"
          ],
          "name": "stdout"
        }
      ]
    },
    {
      "cell_type": "code",
      "metadata": {
        "colab": {
          "base_uri": "https://localhost:8080/"
        },
        "id": "esZnCNm6g7bO",
        "outputId": "21e239f1-d926-472e-ad72-a66d31c95f8f"
      },
      "source": [
        "# Applying cross validation\r\n",
        "from sklearn.model_selection import cross_val_score, cross_val_predict\r\n",
        "Rcross = cross_val_score(regression, x_train, y_train, cv = 3)\r\n",
        "y_pred_cv = cross_val_predict(regression, x_train,y_train, cv = 3)\r\n",
        "print(Rcross)\r\n",
        "print(Rcross.mean())\r\n",
        "print(Rcross.std())\r\n",
        "#print(\"The mean square error of the model is: \" , mean_squared_error(y_valid,y_pred))"
      ],
      "execution_count": 24,
      "outputs": [
        {
          "output_type": "stream",
          "text": [
            "[0.75459171 0.76644369 0.77263701]\n",
            "0.764557469313098\n",
            "0.007486725387574647\n"
          ],
          "name": "stdout"
        }
      ]
    },
    {
      "cell_type": "markdown",
      "metadata": {
        "id": "nBwnqmPmrxbT"
      },
      "source": [
        "## Lasso Regression"
      ]
    },
    {
      "cell_type": "code",
      "metadata": {
        "colab": {
          "base_uri": "https://localhost:8080/"
        },
        "id": "NfGHiXy_r4zK",
        "outputId": "4e6948c8-d0ce-428d-83e6-3105f303f0eb"
      },
      "source": [
        "# Lasso Regularization\r\n",
        "# LassoCV will return best alpha and coefficients after performing 10 cross validations\r\n",
        "lasscv = LassoCV(alphas = None,cv =10, max_iter = 100000, normalize = True)\r\n",
        "lasscv.fit(x_train, y_train)"
      ],
      "execution_count": 25,
      "outputs": [
        {
          "output_type": "stream",
          "text": [
            "/usr/local/lib/python3.6/dist-packages/sklearn/linear_model/_coordinate_descent.py:1088: DataConversionWarning: A column-vector y was passed when a 1d array was expected. Please change the shape of y to (n_samples, ), for example using ravel().\n",
            "  y = column_or_1d(y, warn=True)\n"
          ],
          "name": "stderr"
        },
        {
          "output_type": "execute_result",
          "data": {
            "text/plain": [
              "LassoCV(alphas=None, copy_X=True, cv=10, eps=0.001, fit_intercept=True,\n",
              "        max_iter=100000, n_alphas=100, n_jobs=None, normalize=True,\n",
              "        positive=False, precompute='auto', random_state=None,\n",
              "        selection='cyclic', tol=0.0001, verbose=False)"
            ]
          },
          "metadata": {
            "tags": []
          },
          "execution_count": 25
        }
      ]
    },
    {
      "cell_type": "code",
      "metadata": {
        "colab": {
          "base_uri": "https://localhost:8080/"
        },
        "id": "4m3yH0EBr8wa",
        "outputId": "93ab56cd-7c21-4ab3-d094-113af68cd155"
      },
      "source": [
        "# best alpha parameter\r\n",
        "alpha = lasscv.alpha_\r\n",
        "alpha"
      ],
      "execution_count": 26,
      "outputs": [
        {
          "output_type": "execute_result",
          "data": {
            "text/plain": [
              "4.902391530764451e-06"
            ]
          },
          "metadata": {
            "tags": []
          },
          "execution_count": 26
        }
      ]
    },
    {
      "cell_type": "code",
      "metadata": {
        "colab": {
          "base_uri": "https://localhost:8080/"
        },
        "id": "qDLNfuuIsAGj",
        "outputId": "8d5813dc-be95-4ac5-fc33-6220bf144a89"
      },
      "source": [
        "#now that we have best parameter, let's use Lasso regression and see how well our data has fitted before\r\n",
        "\r\n",
        "lasso_reg = Lasso(alpha)\r\n",
        "lasso_reg.fit(x_train, y_train)"
      ],
      "execution_count": 27,
      "outputs": [
        {
          "output_type": "execute_result",
          "data": {
            "text/plain": [
              "Lasso(alpha=4.902391530764451e-06, copy_X=True, fit_intercept=True,\n",
              "      max_iter=1000, normalize=False, positive=False, precompute=False,\n",
              "      random_state=None, selection='cyclic', tol=0.0001, warm_start=False)"
            ]
          },
          "metadata": {
            "tags": []
          },
          "execution_count": 27
        }
      ]
    },
    {
      "cell_type": "code",
      "metadata": {
        "colab": {
          "base_uri": "https://localhost:8080/"
        },
        "id": "4cCyoyXXsFuu",
        "outputId": "82c1d834-8d9d-430c-a156-0e703637518b"
      },
      "source": [
        "# Examine r2 score on train set\r\n",
        "lasso_reg.score(x_train, y_train)"
      ],
      "execution_count": 28,
      "outputs": [
        {
          "output_type": "execute_result",
          "data": {
            "text/plain": [
              "0.7652450772517689"
            ]
          },
          "metadata": {
            "tags": []
          },
          "execution_count": 28
        }
      ]
    },
    {
      "cell_type": "code",
      "metadata": {
        "colab": {
          "base_uri": "https://localhost:8080/"
        },
        "id": "hd3m_ybmsM-w",
        "outputId": "89f703cf-1996-4ce4-ba72-c8c60e5a1883"
      },
      "source": [
        "# Examine r2 score on validation set\r\n",
        "lasso_reg.score(x_valid, y_valid)"
      ],
      "execution_count": 29,
      "outputs": [
        {
          "output_type": "execute_result",
          "data": {
            "text/plain": [
              "0.761111934411905"
            ]
          },
          "metadata": {
            "tags": []
          },
          "execution_count": 29
        }
      ]
    },
    {
      "cell_type": "code",
      "metadata": {
        "colab": {
          "base_uri": "https://localhost:8080/"
        },
        "id": "neXx9XiZZoig",
        "outputId": "9be0c0cf-b104-4634-bfc1-083901f2e93b"
      },
      "source": [
        "# MSE Metrics on validation set\r\n",
        "from sklearn.metrics import mean_squared_error\r\n",
        "y_pred = lasso_reg.predict(x_valid)\r\n",
        "print(\"The mean square error of the model is: \" , mean_squared_error(y_valid,y_pred))"
      ],
      "execution_count": 30,
      "outputs": [
        {
          "output_type": "stream",
          "text": [
            "The mean square error of the model is:  0.2412390194356582\n"
          ],
          "name": "stdout"
        }
      ]
    },
    {
      "cell_type": "code",
      "metadata": {
        "colab": {
          "base_uri": "https://localhost:8080/"
        },
        "id": "ZXf8UWEzkD_X",
        "outputId": "021527b8-00b0-4982-ff39-b6012f67182c"
      },
      "source": [
        "# Applying cross validation\r\n",
        "from sklearn.model_selection import cross_val_score, cross_val_predict\r\n",
        "Rcross = cross_val_score(lasso_reg, x_train, y_train, cv = 3)\r\n",
        "y_pred_cv = cross_val_predict(lasso_reg, x_train,y_train, cv = 3)\r\n",
        "print(Rcross)\r\n",
        "print(Rcross.mean())\r\n",
        "print(Rcross.std())"
      ],
      "execution_count": 31,
      "outputs": [
        {
          "output_type": "stream",
          "text": [
            "[0.75459168 0.76644401 0.77263769]\n",
            "0.7645577926698396\n",
            "0.007487009624938097\n"
          ],
          "name": "stdout"
        }
      ]
    },
    {
      "cell_type": "markdown",
      "metadata": {
        "id": "1keChAiMsjJw"
      },
      "source": [
        "### Ridge Regression"
      ]
    },
    {
      "cell_type": "code",
      "metadata": {
        "colab": {
          "base_uri": "https://localhost:8080/"
        },
        "id": "H_R0WQTdsmMx",
        "outputId": "262782b1-7f10-4e86-a78c-8243fa4954ee"
      },
      "source": [
        "# Using Ridge regression model\r\n",
        "# RidgeCV will return best alpha and coefficients after performing 10 cross validations. \r\n",
        "# We will pass an array of random numbers for ridgeCV to select best alpha from them\r\n",
        "\r\n",
        "alphas = np.random.uniform(low=0, high=10, size=(50,))\r\n",
        "ridgecv = RidgeCV(alphas = alphas,cv=10,normalize = True)\r\n",
        "ridgecv.fit(x_train, y_train)"
      ],
      "execution_count": 32,
      "outputs": [
        {
          "output_type": "execute_result",
          "data": {
            "text/plain": [
              "RidgeCV(alphas=array([3.33507466, 9.24158767, 8.62318547, 0.48690296, 2.53642524,\n",
              "       4.46135513, 1.04627889, 3.48475989, 7.40097526, 6.80514481,\n",
              "       6.22384429, 7.10528403, 2.04923687, 3.41698115, 6.76242482,\n",
              "       8.79234763, 5.43678054, 2.82699651, 0.30235258, 7.10336829,\n",
              "       0.07884104, 3.7267907 , 5.30537215, 9.22111462, 0.89494545,\n",
              "       4.05942322, 0.243132  , 3.42610984, 6.22231059, 2.79067948,\n",
              "       2.0974995 , 1.15703233, 5.77140244, 6.95270006, 6.71957141,\n",
              "       9.48861021, 0.02703214, 6.47196654, 6.00392237, 5.8873961 ,\n",
              "       9.6277032 , 0.16871673, 6.96482431, 8.1367865 , 5.09807197,\n",
              "       3.3396487 , 7.90840163, 0.97242926, 4.42035638, 5.19952375]),\n",
              "        cv=10, fit_intercept=True, gcv_mode=None, normalize=True, scoring=None,\n",
              "        store_cv_values=False)"
            ]
          },
          "metadata": {
            "tags": []
          },
          "execution_count": 32
        }
      ]
    },
    {
      "cell_type": "code",
      "metadata": {
        "colab": {
          "base_uri": "https://localhost:8080/"
        },
        "id": "l1rmQhH-srVx",
        "outputId": "5e08e381-2eb8-4862-9f7c-41d845be06b8"
      },
      "source": [
        "ridgecv.alpha_"
      ],
      "execution_count": 33,
      "outputs": [
        {
          "output_type": "execute_result",
          "data": {
            "text/plain": [
              "0.027032138935026984"
            ]
          },
          "metadata": {
            "tags": []
          },
          "execution_count": 33
        }
      ]
    },
    {
      "cell_type": "code",
      "metadata": {
        "colab": {
          "base_uri": "https://localhost:8080/"
        },
        "id": "t5zzYPF3sb4m",
        "outputId": "926efc4d-e339-4f52-bbfd-fbb805ade1e0"
      },
      "source": [
        "# Now fit model with best alpha\r\n",
        "ridge_model = Ridge(alpha=ridgecv.alpha_)\r\n",
        "ridge_model.fit(x_train, y_train)"
      ],
      "execution_count": 34,
      "outputs": [
        {
          "output_type": "execute_result",
          "data": {
            "text/plain": [
              "Ridge(alpha=0.027032138935026984, copy_X=True, fit_intercept=True,\n",
              "      max_iter=None, normalize=False, random_state=None, solver='auto',\n",
              "      tol=0.001)"
            ]
          },
          "metadata": {
            "tags": []
          },
          "execution_count": 34
        }
      ]
    },
    {
      "cell_type": "code",
      "metadata": {
        "colab": {
          "base_uri": "https://localhost:8080/"
        },
        "id": "IFVr8R7Ks0lF",
        "outputId": "d8bac8d7-6e80-449e-a42f-573a6bf7d990"
      },
      "source": [
        "# Test model performance\r\n",
        "ridge_model.score(x_valid, y_valid)"
      ],
      "execution_count": 35,
      "outputs": [
        {
          "output_type": "execute_result",
          "data": {
            "text/plain": [
              "0.7611119686349425"
            ]
          },
          "metadata": {
            "tags": []
          },
          "execution_count": 35
        }
      ]
    },
    {
      "cell_type": "code",
      "metadata": {
        "colab": {
          "base_uri": "https://localhost:8080/"
        },
        "id": "WR820ixFZknd",
        "outputId": "7d60849e-f6f9-4f61-aefe-60f731d959cc"
      },
      "source": [
        "# MSE Metrics on validation set\r\n",
        "from sklearn.metrics import mean_squared_error\r\n",
        "y_pred = ridge_model.predict(x_valid)\r\n",
        "print(\"The mean square error of the model is: \" , mean_squared_error(y_valid,y_pred))"
      ],
      "execution_count": 36,
      "outputs": [
        {
          "output_type": "stream",
          "text": [
            "The mean square error of the model is:  0.24123898487582374\n"
          ],
          "name": "stdout"
        }
      ]
    },
    {
      "cell_type": "code",
      "metadata": {
        "colab": {
          "base_uri": "https://localhost:8080/"
        },
        "id": "ZziZe3pzlEsa",
        "outputId": "aa4e2a3e-e52c-495d-83b4-c39e0900bc12"
      },
      "source": [
        "# Applying cross validation\r\n",
        "from sklearn.model_selection import cross_val_score, cross_val_predict\r\n",
        "Rcross = cross_val_score(ridge_model, x_train, y_train, cv = 3)\r\n",
        "y_pred_cv = cross_val_predict(ridge_model, x_train,y_train, cv = 3)\r\n",
        "print(Rcross)\r\n",
        "print(Rcross.mean())\r\n",
        "print(Rcross.std())"
      ],
      "execution_count": 37,
      "outputs": [
        {
          "output_type": "stream",
          "text": [
            "[0.75459171 0.76644366 0.77263705]\n",
            "0.7645574735309998\n",
            "0.007486735455021228\n"
          ],
          "name": "stdout"
        }
      ]
    },
    {
      "cell_type": "markdown",
      "metadata": {
        "id": "LxszDY_wtB0v"
      },
      "source": [
        "## Elastic net"
      ]
    },
    {
      "cell_type": "code",
      "metadata": {
        "colab": {
          "base_uri": "https://localhost:8080/"
        },
        "id": "j3CsOgD7tD2Y",
        "outputId": "495dc099-b46d-4499-e021-1f8640ce5cba"
      },
      "source": [
        "# Elastic net\r\n",
        "\r\n",
        "elasticCV = ElasticNetCV(alphas = None, cv =10)\r\n",
        "\r\n",
        "elasticCV.fit(x_train, y_train)"
      ],
      "execution_count": 38,
      "outputs": [
        {
          "output_type": "stream",
          "text": [
            "/usr/local/lib/python3.6/dist-packages/sklearn/linear_model/_coordinate_descent.py:1088: DataConversionWarning: A column-vector y was passed when a 1d array was expected. Please change the shape of y to (n_samples, ), for example using ravel().\n",
            "  y = column_or_1d(y, warn=True)\n"
          ],
          "name": "stderr"
        },
        {
          "output_type": "execute_result",
          "data": {
            "text/plain": [
              "ElasticNetCV(alphas=None, copy_X=True, cv=10, eps=0.001, fit_intercept=True,\n",
              "             l1_ratio=0.5, max_iter=1000, n_alphas=100, n_jobs=None,\n",
              "             normalize=False, positive=False, precompute='auto',\n",
              "             random_state=None, selection='cyclic', tol=0.0001, verbose=0)"
            ]
          },
          "metadata": {
            "tags": []
          },
          "execution_count": 38
        }
      ]
    },
    {
      "cell_type": "code",
      "metadata": {
        "colab": {
          "base_uri": "https://localhost:8080/"
        },
        "id": "MYZEM5uLtHxf",
        "outputId": "1348c338-c842-4989-9928-25d8cb3cfdbf"
      },
      "source": [
        "# # l1_ration gives how close the model is to L1 regularization, below value indicates we are giving equal\r\n",
        "#preference to L1 and L2\r\n",
        "print(elasticCV.alpha_)\r\n",
        "print(elasticCV.l1_ratio)"
      ],
      "execution_count": 39,
      "outputs": [
        {
          "output_type": "stream",
          "text": [
            "0.0015428897516320073\n",
            "0.5\n"
          ],
          "name": "stdout"
        }
      ]
    },
    {
      "cell_type": "code",
      "metadata": {
        "colab": {
          "base_uri": "https://localhost:8080/"
        },
        "id": "dK1v0nRFtVBk",
        "outputId": "aaacdc93-ef71-4a57-a07c-63ba94ac900a"
      },
      "source": [
        "# Fit elastic net regressor\r\n",
        "elasticnet_reg = ElasticNet(alpha = elasticCV.alpha_,l1_ratio=0.5)\r\n",
        "elasticnet_reg.fit(x_train, y_train)"
      ],
      "execution_count": 40,
      "outputs": [
        {
          "output_type": "execute_result",
          "data": {
            "text/plain": [
              "ElasticNet(alpha=0.0015428897516320073, copy_X=True, fit_intercept=True,\n",
              "           l1_ratio=0.5, max_iter=1000, normalize=False, positive=False,\n",
              "           precompute=False, random_state=None, selection='cyclic', tol=0.0001,\n",
              "           warm_start=False)"
            ]
          },
          "metadata": {
            "tags": []
          },
          "execution_count": 40
        }
      ]
    },
    {
      "cell_type": "code",
      "metadata": {
        "colab": {
          "base_uri": "https://localhost:8080/"
        },
        "id": "Az3bZpsBtatL",
        "outputId": "347d40a9-98b8-49a3-a71f-e292681fc62c"
      },
      "source": [
        "# Examine r2s core\r\n",
        "elasticnet_reg.score(x_valid, y_valid)"
      ],
      "execution_count": 41,
      "outputs": [
        {
          "output_type": "execute_result",
          "data": {
            "text/plain": [
              "0.7610933417754906"
            ]
          },
          "metadata": {
            "tags": []
          },
          "execution_count": 41
        }
      ]
    },
    {
      "cell_type": "code",
      "metadata": {
        "colab": {
          "base_uri": "https://localhost:8080/"
        },
        "id": "c5nXj_x_Zf_D",
        "outputId": "22ffdb39-ae77-4286-9e22-8529610a06e3"
      },
      "source": [
        "# MSE Metrics on validation set\r\n",
        "from sklearn.metrics import mean_squared_error\r\n",
        "y_pred = elasticnet_reg.predict(x_valid)\r\n",
        "print(\"The mean square error of the model is: \" , mean_squared_error(y_valid,y_pred))"
      ],
      "execution_count": 42,
      "outputs": [
        {
          "output_type": "stream",
          "text": [
            "The mean square error of the model is:  0.2412577950465966\n"
          ],
          "name": "stdout"
        }
      ]
    },
    {
      "cell_type": "code",
      "metadata": {
        "colab": {
          "base_uri": "https://localhost:8080/"
        },
        "id": "Fpx1zlYVk_OR",
        "outputId": "4b78b695-ce3d-4fce-bd58-bf167cfce803"
      },
      "source": [
        "# Applying cross validation\r\n",
        "from sklearn.model_selection import cross_val_score, cross_val_predict\r\n",
        "Rcross = cross_val_score(elasticnet_reg, x_train, y_train, cv = 3)\r\n",
        "y_pred_cv = cross_val_predict(elasticnet_reg, x_train,y_train, cv = 3)\r\n",
        "print(Rcross)\r\n",
        "print(Rcross.mean())\r\n",
        "print(Rcross.std())"
      ],
      "execution_count": 43,
      "outputs": [
        {
          "output_type": "stream",
          "text": [
            "[0.75456087 0.76645191 0.77274386]\n",
            "0.7645855463786089\n",
            "0.007539570527707765\n"
          ],
          "name": "stdout"
        }
      ]
    },
    {
      "cell_type": "markdown",
      "metadata": {
        "id": "Y99sEEc2tkVZ"
      },
      "source": [
        "## Polynomial Regression"
      ]
    },
    {
      "cell_type": "code",
      "metadata": {
        "colab": {
          "base_uri": "https://localhost:8080/"
        },
        "id": "ZMGby0IwtnC_",
        "outputId": "4a5adf70-6bc8-4b51-d425-a1e5f1bf13a3"
      },
      "source": [
        "# Fitting Polynomial Regression to the dataset\r\n",
        "from sklearn.preprocessing import PolynomialFeatures\r\n",
        "poly_reg = PolynomialFeatures(degree = 2)  #trying to create a 2 degree polynomial equation. It simply squares the x as shown in the output\r\n",
        "X_poly_train = poly_reg.fit_transform(x_train)\r\n",
        "X_poly_valid = poly_reg.transform(x_valid)\r\n",
        "print(X_poly_train)\r\n"
      ],
      "execution_count": 44,
      "outputs": [
        {
          "output_type": "stream",
          "text": [
            "[[ 1.          5.53333137 -1.73192784 ...  0.00704762  0.01500027\n",
            "   0.03192682]\n",
            " [ 1.         -0.13850424 -0.24099552 ...  0.00704762  0.01500027\n",
            "   0.03192682]\n",
            " [ 1.         -0.0869421  -0.11675116 ...  0.00704762  0.0372159\n",
            "   0.19652344]\n",
            " ...\n",
            " [ 1.         -0.42577903  1.49842551 ...  0.00704762  0.0372159\n",
            "   0.19652344]\n",
            " [ 1.         -0.35948485  0.50447064 ...  0.00704762  0.0372159\n",
            "   0.19652344]\n",
            " [ 1.         -1.34653157 -2.22890528 ...  5.80196682  1.06781199\n",
            "   0.19652344]]\n"
          ],
          "name": "stdout"
        }
      ]
    },
    {
      "cell_type": "code",
      "metadata": {
        "colab": {
          "base_uri": "https://localhost:8080/"
        },
        "id": "Lo8IogBotyVg",
        "outputId": "32e47388-10e5-41af-95bc-6b5a0556a7dc"
      },
      "source": [
        "# Train polynomial regression model or order = 2\r\n",
        "# doing the actual polynomial Regression\r\n",
        "# doing the actual polynomial Regression\r\n",
        "lin_reg_2 = LinearRegression()\r\n",
        "lin_reg_2.fit(X_poly_train, y_train)"
      ],
      "execution_count": 45,
      "outputs": [
        {
          "output_type": "execute_result",
          "data": {
            "text/plain": [
              "LinearRegression(copy_X=True, fit_intercept=True, n_jobs=None, normalize=False)"
            ]
          },
          "metadata": {
            "tags": []
          },
          "execution_count": 45
        }
      ]
    },
    {
      "cell_type": "code",
      "metadata": {
        "colab": {
          "base_uri": "https://localhost:8080/"
        },
        "id": "76B8mPvJuzZP",
        "outputId": "0383817e-950d-4040-f3bb-3e266d161095"
      },
      "source": [
        "# Examine r2 score on train set\r\n",
        "lin_reg_2.score(X_poly_train, y_train)"
      ],
      "execution_count": 46,
      "outputs": [
        {
          "output_type": "execute_result",
          "data": {
            "text/plain": [
              "0.8829556461724687"
            ]
          },
          "metadata": {
            "tags": []
          },
          "execution_count": 46
        }
      ]
    },
    {
      "cell_type": "code",
      "metadata": {
        "colab": {
          "base_uri": "https://localhost:8080/"
        },
        "id": "GBnfckTHvGKo",
        "outputId": "dd842862-db17-43be-b0a9-5f57917f1ee3"
      },
      "source": [
        "# Examine r2 score on validation set\r\n",
        "lin_reg_2.score(X_poly_valid, y_valid)"
      ],
      "execution_count": 47,
      "outputs": [
        {
          "output_type": "execute_result",
          "data": {
            "text/plain": [
              "-2.889235267337174e+16"
            ]
          },
          "metadata": {
            "tags": []
          },
          "execution_count": 47
        }
      ]
    },
    {
      "cell_type": "code",
      "metadata": {
        "colab": {
          "base_uri": "https://localhost:8080/"
        },
        "id": "Lvjf36tpZYi-",
        "outputId": "21e746bd-4e0c-4244-ad69-edc3eb0e1b02"
      },
      "source": [
        "# MSE Metrics on validation set\r\n",
        "from sklearn.metrics import mean_squared_error\r\n",
        "y_pred = lin_reg_2.predict(X_poly_valid)\r\n",
        "print(\"The mean square error of the model is: \" , mean_squared_error(y_valid,y_pred))"
      ],
      "execution_count": 48,
      "outputs": [
        {
          "output_type": "stream",
          "text": [
            "The mean square error of the model is:  2.917668913662451e+16\n"
          ],
          "name": "stdout"
        }
      ]
    },
    {
      "cell_type": "markdown",
      "metadata": {
        "id": "AS09vbp3SzC9"
      },
      "source": [
        "## Support Vector Regression"
      ]
    },
    {
      "cell_type": "code",
      "metadata": {
        "colab": {
          "base_uri": "https://localhost:8080/"
        },
        "id": "gpJIadXPSRTR",
        "outputId": "3fac03f6-9116-4e65-f968-82116701588b"
      },
      "source": [
        "# Training the SVR model on the whole dataset\r\n",
        "from sklearn.svm import SVR\r\n",
        "regressor = SVR(kernel = 'rbf')\r\n",
        "regressor.fit(x_train, y_train)"
      ],
      "execution_count": 49,
      "outputs": [
        {
          "output_type": "stream",
          "text": [
            "/usr/local/lib/python3.6/dist-packages/sklearn/utils/validation.py:760: DataConversionWarning: A column-vector y was passed when a 1d array was expected. Please change the shape of y to (n_samples, ), for example using ravel().\n",
            "  y = column_or_1d(y, warn=True)\n"
          ],
          "name": "stderr"
        },
        {
          "output_type": "execute_result",
          "data": {
            "text/plain": [
              "SVR(C=1.0, cache_size=200, coef0=0.0, degree=3, epsilon=0.1, gamma='scale',\n",
              "    kernel='rbf', max_iter=-1, shrinking=True, tol=0.001, verbose=False)"
            ]
          },
          "metadata": {
            "tags": []
          },
          "execution_count": 49
        }
      ]
    },
    {
      "cell_type": "code",
      "metadata": {
        "colab": {
          "base_uri": "https://localhost:8080/"
        },
        "id": "NbTu-0VbTSE6",
        "outputId": "96283c44-3f24-48f2-e1c0-0b836fda7894"
      },
      "source": [
        "# Examine r2 score on train set\r\n",
        "regressor.score(x_train, y_train)"
      ],
      "execution_count": 50,
      "outputs": [
        {
          "output_type": "execute_result",
          "data": {
            "text/plain": [
              "0.9107277108626064"
            ]
          },
          "metadata": {
            "tags": []
          },
          "execution_count": 50
        }
      ]
    },
    {
      "cell_type": "code",
      "metadata": {
        "colab": {
          "base_uri": "https://localhost:8080/"
        },
        "id": "mweYu3O_Tivx",
        "outputId": "b2998844-8a17-4ff3-80f2-ccbf9ed2ea90"
      },
      "source": [
        "# Examine r2 score on test set\r\n",
        "regressor.score(x_valid, y_valid)"
      ],
      "execution_count": 51,
      "outputs": [
        {
          "output_type": "execute_result",
          "data": {
            "text/plain": [
              "0.8837066279563184"
            ]
          },
          "metadata": {
            "tags": []
          },
          "execution_count": 51
        }
      ]
    },
    {
      "cell_type": "code",
      "metadata": {
        "id": "id_g0uMoUO0T"
      },
      "source": [
        "# Let's create a function to create adjusted R-Squared\r\n",
        "def adj_r2_new(x,y,model):\r\n",
        "    r2 = model.score(x,y)\r\n",
        "    n = x.shape[0]\r\n",
        "    p = x.shape[1]\r\n",
        "    adjusted_r2 = 1-(1-r2)*(n-1)/(n-p-1)\r\n",
        "    return adjusted_r2"
      ],
      "execution_count": 52,
      "outputs": []
    },
    {
      "cell_type": "code",
      "metadata": {
        "colab": {
          "base_uri": "https://localhost:8080/"
        },
        "id": "3HG2lLYDTyZj",
        "outputId": "2ea02446-97df-46f5-9af4-ee5a52f72dbf"
      },
      "source": [
        "# check adjusted r2 on validation set\r\n",
        "adj_r2_new(x_valid,y_valid,regressor)"
      ],
      "execution_count": 53,
      "outputs": [
        {
          "output_type": "execute_result",
          "data": {
            "text/plain": [
              "0.8832330436101559"
            ]
          },
          "metadata": {
            "tags": []
          },
          "execution_count": 53
        }
      ]
    },
    {
      "cell_type": "code",
      "metadata": {
        "colab": {
          "base_uri": "https://localhost:8080/"
        },
        "id": "ZVxEJEj-ZVzz",
        "outputId": "a1668c65-dd99-4c7b-ca8c-55c72540459d"
      },
      "source": [
        "# MSE Metrics on validation set\r\n",
        "from sklearn.metrics import mean_squared_error\r\n",
        "y_pred = regressor.predict(x_valid)\r\n",
        "print(\"The mean square error of the model is: \" , mean_squared_error(y_valid,y_pred))"
      ],
      "execution_count": 54,
      "outputs": [
        {
          "output_type": "stream",
          "text": [
            "The mean square error of the model is:  0.117437842571245\n"
          ],
          "name": "stdout"
        }
      ]
    },
    {
      "cell_type": "code",
      "metadata": {
        "colab": {
          "base_uri": "https://localhost:8080/"
        },
        "id": "eZMhFmFNksHY",
        "outputId": "cbdef679-9419-4316-c621-dcc8c65626d4"
      },
      "source": [
        "# Applying cross validation\r\n",
        "from sklearn.model_selection import cross_val_score, cross_val_predict\r\n",
        "Rcross = cross_val_score(regressor, x_train, y_train, cv = 3)\r\n",
        "y_pred_cv = cross_val_predict(regressor, x_train,y_train, cv = 3)\r\n",
        "print(Rcross)\r\n",
        "print(Rcross.mean())\r\n",
        "print(Rcross.std())"
      ],
      "execution_count": 55,
      "outputs": [
        {
          "output_type": "stream",
          "text": [
            "/usr/local/lib/python3.6/dist-packages/sklearn/utils/validation.py:760: DataConversionWarning: A column-vector y was passed when a 1d array was expected. Please change the shape of y to (n_samples, ), for example using ravel().\n",
            "  y = column_or_1d(y, warn=True)\n",
            "/usr/local/lib/python3.6/dist-packages/sklearn/utils/validation.py:760: DataConversionWarning: A column-vector y was passed when a 1d array was expected. Please change the shape of y to (n_samples, ), for example using ravel().\n",
            "  y = column_or_1d(y, warn=True)\n",
            "/usr/local/lib/python3.6/dist-packages/sklearn/utils/validation.py:760: DataConversionWarning: A column-vector y was passed when a 1d array was expected. Please change the shape of y to (n_samples, ), for example using ravel().\n",
            "  y = column_or_1d(y, warn=True)\n",
            "/usr/local/lib/python3.6/dist-packages/sklearn/utils/validation.py:760: DataConversionWarning: A column-vector y was passed when a 1d array was expected. Please change the shape of y to (n_samples, ), for example using ravel().\n",
            "  y = column_or_1d(y, warn=True)\n",
            "/usr/local/lib/python3.6/dist-packages/sklearn/utils/validation.py:760: DataConversionWarning: A column-vector y was passed when a 1d array was expected. Please change the shape of y to (n_samples, ), for example using ravel().\n",
            "  y = column_or_1d(y, warn=True)\n",
            "/usr/local/lib/python3.6/dist-packages/sklearn/utils/validation.py:760: DataConversionWarning: A column-vector y was passed when a 1d array was expected. Please change the shape of y to (n_samples, ), for example using ravel().\n",
            "  y = column_or_1d(y, warn=True)\n"
          ],
          "name": "stderr"
        },
        {
          "output_type": "stream",
          "text": [
            "[0.87850986 0.88192873 0.88008241]\n",
            "0.8801736674391755\n",
            "0.0013972402647877866\n"
          ],
          "name": "stdout"
        }
      ]
    },
    {
      "cell_type": "markdown",
      "metadata": {
        "id": "Ira7r66aUiNG"
      },
      "source": [
        "## Decision Tree Regression"
      ]
    },
    {
      "cell_type": "code",
      "metadata": {
        "colab": {
          "base_uri": "https://localhost:8080/"
        },
        "id": "qcgcWF0aU0vR",
        "outputId": "9fbc7a4e-a72d-40f6-afcb-b1d610124311"
      },
      "source": [
        "# Training the Decision Tree Regression model on the whole dataset\r\n",
        "from sklearn.tree import DecisionTreeRegressor\r\n",
        "regressor = DecisionTreeRegressor(random_state = 0)\r\n",
        "regressor.fit(x_train, y_train)"
      ],
      "execution_count": 56,
      "outputs": [
        {
          "output_type": "execute_result",
          "data": {
            "text/plain": [
              "DecisionTreeRegressor(ccp_alpha=0.0, criterion='mse', max_depth=None,\n",
              "                      max_features=None, max_leaf_nodes=None,\n",
              "                      min_impurity_decrease=0.0, min_impurity_split=None,\n",
              "                      min_samples_leaf=1, min_samples_split=2,\n",
              "                      min_weight_fraction_leaf=0.0, presort='deprecated',\n",
              "                      random_state=0, splitter='best')"
            ]
          },
          "metadata": {
            "tags": []
          },
          "execution_count": 56
        }
      ]
    },
    {
      "cell_type": "code",
      "metadata": {
        "colab": {
          "base_uri": "https://localhost:8080/"
        },
        "id": "QzhHy2rfU64B",
        "outputId": "592689fb-4079-47a2-e0e0-6c2d6d0b25e1"
      },
      "source": [
        "# Examine r2 score on train set\r\n",
        "regressor.score(x_train, y_train)"
      ],
      "execution_count": 57,
      "outputs": [
        {
          "output_type": "execute_result",
          "data": {
            "text/plain": [
              "0.9997502863114512"
            ]
          },
          "metadata": {
            "tags": []
          },
          "execution_count": 57
        }
      ]
    },
    {
      "cell_type": "code",
      "metadata": {
        "colab": {
          "base_uri": "https://localhost:8080/"
        },
        "id": "uK2qQoaPVAbZ",
        "outputId": "50d97036-9e6f-4df7-d409-66c4ab40a840"
      },
      "source": [
        "# Examine r2 score on validtion set\r\n",
        "regressor.score(x_valid, y_valid)"
      ],
      "execution_count": 58,
      "outputs": [
        {
          "output_type": "execute_result",
          "data": {
            "text/plain": [
              "0.8468957768796206"
            ]
          },
          "metadata": {
            "tags": []
          },
          "execution_count": 58
        }
      ]
    },
    {
      "cell_type": "code",
      "metadata": {
        "colab": {
          "base_uri": "https://localhost:8080/"
        },
        "id": "gMuDAioFVGDY",
        "outputId": "84c7d8c3-4ae2-46db-bcbd-a921550a620b"
      },
      "source": [
        "# check adjusted r2 on validation set\r\n",
        "adj_r2_new(x_valid,y_valid,regressor)"
      ],
      "execution_count": 59,
      "outputs": [
        {
          "output_type": "execute_result",
          "data": {
            "text/plain": [
              "0.8462722868033852"
            ]
          },
          "metadata": {
            "tags": []
          },
          "execution_count": 59
        }
      ]
    },
    {
      "cell_type": "code",
      "metadata": {
        "colab": {
          "base_uri": "https://localhost:8080/"
        },
        "id": "sS1IlTDhZSqr",
        "outputId": "9d905954-c617-4941-ca2b-a898c8d3b5ca"
      },
      "source": [
        "# MSE Metrics on validation set\r\n",
        "from sklearn.metrics import mean_squared_error\r\n",
        "y_pred = regressor.predict(x_valid)\r\n",
        "print(\"The mean square error of the model is: \" , mean_squared_error(y_valid,y_pred))"
      ],
      "execution_count": 60,
      "outputs": [
        {
          "output_type": "stream",
          "text": [
            "The mean square error of the model is:  0.1546109579232961\n"
          ],
          "name": "stdout"
        }
      ]
    },
    {
      "cell_type": "code",
      "metadata": {
        "colab": {
          "base_uri": "https://localhost:8080/"
        },
        "id": "_Ut3b9kjkmiG",
        "outputId": "3ab0a54b-4040-4376-c791-167a0406ddc8"
      },
      "source": [
        "# Applying cross validation\r\n",
        "from sklearn.model_selection import cross_val_score, cross_val_predict\r\n",
        "Rcross = cross_val_score(regressor, x_train, y_train, cv = 3)\r\n",
        "y_pred_cv = cross_val_predict(regressor, x_train,y_train, cv = 3)\r\n",
        "print(Rcross)\r\n",
        "print(Rcross.mean())\r\n",
        "print(Rcross.std())"
      ],
      "execution_count": 61,
      "outputs": [
        {
          "output_type": "stream",
          "text": [
            "[0.82345294 0.83551932 0.81889225]\n",
            "0.8259548369332714\n",
            "0.007014722673456353\n"
          ],
          "name": "stdout"
        }
      ]
    },
    {
      "cell_type": "markdown",
      "metadata": {
        "id": "3_D8Bt04VLHq"
      },
      "source": [
        "## Random Forest Regression"
      ]
    },
    {
      "cell_type": "code",
      "metadata": {
        "colab": {
          "base_uri": "https://localhost:8080/"
        },
        "id": "Q4PyNKOcVSdT",
        "outputId": "a7544963-0ddd-4932-e36d-3ba5d721f7a1"
      },
      "source": [
        "# Training the Random Forest Regression model on the whole dataset\r\n",
        "from sklearn.ensemble import RandomForestRegressor\r\n",
        "regressor = RandomForestRegressor(n_estimators = 10, random_state = 0)\r\n",
        "regressor.fit(x_train, y_train)"
      ],
      "execution_count": 62,
      "outputs": [
        {
          "output_type": "stream",
          "text": [
            "/usr/local/lib/python3.6/dist-packages/ipykernel_launcher.py:4: DataConversionWarning: A column-vector y was passed when a 1d array was expected. Please change the shape of y to (n_samples,), for example using ravel().\n",
            "  after removing the cwd from sys.path.\n"
          ],
          "name": "stderr"
        },
        {
          "output_type": "execute_result",
          "data": {
            "text/plain": [
              "RandomForestRegressor(bootstrap=True, ccp_alpha=0.0, criterion='mse',\n",
              "                      max_depth=None, max_features='auto', max_leaf_nodes=None,\n",
              "                      max_samples=None, min_impurity_decrease=0.0,\n",
              "                      min_impurity_split=None, min_samples_leaf=1,\n",
              "                      min_samples_split=2, min_weight_fraction_leaf=0.0,\n",
              "                      n_estimators=10, n_jobs=None, oob_score=False,\n",
              "                      random_state=0, verbose=0, warm_start=False)"
            ]
          },
          "metadata": {
            "tags": []
          },
          "execution_count": 62
        }
      ]
    },
    {
      "cell_type": "code",
      "metadata": {
        "colab": {
          "base_uri": "https://localhost:8080/"
        },
        "id": "ouhYeS8RVcQ6",
        "outputId": "0488f510-2211-4ed5-a8ce-194a0a49a918"
      },
      "source": [
        "# Examine r2 score on train set\r\n",
        "regressor.score(x_train, y_train)"
      ],
      "execution_count": 63,
      "outputs": [
        {
          "output_type": "execute_result",
          "data": {
            "text/plain": [
              "0.9838889495483406"
            ]
          },
          "metadata": {
            "tags": []
          },
          "execution_count": 63
        }
      ]
    },
    {
      "cell_type": "code",
      "metadata": {
        "colab": {
          "base_uri": "https://localhost:8080/"
        },
        "id": "YGY8v8y0VhYM",
        "outputId": "b1933869-2a76-4833-97a3-3fe148f0395a"
      },
      "source": [
        "# Examine r2 score on test set\r\n",
        "regressor.score(x_valid, y_valid)"
      ],
      "execution_count": 64,
      "outputs": [
        {
          "output_type": "execute_result",
          "data": {
            "text/plain": [
              "0.9135856501113524"
            ]
          },
          "metadata": {
            "tags": []
          },
          "execution_count": 64
        }
      ]
    },
    {
      "cell_type": "code",
      "metadata": {
        "colab": {
          "base_uri": "https://localhost:8080/"
        },
        "id": "OcABmv5ZVmN6",
        "outputId": "c6023cd9-d790-4b71-9e82-48cba5c2a1f1"
      },
      "source": [
        "# check adjusted r2 on validation set\r\n",
        "adj_r2_new(x_valid,y_valid,regressor)"
      ],
      "execution_count": 65,
      "outputs": [
        {
          "output_type": "execute_result",
          "data": {
            "text/plain": [
              "0.9132337428386343"
            ]
          },
          "metadata": {
            "tags": []
          },
          "execution_count": 65
        }
      ]
    },
    {
      "cell_type": "code",
      "metadata": {
        "colab": {
          "base_uri": "https://localhost:8080/"
        },
        "id": "XCFFM-uLZOtA",
        "outputId": "6865d268-1453-47c0-f421-8fb06a12c908"
      },
      "source": [
        "# MSE Metrics on validation set\r\n",
        "from sklearn.metrics import mean_squared_error\r\n",
        "y_pred = regressor.predict(x_valid)\r\n",
        "print(\"The mean square error of the model is: \" , mean_squared_error(y_valid,y_pred))"
      ],
      "execution_count": 66,
      "outputs": [
        {
          "output_type": "stream",
          "text": [
            "The mean square error of the model is:  0.08726477390566685\n"
          ],
          "name": "stdout"
        }
      ]
    },
    {
      "cell_type": "code",
      "metadata": {
        "colab": {
          "base_uri": "https://localhost:8080/"
        },
        "id": "rE_PeshukiAx",
        "outputId": "294252bd-0f13-441f-eab9-3f7f444a3241"
      },
      "source": [
        "# Applying cross validation\r\n",
        "from sklearn.model_selection import cross_val_score, cross_val_predict\r\n",
        "Rcross = cross_val_score(regressor, x_train, y_train, cv = 3)\r\n",
        "y_pred_cv = cross_val_predict(regressor, x_train,y_train, cv = 3)\r\n",
        "print(Rcross)\r\n",
        "print(Rcross.mean())\r\n",
        "print(Rcross.std())"
      ],
      "execution_count": 67,
      "outputs": [
        {
          "output_type": "stream",
          "text": [
            "/usr/local/lib/python3.6/dist-packages/sklearn/model_selection/_validation.py:515: DataConversionWarning: A column-vector y was passed when a 1d array was expected. Please change the shape of y to (n_samples,), for example using ravel().\n",
            "  estimator.fit(X_train, y_train, **fit_params)\n",
            "/usr/local/lib/python3.6/dist-packages/sklearn/model_selection/_validation.py:515: DataConversionWarning: A column-vector y was passed when a 1d array was expected. Please change the shape of y to (n_samples,), for example using ravel().\n",
            "  estimator.fit(X_train, y_train, **fit_params)\n",
            "/usr/local/lib/python3.6/dist-packages/sklearn/model_selection/_validation.py:515: DataConversionWarning: A column-vector y was passed when a 1d array was expected. Please change the shape of y to (n_samples,), for example using ravel().\n",
            "  estimator.fit(X_train, y_train, **fit_params)\n",
            "/usr/local/lib/python3.6/dist-packages/sklearn/model_selection/_validation.py:841: DataConversionWarning: A column-vector y was passed when a 1d array was expected. Please change the shape of y to (n_samples,), for example using ravel().\n",
            "  estimator.fit(X_train, y_train, **fit_params)\n",
            "/usr/local/lib/python3.6/dist-packages/sklearn/model_selection/_validation.py:841: DataConversionWarning: A column-vector y was passed when a 1d array was expected. Please change the shape of y to (n_samples,), for example using ravel().\n",
            "  estimator.fit(X_train, y_train, **fit_params)\n",
            "/usr/local/lib/python3.6/dist-packages/sklearn/model_selection/_validation.py:841: DataConversionWarning: A column-vector y was passed when a 1d array was expected. Please change the shape of y to (n_samples,), for example using ravel().\n",
            "  estimator.fit(X_train, y_train, **fit_params)\n"
          ],
          "name": "stderr"
        },
        {
          "output_type": "stream",
          "text": [
            "[0.9091754  0.90468112 0.90446786]\n",
            "0.9061081281579874\n",
            "0.002170638189420851\n"
          ],
          "name": "stdout"
        }
      ]
    },
    {
      "cell_type": "markdown",
      "metadata": {
        "id": "FKdrJFTZVvy4"
      },
      "source": [
        "## XGBoost Regression"
      ]
    },
    {
      "cell_type": "code",
      "metadata": {
        "colab": {
          "base_uri": "https://localhost:8080/"
        },
        "id": "IUa1b1n0V2QF",
        "outputId": "c02fc3d8-33b9-4938-abed-39838c8976c6"
      },
      "source": [
        "# Training XGBoost on the Training set\r\n",
        "import xgboost\r\n",
        "from xgboost import XGBRegressor\r\n",
        "regressor2 = XGBRegressor()\r\n",
        "regressor2.fit(x_train, y_train)"
      ],
      "execution_count": 68,
      "outputs": [
        {
          "output_type": "stream",
          "text": [
            "[04:39:22] WARNING: /workspace/src/objective/regression_obj.cu:152: reg:linear is now deprecated in favor of reg:squarederror.\n"
          ],
          "name": "stdout"
        },
        {
          "output_type": "execute_result",
          "data": {
            "text/plain": [
              "XGBRegressor(base_score=0.5, booster='gbtree', colsample_bylevel=1,\n",
              "             colsample_bynode=1, colsample_bytree=1, gamma=0,\n",
              "             importance_type='gain', learning_rate=0.1, max_delta_step=0,\n",
              "             max_depth=3, min_child_weight=1, missing=None, n_estimators=100,\n",
              "             n_jobs=1, nthread=None, objective='reg:linear', random_state=0,\n",
              "             reg_alpha=0, reg_lambda=1, scale_pos_weight=1, seed=None,\n",
              "             silent=None, subsample=1, verbosity=1)"
            ]
          },
          "metadata": {
            "tags": []
          },
          "execution_count": 68
        }
      ]
    },
    {
      "cell_type": "code",
      "metadata": {
        "colab": {
          "base_uri": "https://localhost:8080/"
        },
        "id": "W0OoPLfAWXCp",
        "outputId": "0058eae2-7518-4a0d-cd17-30e0261fae24"
      },
      "source": [
        "# Examine r2 score on train set\r\n",
        "regressor2.score(x_train, y_train)"
      ],
      "execution_count": 69,
      "outputs": [
        {
          "output_type": "execute_result",
          "data": {
            "text/plain": [
              "0.910365184365716"
            ]
          },
          "metadata": {
            "tags": []
          },
          "execution_count": 69
        }
      ]
    },
    {
      "cell_type": "code",
      "metadata": {
        "colab": {
          "base_uri": "https://localhost:8080/"
        },
        "id": "yQrIrZzJWcrG",
        "outputId": "ac27c950-f732-49b3-86a8-0f3211cee5c6"
      },
      "source": [
        "# Examine r2 score on test set\r\n",
        "regressor2.score(x_valid, y_valid)"
      ],
      "execution_count": 70,
      "outputs": [
        {
          "output_type": "execute_result",
          "data": {
            "text/plain": [
              "0.9047611957233351"
            ]
          },
          "metadata": {
            "tags": []
          },
          "execution_count": 70
        }
      ]
    },
    {
      "cell_type": "code",
      "metadata": {
        "colab": {
          "base_uri": "https://localhost:8080/"
        },
        "id": "GV_RZBTQWjvO",
        "outputId": "636c9549-bca9-4ddb-fe35-d96761833500"
      },
      "source": [
        "# check adjusted r2 on validation set\r\n",
        "adj_r2_new(x_valid,y_valid,regressor2)"
      ],
      "execution_count": 71,
      "outputs": [
        {
          "output_type": "execute_result",
          "data": {
            "text/plain": [
              "0.9043733524089652"
            ]
          },
          "metadata": {
            "tags": []
          },
          "execution_count": 71
        }
      ]
    },
    {
      "cell_type": "code",
      "metadata": {
        "colab": {
          "base_uri": "https://localhost:8080/"
        },
        "id": "EFsZsTGJZCsY",
        "outputId": "7d408e52-2593-426b-acc5-8cd43b90dd1e"
      },
      "source": [
        "# MSE Metrics on validation set\r\n",
        "from sklearn.metrics import mean_squared_error\r\n",
        "y_pred = regressor2.predict(x_valid)\r\n",
        "print(\"The mean square error of the model is: \" , mean_squared_error(y_valid,y_pred))"
      ],
      "execution_count": 72,
      "outputs": [
        {
          "output_type": "stream",
          "text": [
            "The mean square error of the model is:  0.09617607183249831\n"
          ],
          "name": "stdout"
        }
      ]
    },
    {
      "cell_type": "code",
      "metadata": {
        "colab": {
          "base_uri": "https://localhost:8080/"
        },
        "id": "ennAyrg2kbdh",
        "outputId": "1b62add8-649b-4cfe-db75-7c150015f516"
      },
      "source": [
        "# Applying cross validation\r\n",
        "from sklearn.model_selection import cross_val_score, cross_val_predict\r\n",
        "Rcross = cross_val_score(regressor2, x_train, y_train, cv = 3)\r\n",
        "y_pred_cv = cross_val_predict(regressor2, x_train,y_train, cv = 3)\r\n",
        "print(Rcross)\r\n",
        "print(Rcross.mean())\r\n",
        "print(Rcross.std())"
      ],
      "execution_count": 73,
      "outputs": [
        {
          "output_type": "stream",
          "text": [
            "[04:39:25] WARNING: /workspace/src/objective/regression_obj.cu:152: reg:linear is now deprecated in favor of reg:squarederror.\n",
            "[04:39:26] WARNING: /workspace/src/objective/regression_obj.cu:152: reg:linear is now deprecated in favor of reg:squarederror.\n",
            "[04:39:27] WARNING: /workspace/src/objective/regression_obj.cu:152: reg:linear is now deprecated in favor of reg:squarederror.\n",
            "[04:39:28] WARNING: /workspace/src/objective/regression_obj.cu:152: reg:linear is now deprecated in favor of reg:squarederror.\n",
            "[04:39:30] WARNING: /workspace/src/objective/regression_obj.cu:152: reg:linear is now deprecated in favor of reg:squarederror.\n",
            "[04:39:31] WARNING: /workspace/src/objective/regression_obj.cu:152: reg:linear is now deprecated in favor of reg:squarederror.\n",
            "[0.90040728 0.89878549 0.90051756]\n",
            "0.8999034425167199\n",
            "0.0007917918129360937\n"
          ],
          "name": "stdout"
        }
      ]
    },
    {
      "cell_type": "markdown",
      "metadata": {
        "id": "RywAZC42Wo0K"
      },
      "source": [
        "## CatBoost Regression"
      ]
    },
    {
      "cell_type": "code",
      "metadata": {
        "colab": {
          "base_uri": "https://localhost:8080/"
        },
        "id": "fbXnJxxiWukP",
        "outputId": "cb609974-8895-4640-bb10-26ddfe89a71e"
      },
      "source": [
        "!pip install catboost\r\n"
      ],
      "execution_count": 74,
      "outputs": [
        {
          "output_type": "stream",
          "text": [
            "Collecting catboost\n",
            "\u001b[?25l  Downloading https://files.pythonhosted.org/packages/20/37/bc4e0ddc30c07a96482abf1de7ed1ca54e59bba2026a33bca6d2ef286e5b/catboost-0.24.4-cp36-none-manylinux1_x86_64.whl (65.7MB)\n",
            "\u001b[K     |████████████████████████████████| 65.8MB 59kB/s \n",
            "\u001b[?25hRequirement already satisfied: scipy in /usr/local/lib/python3.6/dist-packages (from catboost) (1.4.1)\n",
            "Requirement already satisfied: matplotlib in /usr/local/lib/python3.6/dist-packages (from catboost) (3.2.2)\n",
            "Requirement already satisfied: pandas>=0.24.0 in /usr/local/lib/python3.6/dist-packages (from catboost) (1.1.5)\n",
            "Requirement already satisfied: six in /usr/local/lib/python3.6/dist-packages (from catboost) (1.15.0)\n",
            "Requirement already satisfied: graphviz in /usr/local/lib/python3.6/dist-packages (from catboost) (0.10.1)\n",
            "Requirement already satisfied: numpy>=1.16.0 in /usr/local/lib/python3.6/dist-packages (from catboost) (1.19.4)\n",
            "Requirement already satisfied: plotly in /usr/local/lib/python3.6/dist-packages (from catboost) (4.4.1)\n",
            "Requirement already satisfied: cycler>=0.10 in /usr/local/lib/python3.6/dist-packages (from matplotlib->catboost) (0.10.0)\n",
            "Requirement already satisfied: kiwisolver>=1.0.1 in /usr/local/lib/python3.6/dist-packages (from matplotlib->catboost) (1.3.1)\n",
            "Requirement already satisfied: pyparsing!=2.0.4,!=2.1.2,!=2.1.6,>=2.0.1 in /usr/local/lib/python3.6/dist-packages (from matplotlib->catboost) (2.4.7)\n",
            "Requirement already satisfied: python-dateutil>=2.1 in /usr/local/lib/python3.6/dist-packages (from matplotlib->catboost) (2.8.1)\n",
            "Requirement already satisfied: pytz>=2017.2 in /usr/local/lib/python3.6/dist-packages (from pandas>=0.24.0->catboost) (2018.9)\n",
            "Requirement already satisfied: retrying>=1.3.3 in /usr/local/lib/python3.6/dist-packages (from plotly->catboost) (1.3.3)\n",
            "Installing collected packages: catboost\n",
            "Successfully installed catboost-0.24.4\n"
          ],
          "name": "stdout"
        }
      ]
    },
    {
      "cell_type": "code",
      "metadata": {
        "colab": {
          "base_uri": "https://localhost:8080/"
        },
        "id": "N7yqYGngXFl7",
        "outputId": "6f034fd0-6948-4d1c-9556-66836d2033ed"
      },
      "source": [
        "# Training CatBoost model on the Training set\r\n",
        "import catboost\r\n",
        "from catboost import  CatBoostRegressor\r\n",
        "regressor3 = CatBoostRegressor()\r\n",
        "regressor3.fit(x_train, y_train)"
      ],
      "execution_count": 75,
      "outputs": [
        {
          "output_type": "stream",
          "text": [
            "Learning rate set to 0.069051\n",
            "0:\tlearn: 0.9468606\ttotal: 54.7ms\tremaining: 54.7s\n",
            "1:\tlearn: 0.9017032\ttotal: 62.1ms\tremaining: 31s\n",
            "2:\tlearn: 0.8568425\ttotal: 68.8ms\tremaining: 22.9s\n",
            "3:\tlearn: 0.8143270\ttotal: 75.8ms\tremaining: 18.9s\n",
            "4:\tlearn: 0.7770558\ttotal: 82.9ms\tremaining: 16.5s\n",
            "5:\tlearn: 0.7415222\ttotal: 89.8ms\tremaining: 14.9s\n",
            "6:\tlearn: 0.7071248\ttotal: 96.6ms\tremaining: 13.7s\n",
            "7:\tlearn: 0.6773520\ttotal: 104ms\tremaining: 12.8s\n",
            "8:\tlearn: 0.6499133\ttotal: 110ms\tremaining: 12.2s\n",
            "9:\tlearn: 0.6240502\ttotal: 117ms\tremaining: 11.6s\n",
            "10:\tlearn: 0.5996898\ttotal: 124ms\tremaining: 11.1s\n",
            "11:\tlearn: 0.5783261\ttotal: 130ms\tremaining: 10.7s\n",
            "12:\tlearn: 0.5575224\ttotal: 137ms\tremaining: 10.4s\n",
            "13:\tlearn: 0.5379988\ttotal: 144ms\tremaining: 10.1s\n",
            "14:\tlearn: 0.5214247\ttotal: 150ms\tremaining: 9.86s\n",
            "15:\tlearn: 0.5042927\ttotal: 157ms\tremaining: 9.64s\n",
            "16:\tlearn: 0.4896557\ttotal: 163ms\tremaining: 9.45s\n",
            "17:\tlearn: 0.4768056\ttotal: 170ms\tremaining: 9.29s\n",
            "18:\tlearn: 0.4643707\ttotal: 177ms\tremaining: 9.13s\n",
            "19:\tlearn: 0.4519946\ttotal: 184ms\tremaining: 9.02s\n",
            "20:\tlearn: 0.4416638\ttotal: 199ms\tremaining: 9.27s\n",
            "21:\tlearn: 0.4323113\ttotal: 206ms\tremaining: 9.15s\n",
            "22:\tlearn: 0.4235538\ttotal: 213ms\tremaining: 9.04s\n",
            "23:\tlearn: 0.4160733\ttotal: 219ms\tremaining: 8.92s\n",
            "24:\tlearn: 0.4087887\ttotal: 227ms\tremaining: 8.85s\n",
            "25:\tlearn: 0.4023846\ttotal: 234ms\tremaining: 8.76s\n",
            "26:\tlearn: 0.3954147\ttotal: 241ms\tremaining: 8.67s\n",
            "27:\tlearn: 0.3893346\ttotal: 247ms\tremaining: 8.59s\n",
            "28:\tlearn: 0.3836965\ttotal: 254ms\tremaining: 8.5s\n",
            "29:\tlearn: 0.3788168\ttotal: 261ms\tremaining: 8.42s\n",
            "30:\tlearn: 0.3742071\ttotal: 267ms\tremaining: 8.35s\n",
            "31:\tlearn: 0.3704323\ttotal: 274ms\tremaining: 8.29s\n",
            "32:\tlearn: 0.3662827\ttotal: 281ms\tremaining: 8.22s\n",
            "33:\tlearn: 0.3627125\ttotal: 288ms\tremaining: 8.18s\n",
            "34:\tlearn: 0.3596537\ttotal: 296ms\tremaining: 8.16s\n",
            "35:\tlearn: 0.3563952\ttotal: 304ms\tremaining: 8.13s\n",
            "36:\tlearn: 0.3533230\ttotal: 310ms\tremaining: 8.08s\n",
            "37:\tlearn: 0.3508516\ttotal: 317ms\tremaining: 8.03s\n",
            "38:\tlearn: 0.3484950\ttotal: 324ms\tremaining: 7.98s\n",
            "39:\tlearn: 0.3463193\ttotal: 330ms\tremaining: 7.93s\n",
            "40:\tlearn: 0.3440838\ttotal: 338ms\tremaining: 7.91s\n",
            "41:\tlearn: 0.3419260\ttotal: 345ms\tremaining: 7.86s\n",
            "42:\tlearn: 0.3398364\ttotal: 351ms\tremaining: 7.82s\n",
            "43:\tlearn: 0.3381736\ttotal: 358ms\tremaining: 7.78s\n",
            "44:\tlearn: 0.3363816\ttotal: 366ms\tremaining: 7.76s\n",
            "45:\tlearn: 0.3347330\ttotal: 373ms\tremaining: 7.75s\n",
            "46:\tlearn: 0.3330354\ttotal: 380ms\tremaining: 7.71s\n",
            "47:\tlearn: 0.3314586\ttotal: 387ms\tremaining: 7.67s\n",
            "48:\tlearn: 0.3301032\ttotal: 394ms\tremaining: 7.65s\n",
            "49:\tlearn: 0.3286466\ttotal: 405ms\tremaining: 7.69s\n",
            "50:\tlearn: 0.3275457\ttotal: 411ms\tremaining: 7.65s\n",
            "51:\tlearn: 0.3266483\ttotal: 417ms\tremaining: 7.6s\n",
            "52:\tlearn: 0.3254513\ttotal: 424ms\tremaining: 7.57s\n",
            "53:\tlearn: 0.3244417\ttotal: 430ms\tremaining: 7.54s\n",
            "54:\tlearn: 0.3234524\ttotal: 437ms\tremaining: 7.5s\n",
            "55:\tlearn: 0.3227005\ttotal: 443ms\tremaining: 7.46s\n",
            "56:\tlearn: 0.3211318\ttotal: 450ms\tremaining: 7.44s\n",
            "57:\tlearn: 0.3201827\ttotal: 456ms\tremaining: 7.41s\n",
            "58:\tlearn: 0.3190846\ttotal: 463ms\tremaining: 7.38s\n",
            "59:\tlearn: 0.3183008\ttotal: 469ms\tremaining: 7.35s\n",
            "60:\tlearn: 0.3175192\ttotal: 476ms\tremaining: 7.33s\n",
            "61:\tlearn: 0.3166874\ttotal: 483ms\tremaining: 7.31s\n",
            "62:\tlearn: 0.3159074\ttotal: 497ms\tremaining: 7.39s\n",
            "63:\tlearn: 0.3152353\ttotal: 504ms\tremaining: 7.37s\n",
            "64:\tlearn: 0.3146085\ttotal: 511ms\tremaining: 7.35s\n",
            "65:\tlearn: 0.3135330\ttotal: 517ms\tremaining: 7.32s\n",
            "66:\tlearn: 0.3129140\ttotal: 524ms\tremaining: 7.29s\n",
            "67:\tlearn: 0.3121989\ttotal: 531ms\tremaining: 7.27s\n",
            "68:\tlearn: 0.3115853\ttotal: 539ms\tremaining: 7.27s\n",
            "69:\tlearn: 0.3106335\ttotal: 546ms\tremaining: 7.25s\n",
            "70:\tlearn: 0.3099186\ttotal: 553ms\tremaining: 7.24s\n",
            "71:\tlearn: 0.3093843\ttotal: 563ms\tremaining: 7.25s\n",
            "72:\tlearn: 0.3088763\ttotal: 572ms\tremaining: 7.26s\n",
            "73:\tlearn: 0.3082752\ttotal: 578ms\tremaining: 7.23s\n",
            "74:\tlearn: 0.3077692\ttotal: 585ms\tremaining: 7.21s\n",
            "75:\tlearn: 0.3073450\ttotal: 596ms\tremaining: 7.25s\n",
            "76:\tlearn: 0.3067408\ttotal: 604ms\tremaining: 7.24s\n",
            "77:\tlearn: 0.3059650\ttotal: 610ms\tremaining: 7.21s\n",
            "78:\tlearn: 0.3049265\ttotal: 617ms\tremaining: 7.19s\n",
            "79:\tlearn: 0.3042811\ttotal: 624ms\tremaining: 7.17s\n",
            "80:\tlearn: 0.3039437\ttotal: 630ms\tremaining: 7.15s\n",
            "81:\tlearn: 0.3032635\ttotal: 637ms\tremaining: 7.13s\n",
            "82:\tlearn: 0.3026064\ttotal: 643ms\tremaining: 7.11s\n",
            "83:\tlearn: 0.3019978\ttotal: 650ms\tremaining: 7.08s\n",
            "84:\tlearn: 0.3014290\ttotal: 656ms\tremaining: 7.06s\n",
            "85:\tlearn: 0.3007502\ttotal: 662ms\tremaining: 7.04s\n",
            "86:\tlearn: 0.3001344\ttotal: 669ms\tremaining: 7.02s\n",
            "87:\tlearn: 0.2997650\ttotal: 675ms\tremaining: 7s\n",
            "88:\tlearn: 0.2994393\ttotal: 682ms\tremaining: 6.98s\n",
            "89:\tlearn: 0.2985174\ttotal: 689ms\tremaining: 6.96s\n",
            "90:\tlearn: 0.2981844\ttotal: 695ms\tremaining: 6.94s\n",
            "91:\tlearn: 0.2976065\ttotal: 702ms\tremaining: 6.92s\n",
            "92:\tlearn: 0.2971301\ttotal: 708ms\tremaining: 6.9s\n",
            "93:\tlearn: 0.2966561\ttotal: 714ms\tremaining: 6.88s\n",
            "94:\tlearn: 0.2963468\ttotal: 721ms\tremaining: 6.86s\n",
            "95:\tlearn: 0.2959532\ttotal: 727ms\tremaining: 6.85s\n",
            "96:\tlearn: 0.2953474\ttotal: 735ms\tremaining: 6.84s\n",
            "97:\tlearn: 0.2951181\ttotal: 741ms\tremaining: 6.82s\n",
            "98:\tlearn: 0.2944701\ttotal: 749ms\tremaining: 6.82s\n",
            "99:\tlearn: 0.2941963\ttotal: 756ms\tremaining: 6.8s\n",
            "100:\tlearn: 0.2939390\ttotal: 763ms\tremaining: 6.79s\n",
            "101:\tlearn: 0.2935366\ttotal: 769ms\tremaining: 6.77s\n",
            "102:\tlearn: 0.2933178\ttotal: 776ms\tremaining: 6.75s\n",
            "103:\tlearn: 0.2931129\ttotal: 782ms\tremaining: 6.73s\n",
            "104:\tlearn: 0.2927869\ttotal: 788ms\tremaining: 6.72s\n",
            "105:\tlearn: 0.2921903\ttotal: 801ms\tremaining: 6.75s\n",
            "106:\tlearn: 0.2918437\ttotal: 808ms\tremaining: 6.74s\n",
            "107:\tlearn: 0.2914200\ttotal: 814ms\tremaining: 6.72s\n",
            "108:\tlearn: 0.2909276\ttotal: 821ms\tremaining: 6.71s\n",
            "109:\tlearn: 0.2904896\ttotal: 827ms\tremaining: 6.69s\n",
            "110:\tlearn: 0.2902863\ttotal: 833ms\tremaining: 6.67s\n",
            "111:\tlearn: 0.2896867\ttotal: 839ms\tremaining: 6.65s\n",
            "112:\tlearn: 0.2895401\ttotal: 845ms\tremaining: 6.63s\n",
            "113:\tlearn: 0.2890596\ttotal: 852ms\tremaining: 6.62s\n",
            "114:\tlearn: 0.2886126\ttotal: 859ms\tremaining: 6.61s\n",
            "115:\tlearn: 0.2880300\ttotal: 865ms\tremaining: 6.59s\n",
            "116:\tlearn: 0.2877894\ttotal: 871ms\tremaining: 6.58s\n",
            "117:\tlearn: 0.2871910\ttotal: 878ms\tremaining: 6.57s\n",
            "118:\tlearn: 0.2866868\ttotal: 885ms\tremaining: 6.55s\n",
            "119:\tlearn: 0.2864360\ttotal: 891ms\tremaining: 6.54s\n",
            "120:\tlearn: 0.2861582\ttotal: 898ms\tremaining: 6.52s\n",
            "121:\tlearn: 0.2858997\ttotal: 909ms\tremaining: 6.54s\n",
            "122:\tlearn: 0.2854867\ttotal: 920ms\tremaining: 6.56s\n",
            "123:\tlearn: 0.2849970\ttotal: 927ms\tremaining: 6.55s\n",
            "124:\tlearn: 0.2847628\ttotal: 933ms\tremaining: 6.53s\n",
            "125:\tlearn: 0.2845357\ttotal: 940ms\tremaining: 6.52s\n",
            "126:\tlearn: 0.2842337\ttotal: 947ms\tremaining: 6.51s\n",
            "127:\tlearn: 0.2838597\ttotal: 955ms\tremaining: 6.5s\n",
            "128:\tlearn: 0.2833495\ttotal: 962ms\tremaining: 6.5s\n",
            "129:\tlearn: 0.2831614\ttotal: 969ms\tremaining: 6.48s\n",
            "130:\tlearn: 0.2828073\ttotal: 976ms\tremaining: 6.48s\n",
            "131:\tlearn: 0.2823766\ttotal: 984ms\tremaining: 6.47s\n",
            "132:\tlearn: 0.2821695\ttotal: 991ms\tremaining: 6.46s\n",
            "133:\tlearn: 0.2819671\ttotal: 1s\tremaining: 6.48s\n",
            "134:\tlearn: 0.2813593\ttotal: 1.01s\tremaining: 6.48s\n",
            "135:\tlearn: 0.2811896\ttotal: 1.02s\tremaining: 6.46s\n",
            "136:\tlearn: 0.2809222\ttotal: 1.02s\tremaining: 6.45s\n",
            "137:\tlearn: 0.2805725\ttotal: 1.03s\tremaining: 6.44s\n",
            "138:\tlearn: 0.2801008\ttotal: 1.04s\tremaining: 6.43s\n",
            "139:\tlearn: 0.2799018\ttotal: 1.04s\tremaining: 6.42s\n",
            "140:\tlearn: 0.2797721\ttotal: 1.05s\tremaining: 6.41s\n",
            "141:\tlearn: 0.2793931\ttotal: 1.06s\tremaining: 6.39s\n",
            "142:\tlearn: 0.2789486\ttotal: 1.06s\tremaining: 6.38s\n",
            "143:\tlearn: 0.2786121\ttotal: 1.07s\tremaining: 6.38s\n",
            "144:\tlearn: 0.2782548\ttotal: 1.08s\tremaining: 6.37s\n",
            "145:\tlearn: 0.2778011\ttotal: 1.08s\tremaining: 6.35s\n",
            "146:\tlearn: 0.2774508\ttotal: 1.09s\tremaining: 6.34s\n",
            "147:\tlearn: 0.2773616\ttotal: 1.1s\tremaining: 6.33s\n",
            "148:\tlearn: 0.2771269\ttotal: 1.11s\tremaining: 6.33s\n",
            "149:\tlearn: 0.2769602\ttotal: 1.11s\tremaining: 6.31s\n",
            "150:\tlearn: 0.2767158\ttotal: 1.12s\tremaining: 6.3s\n",
            "151:\tlearn: 0.2764729\ttotal: 1.13s\tremaining: 6.29s\n",
            "152:\tlearn: 0.2761020\ttotal: 1.13s\tremaining: 6.28s\n",
            "153:\tlearn: 0.2758732\ttotal: 1.14s\tremaining: 6.27s\n",
            "154:\tlearn: 0.2754390\ttotal: 1.15s\tremaining: 6.26s\n",
            "155:\tlearn: 0.2750704\ttotal: 1.15s\tremaining: 6.25s\n",
            "156:\tlearn: 0.2748085\ttotal: 1.16s\tremaining: 6.24s\n",
            "157:\tlearn: 0.2746198\ttotal: 1.17s\tremaining: 6.22s\n",
            "158:\tlearn: 0.2744709\ttotal: 1.17s\tremaining: 6.21s\n",
            "159:\tlearn: 0.2741882\ttotal: 1.18s\tremaining: 6.2s\n",
            "160:\tlearn: 0.2739676\ttotal: 1.19s\tremaining: 6.18s\n",
            "161:\tlearn: 0.2736006\ttotal: 1.2s\tremaining: 6.19s\n",
            "162:\tlearn: 0.2731796\ttotal: 1.2s\tremaining: 6.18s\n",
            "163:\tlearn: 0.2730535\ttotal: 1.21s\tremaining: 6.17s\n",
            "164:\tlearn: 0.2729066\ttotal: 1.22s\tremaining: 6.15s\n",
            "165:\tlearn: 0.2727657\ttotal: 1.23s\tremaining: 6.16s\n",
            "166:\tlearn: 0.2724904\ttotal: 1.24s\tremaining: 6.17s\n",
            "167:\tlearn: 0.2721458\ttotal: 1.24s\tremaining: 6.16s\n",
            "168:\tlearn: 0.2719758\ttotal: 1.25s\tremaining: 6.14s\n",
            "169:\tlearn: 0.2715995\ttotal: 1.26s\tremaining: 6.13s\n",
            "170:\tlearn: 0.2714056\ttotal: 1.26s\tremaining: 6.12s\n",
            "171:\tlearn: 0.2710417\ttotal: 1.27s\tremaining: 6.11s\n",
            "172:\tlearn: 0.2708395\ttotal: 1.28s\tremaining: 6.1s\n",
            "173:\tlearn: 0.2705073\ttotal: 1.28s\tremaining: 6.09s\n",
            "174:\tlearn: 0.2701479\ttotal: 1.29s\tremaining: 6.08s\n",
            "175:\tlearn: 0.2699725\ttotal: 1.3s\tremaining: 6.07s\n",
            "176:\tlearn: 0.2696870\ttotal: 1.3s\tremaining: 6.06s\n",
            "177:\tlearn: 0.2694796\ttotal: 1.31s\tremaining: 6.05s\n",
            "178:\tlearn: 0.2692776\ttotal: 1.32s\tremaining: 6.04s\n",
            "179:\tlearn: 0.2689259\ttotal: 1.32s\tremaining: 6.03s\n",
            "180:\tlearn: 0.2686247\ttotal: 1.33s\tremaining: 6.02s\n",
            "181:\tlearn: 0.2683333\ttotal: 1.34s\tremaining: 6.01s\n",
            "182:\tlearn: 0.2681862\ttotal: 1.34s\tremaining: 6s\n",
            "183:\tlearn: 0.2678487\ttotal: 1.35s\tremaining: 5.99s\n",
            "184:\tlearn: 0.2675584\ttotal: 1.36s\tremaining: 5.98s\n",
            "185:\tlearn: 0.2673345\ttotal: 1.36s\tremaining: 5.97s\n",
            "186:\tlearn: 0.2670118\ttotal: 1.37s\tremaining: 5.96s\n",
            "187:\tlearn: 0.2666912\ttotal: 1.38s\tremaining: 5.95s\n",
            "188:\tlearn: 0.2663801\ttotal: 1.39s\tremaining: 5.94s\n",
            "189:\tlearn: 0.2662136\ttotal: 1.4s\tremaining: 5.96s\n",
            "190:\tlearn: 0.2659870\ttotal: 1.41s\tremaining: 5.95s\n",
            "191:\tlearn: 0.2657797\ttotal: 1.41s\tremaining: 5.94s\n",
            "192:\tlearn: 0.2655515\ttotal: 1.42s\tremaining: 5.94s\n",
            "193:\tlearn: 0.2653417\ttotal: 1.43s\tremaining: 5.93s\n",
            "194:\tlearn: 0.2651944\ttotal: 1.43s\tremaining: 5.92s\n",
            "195:\tlearn: 0.2650558\ttotal: 1.44s\tremaining: 5.91s\n",
            "196:\tlearn: 0.2647976\ttotal: 1.45s\tremaining: 5.9s\n",
            "197:\tlearn: 0.2645869\ttotal: 1.46s\tremaining: 5.89s\n",
            "198:\tlearn: 0.2642957\ttotal: 1.47s\tremaining: 5.91s\n",
            "199:\tlearn: 0.2641183\ttotal: 1.47s\tremaining: 5.9s\n",
            "200:\tlearn: 0.2638518\ttotal: 1.48s\tremaining: 5.89s\n",
            "201:\tlearn: 0.2636857\ttotal: 1.49s\tremaining: 5.88s\n",
            "202:\tlearn: 0.2633629\ttotal: 1.49s\tremaining: 5.87s\n",
            "203:\tlearn: 0.2631529\ttotal: 1.5s\tremaining: 5.86s\n",
            "204:\tlearn: 0.2630134\ttotal: 1.51s\tremaining: 5.84s\n",
            "205:\tlearn: 0.2627857\ttotal: 1.51s\tremaining: 5.83s\n",
            "206:\tlearn: 0.2626015\ttotal: 1.52s\tremaining: 5.82s\n",
            "207:\tlearn: 0.2624307\ttotal: 1.53s\tremaining: 5.81s\n",
            "208:\tlearn: 0.2621431\ttotal: 1.53s\tremaining: 5.8s\n",
            "209:\tlearn: 0.2619820\ttotal: 1.54s\tremaining: 5.79s\n",
            "210:\tlearn: 0.2618748\ttotal: 1.54s\tremaining: 5.78s\n",
            "211:\tlearn: 0.2616658\ttotal: 1.55s\tremaining: 5.77s\n",
            "212:\tlearn: 0.2614568\ttotal: 1.56s\tremaining: 5.76s\n",
            "213:\tlearn: 0.2612964\ttotal: 1.56s\tremaining: 5.75s\n",
            "214:\tlearn: 0.2610563\ttotal: 1.57s\tremaining: 5.74s\n",
            "215:\tlearn: 0.2609222\ttotal: 1.58s\tremaining: 5.73s\n",
            "216:\tlearn: 0.2607250\ttotal: 1.59s\tremaining: 5.72s\n",
            "217:\tlearn: 0.2606016\ttotal: 1.6s\tremaining: 5.74s\n",
            "218:\tlearn: 0.2602877\ttotal: 1.61s\tremaining: 5.73s\n",
            "219:\tlearn: 0.2601543\ttotal: 1.61s\tremaining: 5.72s\n",
            "220:\tlearn: 0.2599405\ttotal: 1.62s\tremaining: 5.71s\n",
            "221:\tlearn: 0.2598217\ttotal: 1.63s\tremaining: 5.7s\n",
            "222:\tlearn: 0.2595543\ttotal: 1.63s\tremaining: 5.69s\n",
            "223:\tlearn: 0.2593946\ttotal: 1.64s\tremaining: 5.68s\n",
            "224:\tlearn: 0.2591912\ttotal: 1.65s\tremaining: 5.67s\n",
            "225:\tlearn: 0.2590401\ttotal: 1.65s\tremaining: 5.66s\n",
            "226:\tlearn: 0.2587638\ttotal: 1.66s\tremaining: 5.65s\n",
            "227:\tlearn: 0.2585188\ttotal: 1.66s\tremaining: 5.63s\n",
            "228:\tlearn: 0.2582825\ttotal: 1.67s\tremaining: 5.63s\n",
            "229:\tlearn: 0.2581160\ttotal: 1.68s\tremaining: 5.62s\n",
            "230:\tlearn: 0.2579676\ttotal: 1.68s\tremaining: 5.61s\n",
            "231:\tlearn: 0.2577710\ttotal: 1.69s\tremaining: 5.59s\n",
            "232:\tlearn: 0.2576201\ttotal: 1.7s\tremaining: 5.58s\n",
            "233:\tlearn: 0.2575006\ttotal: 1.7s\tremaining: 5.58s\n",
            "234:\tlearn: 0.2572775\ttotal: 1.71s\tremaining: 5.56s\n",
            "235:\tlearn: 0.2570758\ttotal: 1.72s\tremaining: 5.55s\n",
            "236:\tlearn: 0.2568746\ttotal: 1.72s\tremaining: 5.54s\n",
            "237:\tlearn: 0.2568340\ttotal: 1.73s\tremaining: 5.53s\n",
            "238:\tlearn: 0.2567006\ttotal: 1.74s\tremaining: 5.53s\n",
            "239:\tlearn: 0.2565097\ttotal: 1.74s\tremaining: 5.53s\n",
            "240:\tlearn: 0.2562802\ttotal: 1.75s\tremaining: 5.51s\n",
            "241:\tlearn: 0.2561098\ttotal: 1.76s\tremaining: 5.5s\n",
            "242:\tlearn: 0.2558947\ttotal: 1.76s\tremaining: 5.49s\n",
            "243:\tlearn: 0.2558091\ttotal: 1.77s\tremaining: 5.48s\n",
            "244:\tlearn: 0.2556394\ttotal: 1.77s\tremaining: 5.47s\n",
            "245:\tlearn: 0.2555061\ttotal: 1.78s\tremaining: 5.46s\n",
            "246:\tlearn: 0.2553514\ttotal: 1.79s\tremaining: 5.45s\n",
            "247:\tlearn: 0.2551884\ttotal: 1.8s\tremaining: 5.46s\n",
            "248:\tlearn: 0.2550612\ttotal: 1.81s\tremaining: 5.46s\n",
            "249:\tlearn: 0.2549523\ttotal: 1.81s\tremaining: 5.45s\n",
            "250:\tlearn: 0.2547567\ttotal: 1.82s\tremaining: 5.44s\n",
            "251:\tlearn: 0.2544755\ttotal: 1.83s\tremaining: 5.43s\n",
            "252:\tlearn: 0.2543386\ttotal: 1.83s\tremaining: 5.42s\n",
            "253:\tlearn: 0.2541370\ttotal: 1.84s\tremaining: 5.41s\n",
            "254:\tlearn: 0.2540097\ttotal: 1.85s\tremaining: 5.4s\n",
            "255:\tlearn: 0.2537857\ttotal: 1.85s\tremaining: 5.39s\n",
            "256:\tlearn: 0.2535899\ttotal: 1.86s\tremaining: 5.38s\n",
            "257:\tlearn: 0.2534587\ttotal: 1.87s\tremaining: 5.37s\n",
            "258:\tlearn: 0.2532791\ttotal: 1.88s\tremaining: 5.37s\n",
            "259:\tlearn: 0.2530936\ttotal: 1.88s\tremaining: 5.35s\n",
            "260:\tlearn: 0.2530547\ttotal: 1.89s\tremaining: 5.34s\n",
            "261:\tlearn: 0.2529759\ttotal: 1.89s\tremaining: 5.33s\n",
            "262:\tlearn: 0.2528734\ttotal: 1.9s\tremaining: 5.33s\n",
            "263:\tlearn: 0.2527281\ttotal: 1.91s\tremaining: 5.32s\n",
            "264:\tlearn: 0.2525448\ttotal: 1.91s\tremaining: 5.31s\n",
            "265:\tlearn: 0.2524364\ttotal: 1.92s\tremaining: 5.3s\n",
            "266:\tlearn: 0.2522834\ttotal: 1.93s\tremaining: 5.29s\n",
            "267:\tlearn: 0.2521721\ttotal: 1.93s\tremaining: 5.28s\n",
            "268:\tlearn: 0.2519902\ttotal: 1.94s\tremaining: 5.27s\n",
            "269:\tlearn: 0.2517990\ttotal: 1.95s\tremaining: 5.26s\n",
            "270:\tlearn: 0.2515803\ttotal: 1.95s\tremaining: 5.25s\n",
            "271:\tlearn: 0.2514264\ttotal: 1.96s\tremaining: 5.25s\n",
            "272:\tlearn: 0.2512742\ttotal: 1.97s\tremaining: 5.25s\n",
            "273:\tlearn: 0.2512386\ttotal: 1.98s\tremaining: 5.23s\n",
            "274:\tlearn: 0.2510041\ttotal: 1.98s\tremaining: 5.23s\n",
            "275:\tlearn: 0.2508550\ttotal: 1.99s\tremaining: 5.22s\n",
            "276:\tlearn: 0.2505989\ttotal: 2s\tremaining: 5.23s\n",
            "277:\tlearn: 0.2505100\ttotal: 2.01s\tremaining: 5.22s\n",
            "278:\tlearn: 0.2503375\ttotal: 2.02s\tremaining: 5.21s\n",
            "279:\tlearn: 0.2502173\ttotal: 2.02s\tremaining: 5.21s\n",
            "280:\tlearn: 0.2500149\ttotal: 2.03s\tremaining: 5.2s\n",
            "281:\tlearn: 0.2498583\ttotal: 2.04s\tremaining: 5.19s\n",
            "282:\tlearn: 0.2496848\ttotal: 2.05s\tremaining: 5.18s\n",
            "283:\tlearn: 0.2494322\ttotal: 2.05s\tremaining: 5.18s\n",
            "284:\tlearn: 0.2492624\ttotal: 2.06s\tremaining: 5.17s\n",
            "285:\tlearn: 0.2491066\ttotal: 2.07s\tremaining: 5.16s\n",
            "286:\tlearn: 0.2489670\ttotal: 2.07s\tremaining: 5.15s\n",
            "287:\tlearn: 0.2488436\ttotal: 2.08s\tremaining: 5.14s\n",
            "288:\tlearn: 0.2486593\ttotal: 2.09s\tremaining: 5.13s\n",
            "289:\tlearn: 0.2485509\ttotal: 2.09s\tremaining: 5.12s\n",
            "290:\tlearn: 0.2483094\ttotal: 2.1s\tremaining: 5.12s\n",
            "291:\tlearn: 0.2482287\ttotal: 2.1s\tremaining: 5.11s\n",
            "292:\tlearn: 0.2480250\ttotal: 2.11s\tremaining: 5.1s\n",
            "293:\tlearn: 0.2477422\ttotal: 2.12s\tremaining: 5.09s\n",
            "294:\tlearn: 0.2475922\ttotal: 2.13s\tremaining: 5.08s\n",
            "295:\tlearn: 0.2475039\ttotal: 2.13s\tremaining: 5.07s\n",
            "296:\tlearn: 0.2473222\ttotal: 2.14s\tremaining: 5.07s\n",
            "297:\tlearn: 0.2471845\ttotal: 2.15s\tremaining: 5.06s\n",
            "298:\tlearn: 0.2470192\ttotal: 2.15s\tremaining: 5.05s\n",
            "299:\tlearn: 0.2469252\ttotal: 2.16s\tremaining: 5.05s\n",
            "300:\tlearn: 0.2468249\ttotal: 2.17s\tremaining: 5.04s\n",
            "301:\tlearn: 0.2466721\ttotal: 2.18s\tremaining: 5.03s\n",
            "302:\tlearn: 0.2464978\ttotal: 2.18s\tremaining: 5.02s\n",
            "303:\tlearn: 0.2462906\ttotal: 2.19s\tremaining: 5.01s\n",
            "304:\tlearn: 0.2461647\ttotal: 2.2s\tremaining: 5.01s\n",
            "305:\tlearn: 0.2461309\ttotal: 2.21s\tremaining: 5s\n",
            "306:\tlearn: 0.2459742\ttotal: 2.21s\tremaining: 5s\n",
            "307:\tlearn: 0.2458606\ttotal: 2.22s\tremaining: 4.99s\n",
            "308:\tlearn: 0.2456135\ttotal: 2.23s\tremaining: 4.98s\n",
            "309:\tlearn: 0.2454713\ttotal: 2.23s\tremaining: 4.97s\n",
            "310:\tlearn: 0.2452832\ttotal: 2.24s\tremaining: 4.96s\n",
            "311:\tlearn: 0.2451434\ttotal: 2.25s\tremaining: 4.96s\n",
            "312:\tlearn: 0.2449849\ttotal: 2.25s\tremaining: 4.95s\n",
            "313:\tlearn: 0.2448666\ttotal: 2.26s\tremaining: 4.94s\n",
            "314:\tlearn: 0.2447647\ttotal: 2.27s\tremaining: 4.93s\n",
            "315:\tlearn: 0.2446299\ttotal: 2.27s\tremaining: 4.92s\n",
            "316:\tlearn: 0.2444943\ttotal: 2.28s\tremaining: 4.91s\n",
            "317:\tlearn: 0.2443321\ttotal: 2.29s\tremaining: 4.91s\n",
            "318:\tlearn: 0.2441781\ttotal: 2.29s\tremaining: 4.9s\n",
            "319:\tlearn: 0.2440454\ttotal: 2.3s\tremaining: 4.89s\n",
            "320:\tlearn: 0.2439827\ttotal: 2.31s\tremaining: 4.88s\n",
            "321:\tlearn: 0.2439337\ttotal: 2.31s\tremaining: 4.87s\n",
            "322:\tlearn: 0.2437570\ttotal: 2.32s\tremaining: 4.86s\n",
            "323:\tlearn: 0.2436153\ttotal: 2.33s\tremaining: 4.86s\n",
            "324:\tlearn: 0.2434703\ttotal: 2.33s\tremaining: 4.85s\n",
            "325:\tlearn: 0.2433652\ttotal: 2.34s\tremaining: 4.84s\n",
            "326:\tlearn: 0.2432563\ttotal: 2.35s\tremaining: 4.83s\n",
            "327:\tlearn: 0.2431130\ttotal: 2.35s\tremaining: 4.83s\n",
            "328:\tlearn: 0.2428821\ttotal: 2.36s\tremaining: 4.82s\n",
            "329:\tlearn: 0.2427705\ttotal: 2.37s\tremaining: 4.81s\n",
            "330:\tlearn: 0.2426373\ttotal: 2.38s\tremaining: 4.8s\n",
            "331:\tlearn: 0.2425389\ttotal: 2.38s\tremaining: 4.79s\n",
            "332:\tlearn: 0.2423806\ttotal: 2.39s\tremaining: 4.78s\n",
            "333:\tlearn: 0.2422459\ttotal: 2.39s\tremaining: 4.78s\n",
            "334:\tlearn: 0.2421696\ttotal: 2.4s\tremaining: 4.77s\n",
            "335:\tlearn: 0.2420238\ttotal: 2.41s\tremaining: 4.76s\n",
            "336:\tlearn: 0.2418651\ttotal: 2.42s\tremaining: 4.76s\n",
            "337:\tlearn: 0.2417160\ttotal: 2.42s\tremaining: 4.75s\n",
            "338:\tlearn: 0.2415999\ttotal: 2.43s\tremaining: 4.75s\n",
            "339:\tlearn: 0.2415133\ttotal: 2.44s\tremaining: 4.75s\n",
            "340:\tlearn: 0.2414018\ttotal: 2.45s\tremaining: 4.74s\n",
            "341:\tlearn: 0.2411348\ttotal: 2.46s\tremaining: 4.73s\n",
            "342:\tlearn: 0.2409809\ttotal: 2.47s\tremaining: 4.72s\n",
            "343:\tlearn: 0.2407992\ttotal: 2.47s\tremaining: 4.72s\n",
            "344:\tlearn: 0.2406793\ttotal: 2.48s\tremaining: 4.71s\n",
            "345:\tlearn: 0.2406038\ttotal: 2.49s\tremaining: 4.7s\n",
            "346:\tlearn: 0.2404622\ttotal: 2.49s\tremaining: 4.69s\n",
            "347:\tlearn: 0.2403712\ttotal: 2.5s\tremaining: 4.68s\n",
            "348:\tlearn: 0.2402500\ttotal: 2.51s\tremaining: 4.68s\n",
            "349:\tlearn: 0.2401077\ttotal: 2.51s\tremaining: 4.67s\n",
            "350:\tlearn: 0.2399889\ttotal: 2.52s\tremaining: 4.66s\n",
            "351:\tlearn: 0.2398638\ttotal: 2.53s\tremaining: 4.65s\n",
            "352:\tlearn: 0.2397218\ttotal: 2.53s\tremaining: 4.64s\n",
            "353:\tlearn: 0.2395958\ttotal: 2.54s\tremaining: 4.63s\n",
            "354:\tlearn: 0.2395113\ttotal: 2.55s\tremaining: 4.63s\n",
            "355:\tlearn: 0.2393801\ttotal: 2.55s\tremaining: 4.62s\n",
            "356:\tlearn: 0.2392702\ttotal: 2.56s\tremaining: 4.61s\n",
            "357:\tlearn: 0.2391893\ttotal: 2.57s\tremaining: 4.6s\n",
            "358:\tlearn: 0.2391061\ttotal: 2.58s\tremaining: 4.6s\n",
            "359:\tlearn: 0.2390180\ttotal: 2.58s\tremaining: 4.59s\n",
            "360:\tlearn: 0.2388735\ttotal: 2.59s\tremaining: 4.58s\n",
            "361:\tlearn: 0.2387440\ttotal: 2.6s\tremaining: 4.59s\n",
            "362:\tlearn: 0.2386748\ttotal: 2.61s\tremaining: 4.58s\n",
            "363:\tlearn: 0.2385108\ttotal: 2.62s\tremaining: 4.57s\n",
            "364:\tlearn: 0.2384557\ttotal: 2.62s\tremaining: 4.56s\n",
            "365:\tlearn: 0.2383555\ttotal: 2.63s\tremaining: 4.56s\n",
            "366:\tlearn: 0.2382766\ttotal: 2.64s\tremaining: 4.55s\n",
            "367:\tlearn: 0.2381773\ttotal: 2.64s\tremaining: 4.54s\n",
            "368:\tlearn: 0.2380654\ttotal: 2.65s\tremaining: 4.53s\n",
            "369:\tlearn: 0.2379285\ttotal: 2.66s\tremaining: 4.52s\n",
            "370:\tlearn: 0.2378330\ttotal: 2.66s\tremaining: 4.51s\n",
            "371:\tlearn: 0.2377247\ttotal: 2.67s\tremaining: 4.51s\n",
            "372:\tlearn: 0.2376545\ttotal: 2.67s\tremaining: 4.5s\n",
            "373:\tlearn: 0.2375493\ttotal: 2.68s\tremaining: 4.49s\n",
            "374:\tlearn: 0.2374448\ttotal: 2.69s\tremaining: 4.48s\n",
            "375:\tlearn: 0.2372842\ttotal: 2.69s\tremaining: 4.47s\n",
            "376:\tlearn: 0.2371724\ttotal: 2.7s\tremaining: 4.46s\n",
            "377:\tlearn: 0.2370848\ttotal: 2.71s\tremaining: 4.46s\n",
            "378:\tlearn: 0.2369064\ttotal: 2.72s\tremaining: 4.45s\n",
            "379:\tlearn: 0.2367695\ttotal: 2.72s\tremaining: 4.44s\n",
            "380:\tlearn: 0.2366804\ttotal: 2.73s\tremaining: 4.44s\n",
            "381:\tlearn: 0.2366494\ttotal: 2.74s\tremaining: 4.43s\n",
            "382:\tlearn: 0.2365218\ttotal: 2.75s\tremaining: 4.42s\n",
            "383:\tlearn: 0.2364911\ttotal: 2.75s\tremaining: 4.42s\n",
            "384:\tlearn: 0.2363772\ttotal: 2.76s\tremaining: 4.41s\n",
            "385:\tlearn: 0.2362771\ttotal: 2.77s\tremaining: 4.4s\n",
            "386:\tlearn: 0.2361626\ttotal: 2.77s\tremaining: 4.39s\n",
            "387:\tlearn: 0.2360542\ttotal: 2.78s\tremaining: 4.38s\n",
            "388:\tlearn: 0.2359437\ttotal: 2.79s\tremaining: 4.37s\n",
            "389:\tlearn: 0.2358115\ttotal: 2.79s\tremaining: 4.37s\n",
            "390:\tlearn: 0.2357192\ttotal: 2.8s\tremaining: 4.36s\n",
            "391:\tlearn: 0.2356261\ttotal: 2.81s\tremaining: 4.36s\n",
            "392:\tlearn: 0.2355197\ttotal: 2.81s\tremaining: 4.35s\n",
            "393:\tlearn: 0.2354877\ttotal: 2.82s\tremaining: 4.34s\n",
            "394:\tlearn: 0.2353835\ttotal: 2.83s\tremaining: 4.33s\n",
            "395:\tlearn: 0.2352171\ttotal: 2.83s\tremaining: 4.32s\n",
            "396:\tlearn: 0.2350896\ttotal: 2.84s\tremaining: 4.32s\n",
            "397:\tlearn: 0.2350038\ttotal: 2.85s\tremaining: 4.31s\n",
            "398:\tlearn: 0.2348700\ttotal: 2.86s\tremaining: 4.3s\n",
            "399:\tlearn: 0.2347525\ttotal: 2.86s\tremaining: 4.29s\n",
            "400:\tlearn: 0.2346238\ttotal: 2.87s\tremaining: 4.29s\n",
            "401:\tlearn: 0.2345393\ttotal: 2.88s\tremaining: 4.28s\n",
            "402:\tlearn: 0.2344731\ttotal: 2.88s\tremaining: 4.27s\n",
            "403:\tlearn: 0.2343220\ttotal: 2.89s\tremaining: 4.26s\n",
            "404:\tlearn: 0.2342825\ttotal: 2.9s\tremaining: 4.25s\n",
            "405:\tlearn: 0.2341179\ttotal: 2.9s\tremaining: 4.25s\n",
            "406:\tlearn: 0.2340104\ttotal: 2.91s\tremaining: 4.24s\n",
            "407:\tlearn: 0.2338349\ttotal: 2.92s\tremaining: 4.23s\n",
            "408:\tlearn: 0.2337531\ttotal: 2.92s\tremaining: 4.22s\n",
            "409:\tlearn: 0.2336969\ttotal: 2.93s\tremaining: 4.21s\n",
            "410:\tlearn: 0.2335942\ttotal: 2.94s\tremaining: 4.21s\n",
            "411:\tlearn: 0.2334637\ttotal: 2.94s\tremaining: 4.2s\n",
            "412:\tlearn: 0.2333533\ttotal: 2.95s\tremaining: 4.2s\n",
            "413:\tlearn: 0.2332868\ttotal: 2.96s\tremaining: 4.19s\n",
            "414:\tlearn: 0.2331478\ttotal: 2.97s\tremaining: 4.18s\n",
            "415:\tlearn: 0.2330535\ttotal: 2.97s\tremaining: 4.17s\n",
            "416:\tlearn: 0.2329325\ttotal: 2.98s\tremaining: 4.17s\n",
            "417:\tlearn: 0.2328253\ttotal: 2.99s\tremaining: 4.16s\n",
            "418:\tlearn: 0.2327546\ttotal: 2.99s\tremaining: 4.15s\n",
            "419:\tlearn: 0.2326780\ttotal: 3.01s\tremaining: 4.16s\n",
            "420:\tlearn: 0.2325230\ttotal: 3.02s\tremaining: 4.15s\n",
            "421:\tlearn: 0.2322911\ttotal: 3.03s\tremaining: 4.14s\n",
            "422:\tlearn: 0.2320782\ttotal: 3.03s\tremaining: 4.14s\n",
            "423:\tlearn: 0.2319775\ttotal: 3.04s\tremaining: 4.13s\n",
            "424:\tlearn: 0.2318124\ttotal: 3.04s\tremaining: 4.12s\n",
            "425:\tlearn: 0.2316843\ttotal: 3.05s\tremaining: 4.11s\n",
            "426:\tlearn: 0.2316483\ttotal: 3.06s\tremaining: 4.1s\n",
            "427:\tlearn: 0.2315411\ttotal: 3.06s\tremaining: 4.09s\n",
            "428:\tlearn: 0.2314156\ttotal: 3.07s\tremaining: 4.09s\n",
            "429:\tlearn: 0.2313322\ttotal: 3.08s\tremaining: 4.08s\n",
            "430:\tlearn: 0.2312119\ttotal: 3.08s\tremaining: 4.07s\n",
            "431:\tlearn: 0.2311367\ttotal: 3.09s\tremaining: 4.06s\n",
            "432:\tlearn: 0.2310962\ttotal: 3.1s\tremaining: 4.05s\n",
            "433:\tlearn: 0.2310055\ttotal: 3.1s\tremaining: 4.05s\n",
            "434:\tlearn: 0.2309203\ttotal: 3.11s\tremaining: 4.04s\n",
            "435:\tlearn: 0.2308506\ttotal: 3.12s\tremaining: 4.03s\n",
            "436:\tlearn: 0.2307703\ttotal: 3.12s\tremaining: 4.02s\n",
            "437:\tlearn: 0.2307199\ttotal: 3.13s\tremaining: 4.01s\n",
            "438:\tlearn: 0.2306442\ttotal: 3.14s\tremaining: 4.01s\n",
            "439:\tlearn: 0.2305296\ttotal: 3.14s\tremaining: 4s\n",
            "440:\tlearn: 0.2304423\ttotal: 3.16s\tremaining: 4s\n",
            "441:\tlearn: 0.2303417\ttotal: 3.17s\tremaining: 4s\n",
            "442:\tlearn: 0.2302589\ttotal: 3.17s\tremaining: 3.99s\n",
            "443:\tlearn: 0.2301507\ttotal: 3.18s\tremaining: 3.98s\n",
            "444:\tlearn: 0.2299635\ttotal: 3.19s\tremaining: 3.97s\n",
            "445:\tlearn: 0.2298783\ttotal: 3.19s\tremaining: 3.97s\n",
            "446:\tlearn: 0.2297936\ttotal: 3.2s\tremaining: 3.96s\n",
            "447:\tlearn: 0.2296722\ttotal: 3.22s\tremaining: 3.96s\n",
            "448:\tlearn: 0.2295908\ttotal: 3.22s\tremaining: 3.96s\n",
            "449:\tlearn: 0.2294616\ttotal: 3.23s\tremaining: 3.95s\n",
            "450:\tlearn: 0.2293555\ttotal: 3.24s\tremaining: 3.94s\n",
            "451:\tlearn: 0.2292737\ttotal: 3.25s\tremaining: 3.94s\n",
            "452:\tlearn: 0.2291590\ttotal: 3.25s\tremaining: 3.93s\n",
            "453:\tlearn: 0.2290179\ttotal: 3.26s\tremaining: 3.92s\n",
            "454:\tlearn: 0.2289909\ttotal: 3.27s\tremaining: 3.92s\n",
            "455:\tlearn: 0.2288533\ttotal: 3.28s\tremaining: 3.91s\n",
            "456:\tlearn: 0.2287532\ttotal: 3.28s\tremaining: 3.9s\n",
            "457:\tlearn: 0.2286247\ttotal: 3.29s\tremaining: 3.89s\n",
            "458:\tlearn: 0.2285595\ttotal: 3.3s\tremaining: 3.89s\n",
            "459:\tlearn: 0.2284665\ttotal: 3.3s\tremaining: 3.88s\n",
            "460:\tlearn: 0.2283734\ttotal: 3.31s\tremaining: 3.87s\n",
            "461:\tlearn: 0.2282994\ttotal: 3.32s\tremaining: 3.86s\n",
            "462:\tlearn: 0.2281717\ttotal: 3.33s\tremaining: 3.86s\n",
            "463:\tlearn: 0.2280729\ttotal: 3.33s\tremaining: 3.85s\n",
            "464:\tlearn: 0.2279793\ttotal: 3.34s\tremaining: 3.84s\n",
            "465:\tlearn: 0.2278594\ttotal: 3.35s\tremaining: 3.84s\n",
            "466:\tlearn: 0.2277773\ttotal: 3.36s\tremaining: 3.83s\n",
            "467:\tlearn: 0.2276980\ttotal: 3.37s\tremaining: 3.83s\n",
            "468:\tlearn: 0.2276057\ttotal: 3.37s\tremaining: 3.82s\n",
            "469:\tlearn: 0.2274827\ttotal: 3.38s\tremaining: 3.81s\n",
            "470:\tlearn: 0.2274080\ttotal: 3.39s\tremaining: 3.8s\n",
            "471:\tlearn: 0.2273722\ttotal: 3.39s\tremaining: 3.79s\n",
            "472:\tlearn: 0.2272906\ttotal: 3.4s\tremaining: 3.79s\n",
            "473:\tlearn: 0.2272442\ttotal: 3.41s\tremaining: 3.78s\n",
            "474:\tlearn: 0.2272173\ttotal: 3.42s\tremaining: 3.78s\n",
            "475:\tlearn: 0.2271589\ttotal: 3.43s\tremaining: 3.78s\n",
            "476:\tlearn: 0.2270792\ttotal: 3.44s\tremaining: 3.77s\n",
            "477:\tlearn: 0.2270219\ttotal: 3.44s\tremaining: 3.76s\n",
            "478:\tlearn: 0.2268379\ttotal: 3.45s\tremaining: 3.75s\n",
            "479:\tlearn: 0.2267932\ttotal: 3.46s\tremaining: 3.75s\n",
            "480:\tlearn: 0.2267682\ttotal: 3.46s\tremaining: 3.74s\n",
            "481:\tlearn: 0.2267246\ttotal: 3.47s\tremaining: 3.73s\n",
            "482:\tlearn: 0.2266113\ttotal: 3.48s\tremaining: 3.72s\n",
            "483:\tlearn: 0.2264907\ttotal: 3.49s\tremaining: 3.72s\n",
            "484:\tlearn: 0.2263552\ttotal: 3.49s\tremaining: 3.71s\n",
            "485:\tlearn: 0.2262621\ttotal: 3.5s\tremaining: 3.7s\n",
            "486:\tlearn: 0.2261975\ttotal: 3.51s\tremaining: 3.7s\n",
            "487:\tlearn: 0.2261753\ttotal: 3.52s\tremaining: 3.69s\n",
            "488:\tlearn: 0.2260490\ttotal: 3.52s\tremaining: 3.68s\n",
            "489:\tlearn: 0.2260277\ttotal: 3.53s\tremaining: 3.67s\n",
            "490:\tlearn: 0.2258895\ttotal: 3.54s\tremaining: 3.67s\n",
            "491:\tlearn: 0.2258174\ttotal: 3.54s\tremaining: 3.66s\n",
            "492:\tlearn: 0.2257954\ttotal: 3.55s\tremaining: 3.65s\n",
            "493:\tlearn: 0.2257270\ttotal: 3.56s\tremaining: 3.64s\n",
            "494:\tlearn: 0.2256569\ttotal: 3.57s\tremaining: 3.64s\n",
            "495:\tlearn: 0.2255571\ttotal: 3.58s\tremaining: 3.63s\n",
            "496:\tlearn: 0.2254926\ttotal: 3.58s\tremaining: 3.63s\n",
            "497:\tlearn: 0.2253894\ttotal: 3.59s\tremaining: 3.62s\n",
            "498:\tlearn: 0.2252477\ttotal: 3.6s\tremaining: 3.61s\n",
            "499:\tlearn: 0.2251462\ttotal: 3.6s\tremaining: 3.6s\n",
            "500:\tlearn: 0.2250659\ttotal: 3.61s\tremaining: 3.6s\n",
            "501:\tlearn: 0.2249350\ttotal: 3.62s\tremaining: 3.59s\n",
            "502:\tlearn: 0.2248309\ttotal: 3.63s\tremaining: 3.59s\n",
            "503:\tlearn: 0.2247270\ttotal: 3.64s\tremaining: 3.58s\n",
            "504:\tlearn: 0.2246856\ttotal: 3.64s\tremaining: 3.57s\n",
            "505:\tlearn: 0.2245915\ttotal: 3.65s\tremaining: 3.56s\n",
            "506:\tlearn: 0.2245141\ttotal: 3.65s\tremaining: 3.55s\n",
            "507:\tlearn: 0.2244142\ttotal: 3.66s\tremaining: 3.55s\n",
            "508:\tlearn: 0.2243337\ttotal: 3.67s\tremaining: 3.54s\n",
            "509:\tlearn: 0.2242489\ttotal: 3.67s\tremaining: 3.53s\n",
            "510:\tlearn: 0.2242020\ttotal: 3.68s\tremaining: 3.52s\n",
            "511:\tlearn: 0.2240946\ttotal: 3.69s\tremaining: 3.52s\n",
            "512:\tlearn: 0.2240096\ttotal: 3.69s\tremaining: 3.51s\n",
            "513:\tlearn: 0.2239275\ttotal: 3.7s\tremaining: 3.5s\n",
            "514:\tlearn: 0.2238301\ttotal: 3.71s\tremaining: 3.49s\n",
            "515:\tlearn: 0.2237642\ttotal: 3.71s\tremaining: 3.48s\n",
            "516:\tlearn: 0.2237042\ttotal: 3.72s\tremaining: 3.48s\n",
            "517:\tlearn: 0.2235973\ttotal: 3.73s\tremaining: 3.47s\n",
            "518:\tlearn: 0.2234792\ttotal: 3.73s\tremaining: 3.46s\n",
            "519:\tlearn: 0.2233720\ttotal: 3.74s\tremaining: 3.45s\n",
            "520:\tlearn: 0.2232901\ttotal: 3.75s\tremaining: 3.44s\n",
            "521:\tlearn: 0.2232069\ttotal: 3.75s\tremaining: 3.44s\n",
            "522:\tlearn: 0.2231413\ttotal: 3.76s\tremaining: 3.43s\n",
            "523:\tlearn: 0.2230901\ttotal: 3.77s\tremaining: 3.42s\n",
            "524:\tlearn: 0.2228903\ttotal: 3.77s\tremaining: 3.41s\n",
            "525:\tlearn: 0.2228218\ttotal: 3.78s\tremaining: 3.4s\n",
            "526:\tlearn: 0.2226922\ttotal: 3.79s\tremaining: 3.4s\n",
            "527:\tlearn: 0.2225794\ttotal: 3.79s\tremaining: 3.39s\n",
            "528:\tlearn: 0.2224919\ttotal: 3.8s\tremaining: 3.38s\n",
            "529:\tlearn: 0.2224191\ttotal: 3.81s\tremaining: 3.38s\n",
            "530:\tlearn: 0.2223516\ttotal: 3.82s\tremaining: 3.37s\n",
            "531:\tlearn: 0.2222817\ttotal: 3.83s\tremaining: 3.37s\n",
            "532:\tlearn: 0.2221990\ttotal: 3.83s\tremaining: 3.36s\n",
            "533:\tlearn: 0.2221408\ttotal: 3.84s\tremaining: 3.35s\n",
            "534:\tlearn: 0.2220783\ttotal: 3.85s\tremaining: 3.34s\n",
            "535:\tlearn: 0.2219636\ttotal: 3.85s\tremaining: 3.33s\n",
            "536:\tlearn: 0.2218921\ttotal: 3.86s\tremaining: 3.33s\n",
            "537:\tlearn: 0.2218226\ttotal: 3.87s\tremaining: 3.32s\n",
            "538:\tlearn: 0.2217777\ttotal: 3.87s\tremaining: 3.31s\n",
            "539:\tlearn: 0.2216844\ttotal: 3.88s\tremaining: 3.3s\n",
            "540:\tlearn: 0.2216077\ttotal: 3.89s\tremaining: 3.3s\n",
            "541:\tlearn: 0.2215219\ttotal: 3.89s\tremaining: 3.29s\n",
            "542:\tlearn: 0.2214368\ttotal: 3.9s\tremaining: 3.28s\n",
            "543:\tlearn: 0.2213632\ttotal: 3.91s\tremaining: 3.27s\n",
            "544:\tlearn: 0.2212730\ttotal: 3.91s\tremaining: 3.27s\n",
            "545:\tlearn: 0.2211984\ttotal: 3.92s\tremaining: 3.26s\n",
            "546:\tlearn: 0.2211300\ttotal: 3.92s\tremaining: 3.25s\n",
            "547:\tlearn: 0.2210701\ttotal: 3.93s\tremaining: 3.24s\n",
            "548:\tlearn: 0.2210368\ttotal: 3.94s\tremaining: 3.23s\n",
            "549:\tlearn: 0.2209512\ttotal: 3.94s\tremaining: 3.23s\n",
            "550:\tlearn: 0.2208507\ttotal: 3.95s\tremaining: 3.22s\n",
            "551:\tlearn: 0.2208091\ttotal: 3.96s\tremaining: 3.21s\n",
            "552:\tlearn: 0.2206740\ttotal: 3.96s\tremaining: 3.21s\n",
            "553:\tlearn: 0.2206534\ttotal: 3.97s\tremaining: 3.2s\n",
            "554:\tlearn: 0.2206032\ttotal: 3.98s\tremaining: 3.19s\n",
            "555:\tlearn: 0.2205230\ttotal: 3.99s\tremaining: 3.18s\n",
            "556:\tlearn: 0.2203919\ttotal: 4s\tremaining: 3.18s\n",
            "557:\tlearn: 0.2203498\ttotal: 4s\tremaining: 3.17s\n",
            "558:\tlearn: 0.2202712\ttotal: 4.01s\tremaining: 3.16s\n",
            "559:\tlearn: 0.2201859\ttotal: 4.02s\tremaining: 3.16s\n",
            "560:\tlearn: 0.2200339\ttotal: 4.03s\tremaining: 3.15s\n",
            "561:\tlearn: 0.2199653\ttotal: 4.04s\tremaining: 3.14s\n",
            "562:\tlearn: 0.2199247\ttotal: 4.04s\tremaining: 3.14s\n",
            "563:\tlearn: 0.2198372\ttotal: 4.05s\tremaining: 3.13s\n",
            "564:\tlearn: 0.2197499\ttotal: 4.05s\tremaining: 3.12s\n",
            "565:\tlearn: 0.2196308\ttotal: 4.06s\tremaining: 3.11s\n",
            "566:\tlearn: 0.2195693\ttotal: 4.07s\tremaining: 3.11s\n",
            "567:\tlearn: 0.2194903\ttotal: 4.07s\tremaining: 3.1s\n",
            "568:\tlearn: 0.2194405\ttotal: 4.08s\tremaining: 3.09s\n",
            "569:\tlearn: 0.2194025\ttotal: 4.09s\tremaining: 3.08s\n",
            "570:\tlearn: 0.2193436\ttotal: 4.09s\tremaining: 3.08s\n",
            "571:\tlearn: 0.2192533\ttotal: 4.1s\tremaining: 3.07s\n",
            "572:\tlearn: 0.2192122\ttotal: 4.11s\tremaining: 3.06s\n",
            "573:\tlearn: 0.2191625\ttotal: 4.11s\tremaining: 3.05s\n",
            "574:\tlearn: 0.2190717\ttotal: 4.12s\tremaining: 3.04s\n",
            "575:\tlearn: 0.2190115\ttotal: 4.13s\tremaining: 3.04s\n",
            "576:\tlearn: 0.2189491\ttotal: 4.13s\tremaining: 3.03s\n",
            "577:\tlearn: 0.2189006\ttotal: 4.14s\tremaining: 3.02s\n",
            "578:\tlearn: 0.2188680\ttotal: 4.14s\tremaining: 3.01s\n",
            "579:\tlearn: 0.2187628\ttotal: 4.15s\tremaining: 3.01s\n",
            "580:\tlearn: 0.2186973\ttotal: 4.16s\tremaining: 3s\n",
            "581:\tlearn: 0.2185850\ttotal: 4.17s\tremaining: 2.99s\n",
            "582:\tlearn: 0.2185196\ttotal: 4.17s\tremaining: 2.98s\n",
            "583:\tlearn: 0.2184762\ttotal: 4.18s\tremaining: 2.98s\n",
            "584:\tlearn: 0.2184173\ttotal: 4.19s\tremaining: 2.97s\n",
            "585:\tlearn: 0.2183497\ttotal: 4.2s\tremaining: 2.96s\n",
            "586:\tlearn: 0.2182215\ttotal: 4.2s\tremaining: 2.96s\n",
            "587:\tlearn: 0.2181540\ttotal: 4.21s\tremaining: 2.95s\n",
            "588:\tlearn: 0.2180629\ttotal: 4.21s\tremaining: 2.94s\n",
            "589:\tlearn: 0.2179774\ttotal: 4.23s\tremaining: 2.94s\n",
            "590:\tlearn: 0.2179199\ttotal: 4.23s\tremaining: 2.93s\n",
            "591:\tlearn: 0.2178312\ttotal: 4.24s\tremaining: 2.92s\n",
            "592:\tlearn: 0.2177545\ttotal: 4.25s\tremaining: 2.91s\n",
            "593:\tlearn: 0.2176382\ttotal: 4.25s\tremaining: 2.91s\n",
            "594:\tlearn: 0.2175226\ttotal: 4.26s\tremaining: 2.9s\n",
            "595:\tlearn: 0.2174476\ttotal: 4.27s\tremaining: 2.89s\n",
            "596:\tlearn: 0.2174052\ttotal: 4.27s\tremaining: 2.88s\n",
            "597:\tlearn: 0.2173013\ttotal: 4.28s\tremaining: 2.88s\n",
            "598:\tlearn: 0.2172482\ttotal: 4.29s\tremaining: 2.87s\n",
            "599:\tlearn: 0.2171998\ttotal: 4.29s\tremaining: 2.86s\n",
            "600:\tlearn: 0.2171140\ttotal: 4.3s\tremaining: 2.85s\n",
            "601:\tlearn: 0.2170745\ttotal: 4.3s\tremaining: 2.85s\n",
            "602:\tlearn: 0.2170344\ttotal: 4.31s\tremaining: 2.84s\n",
            "603:\tlearn: 0.2168861\ttotal: 4.32s\tremaining: 2.83s\n",
            "604:\tlearn: 0.2167757\ttotal: 4.32s\tremaining: 2.82s\n",
            "605:\tlearn: 0.2166940\ttotal: 4.33s\tremaining: 2.81s\n",
            "606:\tlearn: 0.2166477\ttotal: 4.34s\tremaining: 2.81s\n",
            "607:\tlearn: 0.2165868\ttotal: 4.34s\tremaining: 2.8s\n",
            "608:\tlearn: 0.2164850\ttotal: 4.35s\tremaining: 2.79s\n",
            "609:\tlearn: 0.2164133\ttotal: 4.36s\tremaining: 2.79s\n",
            "610:\tlearn: 0.2163382\ttotal: 4.37s\tremaining: 2.78s\n",
            "611:\tlearn: 0.2161903\ttotal: 4.38s\tremaining: 2.77s\n",
            "612:\tlearn: 0.2160561\ttotal: 4.39s\tremaining: 2.77s\n",
            "613:\tlearn: 0.2159779\ttotal: 4.4s\tremaining: 2.77s\n",
            "614:\tlearn: 0.2159076\ttotal: 4.41s\tremaining: 2.76s\n",
            "615:\tlearn: 0.2158305\ttotal: 4.42s\tremaining: 2.75s\n",
            "616:\tlearn: 0.2157787\ttotal: 4.43s\tremaining: 2.75s\n",
            "617:\tlearn: 0.2156706\ttotal: 4.44s\tremaining: 2.74s\n",
            "618:\tlearn: 0.2156101\ttotal: 4.44s\tremaining: 2.73s\n",
            "619:\tlearn: 0.2155284\ttotal: 4.45s\tremaining: 2.73s\n",
            "620:\tlearn: 0.2154725\ttotal: 4.46s\tremaining: 2.72s\n",
            "621:\tlearn: 0.2154300\ttotal: 4.46s\tremaining: 2.71s\n",
            "622:\tlearn: 0.2153740\ttotal: 4.47s\tremaining: 2.7s\n",
            "623:\tlearn: 0.2153020\ttotal: 4.48s\tremaining: 2.7s\n",
            "624:\tlearn: 0.2152679\ttotal: 4.48s\tremaining: 2.69s\n",
            "625:\tlearn: 0.2152506\ttotal: 4.49s\tremaining: 2.68s\n",
            "626:\tlearn: 0.2152120\ttotal: 4.49s\tremaining: 2.67s\n",
            "627:\tlearn: 0.2151111\ttotal: 4.5s\tremaining: 2.67s\n",
            "628:\tlearn: 0.2150670\ttotal: 4.51s\tremaining: 2.66s\n",
            "629:\tlearn: 0.2149901\ttotal: 4.51s\tremaining: 2.65s\n",
            "630:\tlearn: 0.2149159\ttotal: 4.52s\tremaining: 2.64s\n",
            "631:\tlearn: 0.2148394\ttotal: 4.53s\tremaining: 2.63s\n",
            "632:\tlearn: 0.2148211\ttotal: 4.53s\tremaining: 2.63s\n",
            "633:\tlearn: 0.2147728\ttotal: 4.54s\tremaining: 2.62s\n",
            "634:\tlearn: 0.2147128\ttotal: 4.54s\tremaining: 2.61s\n",
            "635:\tlearn: 0.2145932\ttotal: 4.55s\tremaining: 2.6s\n",
            "636:\tlearn: 0.2145535\ttotal: 4.56s\tremaining: 2.6s\n",
            "637:\tlearn: 0.2145013\ttotal: 4.56s\tremaining: 2.59s\n",
            "638:\tlearn: 0.2143976\ttotal: 4.57s\tremaining: 2.58s\n",
            "639:\tlearn: 0.2143321\ttotal: 4.58s\tremaining: 2.57s\n",
            "640:\tlearn: 0.2143219\ttotal: 4.58s\tremaining: 2.57s\n",
            "641:\tlearn: 0.2142632\ttotal: 4.59s\tremaining: 2.56s\n",
            "642:\tlearn: 0.2141620\ttotal: 4.59s\tremaining: 2.55s\n",
            "643:\tlearn: 0.2140330\ttotal: 4.6s\tremaining: 2.54s\n",
            "644:\tlearn: 0.2139498\ttotal: 4.61s\tremaining: 2.54s\n",
            "645:\tlearn: 0.2138841\ttotal: 4.61s\tremaining: 2.53s\n",
            "646:\tlearn: 0.2138048\ttotal: 4.62s\tremaining: 2.52s\n",
            "647:\tlearn: 0.2137429\ttotal: 4.63s\tremaining: 2.52s\n",
            "648:\tlearn: 0.2136959\ttotal: 4.64s\tremaining: 2.51s\n",
            "649:\tlearn: 0.2136354\ttotal: 4.65s\tremaining: 2.5s\n",
            "650:\tlearn: 0.2135882\ttotal: 4.65s\tremaining: 2.49s\n",
            "651:\tlearn: 0.2135378\ttotal: 4.66s\tremaining: 2.49s\n",
            "652:\tlearn: 0.2134632\ttotal: 4.67s\tremaining: 2.48s\n",
            "653:\tlearn: 0.2134063\ttotal: 4.68s\tremaining: 2.47s\n",
            "654:\tlearn: 0.2133490\ttotal: 4.68s\tremaining: 2.47s\n",
            "655:\tlearn: 0.2132721\ttotal: 4.69s\tremaining: 2.46s\n",
            "656:\tlearn: 0.2132048\ttotal: 4.7s\tremaining: 2.45s\n",
            "657:\tlearn: 0.2131123\ttotal: 4.7s\tremaining: 2.44s\n",
            "658:\tlearn: 0.2130065\ttotal: 4.71s\tremaining: 2.44s\n",
            "659:\tlearn: 0.2129415\ttotal: 4.72s\tremaining: 2.43s\n",
            "660:\tlearn: 0.2128752\ttotal: 4.72s\tremaining: 2.42s\n",
            "661:\tlearn: 0.2127803\ttotal: 4.73s\tremaining: 2.42s\n",
            "662:\tlearn: 0.2127149\ttotal: 4.74s\tremaining: 2.41s\n",
            "663:\tlearn: 0.2126228\ttotal: 4.74s\tremaining: 2.4s\n",
            "664:\tlearn: 0.2125728\ttotal: 4.75s\tremaining: 2.39s\n",
            "665:\tlearn: 0.2124766\ttotal: 4.76s\tremaining: 2.38s\n",
            "666:\tlearn: 0.2124497\ttotal: 4.76s\tremaining: 2.38s\n",
            "667:\tlearn: 0.2123694\ttotal: 4.77s\tremaining: 2.37s\n",
            "668:\tlearn: 0.2123374\ttotal: 4.78s\tremaining: 2.36s\n",
            "669:\tlearn: 0.2122329\ttotal: 4.78s\tremaining: 2.36s\n",
            "670:\tlearn: 0.2121862\ttotal: 4.79s\tremaining: 2.35s\n",
            "671:\tlearn: 0.2121141\ttotal: 4.8s\tremaining: 2.34s\n",
            "672:\tlearn: 0.2120229\ttotal: 4.8s\tremaining: 2.33s\n",
            "673:\tlearn: 0.2119226\ttotal: 4.81s\tremaining: 2.33s\n",
            "674:\tlearn: 0.2118233\ttotal: 4.82s\tremaining: 2.32s\n",
            "675:\tlearn: 0.2117601\ttotal: 4.83s\tremaining: 2.32s\n",
            "676:\tlearn: 0.2116522\ttotal: 4.84s\tremaining: 2.31s\n",
            "677:\tlearn: 0.2115538\ttotal: 4.85s\tremaining: 2.3s\n",
            "678:\tlearn: 0.2114996\ttotal: 4.85s\tremaining: 2.29s\n",
            "679:\tlearn: 0.2114406\ttotal: 4.86s\tremaining: 2.29s\n",
            "680:\tlearn: 0.2113425\ttotal: 4.87s\tremaining: 2.28s\n",
            "681:\tlearn: 0.2112812\ttotal: 4.87s\tremaining: 2.27s\n",
            "682:\tlearn: 0.2112294\ttotal: 4.88s\tremaining: 2.27s\n",
            "683:\tlearn: 0.2111713\ttotal: 4.89s\tremaining: 2.26s\n",
            "684:\tlearn: 0.2110559\ttotal: 4.89s\tremaining: 2.25s\n",
            "685:\tlearn: 0.2110017\ttotal: 4.9s\tremaining: 2.24s\n",
            "686:\tlearn: 0.2109413\ttotal: 4.91s\tremaining: 2.23s\n",
            "687:\tlearn: 0.2108402\ttotal: 4.91s\tremaining: 2.23s\n",
            "688:\tlearn: 0.2108068\ttotal: 4.92s\tremaining: 2.22s\n",
            "689:\tlearn: 0.2107905\ttotal: 4.92s\tremaining: 2.21s\n",
            "690:\tlearn: 0.2107535\ttotal: 4.93s\tremaining: 2.21s\n",
            "691:\tlearn: 0.2106881\ttotal: 4.94s\tremaining: 2.2s\n",
            "692:\tlearn: 0.2106197\ttotal: 4.94s\tremaining: 2.19s\n",
            "693:\tlearn: 0.2105844\ttotal: 4.95s\tremaining: 2.18s\n",
            "694:\tlearn: 0.2105392\ttotal: 4.96s\tremaining: 2.17s\n",
            "695:\tlearn: 0.2104741\ttotal: 4.96s\tremaining: 2.17s\n",
            "696:\tlearn: 0.2103930\ttotal: 4.97s\tremaining: 2.16s\n",
            "697:\tlearn: 0.2103556\ttotal: 4.98s\tremaining: 2.15s\n",
            "698:\tlearn: 0.2103085\ttotal: 4.99s\tremaining: 2.15s\n",
            "699:\tlearn: 0.2102392\ttotal: 5s\tremaining: 2.14s\n",
            "700:\tlearn: 0.2101659\ttotal: 5s\tremaining: 2.13s\n",
            "701:\tlearn: 0.2100993\ttotal: 5.01s\tremaining: 2.13s\n",
            "702:\tlearn: 0.2099890\ttotal: 5.02s\tremaining: 2.12s\n",
            "703:\tlearn: 0.2099401\ttotal: 5.02s\tremaining: 2.11s\n",
            "704:\tlearn: 0.2098994\ttotal: 5.04s\tremaining: 2.11s\n",
            "705:\tlearn: 0.2098457\ttotal: 5.04s\tremaining: 2.1s\n",
            "706:\tlearn: 0.2098118\ttotal: 5.05s\tremaining: 2.09s\n",
            "707:\tlearn: 0.2097298\ttotal: 5.05s\tremaining: 2.08s\n",
            "708:\tlearn: 0.2096702\ttotal: 5.06s\tremaining: 2.08s\n",
            "709:\tlearn: 0.2095494\ttotal: 5.07s\tremaining: 2.07s\n",
            "710:\tlearn: 0.2094870\ttotal: 5.08s\tremaining: 2.06s\n",
            "711:\tlearn: 0.2094512\ttotal: 5.08s\tremaining: 2.06s\n",
            "712:\tlearn: 0.2094093\ttotal: 5.09s\tremaining: 2.05s\n",
            "713:\tlearn: 0.2093708\ttotal: 5.1s\tremaining: 2.04s\n",
            "714:\tlearn: 0.2093267\ttotal: 5.1s\tremaining: 2.03s\n",
            "715:\tlearn: 0.2092528\ttotal: 5.11s\tremaining: 2.03s\n",
            "716:\tlearn: 0.2092057\ttotal: 5.12s\tremaining: 2.02s\n",
            "717:\tlearn: 0.2091381\ttotal: 5.12s\tremaining: 2.01s\n",
            "718:\tlearn: 0.2091019\ttotal: 5.13s\tremaining: 2s\n",
            "719:\tlearn: 0.2090629\ttotal: 5.13s\tremaining: 2s\n",
            "720:\tlearn: 0.2089618\ttotal: 5.14s\tremaining: 1.99s\n",
            "721:\tlearn: 0.2089256\ttotal: 5.15s\tremaining: 1.98s\n",
            "722:\tlearn: 0.2088449\ttotal: 5.16s\tremaining: 1.98s\n",
            "723:\tlearn: 0.2088035\ttotal: 5.16s\tremaining: 1.97s\n",
            "724:\tlearn: 0.2087661\ttotal: 5.17s\tremaining: 1.96s\n",
            "725:\tlearn: 0.2087319\ttotal: 5.17s\tremaining: 1.95s\n",
            "726:\tlearn: 0.2086185\ttotal: 5.18s\tremaining: 1.95s\n",
            "727:\tlearn: 0.2085447\ttotal: 5.19s\tremaining: 1.94s\n",
            "728:\tlearn: 0.2084918\ttotal: 5.2s\tremaining: 1.93s\n",
            "729:\tlearn: 0.2083782\ttotal: 5.2s\tremaining: 1.92s\n",
            "730:\tlearn: 0.2083405\ttotal: 5.21s\tremaining: 1.92s\n",
            "731:\tlearn: 0.2082732\ttotal: 5.21s\tremaining: 1.91s\n",
            "732:\tlearn: 0.2081945\ttotal: 5.22s\tremaining: 1.9s\n",
            "733:\tlearn: 0.2081099\ttotal: 5.23s\tremaining: 1.9s\n",
            "734:\tlearn: 0.2080720\ttotal: 5.24s\tremaining: 1.89s\n",
            "735:\tlearn: 0.2080291\ttotal: 5.24s\tremaining: 1.88s\n",
            "736:\tlearn: 0.2079755\ttotal: 5.25s\tremaining: 1.87s\n",
            "737:\tlearn: 0.2079397\ttotal: 5.25s\tremaining: 1.86s\n",
            "738:\tlearn: 0.2079033\ttotal: 5.26s\tremaining: 1.86s\n",
            "739:\tlearn: 0.2078445\ttotal: 5.27s\tremaining: 1.85s\n",
            "740:\tlearn: 0.2078337\ttotal: 5.27s\tremaining: 1.84s\n",
            "741:\tlearn: 0.2077806\ttotal: 5.28s\tremaining: 1.84s\n",
            "742:\tlearn: 0.2076808\ttotal: 5.29s\tremaining: 1.83s\n",
            "743:\tlearn: 0.2076162\ttotal: 5.29s\tremaining: 1.82s\n",
            "744:\tlearn: 0.2075702\ttotal: 5.3s\tremaining: 1.81s\n",
            "745:\tlearn: 0.2075163\ttotal: 5.31s\tremaining: 1.81s\n",
            "746:\tlearn: 0.2074077\ttotal: 5.31s\tremaining: 1.8s\n",
            "747:\tlearn: 0.2073690\ttotal: 5.32s\tremaining: 1.79s\n",
            "748:\tlearn: 0.2072923\ttotal: 5.33s\tremaining: 1.78s\n",
            "749:\tlearn: 0.2072251\ttotal: 5.33s\tremaining: 1.78s\n",
            "750:\tlearn: 0.2070983\ttotal: 5.34s\tremaining: 1.77s\n",
            "751:\tlearn: 0.2070360\ttotal: 5.35s\tremaining: 1.76s\n",
            "752:\tlearn: 0.2069953\ttotal: 5.36s\tremaining: 1.76s\n",
            "753:\tlearn: 0.2069399\ttotal: 5.37s\tremaining: 1.75s\n",
            "754:\tlearn: 0.2068950\ttotal: 5.37s\tremaining: 1.74s\n",
            "755:\tlearn: 0.2068518\ttotal: 5.38s\tremaining: 1.74s\n",
            "756:\tlearn: 0.2068350\ttotal: 5.39s\tremaining: 1.73s\n",
            "757:\tlearn: 0.2068098\ttotal: 5.39s\tremaining: 1.72s\n",
            "758:\tlearn: 0.2067338\ttotal: 5.4s\tremaining: 1.71s\n",
            "759:\tlearn: 0.2066446\ttotal: 5.41s\tremaining: 1.71s\n",
            "760:\tlearn: 0.2065998\ttotal: 5.41s\tremaining: 1.7s\n",
            "761:\tlearn: 0.2065473\ttotal: 5.42s\tremaining: 1.69s\n",
            "762:\tlearn: 0.2064961\ttotal: 5.43s\tremaining: 1.69s\n",
            "763:\tlearn: 0.2064870\ttotal: 5.44s\tremaining: 1.68s\n",
            "764:\tlearn: 0.2063791\ttotal: 5.45s\tremaining: 1.67s\n",
            "765:\tlearn: 0.2062583\ttotal: 5.45s\tremaining: 1.67s\n",
            "766:\tlearn: 0.2061486\ttotal: 5.46s\tremaining: 1.66s\n",
            "767:\tlearn: 0.2060879\ttotal: 5.47s\tremaining: 1.65s\n",
            "768:\tlearn: 0.2060087\ttotal: 5.47s\tremaining: 1.64s\n",
            "769:\tlearn: 0.2059539\ttotal: 5.48s\tremaining: 1.64s\n",
            "770:\tlearn: 0.2058928\ttotal: 5.49s\tremaining: 1.63s\n",
            "771:\tlearn: 0.2058531\ttotal: 5.49s\tremaining: 1.62s\n",
            "772:\tlearn: 0.2058100\ttotal: 5.5s\tremaining: 1.61s\n",
            "773:\tlearn: 0.2057105\ttotal: 5.51s\tremaining: 1.61s\n",
            "774:\tlearn: 0.2056390\ttotal: 5.51s\tremaining: 1.6s\n",
            "775:\tlearn: 0.2055521\ttotal: 5.52s\tremaining: 1.59s\n",
            "776:\tlearn: 0.2055053\ttotal: 5.53s\tremaining: 1.59s\n",
            "777:\tlearn: 0.2054116\ttotal: 5.54s\tremaining: 1.58s\n",
            "778:\tlearn: 0.2053537\ttotal: 5.54s\tremaining: 1.57s\n",
            "779:\tlearn: 0.2052866\ttotal: 5.55s\tremaining: 1.56s\n",
            "780:\tlearn: 0.2052381\ttotal: 5.56s\tremaining: 1.56s\n",
            "781:\tlearn: 0.2052076\ttotal: 5.56s\tremaining: 1.55s\n",
            "782:\tlearn: 0.2051635\ttotal: 5.57s\tremaining: 1.54s\n",
            "783:\tlearn: 0.2050772\ttotal: 5.58s\tremaining: 1.54s\n",
            "784:\tlearn: 0.2050359\ttotal: 5.59s\tremaining: 1.53s\n",
            "785:\tlearn: 0.2049900\ttotal: 5.59s\tremaining: 1.52s\n",
            "786:\tlearn: 0.2048891\ttotal: 5.6s\tremaining: 1.51s\n",
            "787:\tlearn: 0.2048391\ttotal: 5.61s\tremaining: 1.51s\n",
            "788:\tlearn: 0.2047880\ttotal: 5.61s\tremaining: 1.5s\n",
            "789:\tlearn: 0.2047368\ttotal: 5.63s\tremaining: 1.5s\n",
            "790:\tlearn: 0.2046849\ttotal: 5.63s\tremaining: 1.49s\n",
            "791:\tlearn: 0.2046306\ttotal: 5.64s\tremaining: 1.48s\n",
            "792:\tlearn: 0.2045904\ttotal: 5.64s\tremaining: 1.47s\n",
            "793:\tlearn: 0.2045543\ttotal: 5.65s\tremaining: 1.47s\n",
            "794:\tlearn: 0.2045195\ttotal: 5.66s\tremaining: 1.46s\n",
            "795:\tlearn: 0.2044686\ttotal: 5.66s\tremaining: 1.45s\n",
            "796:\tlearn: 0.2044220\ttotal: 5.67s\tremaining: 1.44s\n",
            "797:\tlearn: 0.2043481\ttotal: 5.68s\tremaining: 1.44s\n",
            "798:\tlearn: 0.2042397\ttotal: 5.68s\tremaining: 1.43s\n",
            "799:\tlearn: 0.2041963\ttotal: 5.69s\tremaining: 1.42s\n",
            "800:\tlearn: 0.2041553\ttotal: 5.7s\tremaining: 1.42s\n",
            "801:\tlearn: 0.2041034\ttotal: 5.7s\tremaining: 1.41s\n",
            "802:\tlearn: 0.2040246\ttotal: 5.71s\tremaining: 1.4s\n",
            "803:\tlearn: 0.2039731\ttotal: 5.72s\tremaining: 1.39s\n",
            "804:\tlearn: 0.2039330\ttotal: 5.72s\tremaining: 1.39s\n",
            "805:\tlearn: 0.2038756\ttotal: 5.73s\tremaining: 1.38s\n",
            "806:\tlearn: 0.2038169\ttotal: 5.74s\tremaining: 1.37s\n",
            "807:\tlearn: 0.2037830\ttotal: 5.74s\tremaining: 1.36s\n",
            "808:\tlearn: 0.2037543\ttotal: 5.75s\tremaining: 1.36s\n",
            "809:\tlearn: 0.2037116\ttotal: 5.75s\tremaining: 1.35s\n",
            "810:\tlearn: 0.2036779\ttotal: 5.76s\tremaining: 1.34s\n",
            "811:\tlearn: 0.2036259\ttotal: 5.77s\tremaining: 1.33s\n",
            "812:\tlearn: 0.2035854\ttotal: 5.78s\tremaining: 1.33s\n",
            "813:\tlearn: 0.2035477\ttotal: 5.78s\tremaining: 1.32s\n",
            "814:\tlearn: 0.2035147\ttotal: 5.79s\tremaining: 1.31s\n",
            "815:\tlearn: 0.2034671\ttotal: 5.8s\tremaining: 1.31s\n",
            "816:\tlearn: 0.2034324\ttotal: 5.8s\tremaining: 1.3s\n",
            "817:\tlearn: 0.2033984\ttotal: 5.81s\tremaining: 1.29s\n",
            "818:\tlearn: 0.2033777\ttotal: 5.82s\tremaining: 1.28s\n",
            "819:\tlearn: 0.2033124\ttotal: 5.83s\tremaining: 1.28s\n",
            "820:\tlearn: 0.2032633\ttotal: 5.84s\tremaining: 1.27s\n",
            "821:\tlearn: 0.2031897\ttotal: 5.84s\tremaining: 1.26s\n",
            "822:\tlearn: 0.2031419\ttotal: 5.85s\tremaining: 1.26s\n",
            "823:\tlearn: 0.2031073\ttotal: 5.86s\tremaining: 1.25s\n",
            "824:\tlearn: 0.2030483\ttotal: 5.87s\tremaining: 1.24s\n",
            "825:\tlearn: 0.2029524\ttotal: 5.87s\tremaining: 1.24s\n",
            "826:\tlearn: 0.2029024\ttotal: 5.88s\tremaining: 1.23s\n",
            "827:\tlearn: 0.2028516\ttotal: 5.88s\tremaining: 1.22s\n",
            "828:\tlearn: 0.2027681\ttotal: 5.89s\tremaining: 1.22s\n",
            "829:\tlearn: 0.2027123\ttotal: 5.9s\tremaining: 1.21s\n",
            "830:\tlearn: 0.2026541\ttotal: 5.91s\tremaining: 1.2s\n",
            "831:\tlearn: 0.2025678\ttotal: 5.91s\tremaining: 1.19s\n",
            "832:\tlearn: 0.2025024\ttotal: 5.92s\tremaining: 1.19s\n",
            "833:\tlearn: 0.2024556\ttotal: 5.93s\tremaining: 1.18s\n",
            "834:\tlearn: 0.2023717\ttotal: 5.93s\tremaining: 1.17s\n",
            "835:\tlearn: 0.2023300\ttotal: 5.94s\tremaining: 1.17s\n",
            "836:\tlearn: 0.2022595\ttotal: 5.95s\tremaining: 1.16s\n",
            "837:\tlearn: 0.2022171\ttotal: 5.96s\tremaining: 1.15s\n",
            "838:\tlearn: 0.2021787\ttotal: 5.96s\tremaining: 1.14s\n",
            "839:\tlearn: 0.2021029\ttotal: 5.97s\tremaining: 1.14s\n",
            "840:\tlearn: 0.2020504\ttotal: 5.98s\tremaining: 1.13s\n",
            "841:\tlearn: 0.2020163\ttotal: 5.99s\tremaining: 1.12s\n",
            "842:\tlearn: 0.2019464\ttotal: 5.99s\tremaining: 1.11s\n",
            "843:\tlearn: 0.2019088\ttotal: 6s\tremaining: 1.11s\n",
            "844:\tlearn: 0.2018678\ttotal: 6s\tremaining: 1.1s\n",
            "845:\tlearn: 0.2018181\ttotal: 6.01s\tremaining: 1.09s\n",
            "846:\tlearn: 0.2017794\ttotal: 6.02s\tremaining: 1.09s\n",
            "847:\tlearn: 0.2017143\ttotal: 6.03s\tremaining: 1.08s\n",
            "848:\tlearn: 0.2016608\ttotal: 6.04s\tremaining: 1.07s\n",
            "849:\tlearn: 0.2015882\ttotal: 6.04s\tremaining: 1.07s\n",
            "850:\tlearn: 0.2015092\ttotal: 6.05s\tremaining: 1.06s\n",
            "851:\tlearn: 0.2014793\ttotal: 6.05s\tremaining: 1.05s\n",
            "852:\tlearn: 0.2014059\ttotal: 6.06s\tremaining: 1.04s\n",
            "853:\tlearn: 0.2013583\ttotal: 6.07s\tremaining: 1.04s\n",
            "854:\tlearn: 0.2013273\ttotal: 6.07s\tremaining: 1.03s\n",
            "855:\tlearn: 0.2012770\ttotal: 6.08s\tremaining: 1.02s\n",
            "856:\tlearn: 0.2012400\ttotal: 6.09s\tremaining: 1.01s\n",
            "857:\tlearn: 0.2011520\ttotal: 6.09s\tremaining: 1.01s\n",
            "858:\tlearn: 0.2011236\ttotal: 6.1s\tremaining: 1s\n",
            "859:\tlearn: 0.2010160\ttotal: 6.11s\tremaining: 994ms\n",
            "860:\tlearn: 0.2009594\ttotal: 6.11s\tremaining: 987ms\n",
            "861:\tlearn: 0.2008771\ttotal: 6.12s\tremaining: 980ms\n",
            "862:\tlearn: 0.2008154\ttotal: 6.13s\tremaining: 973ms\n",
            "863:\tlearn: 0.2007801\ttotal: 6.13s\tremaining: 965ms\n",
            "864:\tlearn: 0.2007533\ttotal: 6.14s\tremaining: 958ms\n",
            "865:\tlearn: 0.2006806\ttotal: 6.15s\tremaining: 951ms\n",
            "866:\tlearn: 0.2006191\ttotal: 6.16s\tremaining: 944ms\n",
            "867:\tlearn: 0.2005773\ttotal: 6.16s\tremaining: 937ms\n",
            "868:\tlearn: 0.2005016\ttotal: 6.17s\tremaining: 930ms\n",
            "869:\tlearn: 0.2004695\ttotal: 6.18s\tremaining: 923ms\n",
            "870:\tlearn: 0.2004029\ttotal: 6.18s\tremaining: 916ms\n",
            "871:\tlearn: 0.2003428\ttotal: 6.19s\tremaining: 909ms\n",
            "872:\tlearn: 0.2002969\ttotal: 6.2s\tremaining: 901ms\n",
            "873:\tlearn: 0.2002564\ttotal: 6.2s\tremaining: 894ms\n",
            "874:\tlearn: 0.2002059\ttotal: 6.21s\tremaining: 887ms\n",
            "875:\tlearn: 0.2001394\ttotal: 6.22s\tremaining: 880ms\n",
            "876:\tlearn: 0.2000666\ttotal: 6.23s\tremaining: 873ms\n",
            "877:\tlearn: 0.2000235\ttotal: 6.23s\tremaining: 866ms\n",
            "878:\tlearn: 0.1999963\ttotal: 6.24s\tremaining: 859ms\n",
            "879:\tlearn: 0.1999211\ttotal: 6.25s\tremaining: 852ms\n",
            "880:\tlearn: 0.1998826\ttotal: 6.25s\tremaining: 845ms\n",
            "881:\tlearn: 0.1998508\ttotal: 6.26s\tremaining: 838ms\n",
            "882:\tlearn: 0.1997865\ttotal: 6.27s\tremaining: 830ms\n",
            "883:\tlearn: 0.1996665\ttotal: 6.27s\tremaining: 823ms\n",
            "884:\tlearn: 0.1995923\ttotal: 6.28s\tremaining: 816ms\n",
            "885:\tlearn: 0.1995634\ttotal: 6.29s\tremaining: 809ms\n",
            "886:\tlearn: 0.1995303\ttotal: 6.29s\tremaining: 802ms\n",
            "887:\tlearn: 0.1994651\ttotal: 6.3s\tremaining: 795ms\n",
            "888:\tlearn: 0.1993706\ttotal: 6.31s\tremaining: 787ms\n",
            "889:\tlearn: 0.1993219\ttotal: 6.31s\tremaining: 780ms\n",
            "890:\tlearn: 0.1992989\ttotal: 6.32s\tremaining: 773ms\n",
            "891:\tlearn: 0.1992404\ttotal: 6.33s\tremaining: 766ms\n",
            "892:\tlearn: 0.1991949\ttotal: 6.33s\tremaining: 759ms\n",
            "893:\tlearn: 0.1991146\ttotal: 6.34s\tremaining: 752ms\n",
            "894:\tlearn: 0.1990245\ttotal: 6.35s\tremaining: 745ms\n",
            "895:\tlearn: 0.1989325\ttotal: 6.36s\tremaining: 738ms\n",
            "896:\tlearn: 0.1988614\ttotal: 6.37s\tremaining: 731ms\n",
            "897:\tlearn: 0.1988163\ttotal: 6.37s\tremaining: 724ms\n",
            "898:\tlearn: 0.1987729\ttotal: 6.38s\tremaining: 717ms\n",
            "899:\tlearn: 0.1987308\ttotal: 6.39s\tremaining: 710ms\n",
            "900:\tlearn: 0.1986910\ttotal: 6.39s\tremaining: 703ms\n",
            "901:\tlearn: 0.1986402\ttotal: 6.4s\tremaining: 696ms\n",
            "902:\tlearn: 0.1986076\ttotal: 6.41s\tremaining: 688ms\n",
            "903:\tlearn: 0.1985354\ttotal: 6.42s\tremaining: 681ms\n",
            "904:\tlearn: 0.1984908\ttotal: 6.43s\tremaining: 675ms\n",
            "905:\tlearn: 0.1984662\ttotal: 6.43s\tremaining: 668ms\n",
            "906:\tlearn: 0.1984228\ttotal: 6.44s\tremaining: 660ms\n",
            "907:\tlearn: 0.1984000\ttotal: 6.45s\tremaining: 653ms\n",
            "908:\tlearn: 0.1983249\ttotal: 6.45s\tremaining: 646ms\n",
            "909:\tlearn: 0.1982868\ttotal: 6.46s\tremaining: 639ms\n",
            "910:\tlearn: 0.1982336\ttotal: 6.47s\tremaining: 632ms\n",
            "911:\tlearn: 0.1981678\ttotal: 6.47s\tremaining: 625ms\n",
            "912:\tlearn: 0.1981092\ttotal: 6.48s\tremaining: 617ms\n",
            "913:\tlearn: 0.1980487\ttotal: 6.49s\tremaining: 610ms\n",
            "914:\tlearn: 0.1980218\ttotal: 6.49s\tremaining: 603ms\n",
            "915:\tlearn: 0.1979716\ttotal: 6.5s\tremaining: 596ms\n",
            "916:\tlearn: 0.1979486\ttotal: 6.5s\tremaining: 589ms\n",
            "917:\tlearn: 0.1978821\ttotal: 6.51s\tremaining: 582ms\n",
            "918:\tlearn: 0.1978267\ttotal: 6.52s\tremaining: 575ms\n",
            "919:\tlearn: 0.1977692\ttotal: 6.53s\tremaining: 567ms\n",
            "920:\tlearn: 0.1977149\ttotal: 6.53s\tremaining: 560ms\n",
            "921:\tlearn: 0.1976599\ttotal: 6.54s\tremaining: 553ms\n",
            "922:\tlearn: 0.1975806\ttotal: 6.54s\tremaining: 546ms\n",
            "923:\tlearn: 0.1975609\ttotal: 6.55s\tremaining: 539ms\n",
            "924:\tlearn: 0.1975270\ttotal: 6.56s\tremaining: 532ms\n",
            "925:\tlearn: 0.1974724\ttotal: 6.57s\tremaining: 525ms\n",
            "926:\tlearn: 0.1973861\ttotal: 6.57s\tremaining: 518ms\n",
            "927:\tlearn: 0.1973536\ttotal: 6.58s\tremaining: 510ms\n",
            "928:\tlearn: 0.1973240\ttotal: 6.58s\tremaining: 503ms\n",
            "929:\tlearn: 0.1973003\ttotal: 6.59s\tremaining: 496ms\n",
            "930:\tlearn: 0.1972376\ttotal: 6.6s\tremaining: 489ms\n",
            "931:\tlearn: 0.1971749\ttotal: 6.61s\tremaining: 482ms\n",
            "932:\tlearn: 0.1971086\ttotal: 6.61s\tremaining: 475ms\n",
            "933:\tlearn: 0.1970273\ttotal: 6.62s\tremaining: 468ms\n",
            "934:\tlearn: 0.1969968\ttotal: 6.63s\tremaining: 461ms\n",
            "935:\tlearn: 0.1969170\ttotal: 6.64s\tremaining: 454ms\n",
            "936:\tlearn: 0.1968896\ttotal: 6.65s\tremaining: 447ms\n",
            "937:\tlearn: 0.1968365\ttotal: 6.65s\tremaining: 440ms\n",
            "938:\tlearn: 0.1967654\ttotal: 6.66s\tremaining: 433ms\n",
            "939:\tlearn: 0.1967276\ttotal: 6.67s\tremaining: 426ms\n",
            "940:\tlearn: 0.1966815\ttotal: 6.68s\tremaining: 419ms\n",
            "941:\tlearn: 0.1965956\ttotal: 6.69s\tremaining: 412ms\n",
            "942:\tlearn: 0.1965463\ttotal: 6.7s\tremaining: 405ms\n",
            "943:\tlearn: 0.1964537\ttotal: 6.7s\tremaining: 398ms\n",
            "944:\tlearn: 0.1963932\ttotal: 6.71s\tremaining: 390ms\n",
            "945:\tlearn: 0.1963545\ttotal: 6.71s\tremaining: 383ms\n",
            "946:\tlearn: 0.1963243\ttotal: 6.72s\tremaining: 376ms\n",
            "947:\tlearn: 0.1962733\ttotal: 6.73s\tremaining: 369ms\n",
            "948:\tlearn: 0.1962541\ttotal: 6.74s\tremaining: 362ms\n",
            "949:\tlearn: 0.1962109\ttotal: 6.74s\tremaining: 355ms\n",
            "950:\tlearn: 0.1961858\ttotal: 6.75s\tremaining: 348ms\n",
            "951:\tlearn: 0.1961555\ttotal: 6.76s\tremaining: 341ms\n",
            "952:\tlearn: 0.1961005\ttotal: 6.76s\tremaining: 334ms\n",
            "953:\tlearn: 0.1960663\ttotal: 6.77s\tremaining: 326ms\n",
            "954:\tlearn: 0.1960179\ttotal: 6.78s\tremaining: 319ms\n",
            "955:\tlearn: 0.1959906\ttotal: 6.78s\tremaining: 312ms\n",
            "956:\tlearn: 0.1959604\ttotal: 6.79s\tremaining: 305ms\n",
            "957:\tlearn: 0.1959097\ttotal: 6.8s\tremaining: 298ms\n",
            "958:\tlearn: 0.1958678\ttotal: 6.81s\tremaining: 291ms\n",
            "959:\tlearn: 0.1958340\ttotal: 6.82s\tremaining: 284ms\n",
            "960:\tlearn: 0.1957801\ttotal: 6.82s\tremaining: 277ms\n",
            "961:\tlearn: 0.1957280\ttotal: 6.83s\tremaining: 270ms\n",
            "962:\tlearn: 0.1956839\ttotal: 6.84s\tremaining: 263ms\n",
            "963:\tlearn: 0.1956144\ttotal: 6.85s\tremaining: 256ms\n",
            "964:\tlearn: 0.1955800\ttotal: 6.85s\tremaining: 249ms\n",
            "965:\tlearn: 0.1955372\ttotal: 6.86s\tremaining: 241ms\n",
            "966:\tlearn: 0.1954860\ttotal: 6.87s\tremaining: 234ms\n",
            "967:\tlearn: 0.1954557\ttotal: 6.87s\tremaining: 227ms\n",
            "968:\tlearn: 0.1954188\ttotal: 6.88s\tremaining: 220ms\n",
            "969:\tlearn: 0.1953800\ttotal: 6.89s\tremaining: 213ms\n",
            "970:\tlearn: 0.1953352\ttotal: 6.89s\tremaining: 206ms\n",
            "971:\tlearn: 0.1952674\ttotal: 6.9s\tremaining: 199ms\n",
            "972:\tlearn: 0.1952337\ttotal: 6.91s\tremaining: 192ms\n",
            "973:\tlearn: 0.1951443\ttotal: 6.91s\tremaining: 185ms\n",
            "974:\tlearn: 0.1950849\ttotal: 6.92s\tremaining: 177ms\n",
            "975:\tlearn: 0.1950660\ttotal: 6.93s\tremaining: 170ms\n",
            "976:\tlearn: 0.1950306\ttotal: 6.93s\tremaining: 163ms\n",
            "977:\tlearn: 0.1949751\ttotal: 6.94s\tremaining: 156ms\n",
            "978:\tlearn: 0.1949206\ttotal: 6.95s\tremaining: 149ms\n",
            "979:\tlearn: 0.1948511\ttotal: 6.95s\tremaining: 142ms\n",
            "980:\tlearn: 0.1948162\ttotal: 6.96s\tremaining: 135ms\n",
            "981:\tlearn: 0.1947764\ttotal: 6.97s\tremaining: 128ms\n",
            "982:\tlearn: 0.1947308\ttotal: 6.98s\tremaining: 121ms\n",
            "983:\tlearn: 0.1946856\ttotal: 6.98s\tremaining: 114ms\n",
            "984:\tlearn: 0.1946425\ttotal: 6.99s\tremaining: 106ms\n",
            "985:\tlearn: 0.1945896\ttotal: 7s\tremaining: 99.4ms\n",
            "986:\tlearn: 0.1945487\ttotal: 7.01s\tremaining: 92.3ms\n",
            "987:\tlearn: 0.1945236\ttotal: 7.01s\tremaining: 85.2ms\n",
            "988:\tlearn: 0.1944729\ttotal: 7.02s\tremaining: 78.1ms\n",
            "989:\tlearn: 0.1944253\ttotal: 7.03s\tremaining: 71ms\n",
            "990:\tlearn: 0.1943600\ttotal: 7.04s\tremaining: 63.9ms\n",
            "991:\tlearn: 0.1943135\ttotal: 7.04s\tremaining: 56.8ms\n",
            "992:\tlearn: 0.1942844\ttotal: 7.05s\tremaining: 49.7ms\n",
            "993:\tlearn: 0.1942216\ttotal: 7.06s\tremaining: 42.6ms\n",
            "994:\tlearn: 0.1941755\ttotal: 7.07s\tremaining: 35.5ms\n",
            "995:\tlearn: 0.1941253\ttotal: 7.07s\tremaining: 28.4ms\n",
            "996:\tlearn: 0.1940856\ttotal: 7.08s\tremaining: 21.3ms\n",
            "997:\tlearn: 0.1940414\ttotal: 7.08s\tremaining: 14.2ms\n",
            "998:\tlearn: 0.1940146\ttotal: 7.09s\tremaining: 7.1ms\n",
            "999:\tlearn: 0.1939854\ttotal: 7.1s\tremaining: 0us\n"
          ],
          "name": "stdout"
        },
        {
          "output_type": "execute_result",
          "data": {
            "text/plain": [
              "<catboost.core.CatBoostRegressor at 0x7f05386cdda0>"
            ]
          },
          "metadata": {
            "tags": []
          },
          "execution_count": 75
        }
      ]
    },
    {
      "cell_type": "code",
      "metadata": {
        "colab": {
          "base_uri": "https://localhost:8080/"
        },
        "id": "qfGJ4O_vXfPp",
        "outputId": "de7424cb-6ab6-4c85-bd6c-e849b6b1a2bf"
      },
      "source": [
        "# METRICS OF TRAINING SET\r\n",
        "from sklearn.metrics import r2_score\r\n",
        "y_hat = regressor3.predict(x_train)\r\n",
        "r2_score(y_train,y_hat)"
      ],
      "execution_count": 76,
      "outputs": [
        {
          "output_type": "execute_result",
          "data": {
            "text/plain": [
              "0.962276796639328"
            ]
          },
          "metadata": {
            "tags": []
          },
          "execution_count": 76
        }
      ]
    },
    {
      "cell_type": "code",
      "metadata": {
        "colab": {
          "base_uri": "https://localhost:8080/"
        },
        "id": "EYZ1qHIzYF7h",
        "outputId": "43fd5671-a98b-4b51-a4c4-b1ce5b7a4844"
      },
      "source": [
        "# METRICS ON TEST SET\r\n",
        "from sklearn.metrics import r2_score, mean_squared_error\r\n",
        "y_pred = regressor3.predict(x_valid)\r\n",
        "print(\"The r2 score of the model is: \" , r2_score(y_valid,y_pred))\r\n",
        "print(\"The mean square error of the model is: \" , mean_squared_error(y_valid,y_pred))"
      ],
      "execution_count": 77,
      "outputs": [
        {
          "output_type": "stream",
          "text": [
            "The r2 score of the model is:  0.9371489356185247\n",
            "The mean square error of the model is:  0.0634695965432528\n"
          ],
          "name": "stdout"
        }
      ]
    },
    {
      "cell_type": "code",
      "metadata": {
        "id": "TAEo42UGZx1k"
      },
      "source": [
        "# saving the best model to the local file system\r\n",
        "filename = 'best_regression_model.pickle'\r\n",
        "pickle.dump(regressor3, open(filename, 'wb'))"
      ],
      "execution_count": 78,
      "outputs": []
    },
    {
      "cell_type": "markdown",
      "metadata": {
        "id": "AriQ1eUwYXI-"
      },
      "source": [
        "## # Conclusion: Best linear model achieved with XGBoost mODEL\r\n",
        "* train set: r2_score:0.80 (previous model)/ 0.95 (current mode)\r\n",
        "* validation set:  r2_score:     0.794 (previous model)/ 0.93 (current model)"
      ]
    },
    {
      "cell_type": "markdown",
      "metadata": {
        "id": "jn76Am5EpJ78"
      },
      "source": [
        "### Make prediction on validation set with best model"
      ]
    },
    {
      "cell_type": "code",
      "metadata": {
        "colab": {
          "base_uri": "https://localhost:8080/"
        },
        "id": "TeGvGM3CpPcm",
        "outputId": "ad9563cd-b40c-42f9-cace-4c26b652b23f"
      },
      "source": [
        "# Make prediction on test set with \r\n",
        "best_model = regressor3\r\n",
        "# Predicting a new result\r\n",
        "y_hat = sc_y.inverse_transform(best_model.predict((x_valid)))\r\n",
        "# Predicting the Test set results\r\n",
        "np.set_printoptions(precision=2)\r\n",
        "y_valid_true = sc_y.inverse_transform(y_valid)\r\n",
        "print(np.concatenate((y_hat.reshape(len(y_hat),1), y_valid_true.reshape(len(y_valid_true),1)),1))"
      ],
      "execution_count": 79,
      "outputs": [
        {
          "output_type": "stream",
          "text": [
            "[[ 2889.21  3800.  ]\n",
            " [ 9804.35 10290.  ]\n",
            " [ 1150.21  1170.  ]\n",
            " ...\n",
            " [10513.16 10499.  ]\n",
            " [ 5167.16  4450.  ]\n",
            " [ 1835.55  1000.  ]]\n"
          ],
          "name": "stdout"
        }
      ]
    },
    {
      "cell_type": "markdown",
      "metadata": {
        "id": "dh8lf25knumF"
      },
      "source": [
        "### Make prediction on test set with best model"
      ]
    },
    {
      "cell_type": "code",
      "metadata": {
        "id": "zQzQ7JZcjsuY"
      },
      "source": [
        "# Make prediction\r\n",
        "X_test = df_test.values\r\n",
        "# load trained model\r\n",
        "loaded_model = pickle.load(open('best_regression_model.pickle', 'rb'))\r\n",
        "y_hat = sc_y.inverse_transform(loaded_model.predict(sc.transform(X_test)))"
      ],
      "execution_count": 80,
      "outputs": []
    },
    {
      "cell_type": "code",
      "metadata": {
        "id": "HpAtGXegniZL"
      },
      "source": [
        "# save file as txt file\r\n",
        "np.savetxt('October2020_Challenge_AbiolaObembe', y_hat, fmt='%d', delimiter=' ', newline='\\n', header='', footer='', comments='# ', encoding=None)\r\n",
        "\r\n",
        "# numpy.savetxt(fname, arr, fmt='%.18e', delimiter=' ', newline='\\n', header='', footer='', comments='# ', encoding=None)\r\n",
        "\r\n",
        " # Save Numpy array to csv with custom header and footer\r\n",
        "#np.savetxt('array_hf.csv', [arr], delimiter=',', fmt='%d' , header='A Sample 2D Numpy Array :: Header', footer='This is footer')"
      ],
      "execution_count": 82,
      "outputs": []
    }
  ]
}