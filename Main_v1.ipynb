{
  "nbformat": 4,
  "nbformat_minor": 0,
  "metadata": {
    "colab": {
      "name": "Main_v1.ipynb",
      "provenance": [],
      "toc_visible": true,
      "authorship_tag": "ABX9TyPDMAzM6H5gSyOHYIKYk+Zb",
      "include_colab_link": true
    },
    "kernelspec": {
      "name": "python3",
      "display_name": "Python 3"
    }
  },
  "cells": [
    {
      "cell_type": "markdown",
      "metadata": {
        "id": "view-in-github",
        "colab_type": "text"
      },
      "source": [
        "<a href=\"https://colab.research.google.com/github/obeabi/SdsOctober2020Challenge/blob/main/Main_v1.ipynb\" target=\"_parent\"><img src=\"https://colab.research.google.com/assets/colab-badge.svg\" alt=\"Open In Colab\"/></a>"
      ]
    },
    {
      "cell_type": "markdown",
      "metadata": {
        "id": "7i3DzeOAFN48"
      },
      "source": [
        "# Written by Abiola Obembe\r\n",
        "# SDS October Challenge #2 - Used Car Prices\r\n",
        "## 2021-01-02"
      ]
    },
    {
      "cell_type": "markdown",
      "metadata": {
        "id": "C5Wy1C3FFWlF"
      },
      "source": [
        "This month you have been hired by a new car trader company to help sell its used cars. You will be analyzing used cars from multiple manufacturers and of different models. Your job is to help the car trader company determine the price of its used cars."
      ]
    },
    {
      "cell_type": "markdown",
      "metadata": {
        "id": "P4iVP8uAGZim"
      },
      "source": [
        "## Step 1: Data Preprocessing "
      ]
    },
    {
      "cell_type": "code",
      "metadata": {
        "colab": {
          "base_uri": "https://localhost:8080/"
        },
        "id": "5zL0WMbBGq7T",
        "outputId": "c5ca97f9-409a-4983-f9be-b38bd2ea0d1c"
      },
      "source": [
        "# Download packages\r\n",
        "!pip install category_encoders"
      ],
      "execution_count": null,
      "outputs": [
        {
          "output_type": "stream",
          "text": [
            "Requirement already satisfied: category_encoders in /usr/local/lib/python3.6/dist-packages (2.2.2)\n",
            "Requirement already satisfied: scikit-learn>=0.20.0 in /usr/local/lib/python3.6/dist-packages (from category_encoders) (0.22.2.post1)\n",
            "Requirement already satisfied: scipy>=1.0.0 in /usr/local/lib/python3.6/dist-packages (from category_encoders) (1.4.1)\n",
            "Requirement already satisfied: statsmodels>=0.9.0 in /usr/local/lib/python3.6/dist-packages (from category_encoders) (0.10.2)\n",
            "Requirement already satisfied: patsy>=0.5.1 in /usr/local/lib/python3.6/dist-packages (from category_encoders) (0.5.1)\n",
            "Requirement already satisfied: pandas>=0.21.1 in /usr/local/lib/python3.6/dist-packages (from category_encoders) (1.1.5)\n",
            "Requirement already satisfied: numpy>=1.14.0 in /usr/local/lib/python3.6/dist-packages (from category_encoders) (1.19.4)\n",
            "Requirement already satisfied: joblib>=0.11 in /usr/local/lib/python3.6/dist-packages (from scikit-learn>=0.20.0->category_encoders) (1.0.0)\n",
            "Requirement already satisfied: six in /usr/local/lib/python3.6/dist-packages (from patsy>=0.5.1->category_encoders) (1.15.0)\n",
            "Requirement already satisfied: pytz>=2017.2 in /usr/local/lib/python3.6/dist-packages (from pandas>=0.21.1->category_encoders) (2018.9)\n",
            "Requirement already satisfied: python-dateutil>=2.7.3 in /usr/local/lib/python3.6/dist-packages (from pandas>=0.21.1->category_encoders) (2.8.1)\n"
          ],
          "name": "stdout"
        }
      ]
    },
    {
      "cell_type": "code",
      "metadata": {
        "colab": {
          "base_uri": "https://localhost:8080/"
        },
        "id": "LU2Es40IFaa2",
        "outputId": "7f13e716-83f7-465d-8b2f-f31322e95f52"
      },
      "source": [
        "# Importing the libraries\r\n",
        "import pickle\r\n",
        "import numpy as np\r\n",
        "import matplotlib.pyplot as plt\r\n",
        "import pandas as pd\r\n",
        "import seaborn as sns\r\n",
        "from scipy import stats\r\n",
        "from scipy.stats import f_oneway\r\n",
        "from scipy.stats import  zscore\r\n",
        "import category_encoders as ce\r\n",
        "from sklearn.preprocessing import StandardScaler \r\n",
        "from sklearn.linear_model  import Ridge,Lasso,RidgeCV, LassoCV, ElasticNet, ElasticNetCV, LinearRegression\r\n",
        "from sklearn.model_selection import train_test_split\r\n",
        "\r\n",
        "%matplotlib inline\r\n",
        "plt.rcParams['figure.figsize'] = (8.0, 6.0) # set default size of plots\r\n",
        "plt.rcParams['image.interpolation'] = 'nearest'\r\n",
        "plt.rcParams['image.cmap'] = 'gray'\r\n",
        "\r\n",
        "print('Libraries installed successfully!')\r\n",
        "\r\n",
        "np.random.seed(0)"
      ],
      "execution_count": null,
      "outputs": [
        {
          "output_type": "stream",
          "text": [
            "Libraries installed successfully!\n"
          ],
          "name": "stdout"
        }
      ]
    },
    {
      "cell_type": "code",
      "metadata": {
        "colab": {
          "base_uri": "https://localhost:8080/",
          "height": 232
        },
        "id": "MrnpIY0BG3vj",
        "outputId": "5cb4b3fb-2a72-4809-eb56-f0c53bc30d3e"
      },
      "source": [
        "# Importing the training dataset\r\n",
        "\r\n",
        "df_train = pd.read_csv('Train.csv', engine= 'python', encoding= 'latin1')\r\n",
        "\r\n",
        "\r\n",
        "df_train.head()"
      ],
      "execution_count": null,
      "outputs": [
        {
          "output_type": "execute_result",
          "data": {
            "text/html": [
              "<div>\n",
              "<style scoped>\n",
              "    .dataframe tbody tr th:only-of-type {\n",
              "        vertical-align: middle;\n",
              "    }\n",
              "\n",
              "    .dataframe tbody tr th {\n",
              "        vertical-align: top;\n",
              "    }\n",
              "\n",
              "    .dataframe thead th {\n",
              "        text-align: right;\n",
              "    }\n",
              "</style>\n",
              "<table border=\"1\" class=\"dataframe\">\n",
              "  <thead>\n",
              "    <tr style=\"text-align: right;\">\n",
              "      <th></th>\n",
              "      <th>Unnamed: 0</th>\n",
              "      <th>manufacturer_name</th>\n",
              "      <th>model_name</th>\n",
              "      <th>transmission</th>\n",
              "      <th>color</th>\n",
              "      <th>odometer_value</th>\n",
              "      <th>year_produced</th>\n",
              "      <th>engine_fuel</th>\n",
              "      <th>engine_has_gas</th>\n",
              "      <th>engine_type</th>\n",
              "      <th>engine_capacity</th>\n",
              "      <th>body_type</th>\n",
              "      <th>has_warranty</th>\n",
              "      <th>state</th>\n",
              "      <th>drivetrain</th>\n",
              "      <th>feature_0</th>\n",
              "      <th>feature_1</th>\n",
              "      <th>feature_2</th>\n",
              "      <th>feature_3</th>\n",
              "      <th>feature_4</th>\n",
              "      <th>feature_5</th>\n",
              "      <th>feature_6</th>\n",
              "      <th>feature_7</th>\n",
              "      <th>feature_8</th>\n",
              "      <th>feature_9</th>\n",
              "      <th>duration_listed</th>\n",
              "      <th>price_usd</th>\n",
              "    </tr>\n",
              "  </thead>\n",
              "  <tbody>\n",
              "    <tr>\n",
              "      <th>0</th>\n",
              "      <td>0</td>\n",
              "      <td>Ford</td>\n",
              "      <td>Fusion</td>\n",
              "      <td>mechanical</td>\n",
              "      <td>blue</td>\n",
              "      <td>245000</td>\n",
              "      <td>2006</td>\n",
              "      <td>gasoline</td>\n",
              "      <td>0</td>\n",
              "      <td>gasoline</td>\n",
              "      <td>1.6</td>\n",
              "      <td>hatchback</td>\n",
              "      <td>0</td>\n",
              "      <td>owned</td>\n",
              "      <td>front</td>\n",
              "      <td>1</td>\n",
              "      <td>0</td>\n",
              "      <td>0</td>\n",
              "      <td>0</td>\n",
              "      <td>0</td>\n",
              "      <td>0</td>\n",
              "      <td>0</td>\n",
              "      <td>0</td>\n",
              "      <td>0</td>\n",
              "      <td>0</td>\n",
              "      <td>7</td>\n",
              "      <td>4250.0</td>\n",
              "    </tr>\n",
              "    <tr>\n",
              "      <th>1</th>\n",
              "      <td>1</td>\n",
              "      <td>Dodge</td>\n",
              "      <td>Caravan</td>\n",
              "      <td>automatic</td>\n",
              "      <td>silver</td>\n",
              "      <td>265542</td>\n",
              "      <td>2002</td>\n",
              "      <td>gasoline</td>\n",
              "      <td>0</td>\n",
              "      <td>gasoline</td>\n",
              "      <td>3.3</td>\n",
              "      <td>minivan</td>\n",
              "      <td>0</td>\n",
              "      <td>owned</td>\n",
              "      <td>front</td>\n",
              "      <td>0</td>\n",
              "      <td>1</td>\n",
              "      <td>0</td>\n",
              "      <td>0</td>\n",
              "      <td>0</td>\n",
              "      <td>0</td>\n",
              "      <td>0</td>\n",
              "      <td>0</td>\n",
              "      <td>0</td>\n",
              "      <td>0</td>\n",
              "      <td>133</td>\n",
              "      <td>4000.0</td>\n",
              "    </tr>\n",
              "    <tr>\n",
              "      <th>2</th>\n",
              "      <td>2</td>\n",
              "      <td>Ford</td>\n",
              "      <td>Galaxy</td>\n",
              "      <td>mechanical</td>\n",
              "      <td>blue</td>\n",
              "      <td>168000</td>\n",
              "      <td>2009</td>\n",
              "      <td>diesel</td>\n",
              "      <td>0</td>\n",
              "      <td>diesel</td>\n",
              "      <td>1.8</td>\n",
              "      <td>minivan</td>\n",
              "      <td>0</td>\n",
              "      <td>owned</td>\n",
              "      <td>front</td>\n",
              "      <td>0</td>\n",
              "      <td>0</td>\n",
              "      <td>0</td>\n",
              "      <td>1</td>\n",
              "      <td>0</td>\n",
              "      <td>0</td>\n",
              "      <td>1</td>\n",
              "      <td>1</td>\n",
              "      <td>1</td>\n",
              "      <td>1</td>\n",
              "      <td>0</td>\n",
              "      <td>10900.0</td>\n",
              "    </tr>\n",
              "    <tr>\n",
              "      <th>3</th>\n",
              "      <td>3</td>\n",
              "      <td>Mazda</td>\n",
              "      <td>6</td>\n",
              "      <td>mechanical</td>\n",
              "      <td>other</td>\n",
              "      <td>225522</td>\n",
              "      <td>2008</td>\n",
              "      <td>gasoline</td>\n",
              "      <td>0</td>\n",
              "      <td>gasoline</td>\n",
              "      <td>1.8</td>\n",
              "      <td>universal</td>\n",
              "      <td>0</td>\n",
              "      <td>owned</td>\n",
              "      <td>front</td>\n",
              "      <td>0</td>\n",
              "      <td>1</td>\n",
              "      <td>1</td>\n",
              "      <td>0</td>\n",
              "      <td>0</td>\n",
              "      <td>1</td>\n",
              "      <td>0</td>\n",
              "      <td>0</td>\n",
              "      <td>1</td>\n",
              "      <td>1</td>\n",
              "      <td>20</td>\n",
              "      <td>6999.0</td>\n",
              "    </tr>\n",
              "    <tr>\n",
              "      <th>4</th>\n",
              "      <td>4</td>\n",
              "      <td>Audi</td>\n",
              "      <td>80</td>\n",
              "      <td>mechanical</td>\n",
              "      <td>black</td>\n",
              "      <td>370000</td>\n",
              "      <td>1991</td>\n",
              "      <td>gasoline</td>\n",
              "      <td>0</td>\n",
              "      <td>gasoline</td>\n",
              "      <td>1.8</td>\n",
              "      <td>sedan</td>\n",
              "      <td>0</td>\n",
              "      <td>owned</td>\n",
              "      <td>front</td>\n",
              "      <td>0</td>\n",
              "      <td>0</td>\n",
              "      <td>0</td>\n",
              "      <td>0</td>\n",
              "      <td>0</td>\n",
              "      <td>0</td>\n",
              "      <td>0</td>\n",
              "      <td>0</td>\n",
              "      <td>0</td>\n",
              "      <td>1</td>\n",
              "      <td>160</td>\n",
              "      <td>1600.0</td>\n",
              "    </tr>\n",
              "  </tbody>\n",
              "</table>\n",
              "</div>"
            ],
            "text/plain": [
              "   Unnamed: 0 manufacturer_name  ... duration_listed price_usd\n",
              "0           0              Ford  ...               7    4250.0\n",
              "1           1             Dodge  ...             133    4000.0\n",
              "2           2              Ford  ...               0   10900.0\n",
              "3           3             Mazda  ...              20    6999.0\n",
              "4           4              Audi  ...             160    1600.0\n",
              "\n",
              "[5 rows x 27 columns]"
            ]
          },
          "metadata": {
            "tags": []
          },
          "execution_count": 60
        }
      ]
    },
    {
      "cell_type": "code",
      "metadata": {
        "colab": {
          "base_uri": "https://localhost:8080/",
          "height": 215
        },
        "id": "0Me6-AUoby3t",
        "outputId": "8fd8223c-6911-4981-ef57-637e78492ca9"
      },
      "source": [
        "# drop first column\r\n",
        "df_train.drop('Unnamed: 0', axis = 1, inplace = True)\r\n",
        "\r\n",
        "df_train.head()"
      ],
      "execution_count": null,
      "outputs": [
        {
          "output_type": "execute_result",
          "data": {
            "text/html": [
              "<div>\n",
              "<style scoped>\n",
              "    .dataframe tbody tr th:only-of-type {\n",
              "        vertical-align: middle;\n",
              "    }\n",
              "\n",
              "    .dataframe tbody tr th {\n",
              "        vertical-align: top;\n",
              "    }\n",
              "\n",
              "    .dataframe thead th {\n",
              "        text-align: right;\n",
              "    }\n",
              "</style>\n",
              "<table border=\"1\" class=\"dataframe\">\n",
              "  <thead>\n",
              "    <tr style=\"text-align: right;\">\n",
              "      <th></th>\n",
              "      <th>manufacturer_name</th>\n",
              "      <th>model_name</th>\n",
              "      <th>transmission</th>\n",
              "      <th>color</th>\n",
              "      <th>odometer_value</th>\n",
              "      <th>year_produced</th>\n",
              "      <th>engine_fuel</th>\n",
              "      <th>engine_has_gas</th>\n",
              "      <th>engine_type</th>\n",
              "      <th>engine_capacity</th>\n",
              "      <th>body_type</th>\n",
              "      <th>has_warranty</th>\n",
              "      <th>state</th>\n",
              "      <th>drivetrain</th>\n",
              "      <th>feature_0</th>\n",
              "      <th>feature_1</th>\n",
              "      <th>feature_2</th>\n",
              "      <th>feature_3</th>\n",
              "      <th>feature_4</th>\n",
              "      <th>feature_5</th>\n",
              "      <th>feature_6</th>\n",
              "      <th>feature_7</th>\n",
              "      <th>feature_8</th>\n",
              "      <th>feature_9</th>\n",
              "      <th>duration_listed</th>\n",
              "      <th>price_usd</th>\n",
              "    </tr>\n",
              "  </thead>\n",
              "  <tbody>\n",
              "    <tr>\n",
              "      <th>0</th>\n",
              "      <td>Ford</td>\n",
              "      <td>Fusion</td>\n",
              "      <td>mechanical</td>\n",
              "      <td>blue</td>\n",
              "      <td>245000</td>\n",
              "      <td>2006</td>\n",
              "      <td>gasoline</td>\n",
              "      <td>0</td>\n",
              "      <td>gasoline</td>\n",
              "      <td>1.6</td>\n",
              "      <td>hatchback</td>\n",
              "      <td>0</td>\n",
              "      <td>owned</td>\n",
              "      <td>front</td>\n",
              "      <td>1</td>\n",
              "      <td>0</td>\n",
              "      <td>0</td>\n",
              "      <td>0</td>\n",
              "      <td>0</td>\n",
              "      <td>0</td>\n",
              "      <td>0</td>\n",
              "      <td>0</td>\n",
              "      <td>0</td>\n",
              "      <td>0</td>\n",
              "      <td>7</td>\n",
              "      <td>4250.0</td>\n",
              "    </tr>\n",
              "    <tr>\n",
              "      <th>1</th>\n",
              "      <td>Dodge</td>\n",
              "      <td>Caravan</td>\n",
              "      <td>automatic</td>\n",
              "      <td>silver</td>\n",
              "      <td>265542</td>\n",
              "      <td>2002</td>\n",
              "      <td>gasoline</td>\n",
              "      <td>0</td>\n",
              "      <td>gasoline</td>\n",
              "      <td>3.3</td>\n",
              "      <td>minivan</td>\n",
              "      <td>0</td>\n",
              "      <td>owned</td>\n",
              "      <td>front</td>\n",
              "      <td>0</td>\n",
              "      <td>1</td>\n",
              "      <td>0</td>\n",
              "      <td>0</td>\n",
              "      <td>0</td>\n",
              "      <td>0</td>\n",
              "      <td>0</td>\n",
              "      <td>0</td>\n",
              "      <td>0</td>\n",
              "      <td>0</td>\n",
              "      <td>133</td>\n",
              "      <td>4000.0</td>\n",
              "    </tr>\n",
              "    <tr>\n",
              "      <th>2</th>\n",
              "      <td>Ford</td>\n",
              "      <td>Galaxy</td>\n",
              "      <td>mechanical</td>\n",
              "      <td>blue</td>\n",
              "      <td>168000</td>\n",
              "      <td>2009</td>\n",
              "      <td>diesel</td>\n",
              "      <td>0</td>\n",
              "      <td>diesel</td>\n",
              "      <td>1.8</td>\n",
              "      <td>minivan</td>\n",
              "      <td>0</td>\n",
              "      <td>owned</td>\n",
              "      <td>front</td>\n",
              "      <td>0</td>\n",
              "      <td>0</td>\n",
              "      <td>0</td>\n",
              "      <td>1</td>\n",
              "      <td>0</td>\n",
              "      <td>0</td>\n",
              "      <td>1</td>\n",
              "      <td>1</td>\n",
              "      <td>1</td>\n",
              "      <td>1</td>\n",
              "      <td>0</td>\n",
              "      <td>10900.0</td>\n",
              "    </tr>\n",
              "    <tr>\n",
              "      <th>3</th>\n",
              "      <td>Mazda</td>\n",
              "      <td>6</td>\n",
              "      <td>mechanical</td>\n",
              "      <td>other</td>\n",
              "      <td>225522</td>\n",
              "      <td>2008</td>\n",
              "      <td>gasoline</td>\n",
              "      <td>0</td>\n",
              "      <td>gasoline</td>\n",
              "      <td>1.8</td>\n",
              "      <td>universal</td>\n",
              "      <td>0</td>\n",
              "      <td>owned</td>\n",
              "      <td>front</td>\n",
              "      <td>0</td>\n",
              "      <td>1</td>\n",
              "      <td>1</td>\n",
              "      <td>0</td>\n",
              "      <td>0</td>\n",
              "      <td>1</td>\n",
              "      <td>0</td>\n",
              "      <td>0</td>\n",
              "      <td>1</td>\n",
              "      <td>1</td>\n",
              "      <td>20</td>\n",
              "      <td>6999.0</td>\n",
              "    </tr>\n",
              "    <tr>\n",
              "      <th>4</th>\n",
              "      <td>Audi</td>\n",
              "      <td>80</td>\n",
              "      <td>mechanical</td>\n",
              "      <td>black</td>\n",
              "      <td>370000</td>\n",
              "      <td>1991</td>\n",
              "      <td>gasoline</td>\n",
              "      <td>0</td>\n",
              "      <td>gasoline</td>\n",
              "      <td>1.8</td>\n",
              "      <td>sedan</td>\n",
              "      <td>0</td>\n",
              "      <td>owned</td>\n",
              "      <td>front</td>\n",
              "      <td>0</td>\n",
              "      <td>0</td>\n",
              "      <td>0</td>\n",
              "      <td>0</td>\n",
              "      <td>0</td>\n",
              "      <td>0</td>\n",
              "      <td>0</td>\n",
              "      <td>0</td>\n",
              "      <td>0</td>\n",
              "      <td>1</td>\n",
              "      <td>160</td>\n",
              "      <td>1600.0</td>\n",
              "    </tr>\n",
              "  </tbody>\n",
              "</table>\n",
              "</div>"
            ],
            "text/plain": [
              "  manufacturer_name model_name  ... duration_listed price_usd\n",
              "0              Ford     Fusion  ...               7    4250.0\n",
              "1             Dodge    Caravan  ...             133    4000.0\n",
              "2              Ford     Galaxy  ...               0   10900.0\n",
              "3             Mazda          6  ...              20    6999.0\n",
              "4              Audi         80  ...             160    1600.0\n",
              "\n",
              "[5 rows x 26 columns]"
            ]
          },
          "metadata": {
            "tags": []
          },
          "execution_count": 61
        }
      ]
    },
    {
      "cell_type": "code",
      "metadata": {
        "colab": {
          "base_uri": "https://localhost:8080/",
          "height": 232
        },
        "id": "EMD4GiggHVdX",
        "outputId": "b01d3f35-f722-4d24-8e26-fa4c885e6255"
      },
      "source": [
        "# Importing the test dataset\r\n",
        "\r\n",
        "df_test = pd.read_csv('Test.csv', engine= 'python', encoding= 'latin1')\r\n",
        "\r\n",
        "df_test.head()"
      ],
      "execution_count": null,
      "outputs": [
        {
          "output_type": "execute_result",
          "data": {
            "text/html": [
              "<div>\n",
              "<style scoped>\n",
              "    .dataframe tbody tr th:only-of-type {\n",
              "        vertical-align: middle;\n",
              "    }\n",
              "\n",
              "    .dataframe tbody tr th {\n",
              "        vertical-align: top;\n",
              "    }\n",
              "\n",
              "    .dataframe thead th {\n",
              "        text-align: right;\n",
              "    }\n",
              "</style>\n",
              "<table border=\"1\" class=\"dataframe\">\n",
              "  <thead>\n",
              "    <tr style=\"text-align: right;\">\n",
              "      <th></th>\n",
              "      <th>Unnamed: 0</th>\n",
              "      <th>manufacturer_name</th>\n",
              "      <th>model_name</th>\n",
              "      <th>transmission</th>\n",
              "      <th>color</th>\n",
              "      <th>odometer_value</th>\n",
              "      <th>year_produced</th>\n",
              "      <th>engine_fuel</th>\n",
              "      <th>engine_has_gas</th>\n",
              "      <th>engine_type</th>\n",
              "      <th>engine_capacity</th>\n",
              "      <th>body_type</th>\n",
              "      <th>has_warranty</th>\n",
              "      <th>state</th>\n",
              "      <th>drivetrain</th>\n",
              "      <th>feature_0</th>\n",
              "      <th>feature_1</th>\n",
              "      <th>feature_2</th>\n",
              "      <th>feature_3</th>\n",
              "      <th>feature_4</th>\n",
              "      <th>feature_5</th>\n",
              "      <th>feature_6</th>\n",
              "      <th>feature_7</th>\n",
              "      <th>feature_8</th>\n",
              "      <th>feature_9</th>\n",
              "      <th>duration_listed</th>\n",
              "    </tr>\n",
              "  </thead>\n",
              "  <tbody>\n",
              "    <tr>\n",
              "      <th>0</th>\n",
              "      <td>0</td>\n",
              "      <td>Renault</td>\n",
              "      <td>Megane</td>\n",
              "      <td>mechanical</td>\n",
              "      <td>blue</td>\n",
              "      <td>360000</td>\n",
              "      <td>1997</td>\n",
              "      <td>gasoline</td>\n",
              "      <td>0</td>\n",
              "      <td>gasoline</td>\n",
              "      <td>1.6</td>\n",
              "      <td>coupe</td>\n",
              "      <td>0</td>\n",
              "      <td>owned</td>\n",
              "      <td>front</td>\n",
              "      <td>0</td>\n",
              "      <td>1</td>\n",
              "      <td>0</td>\n",
              "      <td>0</td>\n",
              "      <td>0</td>\n",
              "      <td>0</td>\n",
              "      <td>0</td>\n",
              "      <td>1</td>\n",
              "      <td>0</td>\n",
              "      <td>1</td>\n",
              "      <td>114</td>\n",
              "    </tr>\n",
              "    <tr>\n",
              "      <th>1</th>\n",
              "      <td>1</td>\n",
              "      <td>Peugeot</td>\n",
              "      <td>206</td>\n",
              "      <td>mechanical</td>\n",
              "      <td>silver</td>\n",
              "      <td>267000</td>\n",
              "      <td>1999</td>\n",
              "      <td>gasoline</td>\n",
              "      <td>0</td>\n",
              "      <td>gasoline</td>\n",
              "      <td>1.4</td>\n",
              "      <td>hatchback</td>\n",
              "      <td>0</td>\n",
              "      <td>owned</td>\n",
              "      <td>front</td>\n",
              "      <td>0</td>\n",
              "      <td>0</td>\n",
              "      <td>0</td>\n",
              "      <td>0</td>\n",
              "      <td>0</td>\n",
              "      <td>0</td>\n",
              "      <td>0</td>\n",
              "      <td>0</td>\n",
              "      <td>0</td>\n",
              "      <td>1</td>\n",
              "      <td>67</td>\n",
              "    </tr>\n",
              "    <tr>\n",
              "      <th>2</th>\n",
              "      <td>2</td>\n",
              "      <td>Volkswagen</td>\n",
              "      <td>Sharan</td>\n",
              "      <td>mechanical</td>\n",
              "      <td>blue</td>\n",
              "      <td>172000</td>\n",
              "      <td>2000</td>\n",
              "      <td>gasoline</td>\n",
              "      <td>0</td>\n",
              "      <td>gasoline</td>\n",
              "      <td>2.0</td>\n",
              "      <td>minivan</td>\n",
              "      <td>0</td>\n",
              "      <td>owned</td>\n",
              "      <td>front</td>\n",
              "      <td>1</td>\n",
              "      <td>0</td>\n",
              "      <td>0</td>\n",
              "      <td>0</td>\n",
              "      <td>0</td>\n",
              "      <td>0</td>\n",
              "      <td>0</td>\n",
              "      <td>0</td>\n",
              "      <td>0</td>\n",
              "      <td>0</td>\n",
              "      <td>50</td>\n",
              "    </tr>\n",
              "    <tr>\n",
              "      <th>3</th>\n",
              "      <td>3</td>\n",
              "      <td>Volvo</td>\n",
              "      <td>XC60</td>\n",
              "      <td>mechanical</td>\n",
              "      <td>white</td>\n",
              "      <td>230000</td>\n",
              "      <td>2009</td>\n",
              "      <td>diesel</td>\n",
              "      <td>0</td>\n",
              "      <td>diesel</td>\n",
              "      <td>2.4</td>\n",
              "      <td>universal</td>\n",
              "      <td>0</td>\n",
              "      <td>owned</td>\n",
              "      <td>front</td>\n",
              "      <td>0</td>\n",
              "      <td>1</td>\n",
              "      <td>1</td>\n",
              "      <td>1</td>\n",
              "      <td>0</td>\n",
              "      <td>1</td>\n",
              "      <td>1</td>\n",
              "      <td>1</td>\n",
              "      <td>1</td>\n",
              "      <td>1</td>\n",
              "      <td>79</td>\n",
              "    </tr>\n",
              "    <tr>\n",
              "      <th>4</th>\n",
              "      <td>4</td>\n",
              "      <td>Mazda</td>\n",
              "      <td>3</td>\n",
              "      <td>mechanical</td>\n",
              "      <td>silver</td>\n",
              "      <td>206000</td>\n",
              "      <td>2007</td>\n",
              "      <td>gasoline</td>\n",
              "      <td>0</td>\n",
              "      <td>gasoline</td>\n",
              "      <td>1.6</td>\n",
              "      <td>sedan</td>\n",
              "      <td>0</td>\n",
              "      <td>owned</td>\n",
              "      <td>front</td>\n",
              "      <td>0</td>\n",
              "      <td>1</td>\n",
              "      <td>0</td>\n",
              "      <td>1</td>\n",
              "      <td>0</td>\n",
              "      <td>1</td>\n",
              "      <td>0</td>\n",
              "      <td>0</td>\n",
              "      <td>0</td>\n",
              "      <td>0</td>\n",
              "      <td>74</td>\n",
              "    </tr>\n",
              "  </tbody>\n",
              "</table>\n",
              "</div>"
            ],
            "text/plain": [
              "   Unnamed: 0 manufacturer_name  ... feature_9 duration_listed\n",
              "0           0           Renault  ...         1             114\n",
              "1           1           Peugeot  ...         1              67\n",
              "2           2        Volkswagen  ...         0              50\n",
              "3           3             Volvo  ...         1              79\n",
              "4           4             Mazda  ...         0              74\n",
              "\n",
              "[5 rows x 26 columns]"
            ]
          },
          "metadata": {
            "tags": []
          },
          "execution_count": 62
        }
      ]
    },
    {
      "cell_type": "code",
      "metadata": {
        "colab": {
          "base_uri": "https://localhost:8080/",
          "height": 215
        },
        "id": "pt-LMa8gcgsA",
        "outputId": "fddc9357-52cd-4d10-858c-fe32cb009159"
      },
      "source": [
        "# drop first column\r\n",
        "df_test.drop('Unnamed: 0', axis = 1, inplace = True)\r\n",
        "\r\n",
        "df_test.head()"
      ],
      "execution_count": null,
      "outputs": [
        {
          "output_type": "execute_result",
          "data": {
            "text/html": [
              "<div>\n",
              "<style scoped>\n",
              "    .dataframe tbody tr th:only-of-type {\n",
              "        vertical-align: middle;\n",
              "    }\n",
              "\n",
              "    .dataframe tbody tr th {\n",
              "        vertical-align: top;\n",
              "    }\n",
              "\n",
              "    .dataframe thead th {\n",
              "        text-align: right;\n",
              "    }\n",
              "</style>\n",
              "<table border=\"1\" class=\"dataframe\">\n",
              "  <thead>\n",
              "    <tr style=\"text-align: right;\">\n",
              "      <th></th>\n",
              "      <th>manufacturer_name</th>\n",
              "      <th>model_name</th>\n",
              "      <th>transmission</th>\n",
              "      <th>color</th>\n",
              "      <th>odometer_value</th>\n",
              "      <th>year_produced</th>\n",
              "      <th>engine_fuel</th>\n",
              "      <th>engine_has_gas</th>\n",
              "      <th>engine_type</th>\n",
              "      <th>engine_capacity</th>\n",
              "      <th>body_type</th>\n",
              "      <th>has_warranty</th>\n",
              "      <th>state</th>\n",
              "      <th>drivetrain</th>\n",
              "      <th>feature_0</th>\n",
              "      <th>feature_1</th>\n",
              "      <th>feature_2</th>\n",
              "      <th>feature_3</th>\n",
              "      <th>feature_4</th>\n",
              "      <th>feature_5</th>\n",
              "      <th>feature_6</th>\n",
              "      <th>feature_7</th>\n",
              "      <th>feature_8</th>\n",
              "      <th>feature_9</th>\n",
              "      <th>duration_listed</th>\n",
              "    </tr>\n",
              "  </thead>\n",
              "  <tbody>\n",
              "    <tr>\n",
              "      <th>0</th>\n",
              "      <td>Renault</td>\n",
              "      <td>Megane</td>\n",
              "      <td>mechanical</td>\n",
              "      <td>blue</td>\n",
              "      <td>360000</td>\n",
              "      <td>1997</td>\n",
              "      <td>gasoline</td>\n",
              "      <td>0</td>\n",
              "      <td>gasoline</td>\n",
              "      <td>1.6</td>\n",
              "      <td>coupe</td>\n",
              "      <td>0</td>\n",
              "      <td>owned</td>\n",
              "      <td>front</td>\n",
              "      <td>0</td>\n",
              "      <td>1</td>\n",
              "      <td>0</td>\n",
              "      <td>0</td>\n",
              "      <td>0</td>\n",
              "      <td>0</td>\n",
              "      <td>0</td>\n",
              "      <td>1</td>\n",
              "      <td>0</td>\n",
              "      <td>1</td>\n",
              "      <td>114</td>\n",
              "    </tr>\n",
              "    <tr>\n",
              "      <th>1</th>\n",
              "      <td>Peugeot</td>\n",
              "      <td>206</td>\n",
              "      <td>mechanical</td>\n",
              "      <td>silver</td>\n",
              "      <td>267000</td>\n",
              "      <td>1999</td>\n",
              "      <td>gasoline</td>\n",
              "      <td>0</td>\n",
              "      <td>gasoline</td>\n",
              "      <td>1.4</td>\n",
              "      <td>hatchback</td>\n",
              "      <td>0</td>\n",
              "      <td>owned</td>\n",
              "      <td>front</td>\n",
              "      <td>0</td>\n",
              "      <td>0</td>\n",
              "      <td>0</td>\n",
              "      <td>0</td>\n",
              "      <td>0</td>\n",
              "      <td>0</td>\n",
              "      <td>0</td>\n",
              "      <td>0</td>\n",
              "      <td>0</td>\n",
              "      <td>1</td>\n",
              "      <td>67</td>\n",
              "    </tr>\n",
              "    <tr>\n",
              "      <th>2</th>\n",
              "      <td>Volkswagen</td>\n",
              "      <td>Sharan</td>\n",
              "      <td>mechanical</td>\n",
              "      <td>blue</td>\n",
              "      <td>172000</td>\n",
              "      <td>2000</td>\n",
              "      <td>gasoline</td>\n",
              "      <td>0</td>\n",
              "      <td>gasoline</td>\n",
              "      <td>2.0</td>\n",
              "      <td>minivan</td>\n",
              "      <td>0</td>\n",
              "      <td>owned</td>\n",
              "      <td>front</td>\n",
              "      <td>1</td>\n",
              "      <td>0</td>\n",
              "      <td>0</td>\n",
              "      <td>0</td>\n",
              "      <td>0</td>\n",
              "      <td>0</td>\n",
              "      <td>0</td>\n",
              "      <td>0</td>\n",
              "      <td>0</td>\n",
              "      <td>0</td>\n",
              "      <td>50</td>\n",
              "    </tr>\n",
              "    <tr>\n",
              "      <th>3</th>\n",
              "      <td>Volvo</td>\n",
              "      <td>XC60</td>\n",
              "      <td>mechanical</td>\n",
              "      <td>white</td>\n",
              "      <td>230000</td>\n",
              "      <td>2009</td>\n",
              "      <td>diesel</td>\n",
              "      <td>0</td>\n",
              "      <td>diesel</td>\n",
              "      <td>2.4</td>\n",
              "      <td>universal</td>\n",
              "      <td>0</td>\n",
              "      <td>owned</td>\n",
              "      <td>front</td>\n",
              "      <td>0</td>\n",
              "      <td>1</td>\n",
              "      <td>1</td>\n",
              "      <td>1</td>\n",
              "      <td>0</td>\n",
              "      <td>1</td>\n",
              "      <td>1</td>\n",
              "      <td>1</td>\n",
              "      <td>1</td>\n",
              "      <td>1</td>\n",
              "      <td>79</td>\n",
              "    </tr>\n",
              "    <tr>\n",
              "      <th>4</th>\n",
              "      <td>Mazda</td>\n",
              "      <td>3</td>\n",
              "      <td>mechanical</td>\n",
              "      <td>silver</td>\n",
              "      <td>206000</td>\n",
              "      <td>2007</td>\n",
              "      <td>gasoline</td>\n",
              "      <td>0</td>\n",
              "      <td>gasoline</td>\n",
              "      <td>1.6</td>\n",
              "      <td>sedan</td>\n",
              "      <td>0</td>\n",
              "      <td>owned</td>\n",
              "      <td>front</td>\n",
              "      <td>0</td>\n",
              "      <td>1</td>\n",
              "      <td>0</td>\n",
              "      <td>1</td>\n",
              "      <td>0</td>\n",
              "      <td>1</td>\n",
              "      <td>0</td>\n",
              "      <td>0</td>\n",
              "      <td>0</td>\n",
              "      <td>0</td>\n",
              "      <td>74</td>\n",
              "    </tr>\n",
              "  </tbody>\n",
              "</table>\n",
              "</div>"
            ],
            "text/plain": [
              "  manufacturer_name model_name  ... feature_9 duration_listed\n",
              "0           Renault     Megane  ...         1             114\n",
              "1           Peugeot        206  ...         1              67\n",
              "2        Volkswagen     Sharan  ...         0              50\n",
              "3             Volvo       XC60  ...         1              79\n",
              "4             Mazda          3  ...         0              74\n",
              "\n",
              "[5 rows x 25 columns]"
            ]
          },
          "metadata": {
            "tags": []
          },
          "execution_count": 63
        }
      ]
    },
    {
      "cell_type": "code",
      "metadata": {
        "colab": {
          "base_uri": "https://localhost:8080/"
        },
        "id": "becmiMM_H3gV",
        "outputId": "d0eaa0aa-acc5-42d3-d498-249d94550437"
      },
      "source": [
        "# priniting the details about the train dataset\r\n",
        "\r\n",
        "print(\"\\nEDA on Training Set\\n\")\r\n",
        "print(\"#\"*30)\r\n",
        "\r\n",
        "print(\"\\nFeatures/Columns : \\n\", df_train.columns)\r\n",
        "print(\"\\n\\nNumber of Features/Columns : \", len(df_train.columns))\r\n",
        "print(\"\\nNumber of Rows : \",len(df_train))\r\n",
        "print(\"\\n\\nData Types :\\n\", df_train.dtypes)\r\n",
        "\r\n",
        "print(\"\\n Contains NaN/Empty cells : \", df_train.isnull().values.any())\r\n",
        "\r\n",
        "print(\"\\n Total empty cells by column :\\n\", df_train.isnull().sum(), \"\\n\\n\")\r\n",
        "\r\n",
        "print(\"\\n Perecentage of missing values in train datframe is: \\n\", str(100*(df_train.isnull().sum().sum()/len(df_train)))+'%')\r\n"
      ],
      "execution_count": null,
      "outputs": [
        {
          "output_type": "stream",
          "text": [
            "\n",
            "EDA on Training Set\n",
            "\n",
            "##############################\n",
            "\n",
            "Features/Columns : \n",
            " Index(['manufacturer_name', 'model_name', 'transmission', 'color',\n",
            "       'odometer_value', 'year_produced', 'engine_fuel', 'engine_has_gas',\n",
            "       'engine_type', 'engine_capacity', 'body_type', 'has_warranty', 'state',\n",
            "       'drivetrain', 'feature_0', 'feature_1', 'feature_2', 'feature_3',\n",
            "       'feature_4', 'feature_5', 'feature_6', 'feature_7', 'feature_8',\n",
            "       'feature_9', 'duration_listed', 'price_usd'],\n",
            "      dtype='object')\n",
            "\n",
            "\n",
            "Number of Features/Columns :  26\n",
            "\n",
            "Number of Rows :  30824\n",
            "\n",
            "\n",
            "Data Types :\n",
            " manufacturer_name     object\n",
            "model_name            object\n",
            "transmission          object\n",
            "color                 object\n",
            "odometer_value         int64\n",
            "year_produced          int64\n",
            "engine_fuel           object\n",
            "engine_has_gas         int64\n",
            "engine_type           object\n",
            "engine_capacity      float64\n",
            "body_type             object\n",
            "has_warranty           int64\n",
            "state                 object\n",
            "drivetrain            object\n",
            "feature_0              int64\n",
            "feature_1              int64\n",
            "feature_2              int64\n",
            "feature_3              int64\n",
            "feature_4              int64\n",
            "feature_5              int64\n",
            "feature_6              int64\n",
            "feature_7              int64\n",
            "feature_8              int64\n",
            "feature_9              int64\n",
            "duration_listed        int64\n",
            "price_usd            float64\n",
            "dtype: object\n",
            "\n",
            " Contains NaN/Empty cells :  False\n",
            "\n",
            " Total empty cells by column :\n",
            " manufacturer_name    0\n",
            "model_name           0\n",
            "transmission         0\n",
            "color                0\n",
            "odometer_value       0\n",
            "year_produced        0\n",
            "engine_fuel          0\n",
            "engine_has_gas       0\n",
            "engine_type          0\n",
            "engine_capacity      0\n",
            "body_type            0\n",
            "has_warranty         0\n",
            "state                0\n",
            "drivetrain           0\n",
            "feature_0            0\n",
            "feature_1            0\n",
            "feature_2            0\n",
            "feature_3            0\n",
            "feature_4            0\n",
            "feature_5            0\n",
            "feature_6            0\n",
            "feature_7            0\n",
            "feature_8            0\n",
            "feature_9            0\n",
            "duration_listed      0\n",
            "price_usd            0\n",
            "dtype: int64 \n",
            "\n",
            "\n",
            "\n",
            " Perecentage of missing values in train datframe is: \n",
            " 0.0%\n"
          ],
          "name": "stdout"
        }
      ]
    },
    {
      "cell_type": "code",
      "metadata": {
        "colab": {
          "base_uri": "https://localhost:8080/"
        },
        "id": "fgvKhxoXIm1z",
        "outputId": "8297b7b9-3e96-4a95-e03b-53b215edfe0c"
      },
      "source": [
        "# priniting the details about the test dataset\r\n",
        "\r\n",
        "print(\"#\"*30)\r\n",
        "print(\"\\nEDA on Test Set\\n\")\r\n",
        "print(\"#\"*30)\r\n",
        "\r\n",
        "\r\n",
        "print(\"\\nFeatures/Columns : \\n\",df_test.columns)\r\n",
        "print(\"\\n\\nNumber of Features/Columns : \",len(df_test.columns))\r\n",
        "print(\"\\nNumber of Rows : \",len(df_test))\r\n",
        "print(\"\\n\\nData Types :\\n\", df_test.dtypes)\r\n",
        "print(\"\\n Contains NaN/Empty cells : \", df_test.isnull().values.any())\r\n",
        "print(\"\\n Total empty cells by column :\\n\", df_test.isnull().sum())\r\n",
        "print(\"\\n Perecentage of missing values in test datframe is: \\n\", str(100*(df_test.isnull().sum().sum()/len(df_test)))+'%')"
      ],
      "execution_count": null,
      "outputs": [
        {
          "output_type": "stream",
          "text": [
            "##############################\n",
            "\n",
            "EDA on Test Set\n",
            "\n",
            "##############################\n",
            "\n",
            "Features/Columns : \n",
            " Index(['manufacturer_name', 'model_name', 'transmission', 'color',\n",
            "       'odometer_value', 'year_produced', 'engine_fuel', 'engine_has_gas',\n",
            "       'engine_type', 'engine_capacity', 'body_type', 'has_warranty', 'state',\n",
            "       'drivetrain', 'feature_0', 'feature_1', 'feature_2', 'feature_3',\n",
            "       'feature_4', 'feature_5', 'feature_6', 'feature_7', 'feature_8',\n",
            "       'feature_9', 'duration_listed'],\n",
            "      dtype='object')\n",
            "\n",
            "\n",
            "Number of Features/Columns :  25\n",
            "\n",
            "Number of Rows :  7707\n",
            "\n",
            "\n",
            "Data Types :\n",
            " manufacturer_name     object\n",
            "model_name            object\n",
            "transmission          object\n",
            "color                 object\n",
            "odometer_value         int64\n",
            "year_produced          int64\n",
            "engine_fuel           object\n",
            "engine_has_gas         int64\n",
            "engine_type           object\n",
            "engine_capacity      float64\n",
            "body_type             object\n",
            "has_warranty           int64\n",
            "state                 object\n",
            "drivetrain            object\n",
            "feature_0              int64\n",
            "feature_1              int64\n",
            "feature_2              int64\n",
            "feature_3              int64\n",
            "feature_4              int64\n",
            "feature_5              int64\n",
            "feature_6              int64\n",
            "feature_7              int64\n",
            "feature_8              int64\n",
            "feature_9              int64\n",
            "duration_listed        int64\n",
            "dtype: object\n",
            "\n",
            " Contains NaN/Empty cells :  False\n",
            "\n",
            " Total empty cells by column :\n",
            " manufacturer_name    0\n",
            "model_name           0\n",
            "transmission         0\n",
            "color                0\n",
            "odometer_value       0\n",
            "year_produced        0\n",
            "engine_fuel          0\n",
            "engine_has_gas       0\n",
            "engine_type          0\n",
            "engine_capacity      0\n",
            "body_type            0\n",
            "has_warranty         0\n",
            "state                0\n",
            "drivetrain           0\n",
            "feature_0            0\n",
            "feature_1            0\n",
            "feature_2            0\n",
            "feature_3            0\n",
            "feature_4            0\n",
            "feature_5            0\n",
            "feature_6            0\n",
            "feature_7            0\n",
            "feature_8            0\n",
            "feature_9            0\n",
            "duration_listed      0\n",
            "dtype: int64\n",
            "\n",
            " Perecentage of missing values in test datframe is: \n",
            " 0.0%\n"
          ],
          "name": "stdout"
        }
      ]
    },
    {
      "cell_type": "code",
      "metadata": {
        "colab": {
          "base_uri": "https://localhost:8080/",
          "height": 215
        },
        "id": "HgBQlRu8dyS5",
        "outputId": "ac83c746-06fa-4931-8f67-3f1489006471"
      },
      "source": [
        "# Extract numerical columns from train dataframe\r\n",
        "numerical_cols = [cname for cname in df_train.columns if\r\n",
        "                df_train[cname].dtype in ['int64', 'float64']]\r\n",
        "\r\n",
        "num_train= df_train[numerical_cols].copy()\r\n",
        "\r\n",
        "num_train.head()"
      ],
      "execution_count": null,
      "outputs": [
        {
          "output_type": "execute_result",
          "data": {
            "text/html": [
              "<div>\n",
              "<style scoped>\n",
              "    .dataframe tbody tr th:only-of-type {\n",
              "        vertical-align: middle;\n",
              "    }\n",
              "\n",
              "    .dataframe tbody tr th {\n",
              "        vertical-align: top;\n",
              "    }\n",
              "\n",
              "    .dataframe thead th {\n",
              "        text-align: right;\n",
              "    }\n",
              "</style>\n",
              "<table border=\"1\" class=\"dataframe\">\n",
              "  <thead>\n",
              "    <tr style=\"text-align: right;\">\n",
              "      <th></th>\n",
              "      <th>odometer_value</th>\n",
              "      <th>year_produced</th>\n",
              "      <th>engine_has_gas</th>\n",
              "      <th>engine_capacity</th>\n",
              "      <th>has_warranty</th>\n",
              "      <th>feature_0</th>\n",
              "      <th>feature_1</th>\n",
              "      <th>feature_2</th>\n",
              "      <th>feature_3</th>\n",
              "      <th>feature_4</th>\n",
              "      <th>feature_5</th>\n",
              "      <th>feature_6</th>\n",
              "      <th>feature_7</th>\n",
              "      <th>feature_8</th>\n",
              "      <th>feature_9</th>\n",
              "      <th>duration_listed</th>\n",
              "      <th>price_usd</th>\n",
              "    </tr>\n",
              "  </thead>\n",
              "  <tbody>\n",
              "    <tr>\n",
              "      <th>0</th>\n",
              "      <td>245000</td>\n",
              "      <td>2006</td>\n",
              "      <td>0</td>\n",
              "      <td>1.6</td>\n",
              "      <td>0</td>\n",
              "      <td>1</td>\n",
              "      <td>0</td>\n",
              "      <td>0</td>\n",
              "      <td>0</td>\n",
              "      <td>0</td>\n",
              "      <td>0</td>\n",
              "      <td>0</td>\n",
              "      <td>0</td>\n",
              "      <td>0</td>\n",
              "      <td>0</td>\n",
              "      <td>7</td>\n",
              "      <td>4250.0</td>\n",
              "    </tr>\n",
              "    <tr>\n",
              "      <th>1</th>\n",
              "      <td>265542</td>\n",
              "      <td>2002</td>\n",
              "      <td>0</td>\n",
              "      <td>3.3</td>\n",
              "      <td>0</td>\n",
              "      <td>0</td>\n",
              "      <td>1</td>\n",
              "      <td>0</td>\n",
              "      <td>0</td>\n",
              "      <td>0</td>\n",
              "      <td>0</td>\n",
              "      <td>0</td>\n",
              "      <td>0</td>\n",
              "      <td>0</td>\n",
              "      <td>0</td>\n",
              "      <td>133</td>\n",
              "      <td>4000.0</td>\n",
              "    </tr>\n",
              "    <tr>\n",
              "      <th>2</th>\n",
              "      <td>168000</td>\n",
              "      <td>2009</td>\n",
              "      <td>0</td>\n",
              "      <td>1.8</td>\n",
              "      <td>0</td>\n",
              "      <td>0</td>\n",
              "      <td>0</td>\n",
              "      <td>0</td>\n",
              "      <td>1</td>\n",
              "      <td>0</td>\n",
              "      <td>0</td>\n",
              "      <td>1</td>\n",
              "      <td>1</td>\n",
              "      <td>1</td>\n",
              "      <td>1</td>\n",
              "      <td>0</td>\n",
              "      <td>10900.0</td>\n",
              "    </tr>\n",
              "    <tr>\n",
              "      <th>3</th>\n",
              "      <td>225522</td>\n",
              "      <td>2008</td>\n",
              "      <td>0</td>\n",
              "      <td>1.8</td>\n",
              "      <td>0</td>\n",
              "      <td>0</td>\n",
              "      <td>1</td>\n",
              "      <td>1</td>\n",
              "      <td>0</td>\n",
              "      <td>0</td>\n",
              "      <td>1</td>\n",
              "      <td>0</td>\n",
              "      <td>0</td>\n",
              "      <td>1</td>\n",
              "      <td>1</td>\n",
              "      <td>20</td>\n",
              "      <td>6999.0</td>\n",
              "    </tr>\n",
              "    <tr>\n",
              "      <th>4</th>\n",
              "      <td>370000</td>\n",
              "      <td>1991</td>\n",
              "      <td>0</td>\n",
              "      <td>1.8</td>\n",
              "      <td>0</td>\n",
              "      <td>0</td>\n",
              "      <td>0</td>\n",
              "      <td>0</td>\n",
              "      <td>0</td>\n",
              "      <td>0</td>\n",
              "      <td>0</td>\n",
              "      <td>0</td>\n",
              "      <td>0</td>\n",
              "      <td>0</td>\n",
              "      <td>1</td>\n",
              "      <td>160</td>\n",
              "      <td>1600.0</td>\n",
              "    </tr>\n",
              "  </tbody>\n",
              "</table>\n",
              "</div>"
            ],
            "text/plain": [
              "   odometer_value  year_produced  ...  duration_listed  price_usd\n",
              "0          245000           2006  ...                7     4250.0\n",
              "1          265542           2002  ...              133     4000.0\n",
              "2          168000           2009  ...                0    10900.0\n",
              "3          225522           2008  ...               20     6999.0\n",
              "4          370000           1991  ...              160     1600.0\n",
              "\n",
              "[5 rows x 17 columns]"
            ]
          },
          "metadata": {
            "tags": []
          },
          "execution_count": 66
        }
      ]
    },
    {
      "cell_type": "code",
      "metadata": {
        "colab": {
          "base_uri": "https://localhost:8080/",
          "height": 215
        },
        "id": "eRXYDlF2f9YT",
        "outputId": "db4e7894-9e6f-4d09-b37f-c170cd2ab967"
      },
      "source": [
        "# pRINT TEST SET\r\n",
        "\r\n",
        "num_test = df_test[numerical_cols[:-1]]\r\n",
        "num_test.head()"
      ],
      "execution_count": null,
      "outputs": [
        {
          "output_type": "execute_result",
          "data": {
            "text/html": [
              "<div>\n",
              "<style scoped>\n",
              "    .dataframe tbody tr th:only-of-type {\n",
              "        vertical-align: middle;\n",
              "    }\n",
              "\n",
              "    .dataframe tbody tr th {\n",
              "        vertical-align: top;\n",
              "    }\n",
              "\n",
              "    .dataframe thead th {\n",
              "        text-align: right;\n",
              "    }\n",
              "</style>\n",
              "<table border=\"1\" class=\"dataframe\">\n",
              "  <thead>\n",
              "    <tr style=\"text-align: right;\">\n",
              "      <th></th>\n",
              "      <th>odometer_value</th>\n",
              "      <th>year_produced</th>\n",
              "      <th>engine_has_gas</th>\n",
              "      <th>engine_capacity</th>\n",
              "      <th>has_warranty</th>\n",
              "      <th>feature_0</th>\n",
              "      <th>feature_1</th>\n",
              "      <th>feature_2</th>\n",
              "      <th>feature_3</th>\n",
              "      <th>feature_4</th>\n",
              "      <th>feature_5</th>\n",
              "      <th>feature_6</th>\n",
              "      <th>feature_7</th>\n",
              "      <th>feature_8</th>\n",
              "      <th>feature_9</th>\n",
              "      <th>duration_listed</th>\n",
              "    </tr>\n",
              "  </thead>\n",
              "  <tbody>\n",
              "    <tr>\n",
              "      <th>0</th>\n",
              "      <td>360000</td>\n",
              "      <td>1997</td>\n",
              "      <td>0</td>\n",
              "      <td>1.6</td>\n",
              "      <td>0</td>\n",
              "      <td>0</td>\n",
              "      <td>1</td>\n",
              "      <td>0</td>\n",
              "      <td>0</td>\n",
              "      <td>0</td>\n",
              "      <td>0</td>\n",
              "      <td>0</td>\n",
              "      <td>1</td>\n",
              "      <td>0</td>\n",
              "      <td>1</td>\n",
              "      <td>114</td>\n",
              "    </tr>\n",
              "    <tr>\n",
              "      <th>1</th>\n",
              "      <td>267000</td>\n",
              "      <td>1999</td>\n",
              "      <td>0</td>\n",
              "      <td>1.4</td>\n",
              "      <td>0</td>\n",
              "      <td>0</td>\n",
              "      <td>0</td>\n",
              "      <td>0</td>\n",
              "      <td>0</td>\n",
              "      <td>0</td>\n",
              "      <td>0</td>\n",
              "      <td>0</td>\n",
              "      <td>0</td>\n",
              "      <td>0</td>\n",
              "      <td>1</td>\n",
              "      <td>67</td>\n",
              "    </tr>\n",
              "    <tr>\n",
              "      <th>2</th>\n",
              "      <td>172000</td>\n",
              "      <td>2000</td>\n",
              "      <td>0</td>\n",
              "      <td>2.0</td>\n",
              "      <td>0</td>\n",
              "      <td>1</td>\n",
              "      <td>0</td>\n",
              "      <td>0</td>\n",
              "      <td>0</td>\n",
              "      <td>0</td>\n",
              "      <td>0</td>\n",
              "      <td>0</td>\n",
              "      <td>0</td>\n",
              "      <td>0</td>\n",
              "      <td>0</td>\n",
              "      <td>50</td>\n",
              "    </tr>\n",
              "    <tr>\n",
              "      <th>3</th>\n",
              "      <td>230000</td>\n",
              "      <td>2009</td>\n",
              "      <td>0</td>\n",
              "      <td>2.4</td>\n",
              "      <td>0</td>\n",
              "      <td>0</td>\n",
              "      <td>1</td>\n",
              "      <td>1</td>\n",
              "      <td>1</td>\n",
              "      <td>0</td>\n",
              "      <td>1</td>\n",
              "      <td>1</td>\n",
              "      <td>1</td>\n",
              "      <td>1</td>\n",
              "      <td>1</td>\n",
              "      <td>79</td>\n",
              "    </tr>\n",
              "    <tr>\n",
              "      <th>4</th>\n",
              "      <td>206000</td>\n",
              "      <td>2007</td>\n",
              "      <td>0</td>\n",
              "      <td>1.6</td>\n",
              "      <td>0</td>\n",
              "      <td>0</td>\n",
              "      <td>1</td>\n",
              "      <td>0</td>\n",
              "      <td>1</td>\n",
              "      <td>0</td>\n",
              "      <td>1</td>\n",
              "      <td>0</td>\n",
              "      <td>0</td>\n",
              "      <td>0</td>\n",
              "      <td>0</td>\n",
              "      <td>74</td>\n",
              "    </tr>\n",
              "  </tbody>\n",
              "</table>\n",
              "</div>"
            ],
            "text/plain": [
              "   odometer_value  year_produced  ...  feature_9  duration_listed\n",
              "0          360000           1997  ...          1              114\n",
              "1          267000           1999  ...          1               67\n",
              "2          172000           2000  ...          0               50\n",
              "3          230000           2009  ...          1               79\n",
              "4          206000           2007  ...          0               74\n",
              "\n",
              "[5 rows x 16 columns]"
            ]
          },
          "metadata": {
            "tags": []
          },
          "execution_count": 67
        }
      ]
    },
    {
      "cell_type": "code",
      "metadata": {
        "id": "SVu-bFY-hByC"
      },
      "source": [
        "# Let's create a function to create adjusted R-Squared\r\n",
        "def adj_r2(x,y):\r\n",
        "    r2 = regression.score(x,y)\r\n",
        "    n = x.shape[0]\r\n",
        "    p = x.shape[1]\r\n",
        "    adjusted_r2 = 1-(1-r2)*(n-1)/(n-p-1)\r\n",
        "    return adjusted_r2"
      ],
      "execution_count": null,
      "outputs": []
    },
    {
      "cell_type": "markdown",
      "metadata": {
        "id": "Q2bgteTkfqpn"
      },
      "source": [
        "## Building  first model with only numericals columns"
      ]
    },
    {
      "cell_type": "code",
      "metadata": {
        "colab": {
          "base_uri": "https://localhost:8080/",
          "height": 195
        },
        "id": "i4dHFgLFjMhw",
        "outputId": "d7d0bb3e-141c-44f6-e9cd-40b810bb560d"
      },
      "source": [
        "bool_cols = ['feature_0','feature_1','feature_2','feature_3','feature_4','feature_5','feature_6','feature_7','feature_8','feature_9']\r\n",
        "trainset_num = num_train.drop(bool_cols, axis = 1)\r\n",
        "\r\n",
        "trainset_num.head()"
      ],
      "execution_count": null,
      "outputs": [
        {
          "output_type": "execute_result",
          "data": {
            "text/html": [
              "<div>\n",
              "<style scoped>\n",
              "    .dataframe tbody tr th:only-of-type {\n",
              "        vertical-align: middle;\n",
              "    }\n",
              "\n",
              "    .dataframe tbody tr th {\n",
              "        vertical-align: top;\n",
              "    }\n",
              "\n",
              "    .dataframe thead th {\n",
              "        text-align: right;\n",
              "    }\n",
              "</style>\n",
              "<table border=\"1\" class=\"dataframe\">\n",
              "  <thead>\n",
              "    <tr style=\"text-align: right;\">\n",
              "      <th></th>\n",
              "      <th>odometer_value</th>\n",
              "      <th>year_produced</th>\n",
              "      <th>engine_has_gas</th>\n",
              "      <th>engine_capacity</th>\n",
              "      <th>has_warranty</th>\n",
              "      <th>duration_listed</th>\n",
              "      <th>price_usd</th>\n",
              "    </tr>\n",
              "  </thead>\n",
              "  <tbody>\n",
              "    <tr>\n",
              "      <th>0</th>\n",
              "      <td>245000</td>\n",
              "      <td>2006</td>\n",
              "      <td>0</td>\n",
              "      <td>1.6</td>\n",
              "      <td>0</td>\n",
              "      <td>7</td>\n",
              "      <td>4250.0</td>\n",
              "    </tr>\n",
              "    <tr>\n",
              "      <th>1</th>\n",
              "      <td>265542</td>\n",
              "      <td>2002</td>\n",
              "      <td>0</td>\n",
              "      <td>3.3</td>\n",
              "      <td>0</td>\n",
              "      <td>133</td>\n",
              "      <td>4000.0</td>\n",
              "    </tr>\n",
              "    <tr>\n",
              "      <th>2</th>\n",
              "      <td>168000</td>\n",
              "      <td>2009</td>\n",
              "      <td>0</td>\n",
              "      <td>1.8</td>\n",
              "      <td>0</td>\n",
              "      <td>0</td>\n",
              "      <td>10900.0</td>\n",
              "    </tr>\n",
              "    <tr>\n",
              "      <th>3</th>\n",
              "      <td>225522</td>\n",
              "      <td>2008</td>\n",
              "      <td>0</td>\n",
              "      <td>1.8</td>\n",
              "      <td>0</td>\n",
              "      <td>20</td>\n",
              "      <td>6999.0</td>\n",
              "    </tr>\n",
              "    <tr>\n",
              "      <th>4</th>\n",
              "      <td>370000</td>\n",
              "      <td>1991</td>\n",
              "      <td>0</td>\n",
              "      <td>1.8</td>\n",
              "      <td>0</td>\n",
              "      <td>160</td>\n",
              "      <td>1600.0</td>\n",
              "    </tr>\n",
              "  </tbody>\n",
              "</table>\n",
              "</div>"
            ],
            "text/plain": [
              "   odometer_value  year_produced  ...  duration_listed  price_usd\n",
              "0          245000           2006  ...                7     4250.0\n",
              "1          265542           2002  ...              133     4000.0\n",
              "2          168000           2009  ...                0    10900.0\n",
              "3          225522           2008  ...               20     6999.0\n",
              "4          370000           1991  ...              160     1600.0\n",
              "\n",
              "[5 rows x 7 columns]"
            ]
          },
          "metadata": {
            "tags": []
          },
          "execution_count": 69
        }
      ]
    },
    {
      "cell_type": "code",
      "metadata": {
        "colab": {
          "base_uri": "https://localhost:8080/",
          "height": 195
        },
        "id": "naqaMyAokmU5",
        "outputId": "3945ca14-9591-496a-cbf2-12835dcc8506"
      },
      "source": [
        "pure_num_features = trainset_num.columns\r\n",
        "\r\n",
        "testset_num = num_test[pure_num_features[:-1]]\r\n",
        "\r\n",
        "testset_num.head()"
      ],
      "execution_count": null,
      "outputs": [
        {
          "output_type": "execute_result",
          "data": {
            "text/html": [
              "<div>\n",
              "<style scoped>\n",
              "    .dataframe tbody tr th:only-of-type {\n",
              "        vertical-align: middle;\n",
              "    }\n",
              "\n",
              "    .dataframe tbody tr th {\n",
              "        vertical-align: top;\n",
              "    }\n",
              "\n",
              "    .dataframe thead th {\n",
              "        text-align: right;\n",
              "    }\n",
              "</style>\n",
              "<table border=\"1\" class=\"dataframe\">\n",
              "  <thead>\n",
              "    <tr style=\"text-align: right;\">\n",
              "      <th></th>\n",
              "      <th>odometer_value</th>\n",
              "      <th>year_produced</th>\n",
              "      <th>engine_has_gas</th>\n",
              "      <th>engine_capacity</th>\n",
              "      <th>has_warranty</th>\n",
              "      <th>duration_listed</th>\n",
              "    </tr>\n",
              "  </thead>\n",
              "  <tbody>\n",
              "    <tr>\n",
              "      <th>0</th>\n",
              "      <td>360000</td>\n",
              "      <td>1997</td>\n",
              "      <td>0</td>\n",
              "      <td>1.6</td>\n",
              "      <td>0</td>\n",
              "      <td>114</td>\n",
              "    </tr>\n",
              "    <tr>\n",
              "      <th>1</th>\n",
              "      <td>267000</td>\n",
              "      <td>1999</td>\n",
              "      <td>0</td>\n",
              "      <td>1.4</td>\n",
              "      <td>0</td>\n",
              "      <td>67</td>\n",
              "    </tr>\n",
              "    <tr>\n",
              "      <th>2</th>\n",
              "      <td>172000</td>\n",
              "      <td>2000</td>\n",
              "      <td>0</td>\n",
              "      <td>2.0</td>\n",
              "      <td>0</td>\n",
              "      <td>50</td>\n",
              "    </tr>\n",
              "    <tr>\n",
              "      <th>3</th>\n",
              "      <td>230000</td>\n",
              "      <td>2009</td>\n",
              "      <td>0</td>\n",
              "      <td>2.4</td>\n",
              "      <td>0</td>\n",
              "      <td>79</td>\n",
              "    </tr>\n",
              "    <tr>\n",
              "      <th>4</th>\n",
              "      <td>206000</td>\n",
              "      <td>2007</td>\n",
              "      <td>0</td>\n",
              "      <td>1.6</td>\n",
              "      <td>0</td>\n",
              "      <td>74</td>\n",
              "    </tr>\n",
              "  </tbody>\n",
              "</table>\n",
              "</div>"
            ],
            "text/plain": [
              "   odometer_value  year_produced  ...  has_warranty  duration_listed\n",
              "0          360000           1997  ...             0              114\n",
              "1          267000           1999  ...             0               67\n",
              "2          172000           2000  ...             0               50\n",
              "3          230000           2009  ...             0               79\n",
              "4          206000           2007  ...             0               74\n",
              "\n",
              "[5 rows x 6 columns]"
            ]
          },
          "metadata": {
            "tags": []
          },
          "execution_count": 70
        }
      ]
    },
    {
      "cell_type": "code",
      "metadata": {
        "colab": {
          "base_uri": "https://localhost:8080/",
          "height": 990
        },
        "id": "lRP8CMyAipkx",
        "outputId": "cd8b019a-faea-4d0c-83bc-e1217feb5adf"
      },
      "source": [
        "# let's see how data is distributed for every column\r\n",
        "plt.figure(figsize=(20,25), facecolor='white')\r\n",
        "plotnumber = 1\r\n",
        "\r\n",
        "for column in trainset_num:\r\n",
        "    if plotnumber<=16 :\r\n",
        "        ax = plt.subplot(4,4,plotnumber)\r\n",
        "        sns.distplot(trainset_num[column])\r\n",
        "        plt.xlabel(column,fontsize=20)\r\n",
        "    plotnumber+=1\r\n",
        "plt.tight_layout()"
      ],
      "execution_count": null,
      "outputs": [
        {
          "output_type": "stream",
          "text": [
            "/usr/local/lib/python3.6/dist-packages/seaborn/distributions.py:2551: FutureWarning: `distplot` is a deprecated function and will be removed in a future version. Please adapt your code to use either `displot` (a figure-level function with similar flexibility) or `histplot` (an axes-level function for histograms).\n",
            "  warnings.warn(msg, FutureWarning)\n",
            "/usr/local/lib/python3.6/dist-packages/seaborn/distributions.py:2551: FutureWarning: `distplot` is a deprecated function and will be removed in a future version. Please adapt your code to use either `displot` (a figure-level function with similar flexibility) or `histplot` (an axes-level function for histograms).\n",
            "  warnings.warn(msg, FutureWarning)\n",
            "/usr/local/lib/python3.6/dist-packages/seaborn/distributions.py:2551: FutureWarning: `distplot` is a deprecated function and will be removed in a future version. Please adapt your code to use either `displot` (a figure-level function with similar flexibility) or `histplot` (an axes-level function for histograms).\n",
            "  warnings.warn(msg, FutureWarning)\n",
            "/usr/local/lib/python3.6/dist-packages/seaborn/distributions.py:2551: FutureWarning: `distplot` is a deprecated function and will be removed in a future version. Please adapt your code to use either `displot` (a figure-level function with similar flexibility) or `histplot` (an axes-level function for histograms).\n",
            "  warnings.warn(msg, FutureWarning)\n",
            "/usr/local/lib/python3.6/dist-packages/seaborn/distributions.py:2551: FutureWarning: `distplot` is a deprecated function and will be removed in a future version. Please adapt your code to use either `displot` (a figure-level function with similar flexibility) or `histplot` (an axes-level function for histograms).\n",
            "  warnings.warn(msg, FutureWarning)\n",
            "/usr/local/lib/python3.6/dist-packages/seaborn/distributions.py:2551: FutureWarning: `distplot` is a deprecated function and will be removed in a future version. Please adapt your code to use either `displot` (a figure-level function with similar flexibility) or `histplot` (an axes-level function for histograms).\n",
            "  warnings.warn(msg, FutureWarning)\n",
            "/usr/local/lib/python3.6/dist-packages/seaborn/distributions.py:2551: FutureWarning: `distplot` is a deprecated function and will be removed in a future version. Please adapt your code to use either `displot` (a figure-level function with similar flexibility) or `histplot` (an axes-level function for histograms).\n",
            "  warnings.warn(msg, FutureWarning)\n"
          ],
          "name": "stderr"
        },
        {
          "output_type": "display_data",
          "data": {
            "image/png": "[encoded data removed]",
            "text/plain": [
              "<Figure size 1440x1800 with 7 Axes>"
            ]
          },
          "metadata": {
            "tags": []
          }
        }
      ]
    },
    {
      "cell_type": "code",
      "metadata": {
        "colab": {
          "base_uri": "https://localhost:8080/",
          "height": 701
        },
        "id": "6lX3C-swmVh3",
        "outputId": "688e9ad7-749c-43bc-be70-d30326ad7273"
      },
      "source": [
        "# Viusalize realtionship between indepednet and dependent variable\r\n",
        "y = trainset_num['price_usd']\r\n",
        "X = trainset_num.drop(columns = ['price_usd'])\r\n",
        "\r\n",
        "plt.figure(figsize=(20,30), facecolor='white')\r\n",
        "plotnumber = 1\r\n",
        "\r\n",
        "for column in X:\r\n",
        "    if plotnumber<=15 :\r\n",
        "        ax = plt.subplot(5,3,plotnumber)\r\n",
        "        plt.scatter(X[column],y)\r\n",
        "        plt.xlabel(column,fontsize=20)\r\n",
        "        plt.ylabel('Price_usd',fontsize=20)\r\n",
        "    plotnumber+=1\r\n",
        "plt.tight_layout()"
      ],
      "execution_count": null,
      "outputs": [
        {
          "output_type": "display_data",
          "data": {
            "image/png": "[encoded data removed]",
            "text/plain": [
              "<Figure size 1440x2160 with 6 Axes>"
            ]
          },
          "metadata": {
            "tags": []
          }
        }
      ]
    },
    {
      "cell_type": "code",
      "metadata": {
        "colab": {
          "base_uri": "https://localhost:8080/",
          "height": 225
        },
        "id": "ExKynbTwm8Vc",
        "outputId": "8981cb5b-3ae3-405a-d8aa-a2056bc33543"
      },
      "source": [
        "# Checking for colinearity\r\n",
        "y = trainset_num.iloc[:,-1].values\r\n",
        "y = y.reshape(len(y),1)\r\n",
        "y.shape\r\n",
        "scaler =StandardScaler()\r\n",
        "scaler_y = StandardScaler()\r\n",
        "\r\n",
        "X_scaled = scaler.fit_transform(X)\r\n",
        "y_scaled = scaler_y.fit_transform(y)\r\n",
        "from statsmodels.stats.outliers_influence import variance_inflation_factor\r\n",
        "variables = X_scaled\r\n",
        "\r\n",
        "# we create a new data frame which will include all the VIFs\r\n",
        "# note that each variable has its own variance inflation factor as this measure is variable specific (not model specific)\r\n",
        "# we do not include categorical values for mulitcollinearity as they do not provide much information as numerical ones do\r\n",
        "vif = pd.DataFrame()\r\n",
        "\r\n",
        "# here we make use of the variance_inflation_factor, which will basically output the respective VIFs \r\n",
        "vif[\"VIF\"] = [variance_inflation_factor(variables, i) for i in range(variables.shape[1])]\r\n",
        "# Finally, I like to include names so it is easier to explore the result\r\n",
        "vif[\"Features\"] = X.columns\r\n",
        "\r\n",
        "vif"
      ],
      "execution_count": null,
      "outputs": [
        {
          "output_type": "execute_result",
          "data": {
            "text/html": [
              "<div>\n",
              "<style scoped>\n",
              "    .dataframe tbody tr th:only-of-type {\n",
              "        vertical-align: middle;\n",
              "    }\n",
              "\n",
              "    .dataframe tbody tr th {\n",
              "        vertical-align: top;\n",
              "    }\n",
              "\n",
              "    .dataframe thead th {\n",
              "        text-align: right;\n",
              "    }\n",
              "</style>\n",
              "<table border=\"1\" class=\"dataframe\">\n",
              "  <thead>\n",
              "    <tr style=\"text-align: right;\">\n",
              "      <th></th>\n",
              "      <th>VIF</th>\n",
              "      <th>Features</th>\n",
              "    </tr>\n",
              "  </thead>\n",
              "  <tbody>\n",
              "    <tr>\n",
              "      <th>0</th>\n",
              "      <td>1.349730</td>\n",
              "      <td>odometer_value</td>\n",
              "    </tr>\n",
              "    <tr>\n",
              "      <th>1</th>\n",
              "      <td>1.352214</td>\n",
              "      <td>year_produced</td>\n",
              "    </tr>\n",
              "    <tr>\n",
              "      <th>2</th>\n",
              "      <td>1.012081</td>\n",
              "      <td>engine_has_gas</td>\n",
              "    </tr>\n",
              "    <tr>\n",
              "      <th>3</th>\n",
              "      <td>1.030905</td>\n",
              "      <td>engine_capacity</td>\n",
              "    </tr>\n",
              "    <tr>\n",
              "      <th>4</th>\n",
              "      <td>1.065159</td>\n",
              "      <td>has_warranty</td>\n",
              "    </tr>\n",
              "    <tr>\n",
              "      <th>5</th>\n",
              "      <td>1.010475</td>\n",
              "      <td>duration_listed</td>\n",
              "    </tr>\n",
              "  </tbody>\n",
              "</table>\n",
              "</div>"
            ],
            "text/plain": [
              "        VIF         Features\n",
              "0  1.349730   odometer_value\n",
              "1  1.352214    year_produced\n",
              "2  1.012081   engine_has_gas\n",
              "3  1.030905  engine_capacity\n",
              "4  1.065159     has_warranty\n",
              "5  1.010475  duration_listed"
            ]
          },
          "metadata": {
            "tags": []
          },
          "execution_count": 73
        }
      ]
    },
    {
      "cell_type": "code",
      "metadata": {
        "id": "ysXcSSoAkCcP"
      },
      "source": [
        "# split train set into feature and target variables\r\n",
        "x_train,x_valid,y_train,y_valid = train_test_split(X_scaled,y_scaled,test_size = 0.2,random_state=35)\r\n"
      ],
      "execution_count": null,
      "outputs": []
    },
    {
      "cell_type": "code",
      "metadata": {
        "colab": {
          "base_uri": "https://localhost:8080/"
        },
        "id": "rwVnOSuHmHk2",
        "outputId": "7cb34cfc-ddf8-417a-c0bf-24bcb20f030a"
      },
      "source": [
        "# print X_train\r\n",
        "print(x_train)"
      ],
      "execution_count": null,
      "outputs": [
        {
          "output_type": "stream",
          "text": [
            "[[ 5.53333137 -1.73192784 -0.18963531  0.51805338 -0.10977147 -0.47351969]\n",
            " [-0.13850424 -0.24099552  5.2732795   0.21840001 -0.10977147  0.77808812]\n",
            " [-0.0869421  -0.11675116 -0.18963531 -0.38090673 -0.10977147  1.19529072]\n",
            " ...\n",
            " [-0.42577903  1.49842551 -0.18963531 -0.6805601  -0.10977147 -0.5445329 ]\n",
            " [-0.35948485  0.50447064 -0.18963531 -0.23108005 -0.10977147 -0.69543597]\n",
            " [-1.34653157 -2.22890528 -0.18963531 -1.42969353 -0.10977147 -0.45576639]]\n"
          ],
          "name": "stdout"
        }
      ]
    },
    {
      "cell_type": "code",
      "metadata": {
        "colab": {
          "base_uri": "https://localhost:8080/"
        },
        "id": "PqP0eIYCkgBy",
        "outputId": "3357d371-8a23-4c26-eebf-cf3b1ebc390e"
      },
      "source": [
        "print(y_train)"
      ],
      "execution_count": null,
      "outputs": [
        {
          "output_type": "stream",
          "text": [
            "[[-0.92490599]\n",
            " [-0.56620969]\n",
            " [-0.3790638 ]\n",
            " ...\n",
            " [ 1.2584628 ]\n",
            " [-0.1061427 ]\n",
            " [-1.00288345]]\n"
          ],
          "name": "stdout"
        }
      ]
    },
    {
      "cell_type": "code",
      "metadata": {
        "colab": {
          "base_uri": "https://localhost:8080/"
        },
        "id": "iblcckZCmPey",
        "outputId": "902fbb8b-8af8-45db-a257-6039cddd75cd"
      },
      "source": [
        "# Build linear regreesion model\r\n",
        "regression = LinearRegression()\r\n",
        "\r\n",
        "regression.fit(x_train,y_train)"
      ],
      "execution_count": null,
      "outputs": [
        {
          "output_type": "execute_result",
          "data": {
            "text/plain": [
              "LinearRegression(copy_X=True, fit_intercept=True, n_jobs=None, normalize=False)"
            ]
          },
          "metadata": {
            "tags": []
          },
          "execution_count": 77
        }
      ]
    },
    {
      "cell_type": "code",
      "metadata": {
        "colab": {
          "base_uri": "https://localhost:8080/"
        },
        "id": "ME1G9Pf9qk6K",
        "outputId": "14cc25a7-73c0-46c8-dbd0-1bf68ca4c93a"
      },
      "source": [
        "# Check accuracy on train set\r\n",
        "regression.score(x_train,y_train)"
      ],
      "execution_count": null,
      "outputs": [
        {
          "output_type": "execute_result",
          "data": {
            "text/plain": [
              "0.6257393904719986"
            ]
          },
          "metadata": {
            "tags": []
          },
          "execution_count": 78
        }
      ]
    },
    {
      "cell_type": "code",
      "metadata": {
        "colab": {
          "base_uri": "https://localhost:8080/"
        },
        "id": "eSAMPMgcrPoe",
        "outputId": "6ce02d6f-e06c-4461-99e5-b03992c589ed"
      },
      "source": [
        "# check adjusted r2 on train set\r\n",
        "adj_r2(x_train,y_train)"
      ],
      "execution_count": null,
      "outputs": [
        {
          "output_type": "execute_result",
          "data": {
            "text/plain": [
              "0.6256482999455841"
            ]
          },
          "metadata": {
            "tags": []
          },
          "execution_count": 79
        }
      ]
    },
    {
      "cell_type": "code",
      "metadata": {
        "colab": {
          "base_uri": "https://localhost:8080/"
        },
        "id": "gTT7Uw2TrUyk",
        "outputId": "d1277fea-2f68-45fd-acc5-759d1894be5d"
      },
      "source": [
        "# Check accuracy on validation set\r\n",
        "regression.score(x_valid,y_valid)"
      ],
      "execution_count": null,
      "outputs": [
        {
          "output_type": "execute_result",
          "data": {
            "text/plain": [
              "0.6155227672326482"
            ]
          },
          "metadata": {
            "tags": []
          },
          "execution_count": 80
        }
      ]
    },
    {
      "cell_type": "code",
      "metadata": {
        "colab": {
          "base_uri": "https://localhost:8080/"
        },
        "id": "eXdQ_cDOrb4_",
        "outputId": "c3a6e44a-df45-4c4f-9db4-3ff95b2c3d5c"
      },
      "source": [
        "# check adjusted r2 on validation set\r\n",
        "adj_r2(x_valid,y_valid)"
      ],
      "execution_count": null,
      "outputs": [
        {
          "output_type": "execute_result",
          "data": {
            "text/plain": [
              "0.615148154794096"
            ]
          },
          "metadata": {
            "tags": []
          },
          "execution_count": 81
        }
      ]
    },
    {
      "cell_type": "code",
      "metadata": {
        "id": "FDW0LAl0w178"
      },
      "source": [
        "# saving the model to the local file system\r\n",
        "filename = 'firstLR_model.pickle'\r\n",
        "pickle.dump(regression, open(filename, 'wb'))"
      ],
      "execution_count": null,
      "outputs": []
    },
    {
      "cell_type": "markdown",
      "metadata": {
        "id": "nBwnqmPmrxbT"
      },
      "source": [
        "## Lasso Regression"
      ]
    },
    {
      "cell_type": "code",
      "metadata": {
        "colab": {
          "base_uri": "https://localhost:8080/"
        },
        "id": "NfGHiXy_r4zK",
        "outputId": "ae5971bf-9814-4a11-ca16-15f707ed9152"
      },
      "source": [
        "# Lasso Regularization\r\n",
        "# LassoCV will return best alpha and coefficients after performing 10 cross validations\r\n",
        "lasscv = LassoCV(alphas = None,cv =10, max_iter = 100000, normalize = True)\r\n",
        "lasscv.fit(x_train, y_train)"
      ],
      "execution_count": null,
      "outputs": [
        {
          "output_type": "stream",
          "text": [
            "/usr/local/lib/python3.6/dist-packages/sklearn/linear_model/_coordinate_descent.py:1088: DataConversionWarning: A column-vector y was passed when a 1d array was expected. Please change the shape of y to (n_samples, ), for example using ravel().\n",
            "  y = column_or_1d(y, warn=True)\n"
          ],
          "name": "stderr"
        },
        {
          "output_type": "execute_result",
          "data": {
            "text/plain": [
              "LassoCV(alphas=None, copy_X=True, cv=10, eps=0.001, fit_intercept=True,\n",
              "        max_iter=100000, n_alphas=100, n_jobs=None, normalize=True,\n",
              "        positive=False, precompute='auto', random_state=None,\n",
              "        selection='cyclic', tol=0.0001, verbose=False)"
            ]
          },
          "metadata": {
            "tags": []
          },
          "execution_count": 83
        }
      ]
    },
    {
      "cell_type": "code",
      "metadata": {
        "colab": {
          "base_uri": "https://localhost:8080/"
        },
        "id": "4m3yH0EBr8wa",
        "outputId": "41ba8bbb-2cb1-4d3c-aba9-7328bab4967f"
      },
      "source": [
        "# best alpha parameter\r\n",
        "alpha = lasscv.alpha_\r\n",
        "alpha"
      ],
      "execution_count": null,
      "outputs": [
        {
          "output_type": "execute_result",
          "data": {
            "text/plain": [
              "4.506675649497208e-06"
            ]
          },
          "metadata": {
            "tags": []
          },
          "execution_count": 84
        }
      ]
    },
    {
      "cell_type": "code",
      "metadata": {
        "colab": {
          "base_uri": "https://localhost:8080/"
        },
        "id": "qDLNfuuIsAGj",
        "outputId": "41daf3aa-6b6a-43a2-a71d-e206478e63ad"
      },
      "source": [
        "#now that we have best parameter, let's use Lasso regression and see how well our data has fitted before\r\n",
        "\r\n",
        "lasso_reg = Lasso(alpha)\r\n",
        "lasso_reg.fit(x_train, y_train)"
      ],
      "execution_count": null,
      "outputs": [
        {
          "output_type": "execute_result",
          "data": {
            "text/plain": [
              "Lasso(alpha=4.506675649497208e-06, copy_X=True, fit_intercept=True,\n",
              "      max_iter=1000, normalize=False, positive=False, precompute=False,\n",
              "      random_state=None, selection='cyclic', tol=0.0001, warm_start=False)"
            ]
          },
          "metadata": {
            "tags": []
          },
          "execution_count": 85
        }
      ]
    },
    {
      "cell_type": "code",
      "metadata": {
        "colab": {
          "base_uri": "https://localhost:8080/"
        },
        "id": "4cCyoyXXsFuu",
        "outputId": "4b223cbe-3000-4f97-da2c-7a687d3e58b9"
      },
      "source": [
        "# Examine r2 score on train set\r\n",
        "lasso_reg.score(x_train, y_train)"
      ],
      "execution_count": null,
      "outputs": [
        {
          "output_type": "execute_result",
          "data": {
            "text/plain": [
              "0.6257393903749576"
            ]
          },
          "metadata": {
            "tags": []
          },
          "execution_count": 86
        }
      ]
    },
    {
      "cell_type": "code",
      "metadata": {
        "colab": {
          "base_uri": "https://localhost:8080/"
        },
        "id": "hd3m_ybmsM-w",
        "outputId": "9ded3286-e2c2-4991-f509-5eac41126215"
      },
      "source": [
        "# Examine r2 score on validation set\r\n",
        "lasso_reg.score(x_valid, y_valid)"
      ],
      "execution_count": null,
      "outputs": [
        {
          "output_type": "execute_result",
          "data": {
            "text/plain": [
              "0.6155226474395943"
            ]
          },
          "metadata": {
            "tags": []
          },
          "execution_count": 87
        }
      ]
    },
    {
      "cell_type": "markdown",
      "metadata": {
        "id": "1keChAiMsjJw"
      },
      "source": [
        "### Ridge Regression"
      ]
    },
    {
      "cell_type": "code",
      "metadata": {
        "colab": {
          "base_uri": "https://localhost:8080/"
        },
        "id": "H_R0WQTdsmMx",
        "outputId": "89e3096e-2282-403e-a86a-64e3f5ff25e2"
      },
      "source": [
        "# Using Ridge regression model\r\n",
        "# RidgeCV will return best alpha and coefficients after performing 10 cross validations. \r\n",
        "# We will pass an array of random numbers for ridgeCV to select best alpha from them\r\n",
        "\r\n",
        "alphas = np.random.uniform(low=0, high=10, size=(50,))\r\n",
        "ridgecv = RidgeCV(alphas = alphas,cv=10,normalize = True)\r\n",
        "ridgecv.fit(x_train, y_train)"
      ],
      "execution_count": null,
      "outputs": [
        {
          "output_type": "execute_result",
          "data": {
            "text/plain": [
              "RidgeCV(alphas=array([3.73034864, 5.24970442, 7.50595023, 3.33507466, 9.24158767,\n",
              "       8.62318547, 0.48690296, 2.53642524, 4.46135513, 1.04627889,\n",
              "       3.48475989, 7.40097526, 6.80514481, 6.22384429, 7.10528403,\n",
              "       2.04923687, 3.41698115, 6.76242482, 8.79234763, 5.43678054,\n",
              "       2.82699651, 0.30235258, 7.10336829, 0.07884104, 3.7267907 ,\n",
              "       5.30537215, 9.22111462, 0.89494545, 4.05942322, 0.243132  ,\n",
              "       3.42610984, 6.22231059, 2.79067948, 2.0974995 , 1.15703233,\n",
              "       5.77140244, 6.95270006, 6.71957141, 9.48861021, 0.02703214,\n",
              "       6.47196654, 6.00392237, 5.8873961 , 9.6277032 , 0.16871673,\n",
              "       6.96482431, 8.1367865 , 5.09807197, 3.3396487 , 7.90840163]),\n",
              "        cv=10, fit_intercept=True, gcv_mode=None, normalize=True, scoring=None,\n",
              "        store_cv_values=False)"
            ]
          },
          "metadata": {
            "tags": []
          },
          "execution_count": 88
        }
      ]
    },
    {
      "cell_type": "code",
      "metadata": {
        "colab": {
          "base_uri": "https://localhost:8080/"
        },
        "id": "l1rmQhH-srVx",
        "outputId": "29807405-6595-4739-d8b5-25db8f3edf55"
      },
      "source": [
        "ridgecv.alpha_"
      ],
      "execution_count": null,
      "outputs": [
        {
          "output_type": "execute_result",
          "data": {
            "text/plain": [
              "0.027032138935026984"
            ]
          },
          "metadata": {
            "tags": []
          },
          "execution_count": 89
        }
      ]
    },
    {
      "cell_type": "code",
      "metadata": {
        "colab": {
          "base_uri": "https://localhost:8080/"
        },
        "id": "t5zzYPF3sb4m",
        "outputId": "92b9a50a-6c24-472d-b963-0476054fb698"
      },
      "source": [
        "# Now fit model with best alpha\r\n",
        "ridge_model = Ridge(alpha=ridgecv.alpha_)\r\n",
        "ridge_model.fit(x_train, y_train)"
      ],
      "execution_count": null,
      "outputs": [
        {
          "output_type": "execute_result",
          "data": {
            "text/plain": [
              "Ridge(alpha=0.027032138935026984, copy_X=True, fit_intercept=True,\n",
              "      max_iter=None, normalize=False, random_state=None, solver='auto',\n",
              "      tol=0.001)"
            ]
          },
          "metadata": {
            "tags": []
          },
          "execution_count": 90
        }
      ]
    },
    {
      "cell_type": "code",
      "metadata": {
        "colab": {
          "base_uri": "https://localhost:8080/"
        },
        "id": "IFVr8R7Ks0lF",
        "outputId": "67841e11-f795-45ec-b2f3-a8c599684ef4"
      },
      "source": [
        "# Test model performance\r\n",
        "ridge_model.score(x_valid, y_valid)"
      ],
      "execution_count": null,
      "outputs": [
        {
          "output_type": "execute_result",
          "data": {
            "text/plain": [
              "0.6155227625733142"
            ]
          },
          "metadata": {
            "tags": []
          },
          "execution_count": 91
        }
      ]
    },
    {
      "cell_type": "markdown",
      "metadata": {
        "id": "LxszDY_wtB0v"
      },
      "source": [
        "## Elastic net"
      ]
    },
    {
      "cell_type": "code",
      "metadata": {
        "colab": {
          "base_uri": "https://localhost:8080/"
        },
        "id": "j3CsOgD7tD2Y",
        "outputId": "599d8b3d-bc4d-4fdb-b1cb-bdcace214eaf"
      },
      "source": [
        "# Elastic net\r\n",
        "\r\n",
        "elasticCV = ElasticNetCV(alphas = None, cv =10)\r\n",
        "\r\n",
        "elasticCV.fit(x_train, y_train)"
      ],
      "execution_count": null,
      "outputs": [
        {
          "output_type": "stream",
          "text": [
            "/usr/local/lib/python3.6/dist-packages/sklearn/linear_model/_coordinate_descent.py:1088: DataConversionWarning: A column-vector y was passed when a 1d array was expected. Please change the shape of y to (n_samples, ), for example using ravel().\n",
            "  y = column_or_1d(y, warn=True)\n"
          ],
          "name": "stderr"
        },
        {
          "output_type": "execute_result",
          "data": {
            "text/plain": [
              "ElasticNetCV(alphas=None, copy_X=True, cv=10, eps=0.001, fit_intercept=True,\n",
              "             l1_ratio=0.5, max_iter=1000, n_alphas=100, n_jobs=None,\n",
              "             normalize=False, positive=False, precompute='auto',\n",
              "             random_state=None, selection='cyclic', tol=0.0001, verbose=0)"
            ]
          },
          "metadata": {
            "tags": []
          },
          "execution_count": 92
        }
      ]
    },
    {
      "cell_type": "code",
      "metadata": {
        "colab": {
          "base_uri": "https://localhost:8080/"
        },
        "id": "MYZEM5uLtHxf",
        "outputId": "ff44a92e-423a-4c62-cba3-790e268efc4f"
      },
      "source": [
        "# # l1_ration gives how close the model is to L1 regularization, below value indicates we are giving equal\r\n",
        "#preference to L1 and L2\r\n",
        "print(elasticCV.alpha_)\r\n",
        "print(elasticCV.l1_ratio)"
      ],
      "execution_count": null,
      "outputs": [
        {
          "output_type": "stream",
          "text": [
            "0.0014141980382288098\n",
            "0.5\n"
          ],
          "name": "stdout"
        }
      ]
    },
    {
      "cell_type": "code",
      "metadata": {
        "colab": {
          "base_uri": "https://localhost:8080/"
        },
        "id": "dK1v0nRFtVBk",
        "outputId": "54dd0b0f-1224-4296-9800-930d2f0d062b"
      },
      "source": [
        "# Fit elastic net regressor\r\n",
        "elasticnet_reg = ElasticNet(alpha = elasticCV.alpha_,l1_ratio=0.5)\r\n",
        "elasticnet_reg.fit(x_train, y_train)"
      ],
      "execution_count": null,
      "outputs": [
        {
          "output_type": "execute_result",
          "data": {
            "text/plain": [
              "ElasticNet(alpha=0.0014141980382288098, copy_X=True, fit_intercept=True,\n",
              "           l1_ratio=0.5, max_iter=1000, normalize=False, positive=False,\n",
              "           precompute=False, random_state=None, selection='cyclic', tol=0.0001,\n",
              "           warm_start=False)"
            ]
          },
          "metadata": {
            "tags": []
          },
          "execution_count": 94
        }
      ]
    },
    {
      "cell_type": "code",
      "metadata": {
        "colab": {
          "base_uri": "https://localhost:8080/"
        },
        "id": "Az3bZpsBtatL",
        "outputId": "9548fbc3-5bd0-42bf-ff25-86660b2f2871"
      },
      "source": [
        "# Examine r2s core\r\n",
        "elasticnet_reg.score(x_valid, y_valid)"
      ],
      "execution_count": null,
      "outputs": [
        {
          "output_type": "execute_result",
          "data": {
            "text/plain": [
              "0.6155006062418662"
            ]
          },
          "metadata": {
            "tags": []
          },
          "execution_count": 95
        }
      ]
    },
    {
      "cell_type": "markdown",
      "metadata": {
        "id": "Y99sEEc2tkVZ"
      },
      "source": [
        "## Polynomial Regression"
      ]
    },
    {
      "cell_type": "code",
      "metadata": {
        "colab": {
          "base_uri": "https://localhost:8080/"
        },
        "id": "ZMGby0IwtnC_",
        "outputId": "e229e5e9-3f5b-425f-85c8-0b76cc08a55c"
      },
      "source": [
        "# Fitting Polynomial Regression to the dataset\r\n",
        "from sklearn.preprocessing import PolynomialFeatures\r\n",
        "poly_reg = PolynomialFeatures(degree = 3)  #trying to create a 3 degree polynomial equation. It simply squares the x as shown in the output\r\n",
        "X_poly_train = poly_reg.fit_transform(x_train)\r\n",
        "X_poly_valid = poly_reg.transform(x_valid)\r\n",
        "print(X_poly_train)\r\n"
      ],
      "execution_count": null,
      "outputs": [
        {
          "output_type": "stream",
          "text": [
            "[[ 1.00000000e+00  5.53333137e+00 -1.73192784e+00 ... -5.70580574e-03\n",
            "  -2.46130567e-02 -1.06173008e-01]\n",
            " [ 1.00000000e+00 -1.38504241e-01 -2.40995524e-01 ...  9.37578679e-03\n",
            "  -6.64579643e-02  4.71070974e-01]\n",
            " [ 1.00000000e+00 -8.69420987e-02 -1.16751164e-01 ...  1.44029843e-02\n",
            "  -1.56832680e-01  1.70773563e+00]\n",
            " ...\n",
            " [ 1.00000000e+00 -4.25779031e-01  1.49842551e+00 ... -6.56149893e-03\n",
            "  -3.25490048e-02 -1.61462757e-01]\n",
            " [ 1.00000000e+00 -3.59484849e-01  5.04470635e-01 ... -8.37984697e-03\n",
            "  -5.30889046e-02 -3.36334517e-01]\n",
            " [ 1.00000000e+00 -1.34653157e+00 -2.22890528e+00 ... -5.49188244e-03\n",
            "  -2.28020584e-02 -9.46731602e-02]]\n"
          ],
          "name": "stdout"
        }
      ]
    },
    {
      "cell_type": "code",
      "metadata": {
        "colab": {
          "base_uri": "https://localhost:8080/"
        },
        "id": "Lo8IogBotyVg",
        "outputId": "0ea11834-40f5-4b87-af5f-32bdf5d3101a"
      },
      "source": [
        "# Train polynomial regression model or order = 3\r\n",
        "# doing the actual polynomial Regression\r\n",
        "# doing the actual polynomial Regression\r\n",
        "lin_reg_2 = LinearRegression()\r\n",
        "lin_reg_2.fit(X_poly_train, y_train)"
      ],
      "execution_count": null,
      "outputs": [
        {
          "output_type": "execute_result",
          "data": {
            "text/plain": [
              "LinearRegression(copy_X=True, fit_intercept=True, n_jobs=None, normalize=False)"
            ]
          },
          "metadata": {
            "tags": []
          },
          "execution_count": 112
        }
      ]
    },
    {
      "cell_type": "code",
      "metadata": {
        "colab": {
          "base_uri": "https://localhost:8080/"
        },
        "id": "76B8mPvJuzZP",
        "outputId": "91195766-d9d4-411f-a2a4-a38376263ada"
      },
      "source": [
        "# Examine r2 score on train set\r\n",
        "lin_reg_2.score(X_poly_train, y_train)"
      ],
      "execution_count": null,
      "outputs": [
        {
          "output_type": "execute_result",
          "data": {
            "text/plain": [
              "0.7989489089885956"
            ]
          },
          "metadata": {
            "tags": []
          },
          "execution_count": 113
        }
      ]
    },
    {
      "cell_type": "code",
      "metadata": {
        "colab": {
          "base_uri": "https://localhost:8080/"
        },
        "id": "GBnfckTHvGKo",
        "outputId": "03c2c79e-d75a-4282-c5f2-6d058792cc46"
      },
      "source": [
        "# Examine r2 score on validation set\r\n",
        "lin_reg_2.score(X_poly_valid, y_valid)"
      ],
      "execution_count": null,
      "outputs": [
        {
          "output_type": "execute_result",
          "data": {
            "text/plain": [
              "0.798878701595416"
            ]
          },
          "metadata": {
            "tags": []
          },
          "execution_count": 114
        }
      ]
    },
    {
      "cell_type": "code",
      "metadata": {
        "colab": {
          "base_uri": "https://localhost:8080/"
        },
        "id": "ydbr-Nj-vQUA",
        "outputId": "1b730475-0b1d-403d-b0c0-197aad3f855e"
      },
      "source": [
        "# Training the Linear Regression model on the whole dataset\r\n",
        "\r\n",
        "test_error = []\r\n",
        "train_error = []\r\n",
        "score = []\r\n",
        "poly_orders = [1, 2, 3,4]\r\n",
        "\r\n",
        "\r\n",
        "\r\n",
        "for orders in poly_orders:\r\n",
        "    print(\"The order of the polynomial is\", orders)\r\n",
        "    poly_reg = PolynomialFeatures(degree = orders)\r\n",
        "    X_poly_train = poly_reg.fit_transform(x_train)\r\n",
        "    X_poly_valid = poly_reg.fit_transform(x_valid)\r\n",
        "\r\n",
        "    # Build MLR model\r\n",
        "    regressor = LinearRegression()\r\n",
        "    regressor.fit(X_poly_train, y_train) \r\n",
        "    train_error.append(regressor.score(X_poly_train, y_train))\r\n",
        "    test_error.append(regressor.score(X_poly_valid, y_valid))"
      ],
      "execution_count": null,
      "outputs": [
        {
          "output_type": "stream",
          "text": [
            "The order of the polynomial is 1\n",
            "The order of the polynomial is 2\n",
            "The order of the polynomial is 3\n",
            "The order of the polynomial is 4\n"
          ],
          "name": "stdout"
        }
      ]
    },
    {
      "cell_type": "code",
      "metadata": {
        "colab": {
          "base_uri": "https://localhost:8080/",
          "height": 404
        },
        "id": "zkOp5OUYxDCF",
        "outputId": "3c392f41-7016-48dc-d2a6-f89717b8eb35"
      },
      "source": [
        "# Visualising the Linear Regression results\r\n",
        "plt.plot(poly_orders, train_error, color = 'red')\r\n",
        "plt.plot(poly_orders, test_error, color = 'blue')\r\n",
        "plt.title('Train error and Test error')\r\n",
        "plt.xlabel('Order of polynomial')\r\n",
        "plt.ylabel('Error')\r\n",
        "plt.show()"
      ],
      "execution_count": null,
      "outputs": [
        {
          "output_type": "display_data",
          "data": {
            "image/png": "[encoded data removed]",
            "text/plain": [
              "<Figure size 576x432 with 1 Axes>"
            ]
          },
          "metadata": {
            "tags": [],
            "needs_background": "light"
          }
        }
      ]
    }
  ]
}