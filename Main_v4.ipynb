{
  "nbformat": 4,
  "nbformat_minor": 0,
  "metadata": {
    "colab": {
      "name": "Main_v4.ipynb",
      "provenance": [],
      "toc_visible": true,
      "include_colab_link": true
    },
    "kernelspec": {
      "name": "python3",
      "display_name": "Python 3"
    }
  },
  "cells": [
    {
      "cell_type": "markdown",
      "metadata": {
        "id": "view-in-github",
        "colab_type": "text"
      },
      "source": [
        "<a href=\"https://colab.research.google.com/github/obeabi/SdsOctober2020Challenge/blob/main/Main_v4.ipynb\" target=\"_parent\"><img src=\"https://colab.research.google.com/assets/colab-badge.svg\" alt=\"Open In Colab\"/></a>"
      ]
    },
    {
      "cell_type": "markdown",
      "metadata": {
        "id": "7i3DzeOAFN48"
      },
      "source": [
        "# Written by Abiola Obembe\r\n",
        "# SDS October Challenge #2 - Used Car Prices\r\n",
        "## 2021-01-12\r\n",
        "\r\n",
        "### In this notebook a Neural Network is used to fit and predict used car price"
      ]
    },
    {
      "cell_type": "markdown",
      "metadata": {
        "id": "C5Wy1C3FFWlF"
      },
      "source": [
        "This month you have been hired by a new car trader company to help sell its used cars. You will be analyzing used cars from multiple manufacturers and of different models. Your job is to help the car trader company determine the price of its used cars."
      ]
    },
    {
      "cell_type": "markdown",
      "metadata": {
        "id": "P4iVP8uAGZim"
      },
      "source": [
        "## Step 1: Data Preprocessing "
      ]
    },
    {
      "cell_type": "code",
      "metadata": {
        "colab": {
          "base_uri": "https://localhost:8080/"
        },
        "id": "LU2Es40IFaa2",
        "outputId": "2c6adb2e-9e0a-46a4-9ec5-a2feda982a14"
      },
      "source": [
        "# Importing the libraries\r\n",
        "import pickle\r\n",
        "import numpy as np\r\n",
        "import matplotlib.pyplot as plt\r\n",
        "import pandas as pd\r\n",
        "import seaborn as sns\r\n",
        "from sklearn.preprocessing import MinMaxScaler \r\n",
        "import tensorflow as tf\r\n",
        "tf.__version__\r\n",
        "from sklearn.model_selection import train_test_split\r\n",
        "\r\n",
        "%matplotlib inline\r\n",
        "plt.rcParams['figure.figsize'] = (8.0, 6.0) # set default size of plots\r\n",
        "plt.rcParams['image.interpolation'] = 'nearest'\r\n",
        "plt.rcParams['image.cmap'] = 'gray'\r\n",
        "\r\n",
        "print('Libraries installed successfully!')\r\n",
        "\r\n",
        "np.random.seed(0)"
      ],
      "execution_count": 511,
      "outputs": [
        {
          "output_type": "stream",
          "text": [
            "Libraries installed successfully!\n"
          ],
          "name": "stdout"
        }
      ]
    },
    {
      "cell_type": "code",
      "metadata": {
        "colab": {
          "base_uri": "https://localhost:8080/",
          "height": 35
        },
        "id": "ddSVvAumD77W",
        "outputId": "623785c9-a418-4efd-e46f-a7d2f6175140"
      },
      "source": [
        "# Establish tensorflow version imported\r\n",
        "tf.__version__"
      ],
      "execution_count": 512,
      "outputs": [
        {
          "output_type": "execute_result",
          "data": {
            "application/vnd.google.colaboratory.intrinsic+json": {
              "type": "string"
            },
            "text/plain": [
              "'2.4.0'"
            ]
          },
          "metadata": {
            "tags": []
          },
          "execution_count": 512
        }
      ]
    },
    {
      "cell_type": "code",
      "metadata": {
        "colab": {
          "base_uri": "https://localhost:8080/",
          "height": 215
        },
        "id": "MrnpIY0BG3vj",
        "outputId": "1b78f2eb-7e40-40fa-e99f-5a2dc5a2e997"
      },
      "source": [
        "# Importing the training dataset\r\n",
        "\r\n",
        "df_train = pd.read_csv('df_train_se2.csv', engine= 'python', encoding= 'latin1')\r\n",
        "\r\n",
        "# drop first column\r\n",
        "df_train.drop('Unnamed: 0', axis = 1, inplace = True)\r\n",
        "\r\n",
        "df_train.head()"
      ],
      "execution_count": 513,
      "outputs": [
        {
          "output_type": "execute_result",
          "data": {
            "text/html": [
              "<div>\n",
              "<style scoped>\n",
              "    .dataframe tbody tr th:only-of-type {\n",
              "        vertical-align: middle;\n",
              "    }\n",
              "\n",
              "    .dataframe tbody tr th {\n",
              "        vertical-align: top;\n",
              "    }\n",
              "\n",
              "    .dataframe thead th {\n",
              "        text-align: right;\n",
              "    }\n",
              "</style>\n",
              "<table border=\"1\" class=\"dataframe\">\n",
              "  <thead>\n",
              "    <tr style=\"text-align: right;\">\n",
              "      <th></th>\n",
              "      <th>odometer_value</th>\n",
              "      <th>year_produced</th>\n",
              "      <th>engine_has_gas</th>\n",
              "      <th>engine_capacity</th>\n",
              "      <th>has_warranty</th>\n",
              "      <th>feature_0</th>\n",
              "      <th>feature_1</th>\n",
              "      <th>feature_2</th>\n",
              "      <th>feature_3</th>\n",
              "      <th>feature_4</th>\n",
              "      <th>feature_5</th>\n",
              "      <th>feature_6</th>\n",
              "      <th>feature_7</th>\n",
              "      <th>feature_8</th>\n",
              "      <th>feature_9</th>\n",
              "      <th>duration_listed</th>\n",
              "      <th>price_usd</th>\n",
              "      <th>manufacturer_name</th>\n",
              "      <th>model_name</th>\n",
              "      <th>transmission</th>\n",
              "      <th>color</th>\n",
              "      <th>engine_fuel</th>\n",
              "      <th>engine_type</th>\n",
              "      <th>body_type</th>\n",
              "      <th>state</th>\n",
              "      <th>drivetrain</th>\n",
              "    </tr>\n",
              "  </thead>\n",
              "  <tbody>\n",
              "    <tr>\n",
              "      <th>0</th>\n",
              "      <td>245000</td>\n",
              "      <td>2006</td>\n",
              "      <td>0</td>\n",
              "      <td>1.6</td>\n",
              "      <td>0</td>\n",
              "      <td>1</td>\n",
              "      <td>0</td>\n",
              "      <td>0</td>\n",
              "      <td>0</td>\n",
              "      <td>0</td>\n",
              "      <td>0</td>\n",
              "      <td>0</td>\n",
              "      <td>0</td>\n",
              "      <td>0</td>\n",
              "      <td>0</td>\n",
              "      <td>7</td>\n",
              "      <td>4250.0</td>\n",
              "      <td>20</td>\n",
              "      <td>612</td>\n",
              "      <td>1</td>\n",
              "      <td>1</td>\n",
              "      <td>3</td>\n",
              "      <td>2</td>\n",
              "      <td>2</td>\n",
              "      <td>2</td>\n",
              "      <td>1</td>\n",
              "    </tr>\n",
              "    <tr>\n",
              "      <th>1</th>\n",
              "      <td>265542</td>\n",
              "      <td>2002</td>\n",
              "      <td>0</td>\n",
              "      <td>3.3</td>\n",
              "      <td>0</td>\n",
              "      <td>0</td>\n",
              "      <td>1</td>\n",
              "      <td>0</td>\n",
              "      <td>0</td>\n",
              "      <td>0</td>\n",
              "      <td>0</td>\n",
              "      <td>0</td>\n",
              "      <td>0</td>\n",
              "      <td>0</td>\n",
              "      <td>0</td>\n",
              "      <td>133</td>\n",
              "      <td>4000.0</td>\n",
              "      <td>24</td>\n",
              "      <td>226</td>\n",
              "      <td>0</td>\n",
              "      <td>8</td>\n",
              "      <td>3</td>\n",
              "      <td>2</td>\n",
              "      <td>6</td>\n",
              "      <td>2</td>\n",
              "      <td>1</td>\n",
              "    </tr>\n",
              "    <tr>\n",
              "      <th>2</th>\n",
              "      <td>168000</td>\n",
              "      <td>2009</td>\n",
              "      <td>0</td>\n",
              "      <td>1.8</td>\n",
              "      <td>0</td>\n",
              "      <td>0</td>\n",
              "      <td>0</td>\n",
              "      <td>0</td>\n",
              "      <td>1</td>\n",
              "      <td>0</td>\n",
              "      <td>0</td>\n",
              "      <td>1</td>\n",
              "      <td>1</td>\n",
              "      <td>1</td>\n",
              "      <td>1</td>\n",
              "      <td>0</td>\n",
              "      <td>10900.0</td>\n",
              "      <td>20</td>\n",
              "      <td>395</td>\n",
              "      <td>1</td>\n",
              "      <td>1</td>\n",
              "      <td>0</td>\n",
              "      <td>0</td>\n",
              "      <td>6</td>\n",
              "      <td>2</td>\n",
              "      <td>1</td>\n",
              "    </tr>\n",
              "    <tr>\n",
              "      <th>3</th>\n",
              "      <td>225522</td>\n",
              "      <td>2008</td>\n",
              "      <td>0</td>\n",
              "      <td>1.8</td>\n",
              "      <td>0</td>\n",
              "      <td>0</td>\n",
              "      <td>1</td>\n",
              "      <td>1</td>\n",
              "      <td>0</td>\n",
              "      <td>0</td>\n",
              "      <td>1</td>\n",
              "      <td>0</td>\n",
              "      <td>0</td>\n",
              "      <td>1</td>\n",
              "      <td>1</td>\n",
              "      <td>20</td>\n",
              "      <td>6999.0</td>\n",
              "      <td>18</td>\n",
              "      <td>538</td>\n",
              "      <td>1</td>\n",
              "      <td>6</td>\n",
              "      <td>3</td>\n",
              "      <td>2</td>\n",
              "      <td>10</td>\n",
              "      <td>2</td>\n",
              "      <td>1</td>\n",
              "    </tr>\n",
              "    <tr>\n",
              "      <th>4</th>\n",
              "      <td>370000</td>\n",
              "      <td>1991</td>\n",
              "      <td>0</td>\n",
              "      <td>1.8</td>\n",
              "      <td>0</td>\n",
              "      <td>0</td>\n",
              "      <td>0</td>\n",
              "      <td>0</td>\n",
              "      <td>0</td>\n",
              "      <td>0</td>\n",
              "      <td>0</td>\n",
              "      <td>0</td>\n",
              "      <td>0</td>\n",
              "      <td>0</td>\n",
              "      <td>1</td>\n",
              "      <td>160</td>\n",
              "      <td>1600.0</td>\n",
              "      <td>29</td>\n",
              "      <td>101</td>\n",
              "      <td>1</td>\n",
              "      <td>0</td>\n",
              "      <td>3</td>\n",
              "      <td>2</td>\n",
              "      <td>8</td>\n",
              "      <td>2</td>\n",
              "      <td>1</td>\n",
              "    </tr>\n",
              "  </tbody>\n",
              "</table>\n",
              "</div>"
            ],
            "text/plain": [
              "   odometer_value  year_produced  engine_has_gas  ...  body_type  state  drivetrain\n",
              "0          245000           2006               0  ...          2      2           1\n",
              "1          265542           2002               0  ...          6      2           1\n",
              "2          168000           2009               0  ...          6      2           1\n",
              "3          225522           2008               0  ...         10      2           1\n",
              "4          370000           1991               0  ...          8      2           1\n",
              "\n",
              "[5 rows x 26 columns]"
            ]
          },
          "metadata": {
            "tags": []
          },
          "execution_count": 513
        }
      ]
    },
    {
      "cell_type": "code",
      "metadata": {
        "colab": {
          "base_uri": "https://localhost:8080/"
        },
        "id": "1ja7A4-OHn2H",
        "outputId": "8637a40f-e606-491f-faa7-56c059f376be"
      },
      "source": [
        "# print shape and check for missing values\r\n",
        "print(df_train.shape)\r\n",
        "print(df_train.isnull().sum().sum())"
      ],
      "execution_count": 514,
      "outputs": [
        {
          "output_type": "stream",
          "text": [
            "(30824, 26)\n",
            "0\n"
          ],
          "name": "stdout"
        }
      ]
    },
    {
      "cell_type": "code",
      "metadata": {
        "colab": {
          "base_uri": "https://localhost:8080/",
          "height": 215
        },
        "id": "EMD4GiggHVdX",
        "outputId": "bc572216-1f0f-4a1c-a336-fc72ce1ec18e"
      },
      "source": [
        "# Importing the test dataset\r\n",
        "\r\n",
        "df_test = pd.read_csv('df_test_se2.csv', engine= 'python', encoding= 'latin1')\r\n",
        "\r\n",
        "# drop first column\r\n",
        "df_test.drop('Unnamed: 0', axis = 1, inplace = True)\r\n",
        "\r\n",
        "df_test.head()"
      ],
      "execution_count": 515,
      "outputs": [
        {
          "output_type": "execute_result",
          "data": {
            "text/html": [
              "<div>\n",
              "<style scoped>\n",
              "    .dataframe tbody tr th:only-of-type {\n",
              "        vertical-align: middle;\n",
              "    }\n",
              "\n",
              "    .dataframe tbody tr th {\n",
              "        vertical-align: top;\n",
              "    }\n",
              "\n",
              "    .dataframe thead th {\n",
              "        text-align: right;\n",
              "    }\n",
              "</style>\n",
              "<table border=\"1\" class=\"dataframe\">\n",
              "  <thead>\n",
              "    <tr style=\"text-align: right;\">\n",
              "      <th></th>\n",
              "      <th>odometer_value</th>\n",
              "      <th>year_produced</th>\n",
              "      <th>engine_has_gas</th>\n",
              "      <th>engine_capacity</th>\n",
              "      <th>has_warranty</th>\n",
              "      <th>feature_0</th>\n",
              "      <th>feature_1</th>\n",
              "      <th>feature_2</th>\n",
              "      <th>feature_3</th>\n",
              "      <th>feature_4</th>\n",
              "      <th>feature_5</th>\n",
              "      <th>feature_6</th>\n",
              "      <th>feature_7</th>\n",
              "      <th>feature_8</th>\n",
              "      <th>feature_9</th>\n",
              "      <th>duration_listed</th>\n",
              "      <th>manufacturer_name</th>\n",
              "      <th>model_name</th>\n",
              "      <th>transmission</th>\n",
              "      <th>color</th>\n",
              "      <th>engine_fuel</th>\n",
              "      <th>engine_type</th>\n",
              "      <th>body_type</th>\n",
              "      <th>state</th>\n",
              "      <th>drivetrain</th>\n",
              "    </tr>\n",
              "  </thead>\n",
              "  <tbody>\n",
              "    <tr>\n",
              "      <th>0</th>\n",
              "      <td>360000</td>\n",
              "      <td>1997</td>\n",
              "      <td>0</td>\n",
              "      <td>1.6</td>\n",
              "      <td>0</td>\n",
              "      <td>0</td>\n",
              "      <td>1</td>\n",
              "      <td>0</td>\n",
              "      <td>0</td>\n",
              "      <td>0</td>\n",
              "      <td>0</td>\n",
              "      <td>0</td>\n",
              "      <td>1</td>\n",
              "      <td>0</td>\n",
              "      <td>1</td>\n",
              "      <td>114</td>\n",
              "      <td>16</td>\n",
              "      <td>210</td>\n",
              "      <td>1</td>\n",
              "      <td>1</td>\n",
              "      <td>3</td>\n",
              "      <td>2</td>\n",
              "      <td>1</td>\n",
              "      <td>2</td>\n",
              "      <td>1</td>\n",
              "    </tr>\n",
              "    <tr>\n",
              "      <th>1</th>\n",
              "      <td>267000</td>\n",
              "      <td>1999</td>\n",
              "      <td>0</td>\n",
              "      <td>1.4</td>\n",
              "      <td>0</td>\n",
              "      <td>0</td>\n",
              "      <td>0</td>\n",
              "      <td>0</td>\n",
              "      <td>0</td>\n",
              "      <td>0</td>\n",
              "      <td>0</td>\n",
              "      <td>0</td>\n",
              "      <td>0</td>\n",
              "      <td>0</td>\n",
              "      <td>1</td>\n",
              "      <td>67</td>\n",
              "      <td>13</td>\n",
              "      <td>167</td>\n",
              "      <td>1</td>\n",
              "      <td>8</td>\n",
              "      <td>3</td>\n",
              "      <td>2</td>\n",
              "      <td>2</td>\n",
              "      <td>2</td>\n",
              "      <td>1</td>\n",
              "    </tr>\n",
              "    <tr>\n",
              "      <th>2</th>\n",
              "      <td>172000</td>\n",
              "      <td>2000</td>\n",
              "      <td>0</td>\n",
              "      <td>2.0</td>\n",
              "      <td>0</td>\n",
              "      <td>1</td>\n",
              "      <td>0</td>\n",
              "      <td>0</td>\n",
              "      <td>0</td>\n",
              "      <td>0</td>\n",
              "      <td>0</td>\n",
              "      <td>0</td>\n",
              "      <td>0</td>\n",
              "      <td>0</td>\n",
              "      <td>0</td>\n",
              "      <td>50</td>\n",
              "      <td>26</td>\n",
              "      <td>417</td>\n",
              "      <td>1</td>\n",
              "      <td>1</td>\n",
              "      <td>3</td>\n",
              "      <td>2</td>\n",
              "      <td>6</td>\n",
              "      <td>2</td>\n",
              "      <td>1</td>\n",
              "    </tr>\n",
              "    <tr>\n",
              "      <th>3</th>\n",
              "      <td>230000</td>\n",
              "      <td>2009</td>\n",
              "      <td>0</td>\n",
              "      <td>2.4</td>\n",
              "      <td>0</td>\n",
              "      <td>0</td>\n",
              "      <td>1</td>\n",
              "      <td>1</td>\n",
              "      <td>1</td>\n",
              "      <td>0</td>\n",
              "      <td>1</td>\n",
              "      <td>1</td>\n",
              "      <td>1</td>\n",
              "      <td>1</td>\n",
              "      <td>1</td>\n",
              "      <td>79</td>\n",
              "      <td>37</td>\n",
              "      <td>675</td>\n",
              "      <td>1</td>\n",
              "      <td>10</td>\n",
              "      <td>0</td>\n",
              "      <td>0</td>\n",
              "      <td>10</td>\n",
              "      <td>2</td>\n",
              "      <td>1</td>\n",
              "    </tr>\n",
              "    <tr>\n",
              "      <th>4</th>\n",
              "      <td>206000</td>\n",
              "      <td>2007</td>\n",
              "      <td>0</td>\n",
              "      <td>1.6</td>\n",
              "      <td>0</td>\n",
              "      <td>0</td>\n",
              "      <td>1</td>\n",
              "      <td>0</td>\n",
              "      <td>1</td>\n",
              "      <td>0</td>\n",
              "      <td>1</td>\n",
              "      <td>0</td>\n",
              "      <td>0</td>\n",
              "      <td>0</td>\n",
              "      <td>0</td>\n",
              "      <td>74</td>\n",
              "      <td>18</td>\n",
              "      <td>398</td>\n",
              "      <td>1</td>\n",
              "      <td>8</td>\n",
              "      <td>3</td>\n",
              "      <td>2</td>\n",
              "      <td>8</td>\n",
              "      <td>2</td>\n",
              "      <td>1</td>\n",
              "    </tr>\n",
              "  </tbody>\n",
              "</table>\n",
              "</div>"
            ],
            "text/plain": [
              "   odometer_value  year_produced  engine_has_gas  ...  body_type  state  drivetrain\n",
              "0          360000           1997               0  ...          1      2           1\n",
              "1          267000           1999               0  ...          2      2           1\n",
              "2          172000           2000               0  ...          6      2           1\n",
              "3          230000           2009               0  ...         10      2           1\n",
              "4          206000           2007               0  ...          8      2           1\n",
              "\n",
              "[5 rows x 25 columns]"
            ]
          },
          "metadata": {
            "tags": []
          },
          "execution_count": 515
        }
      ]
    },
    {
      "cell_type": "code",
      "metadata": {
        "colab": {
          "base_uri": "https://localhost:8080/"
        },
        "id": "QQ5bTIyHKOhU",
        "outputId": "80de2f38-60b8-4019-e2f1-268e6b1bc743"
      },
      "source": [
        "# print shape and number of total missing values\r\n",
        "print(df_test.shape)\r\n",
        "print(df_test.isnull().sum().sum())"
      ],
      "execution_count": 516,
      "outputs": [
        {
          "output_type": "stream",
          "text": [
            "(7707, 25)\n",
            "0\n"
          ],
          "name": "stdout"
        }
      ]
    },
    {
      "cell_type": "code",
      "metadata": {
        "id": "SVu-bFY-hByC"
      },
      "source": [
        "# Let's create a function to create adjusted R-Squared\r\n",
        "def adj_r2(x,y):\r\n",
        "    r2 = regression.score(x,y)\r\n",
        "    n = x.shape[0]\r\n",
        "    p = x.shape[1]\r\n",
        "    adjusted_r2 = 1-(1-r2)*(n-1)/(n-p-1)\r\n",
        "    return adjusted_r2"
      ],
      "execution_count": 517,
      "outputs": []
    },
    {
      "cell_type": "code",
      "metadata": {
        "colab": {
          "base_uri": "https://localhost:8080/",
          "height": 215
        },
        "id": "6V-sUWj7ErKi",
        "outputId": "db3e1a1b-e9ae-4782-dd54-97fecbe278fe"
      },
      "source": [
        "# Specify label column name here\r\n",
        "label = 'price_usd'\r\n",
        "\r\n",
        "\r\n",
        "\r\n",
        "# Rearrage the dataset columns\r\n",
        "cols = df_train.columns.tolist()\r\n",
        "colIdx = df_train.columns.get_loc(label)\r\n",
        "# Do nothing if the label is in the 0th position\r\n",
        "# Otherwise, change the order of columns to move label to 0th position\r\n",
        "if colIdx != 0:\r\n",
        "    cols = cols[colIdx:colIdx+1] + cols[0:colIdx] + cols[colIdx+1:]\r\n",
        "    #cols =  cols[0:colIdx] + cols[colIdx:colIdx+1]\r\n",
        "# Change the order of data so that label is in the 0th column\r\n",
        "modified_df_train = df_train[cols]\r\n",
        "\r\n",
        "modified_df_train.head()"
      ],
      "execution_count": 518,
      "outputs": [
        {
          "output_type": "execute_result",
          "data": {
            "text/html": [
              "<div>\n",
              "<style scoped>\n",
              "    .dataframe tbody tr th:only-of-type {\n",
              "        vertical-align: middle;\n",
              "    }\n",
              "\n",
              "    .dataframe tbody tr th {\n",
              "        vertical-align: top;\n",
              "    }\n",
              "\n",
              "    .dataframe thead th {\n",
              "        text-align: right;\n",
              "    }\n",
              "</style>\n",
              "<table border=\"1\" class=\"dataframe\">\n",
              "  <thead>\n",
              "    <tr style=\"text-align: right;\">\n",
              "      <th></th>\n",
              "      <th>price_usd</th>\n",
              "      <th>odometer_value</th>\n",
              "      <th>year_produced</th>\n",
              "      <th>engine_has_gas</th>\n",
              "      <th>engine_capacity</th>\n",
              "      <th>has_warranty</th>\n",
              "      <th>feature_0</th>\n",
              "      <th>feature_1</th>\n",
              "      <th>feature_2</th>\n",
              "      <th>feature_3</th>\n",
              "      <th>feature_4</th>\n",
              "      <th>feature_5</th>\n",
              "      <th>feature_6</th>\n",
              "      <th>feature_7</th>\n",
              "      <th>feature_8</th>\n",
              "      <th>feature_9</th>\n",
              "      <th>duration_listed</th>\n",
              "      <th>manufacturer_name</th>\n",
              "      <th>model_name</th>\n",
              "      <th>transmission</th>\n",
              "      <th>color</th>\n",
              "      <th>engine_fuel</th>\n",
              "      <th>engine_type</th>\n",
              "      <th>body_type</th>\n",
              "      <th>state</th>\n",
              "      <th>drivetrain</th>\n",
              "    </tr>\n",
              "  </thead>\n",
              "  <tbody>\n",
              "    <tr>\n",
              "      <th>0</th>\n",
              "      <td>4250.0</td>\n",
              "      <td>245000</td>\n",
              "      <td>2006</td>\n",
              "      <td>0</td>\n",
              "      <td>1.6</td>\n",
              "      <td>0</td>\n",
              "      <td>1</td>\n",
              "      <td>0</td>\n",
              "      <td>0</td>\n",
              "      <td>0</td>\n",
              "      <td>0</td>\n",
              "      <td>0</td>\n",
              "      <td>0</td>\n",
              "      <td>0</td>\n",
              "      <td>0</td>\n",
              "      <td>0</td>\n",
              "      <td>7</td>\n",
              "      <td>20</td>\n",
              "      <td>612</td>\n",
              "      <td>1</td>\n",
              "      <td>1</td>\n",
              "      <td>3</td>\n",
              "      <td>2</td>\n",
              "      <td>2</td>\n",
              "      <td>2</td>\n",
              "      <td>1</td>\n",
              "    </tr>\n",
              "    <tr>\n",
              "      <th>1</th>\n",
              "      <td>4000.0</td>\n",
              "      <td>265542</td>\n",
              "      <td>2002</td>\n",
              "      <td>0</td>\n",
              "      <td>3.3</td>\n",
              "      <td>0</td>\n",
              "      <td>0</td>\n",
              "      <td>1</td>\n",
              "      <td>0</td>\n",
              "      <td>0</td>\n",
              "      <td>0</td>\n",
              "      <td>0</td>\n",
              "      <td>0</td>\n",
              "      <td>0</td>\n",
              "      <td>0</td>\n",
              "      <td>0</td>\n",
              "      <td>133</td>\n",
              "      <td>24</td>\n",
              "      <td>226</td>\n",
              "      <td>0</td>\n",
              "      <td>8</td>\n",
              "      <td>3</td>\n",
              "      <td>2</td>\n",
              "      <td>6</td>\n",
              "      <td>2</td>\n",
              "      <td>1</td>\n",
              "    </tr>\n",
              "    <tr>\n",
              "      <th>2</th>\n",
              "      <td>10900.0</td>\n",
              "      <td>168000</td>\n",
              "      <td>2009</td>\n",
              "      <td>0</td>\n",
              "      <td>1.8</td>\n",
              "      <td>0</td>\n",
              "      <td>0</td>\n",
              "      <td>0</td>\n",
              "      <td>0</td>\n",
              "      <td>1</td>\n",
              "      <td>0</td>\n",
              "      <td>0</td>\n",
              "      <td>1</td>\n",
              "      <td>1</td>\n",
              "      <td>1</td>\n",
              "      <td>1</td>\n",
              "      <td>0</td>\n",
              "      <td>20</td>\n",
              "      <td>395</td>\n",
              "      <td>1</td>\n",
              "      <td>1</td>\n",
              "      <td>0</td>\n",
              "      <td>0</td>\n",
              "      <td>6</td>\n",
              "      <td>2</td>\n",
              "      <td>1</td>\n",
              "    </tr>\n",
              "    <tr>\n",
              "      <th>3</th>\n",
              "      <td>6999.0</td>\n",
              "      <td>225522</td>\n",
              "      <td>2008</td>\n",
              "      <td>0</td>\n",
              "      <td>1.8</td>\n",
              "      <td>0</td>\n",
              "      <td>0</td>\n",
              "      <td>1</td>\n",
              "      <td>1</td>\n",
              "      <td>0</td>\n",
              "      <td>0</td>\n",
              "      <td>1</td>\n",
              "      <td>0</td>\n",
              "      <td>0</td>\n",
              "      <td>1</td>\n",
              "      <td>1</td>\n",
              "      <td>20</td>\n",
              "      <td>18</td>\n",
              "      <td>538</td>\n",
              "      <td>1</td>\n",
              "      <td>6</td>\n",
              "      <td>3</td>\n",
              "      <td>2</td>\n",
              "      <td>10</td>\n",
              "      <td>2</td>\n",
              "      <td>1</td>\n",
              "    </tr>\n",
              "    <tr>\n",
              "      <th>4</th>\n",
              "      <td>1600.0</td>\n",
              "      <td>370000</td>\n",
              "      <td>1991</td>\n",
              "      <td>0</td>\n",
              "      <td>1.8</td>\n",
              "      <td>0</td>\n",
              "      <td>0</td>\n",
              "      <td>0</td>\n",
              "      <td>0</td>\n",
              "      <td>0</td>\n",
              "      <td>0</td>\n",
              "      <td>0</td>\n",
              "      <td>0</td>\n",
              "      <td>0</td>\n",
              "      <td>0</td>\n",
              "      <td>1</td>\n",
              "      <td>160</td>\n",
              "      <td>29</td>\n",
              "      <td>101</td>\n",
              "      <td>1</td>\n",
              "      <td>0</td>\n",
              "      <td>3</td>\n",
              "      <td>2</td>\n",
              "      <td>8</td>\n",
              "      <td>2</td>\n",
              "      <td>1</td>\n",
              "    </tr>\n",
              "  </tbody>\n",
              "</table>\n",
              "</div>"
            ],
            "text/plain": [
              "   price_usd  odometer_value  year_produced  ...  body_type  state  drivetrain\n",
              "0     4250.0          245000           2006  ...          2      2           1\n",
              "1     4000.0          265542           2002  ...          6      2           1\n",
              "2    10900.0          168000           2009  ...          6      2           1\n",
              "3     6999.0          225522           2008  ...         10      2           1\n",
              "4     1600.0          370000           1991  ...          8      2           1\n",
              "\n",
              "[5 rows x 26 columns]"
            ]
          },
          "metadata": {
            "tags": []
          },
          "execution_count": 518
        }
      ]
    },
    {
      "cell_type": "code",
      "metadata": {
        "colab": {
          "base_uri": "https://localhost:8080/"
        },
        "id": "P7e9GHwrHUmj",
        "outputId": "d86d0a48-5466-4299-ed0b-0ddbc55c850c"
      },
      "source": [
        "# Check shape of bith train sets\r\n",
        "print(\"Original test set shape is :\" , df_train.shape)\r\n",
        "print(\"Modified test set shape is :\" , modified_df_train.shape)"
      ],
      "execution_count": 519,
      "outputs": [
        {
          "output_type": "stream",
          "text": [
            "Original test set shape is : (30824, 26)\n",
            "Modified test set shape is : (30824, 26)\n"
          ],
          "name": "stdout"
        }
      ]
    },
    {
      "cell_type": "code",
      "metadata": {
        "colab": {
          "base_uri": "https://localhost:8080/",
          "height": 215
        },
        "id": "TvYASvV8GMg_",
        "outputId": "490858c4-d210-4f11-ce81-ce9b71f16f51"
      },
      "source": [
        "# Adjust test set also\r\n",
        "test_list_columns = modified_df_train.columns[1:]\r\n",
        "\r\n",
        "modified_df_test = df_test[test_list_columns]\r\n",
        "modified_df_test.head()"
      ],
      "execution_count": 520,
      "outputs": [
        {
          "output_type": "execute_result",
          "data": {
            "text/html": [
              "<div>\n",
              "<style scoped>\n",
              "    .dataframe tbody tr th:only-of-type {\n",
              "        vertical-align: middle;\n",
              "    }\n",
              "\n",
              "    .dataframe tbody tr th {\n",
              "        vertical-align: top;\n",
              "    }\n",
              "\n",
              "    .dataframe thead th {\n",
              "        text-align: right;\n",
              "    }\n",
              "</style>\n",
              "<table border=\"1\" class=\"dataframe\">\n",
              "  <thead>\n",
              "    <tr style=\"text-align: right;\">\n",
              "      <th></th>\n",
              "      <th>odometer_value</th>\n",
              "      <th>year_produced</th>\n",
              "      <th>engine_has_gas</th>\n",
              "      <th>engine_capacity</th>\n",
              "      <th>has_warranty</th>\n",
              "      <th>feature_0</th>\n",
              "      <th>feature_1</th>\n",
              "      <th>feature_2</th>\n",
              "      <th>feature_3</th>\n",
              "      <th>feature_4</th>\n",
              "      <th>feature_5</th>\n",
              "      <th>feature_6</th>\n",
              "      <th>feature_7</th>\n",
              "      <th>feature_8</th>\n",
              "      <th>feature_9</th>\n",
              "      <th>duration_listed</th>\n",
              "      <th>manufacturer_name</th>\n",
              "      <th>model_name</th>\n",
              "      <th>transmission</th>\n",
              "      <th>color</th>\n",
              "      <th>engine_fuel</th>\n",
              "      <th>engine_type</th>\n",
              "      <th>body_type</th>\n",
              "      <th>state</th>\n",
              "      <th>drivetrain</th>\n",
              "    </tr>\n",
              "  </thead>\n",
              "  <tbody>\n",
              "    <tr>\n",
              "      <th>0</th>\n",
              "      <td>360000</td>\n",
              "      <td>1997</td>\n",
              "      <td>0</td>\n",
              "      <td>1.6</td>\n",
              "      <td>0</td>\n",
              "      <td>0</td>\n",
              "      <td>1</td>\n",
              "      <td>0</td>\n",
              "      <td>0</td>\n",
              "      <td>0</td>\n",
              "      <td>0</td>\n",
              "      <td>0</td>\n",
              "      <td>1</td>\n",
              "      <td>0</td>\n",
              "      <td>1</td>\n",
              "      <td>114</td>\n",
              "      <td>16</td>\n",
              "      <td>210</td>\n",
              "      <td>1</td>\n",
              "      <td>1</td>\n",
              "      <td>3</td>\n",
              "      <td>2</td>\n",
              "      <td>1</td>\n",
              "      <td>2</td>\n",
              "      <td>1</td>\n",
              "    </tr>\n",
              "    <tr>\n",
              "      <th>1</th>\n",
              "      <td>267000</td>\n",
              "      <td>1999</td>\n",
              "      <td>0</td>\n",
              "      <td>1.4</td>\n",
              "      <td>0</td>\n",
              "      <td>0</td>\n",
              "      <td>0</td>\n",
              "      <td>0</td>\n",
              "      <td>0</td>\n",
              "      <td>0</td>\n",
              "      <td>0</td>\n",
              "      <td>0</td>\n",
              "      <td>0</td>\n",
              "      <td>0</td>\n",
              "      <td>1</td>\n",
              "      <td>67</td>\n",
              "      <td>13</td>\n",
              "      <td>167</td>\n",
              "      <td>1</td>\n",
              "      <td>8</td>\n",
              "      <td>3</td>\n",
              "      <td>2</td>\n",
              "      <td>2</td>\n",
              "      <td>2</td>\n",
              "      <td>1</td>\n",
              "    </tr>\n",
              "    <tr>\n",
              "      <th>2</th>\n",
              "      <td>172000</td>\n",
              "      <td>2000</td>\n",
              "      <td>0</td>\n",
              "      <td>2.0</td>\n",
              "      <td>0</td>\n",
              "      <td>1</td>\n",
              "      <td>0</td>\n",
              "      <td>0</td>\n",
              "      <td>0</td>\n",
              "      <td>0</td>\n",
              "      <td>0</td>\n",
              "      <td>0</td>\n",
              "      <td>0</td>\n",
              "      <td>0</td>\n",
              "      <td>0</td>\n",
              "      <td>50</td>\n",
              "      <td>26</td>\n",
              "      <td>417</td>\n",
              "      <td>1</td>\n",
              "      <td>1</td>\n",
              "      <td>3</td>\n",
              "      <td>2</td>\n",
              "      <td>6</td>\n",
              "      <td>2</td>\n",
              "      <td>1</td>\n",
              "    </tr>\n",
              "    <tr>\n",
              "      <th>3</th>\n",
              "      <td>230000</td>\n",
              "      <td>2009</td>\n",
              "      <td>0</td>\n",
              "      <td>2.4</td>\n",
              "      <td>0</td>\n",
              "      <td>0</td>\n",
              "      <td>1</td>\n",
              "      <td>1</td>\n",
              "      <td>1</td>\n",
              "      <td>0</td>\n",
              "      <td>1</td>\n",
              "      <td>1</td>\n",
              "      <td>1</td>\n",
              "      <td>1</td>\n",
              "      <td>1</td>\n",
              "      <td>79</td>\n",
              "      <td>37</td>\n",
              "      <td>675</td>\n",
              "      <td>1</td>\n",
              "      <td>10</td>\n",
              "      <td>0</td>\n",
              "      <td>0</td>\n",
              "      <td>10</td>\n",
              "      <td>2</td>\n",
              "      <td>1</td>\n",
              "    </tr>\n",
              "    <tr>\n",
              "      <th>4</th>\n",
              "      <td>206000</td>\n",
              "      <td>2007</td>\n",
              "      <td>0</td>\n",
              "      <td>1.6</td>\n",
              "      <td>0</td>\n",
              "      <td>0</td>\n",
              "      <td>1</td>\n",
              "      <td>0</td>\n",
              "      <td>1</td>\n",
              "      <td>0</td>\n",
              "      <td>1</td>\n",
              "      <td>0</td>\n",
              "      <td>0</td>\n",
              "      <td>0</td>\n",
              "      <td>0</td>\n",
              "      <td>74</td>\n",
              "      <td>18</td>\n",
              "      <td>398</td>\n",
              "      <td>1</td>\n",
              "      <td>8</td>\n",
              "      <td>3</td>\n",
              "      <td>2</td>\n",
              "      <td>8</td>\n",
              "      <td>2</td>\n",
              "      <td>1</td>\n",
              "    </tr>\n",
              "  </tbody>\n",
              "</table>\n",
              "</div>"
            ],
            "text/plain": [
              "   odometer_value  year_produced  engine_has_gas  ...  body_type  state  drivetrain\n",
              "0          360000           1997               0  ...          1      2           1\n",
              "1          267000           1999               0  ...          2      2           1\n",
              "2          172000           2000               0  ...          6      2           1\n",
              "3          230000           2009               0  ...         10      2           1\n",
              "4          206000           2007               0  ...          8      2           1\n",
              "\n",
              "[5 rows x 25 columns]"
            ]
          },
          "metadata": {
            "tags": []
          },
          "execution_count": 520
        }
      ]
    },
    {
      "cell_type": "code",
      "metadata": {
        "colab": {
          "base_uri": "https://localhost:8080/"
        },
        "id": "5W6boGuOHC0E",
        "outputId": "8615c993-a9cd-4f5f-edfc-130d15f3fa3b"
      },
      "source": [
        "# Check shape of test set\r\n",
        "print(\"Original test set shape is :\" , df_test.shape)\r\n",
        "print(\"Modified test set shape is :\" , modified_df_test.shape)"
      ],
      "execution_count": 521,
      "outputs": [
        {
          "output_type": "stream",
          "text": [
            "Original test set shape is : (7707, 25)\n",
            "Modified test set shape is : (7707, 25)\n"
          ],
          "name": "stdout"
        }
      ]
    },
    {
      "cell_type": "code",
      "metadata": {
        "colab": {
          "base_uri": "https://localhost:8080/"
        },
        "id": "BJLcEqWJHi6U",
        "outputId": "49210f04-6f9c-49af-c251-f9384fd3d6ef"
      },
      "source": [
        "# Create X and y from train set\r\n",
        "X = modified_df_train.iloc[:, 1:].values\r\n",
        "y = modified_df_train.iloc[:, 0].values\r\n",
        "X_test = modified_df_test.iloc[:,:].values\r\n",
        "y = y.reshape(len(y),1)\r\n",
        "print(X[0:1])\r\n",
        "\r\n",
        "print(\"*\"*30)\r\n",
        "print(y[0:2])\r\n",
        "print(\"*\"*30)\r\n",
        "print(X_test[0:1])"
      ],
      "execution_count": 522,
      "outputs": [
        {
          "output_type": "stream",
          "text": [
            "[[2.45e+05 2.01e+03 0.00e+00 1.60e+00 0.00e+00 1.00e+00 0.00e+00 0.00e+00\n",
            "  0.00e+00 0.00e+00 0.00e+00 0.00e+00 0.00e+00 0.00e+00 0.00e+00 7.00e+00\n",
            "  2.00e+01 6.12e+02 1.00e+00 1.00e+00 3.00e+00 2.00e+00 2.00e+00 2.00e+00\n",
            "  1.00e+00]]\n",
            "******************************\n",
            "[[4250.]\n",
            " [4000.]]\n",
            "******************************\n",
            "[[3.60e+05 2.00e+03 0.00e+00 1.60e+00 0.00e+00 0.00e+00 1.00e+00 0.00e+00\n",
            "  0.00e+00 0.00e+00 0.00e+00 0.00e+00 1.00e+00 0.00e+00 1.00e+00 1.14e+02\n",
            "  1.60e+01 2.10e+02 1.00e+00 1.00e+00 3.00e+00 2.00e+00 1.00e+00 2.00e+00\n",
            "  1.00e+00]]\n"
          ],
          "name": "stdout"
        }
      ]
    },
    {
      "cell_type": "code",
      "metadata": {
        "id": "iDP4SHF4IKXk"
      },
      "source": [
        "# Splitting the dataset into the Training set and Validation set\r\n",
        "X_train, X_validation, y_train, y_validation = train_test_split(X, y, test_size = 0.08, random_state = 0)"
      ],
      "execution_count": 523,
      "outputs": []
    },
    {
      "cell_type": "code",
      "metadata": {
        "id": "UPx-0yaxIzZp"
      },
      "source": [
        "# Feature Scaling\r\n",
        "sc = MinMaxScaler(feature_range= (0,1))\r\n",
        "sc_y = MinMaxScaler(feature_range= (0,1))\r\n",
        "\r\n",
        "# Features columns\r\n",
        "X_train = sc.fit_transform(X_train)\r\n",
        "X_validation = sc.transform(X_validation)\r\n",
        "X_test = sc.transform(X_test)\r\n",
        "\r\n",
        "# target columns\r\n",
        "y_train = sc_y.fit_transform(y_train)\r\n",
        "y_validation = sc_y.transform(y_validation)\r\n"
      ],
      "execution_count": 524,
      "outputs": []
    },
    {
      "cell_type": "code",
      "metadata": {
        "colab": {
          "base_uri": "https://localhost:8080/"
        },
        "id": "II22r_7OKvSr",
        "outputId": "2bff81f0-77aa-43ad-caf4-d76b761e9e77"
      },
      "source": [
        "# Let's print X_train\r\n",
        "print(X_train)"
      ],
      "execution_count": 525,
      "outputs": [
        {
          "output_type": "stream",
          "text": [
            "[[0.34 0.51 0.   ... 0.73 1.   0.5 ]\n",
            " [0.31 0.71 0.   ... 0.18 1.   0.5 ]\n",
            " [0.22 0.86 0.   ... 0.73 1.   0.5 ]\n",
            " ...\n",
            " [0.26 0.84 0.   ... 0.18 1.   0.5 ]\n",
            " [0.28 0.77 0.   ... 0.91 1.   0.5 ]\n",
            " [0.1  0.93 0.   ... 0.45 1.   0.5 ]]\n"
          ],
          "name": "stdout"
        }
      ]
    },
    {
      "cell_type": "markdown",
      "metadata": {
        "id": "Q2bgteTkfqpn"
      },
      "source": [
        "## Building  ANN "
      ]
    },
    {
      "cell_type": "code",
      "metadata": {
        "id": "V2NTuHuGQshH"
      },
      "source": [
        "# Import keras libraries\r\n",
        "from keras.layers import  Dropout,Flatten,Dense,Activation, BatchNormalization"
      ],
      "execution_count": 526,
      "outputs": []
    },
    {
      "cell_type": "code",
      "metadata": {
        "id": "QC3YBWjIHgAt"
      },
      "source": [
        "# Initializing the ANN\r\n",
        "ann = tf.keras.models.Sequential()"
      ],
      "execution_count": 527,
      "outputs": []
    },
    {
      "cell_type": "code",
      "metadata": {
        "id": "P5rTU5f3LTYm"
      },
      "source": [
        "# Adding the input layer and the first hidden layer\r\n",
        "ann.add(Dense(units=32, activation='relu'))\r\n",
        "ann.add(BatchNormalization())\r\n",
        "ann.add(Dropout(0.2))"
      ],
      "execution_count": 528,
      "outputs": []
    },
    {
      "cell_type": "code",
      "metadata": {
        "id": "nMAVuci3LeEP"
      },
      "source": [
        "# Adding the second hidden layer\r\n",
        "ann.add(Dense(units=16, activation='relu'))\r\n",
        "ann.add(BatchNormalization())\r\n",
        "ann.add(Dropout(0.2))"
      ],
      "execution_count": 529,
      "outputs": []
    },
    {
      "cell_type": "code",
      "metadata": {
        "id": "wuXJtZmELjCB"
      },
      "source": [
        "# Adding the output layer\r\n",
        "ann.add(Dense(units=1, activation=None))"
      ],
      "execution_count": 530,
      "outputs": []
    },
    {
      "cell_type": "markdown",
      "metadata": {
        "id": "XlwMQRBRL91Q"
      },
      "source": [
        "## Training the ANN"
      ]
    },
    {
      "cell_type": "code",
      "metadata": {
        "colab": {
          "base_uri": "https://localhost:8080/"
        },
        "id": "_7vwr4seL_8J",
        "outputId": "e2782cbe-2fc9-44b5-a117-745413f3788f"
      },
      "source": [
        "# Compiling the ANN\r\n",
        "ann.compile(optimizer = 'adam', loss = 'mean_squared_error')\r\n",
        "\r\n",
        "# Training the ANN on the Training set\r\n",
        "ann.fit(X_train, y_train, batch_size = 2**5, epochs = 25,  validation_data=(X_validation, y_validation))"
      ],
      "execution_count": 531,
      "outputs": [
        {
          "output_type": "stream",
          "text": [
            "Epoch 1/25\n",
            "887/887 [==============================] - 2s 2ms/step - loss: 0.4940 - val_loss: 0.0089\n",
            "Epoch 2/25\n",
            "887/887 [==============================] - 1s 2ms/step - loss: 0.0244 - val_loss: 0.0078\n",
            "Epoch 3/25\n",
            "887/887 [==============================] - 1s 2ms/step - loss: 0.0093 - val_loss: 0.0063\n",
            "Epoch 4/25\n",
            "887/887 [==============================] - 1s 2ms/step - loss: 0.0080 - val_loss: 0.0054\n",
            "Epoch 5/25\n",
            "887/887 [==============================] - 1s 2ms/step - loss: 0.0071 - val_loss: 0.0048\n",
            "Epoch 6/25\n",
            "887/887 [==============================] - 1s 2ms/step - loss: 0.0062 - val_loss: 0.0042\n",
            "Epoch 7/25\n",
            "887/887 [==============================] - 1s 2ms/step - loss: 0.0059 - val_loss: 0.0036\n",
            "Epoch 8/25\n",
            "887/887 [==============================] - 1s 2ms/step - loss: 0.0054 - val_loss: 0.0033\n",
            "Epoch 9/25\n",
            "887/887 [==============================] - 1s 2ms/step - loss: 0.0050 - val_loss: 0.0031\n",
            "Epoch 10/25\n",
            "887/887 [==============================] - 1s 2ms/step - loss: 0.0047 - val_loss: 0.0027\n",
            "Epoch 11/25\n",
            "887/887 [==============================] - 1s 2ms/step - loss: 0.0045 - val_loss: 0.0029\n",
            "Epoch 12/25\n",
            "887/887 [==============================] - 1s 2ms/step - loss: 0.0044 - val_loss: 0.0027\n",
            "Epoch 13/25\n",
            "887/887 [==============================] - 1s 2ms/step - loss: 0.0041 - val_loss: 0.0026\n",
            "Epoch 14/25\n",
            "887/887 [==============================] - 1s 2ms/step - loss: 0.0040 - val_loss: 0.0024\n",
            "Epoch 15/25\n",
            "887/887 [==============================] - 1s 2ms/step - loss: 0.0041 - val_loss: 0.0024\n",
            "Epoch 16/25\n",
            "887/887 [==============================] - 1s 2ms/step - loss: 0.0039 - val_loss: 0.0025\n",
            "Epoch 17/25\n",
            "887/887 [==============================] - 1s 2ms/step - loss: 0.0041 - val_loss: 0.0024\n",
            "Epoch 18/25\n",
            "887/887 [==============================] - 2s 2ms/step - loss: 0.0040 - val_loss: 0.0023\n",
            "Epoch 19/25\n",
            "887/887 [==============================] - 1s 2ms/step - loss: 0.0039 - val_loss: 0.0024\n",
            "Epoch 20/25\n",
            "887/887 [==============================] - 1s 2ms/step - loss: 0.0040 - val_loss: 0.0024\n",
            "Epoch 21/25\n",
            "887/887 [==============================] - 1s 2ms/step - loss: 0.0039 - val_loss: 0.0022\n",
            "Epoch 22/25\n",
            "887/887 [==============================] - 1s 2ms/step - loss: 0.0038 - val_loss: 0.0024\n",
            "Epoch 23/25\n",
            "887/887 [==============================] - 1s 2ms/step - loss: 0.0041 - val_loss: 0.0021\n",
            "Epoch 24/25\n",
            "887/887 [==============================] - 1s 2ms/step - loss: 0.0039 - val_loss: 0.0021\n",
            "Epoch 25/25\n",
            "887/887 [==============================] - 1s 2ms/step - loss: 0.0039 - val_loss: 0.0022\n"
          ],
          "name": "stdout"
        },
        {
          "output_type": "execute_result",
          "data": {
            "text/plain": [
              "<tensorflow.python.keras.callbacks.History at 0x7f83f7a8ada0>"
            ]
          },
          "metadata": {
            "tags": []
          },
          "execution_count": 531
        }
      ]
    },
    {
      "cell_type": "markdown",
      "metadata": {
        "id": "YAOzjBQGN6a_"
      },
      "source": [
        "##  Making Predictions on ANN"
      ]
    },
    {
      "cell_type": "code",
      "metadata": {
        "colab": {
          "base_uri": "https://localhost:8080/"
        },
        "id": "rGs6I654N__q",
        "outputId": "b0d2fc1c-297e-4aa4-a1a0-3102758fc333"
      },
      "source": [
        "# Make prediction on validation and test set\r\n",
        "y_hat_validation = ann.predict(X_validation)\r\n",
        "y_pred = ann.predict(X_test)\r\n",
        "#y_hat_validation = sc_y.inverse_transform(y_hat_validation)\r\n",
        "#y_validation = sc_y.inverse_transform(y_validation)\r\n",
        "y_pred = sc_y.inverse_transform(y_pred)\r\n",
        "np.set_printoptions(precision=2)\r\n",
        "print(np.concatenate((y_hat_validation.reshape(len(y_hat_validation),1), y_validation.reshape(len(y_validation),1)),1))"
      ],
      "execution_count": 532,
      "outputs": [
        {
          "output_type": "stream",
          "text": [
            "[[0.25 0.18]\n",
            " [0.06 0.06]\n",
            " [0.4  0.48]\n",
            " ...\n",
            " [0.19 0.2 ]\n",
            " [0.08 0.09]\n",
            " [0.28 0.29]]\n"
          ],
          "name": "stdout"
        }
      ]
    },
    {
      "cell_type": "code",
      "metadata": {
        "colab": {
          "base_uri": "https://localhost:8080/"
        },
        "id": "3nCiOUZLONC0",
        "outputId": "94d43d9b-f3ac-457f-ae07-a575a418f092"
      },
      "source": [
        "# Using scikit learn to evaluate performance\r\n",
        "from sklearn.metrics import  r2_score, mean_squared_error\r\n",
        "mse = mean_squared_error(y_hat_validation, y_validation)\r\n",
        "print(\"The r2_score on validation set is :\", r2_score(y_hat_validation, y_validation))\r\n",
        "print(\"The mean squared error (MSE) on validation set is :\", mse)\r\n",
        "print(\"The root mean squared error (RMSE) on validation set is :\", np.sqrt(mse))"
      ],
      "execution_count": 533,
      "outputs": [
        {
          "output_type": "stream",
          "text": [
            "The r2_score on validation set is : 0.8624905756570986\n",
            "The mean squared error (MSE) on validation set is : 0.002180314813562663\n",
            "The root mean squared error (RMSE) on validation set is : 0.04669384128086554\n"
          ],
          "name": "stdout"
        }
      ]
    },
    {
      "cell_type": "markdown",
      "metadata": {
        "id": "AriQ1eUwYXI-"
      },
      "source": [
        "## # Conclusion: The model evaluation metrics on the validation set  are summarized as follows\r\n",
        "* target encoding: r2_score = 0.84 , mse = 6013449 , rmse = 2452\r\n",
        "* count encoding:  r2_score= 0.78 , mse = 6334479 , rmse = 2516 \r\n",
        "* selective encoding:  r2_score= 0.77 , mse = 6359849, rmse = 2521\r\n",
        "* selective encoding2 :  r2_score= 0.85 , mse = 5396513, rmse = 2323"
      ]
    },
    {
      "cell_type": "markdown",
      "metadata": {
        "id": "jn76Am5EpJ78"
      },
      "source": [
        "### Save ANN Model"
      ]
    },
    {
      "cell_type": "code",
      "metadata": {
        "id": "YYjAHOwMRnqJ"
      },
      "source": [
        "# Save model\r\n",
        "ann.save(\"Carprice_20epochs.h5\")"
      ],
      "execution_count": 534,
      "outputs": []
    }
  ]
}