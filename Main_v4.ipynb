{
  "nbformat": 4,
  "nbformat_minor": 0,
  "metadata": {
    "colab": {
      "name": "Main_v4.ipynb",
      "provenance": [],
      "toc_visible": true,
      "include_colab_link": true
    },
    "kernelspec": {
      "name": "python3",
      "display_name": "Python 3"
    }
  },
  "cells": [
    {
      "cell_type": "markdown",
      "metadata": {
        "id": "view-in-github",
        "colab_type": "text"
      },
      "source": [
        "<a href=\"https://colab.research.google.com/github/obeabi/SdsOctober2020Challenge/blob/main/Main_v4.ipynb\" target=\"_parent\"><img src=\"https://colab.research.google.com/assets/colab-badge.svg\" alt=\"Open In Colab\"/></a>"
      ]
    },
    {
      "cell_type": "markdown",
      "metadata": {
        "id": "7i3DzeOAFN48"
      },
      "source": [
        "# Written by Abiola Obembe\r\n",
        "# SDS October Challenge #2 - Used Car Prices\r\n",
        "## 2021-01-12\r\n",
        "\r\n",
        "### In this notebook a Neural Network is used to fit and predict used car price"
      ]
    },
    {
      "cell_type": "markdown",
      "metadata": {
        "id": "C5Wy1C3FFWlF"
      },
      "source": [
        "This month you have been hired by a new car trader company to help sell its used cars. You will be analyzing used cars from multiple manufacturers and of different models. Your job is to help the car trader company determine the price of its used cars."
      ]
    },
    {
      "cell_type": "markdown",
      "metadata": {
        "id": "P4iVP8uAGZim"
      },
      "source": [
        "## Step 1: Data Preprocessing "
      ]
    },
    {
      "cell_type": "code",
      "metadata": {
        "colab": {
          "base_uri": "https://localhost:8080/"
        },
        "id": "LU2Es40IFaa2",
        "outputId": "1ebb3061-6264-4093-8097-56f1c95db450"
      },
      "source": [
        "# Importing the libraries\r\n",
        "import pickle\r\n",
        "import numpy as np\r\n",
        "import matplotlib.pyplot as plt\r\n",
        "import pandas as pd\r\n",
        "import seaborn as sns\r\n",
        "from sklearn.preprocessing import MinMaxScaler \r\n",
        "import tensorflow as tf\r\n",
        "tf.__version__\r\n",
        "from sklearn.model_selection import train_test_split\r\n",
        "\r\n",
        "%matplotlib inline\r\n",
        "plt.rcParams['figure.figsize'] = (8.0, 6.0) # set default size of plots\r\n",
        "plt.rcParams['image.interpolation'] = 'nearest'\r\n",
        "plt.rcParams['image.cmap'] = 'gray'\r\n",
        "\r\n",
        "print('Libraries installed successfully!')\r\n",
        "\r\n",
        "np.random.seed(0)"
      ],
      "execution_count": 379,
      "outputs": [
        {
          "output_type": "stream",
          "text": [
            "Libraries installed successfully!\n"
          ],
          "name": "stdout"
        }
      ]
    },
    {
      "cell_type": "code",
      "metadata": {
        "colab": {
          "base_uri": "https://localhost:8080/",
          "height": 35
        },
        "id": "ddSVvAumD77W",
        "outputId": "fb8d155a-08e3-44c3-9c0f-b26de58a61a1"
      },
      "source": [
        "# Establish tensorflow version imported\r\n",
        "tf.__version__"
      ],
      "execution_count": 380,
      "outputs": [
        {
          "output_type": "execute_result",
          "data": {
            "application/vnd.google.colaboratory.intrinsic+json": {
              "type": "string"
            },
            "text/plain": [
              "'2.4.0'"
            ]
          },
          "metadata": {
            "tags": []
          },
          "execution_count": 380
        }
      ]
    },
    {
      "cell_type": "code",
      "metadata": {
        "colab": {
          "base_uri": "https://localhost:8080/",
          "height": 215
        },
        "id": "MrnpIY0BG3vj",
        "outputId": "30397755-12e8-4283-a934-68b6c3240899"
      },
      "source": [
        "# Importing the training dataset\r\n",
        "\r\n",
        "df_train = pd.read_csv('df_train_se2.csv', engine= 'python', encoding= 'latin1')\r\n",
        "\r\n",
        "# drop first column\r\n",
        "df_train.drop(['Unnamed: 0', 'duration_listed'], axis = 1, inplace = True)\r\n",
        "\r\n",
        "df_train.head()"
      ],
      "execution_count": 381,
      "outputs": [
        {
          "output_type": "execute_result",
          "data": {
            "text/html": [
              "<div>\n",
              "<style scoped>\n",
              "    .dataframe tbody tr th:only-of-type {\n",
              "        vertical-align: middle;\n",
              "    }\n",
              "\n",
              "    .dataframe tbody tr th {\n",
              "        vertical-align: top;\n",
              "    }\n",
              "\n",
              "    .dataframe thead th {\n",
              "        text-align: right;\n",
              "    }\n",
              "</style>\n",
              "<table border=\"1\" class=\"dataframe\">\n",
              "  <thead>\n",
              "    <tr style=\"text-align: right;\">\n",
              "      <th></th>\n",
              "      <th>odometer_value</th>\n",
              "      <th>year_produced</th>\n",
              "      <th>engine_has_gas</th>\n",
              "      <th>engine_capacity</th>\n",
              "      <th>has_warranty</th>\n",
              "      <th>feature_0</th>\n",
              "      <th>feature_1</th>\n",
              "      <th>feature_2</th>\n",
              "      <th>feature_3</th>\n",
              "      <th>feature_4</th>\n",
              "      <th>feature_5</th>\n",
              "      <th>feature_6</th>\n",
              "      <th>feature_7</th>\n",
              "      <th>feature_8</th>\n",
              "      <th>feature_9</th>\n",
              "      <th>price_usd</th>\n",
              "      <th>manufacturer_name</th>\n",
              "      <th>model_name</th>\n",
              "      <th>transmission</th>\n",
              "      <th>color</th>\n",
              "      <th>engine_fuel</th>\n",
              "      <th>engine_type</th>\n",
              "      <th>body_type</th>\n",
              "      <th>state</th>\n",
              "      <th>drivetrain</th>\n",
              "    </tr>\n",
              "  </thead>\n",
              "  <tbody>\n",
              "    <tr>\n",
              "      <th>0</th>\n",
              "      <td>245000</td>\n",
              "      <td>2006</td>\n",
              "      <td>0</td>\n",
              "      <td>1.6</td>\n",
              "      <td>0</td>\n",
              "      <td>1</td>\n",
              "      <td>0</td>\n",
              "      <td>0</td>\n",
              "      <td>0</td>\n",
              "      <td>0</td>\n",
              "      <td>0</td>\n",
              "      <td>0</td>\n",
              "      <td>0</td>\n",
              "      <td>0</td>\n",
              "      <td>0</td>\n",
              "      <td>4250.0</td>\n",
              "      <td>20</td>\n",
              "      <td>612</td>\n",
              "      <td>1</td>\n",
              "      <td>1</td>\n",
              "      <td>3</td>\n",
              "      <td>2</td>\n",
              "      <td>2</td>\n",
              "      <td>2</td>\n",
              "      <td>1</td>\n",
              "    </tr>\n",
              "    <tr>\n",
              "      <th>1</th>\n",
              "      <td>265542</td>\n",
              "      <td>2002</td>\n",
              "      <td>0</td>\n",
              "      <td>3.3</td>\n",
              "      <td>0</td>\n",
              "      <td>0</td>\n",
              "      <td>1</td>\n",
              "      <td>0</td>\n",
              "      <td>0</td>\n",
              "      <td>0</td>\n",
              "      <td>0</td>\n",
              "      <td>0</td>\n",
              "      <td>0</td>\n",
              "      <td>0</td>\n",
              "      <td>0</td>\n",
              "      <td>4000.0</td>\n",
              "      <td>24</td>\n",
              "      <td>226</td>\n",
              "      <td>0</td>\n",
              "      <td>8</td>\n",
              "      <td>3</td>\n",
              "      <td>2</td>\n",
              "      <td>6</td>\n",
              "      <td>2</td>\n",
              "      <td>1</td>\n",
              "    </tr>\n",
              "    <tr>\n",
              "      <th>2</th>\n",
              "      <td>168000</td>\n",
              "      <td>2009</td>\n",
              "      <td>0</td>\n",
              "      <td>1.8</td>\n",
              "      <td>0</td>\n",
              "      <td>0</td>\n",
              "      <td>0</td>\n",
              "      <td>0</td>\n",
              "      <td>1</td>\n",
              "      <td>0</td>\n",
              "      <td>0</td>\n",
              "      <td>1</td>\n",
              "      <td>1</td>\n",
              "      <td>1</td>\n",
              "      <td>1</td>\n",
              "      <td>10900.0</td>\n",
              "      <td>20</td>\n",
              "      <td>395</td>\n",
              "      <td>1</td>\n",
              "      <td>1</td>\n",
              "      <td>0</td>\n",
              "      <td>0</td>\n",
              "      <td>6</td>\n",
              "      <td>2</td>\n",
              "      <td>1</td>\n",
              "    </tr>\n",
              "    <tr>\n",
              "      <th>3</th>\n",
              "      <td>225522</td>\n",
              "      <td>2008</td>\n",
              "      <td>0</td>\n",
              "      <td>1.8</td>\n",
              "      <td>0</td>\n",
              "      <td>0</td>\n",
              "      <td>1</td>\n",
              "      <td>1</td>\n",
              "      <td>0</td>\n",
              "      <td>0</td>\n",
              "      <td>1</td>\n",
              "      <td>0</td>\n",
              "      <td>0</td>\n",
              "      <td>1</td>\n",
              "      <td>1</td>\n",
              "      <td>6999.0</td>\n",
              "      <td>18</td>\n",
              "      <td>538</td>\n",
              "      <td>1</td>\n",
              "      <td>6</td>\n",
              "      <td>3</td>\n",
              "      <td>2</td>\n",
              "      <td>10</td>\n",
              "      <td>2</td>\n",
              "      <td>1</td>\n",
              "    </tr>\n",
              "    <tr>\n",
              "      <th>4</th>\n",
              "      <td>370000</td>\n",
              "      <td>1991</td>\n",
              "      <td>0</td>\n",
              "      <td>1.8</td>\n",
              "      <td>0</td>\n",
              "      <td>0</td>\n",
              "      <td>0</td>\n",
              "      <td>0</td>\n",
              "      <td>0</td>\n",
              "      <td>0</td>\n",
              "      <td>0</td>\n",
              "      <td>0</td>\n",
              "      <td>0</td>\n",
              "      <td>0</td>\n",
              "      <td>1</td>\n",
              "      <td>1600.0</td>\n",
              "      <td>29</td>\n",
              "      <td>101</td>\n",
              "      <td>1</td>\n",
              "      <td>0</td>\n",
              "      <td>3</td>\n",
              "      <td>2</td>\n",
              "      <td>8</td>\n",
              "      <td>2</td>\n",
              "      <td>1</td>\n",
              "    </tr>\n",
              "  </tbody>\n",
              "</table>\n",
              "</div>"
            ],
            "text/plain": [
              "   odometer_value  year_produced  engine_has_gas  ...  body_type  state  drivetrain\n",
              "0          245000           2006               0  ...          2      2           1\n",
              "1          265542           2002               0  ...          6      2           1\n",
              "2          168000           2009               0  ...          6      2           1\n",
              "3          225522           2008               0  ...         10      2           1\n",
              "4          370000           1991               0  ...          8      2           1\n",
              "\n",
              "[5 rows x 25 columns]"
            ]
          },
          "metadata": {
            "tags": []
          },
          "execution_count": 381
        }
      ]
    },
    {
      "cell_type": "code",
      "metadata": {
        "colab": {
          "base_uri": "https://localhost:8080/"
        },
        "id": "1ja7A4-OHn2H",
        "outputId": "270e488f-806c-4397-941b-8ce361f12253"
      },
      "source": [
        "# print shape and check for missing values\r\n",
        "print(df_train.shape)\r\n",
        "print(df_train.isnull().sum().sum())"
      ],
      "execution_count": 382,
      "outputs": [
        {
          "output_type": "stream",
          "text": [
            "(30824, 25)\n",
            "0\n"
          ],
          "name": "stdout"
        }
      ]
    },
    {
      "cell_type": "code",
      "metadata": {
        "colab": {
          "base_uri": "https://localhost:8080/",
          "height": 215
        },
        "id": "EMD4GiggHVdX",
        "outputId": "b4e53a3c-0934-453f-da67-64b99bfd433a"
      },
      "source": [
        "# Importing the test dataset\r\n",
        "\r\n",
        "df_test = pd.read_csv('df_test_se2.csv', engine= 'python', encoding= 'latin1')\r\n",
        "\r\n",
        "# drop first column\r\n",
        "df_test.drop(['Unnamed: 0', 'duration_listed'], axis = 1, inplace = True)\r\n",
        "\r\n",
        "df_test.head()"
      ],
      "execution_count": 383,
      "outputs": [
        {
          "output_type": "execute_result",
          "data": {
            "text/html": [
              "<div>\n",
              "<style scoped>\n",
              "    .dataframe tbody tr th:only-of-type {\n",
              "        vertical-align: middle;\n",
              "    }\n",
              "\n",
              "    .dataframe tbody tr th {\n",
              "        vertical-align: top;\n",
              "    }\n",
              "\n",
              "    .dataframe thead th {\n",
              "        text-align: right;\n",
              "    }\n",
              "</style>\n",
              "<table border=\"1\" class=\"dataframe\">\n",
              "  <thead>\n",
              "    <tr style=\"text-align: right;\">\n",
              "      <th></th>\n",
              "      <th>odometer_value</th>\n",
              "      <th>year_produced</th>\n",
              "      <th>engine_has_gas</th>\n",
              "      <th>engine_capacity</th>\n",
              "      <th>has_warranty</th>\n",
              "      <th>feature_0</th>\n",
              "      <th>feature_1</th>\n",
              "      <th>feature_2</th>\n",
              "      <th>feature_3</th>\n",
              "      <th>feature_4</th>\n",
              "      <th>feature_5</th>\n",
              "      <th>feature_6</th>\n",
              "      <th>feature_7</th>\n",
              "      <th>feature_8</th>\n",
              "      <th>feature_9</th>\n",
              "      <th>manufacturer_name</th>\n",
              "      <th>model_name</th>\n",
              "      <th>transmission</th>\n",
              "      <th>color</th>\n",
              "      <th>engine_fuel</th>\n",
              "      <th>engine_type</th>\n",
              "      <th>body_type</th>\n",
              "      <th>state</th>\n",
              "      <th>drivetrain</th>\n",
              "    </tr>\n",
              "  </thead>\n",
              "  <tbody>\n",
              "    <tr>\n",
              "      <th>0</th>\n",
              "      <td>360000</td>\n",
              "      <td>1997</td>\n",
              "      <td>0</td>\n",
              "      <td>1.6</td>\n",
              "      <td>0</td>\n",
              "      <td>0</td>\n",
              "      <td>1</td>\n",
              "      <td>0</td>\n",
              "      <td>0</td>\n",
              "      <td>0</td>\n",
              "      <td>0</td>\n",
              "      <td>0</td>\n",
              "      <td>1</td>\n",
              "      <td>0</td>\n",
              "      <td>1</td>\n",
              "      <td>16</td>\n",
              "      <td>210</td>\n",
              "      <td>1</td>\n",
              "      <td>1</td>\n",
              "      <td>3</td>\n",
              "      <td>2</td>\n",
              "      <td>1</td>\n",
              "      <td>2</td>\n",
              "      <td>1</td>\n",
              "    </tr>\n",
              "    <tr>\n",
              "      <th>1</th>\n",
              "      <td>267000</td>\n",
              "      <td>1999</td>\n",
              "      <td>0</td>\n",
              "      <td>1.4</td>\n",
              "      <td>0</td>\n",
              "      <td>0</td>\n",
              "      <td>0</td>\n",
              "      <td>0</td>\n",
              "      <td>0</td>\n",
              "      <td>0</td>\n",
              "      <td>0</td>\n",
              "      <td>0</td>\n",
              "      <td>0</td>\n",
              "      <td>0</td>\n",
              "      <td>1</td>\n",
              "      <td>13</td>\n",
              "      <td>167</td>\n",
              "      <td>1</td>\n",
              "      <td>8</td>\n",
              "      <td>3</td>\n",
              "      <td>2</td>\n",
              "      <td>2</td>\n",
              "      <td>2</td>\n",
              "      <td>1</td>\n",
              "    </tr>\n",
              "    <tr>\n",
              "      <th>2</th>\n",
              "      <td>172000</td>\n",
              "      <td>2000</td>\n",
              "      <td>0</td>\n",
              "      <td>2.0</td>\n",
              "      <td>0</td>\n",
              "      <td>1</td>\n",
              "      <td>0</td>\n",
              "      <td>0</td>\n",
              "      <td>0</td>\n",
              "      <td>0</td>\n",
              "      <td>0</td>\n",
              "      <td>0</td>\n",
              "      <td>0</td>\n",
              "      <td>0</td>\n",
              "      <td>0</td>\n",
              "      <td>26</td>\n",
              "      <td>417</td>\n",
              "      <td>1</td>\n",
              "      <td>1</td>\n",
              "      <td>3</td>\n",
              "      <td>2</td>\n",
              "      <td>6</td>\n",
              "      <td>2</td>\n",
              "      <td>1</td>\n",
              "    </tr>\n",
              "    <tr>\n",
              "      <th>3</th>\n",
              "      <td>230000</td>\n",
              "      <td>2009</td>\n",
              "      <td>0</td>\n",
              "      <td>2.4</td>\n",
              "      <td>0</td>\n",
              "      <td>0</td>\n",
              "      <td>1</td>\n",
              "      <td>1</td>\n",
              "      <td>1</td>\n",
              "      <td>0</td>\n",
              "      <td>1</td>\n",
              "      <td>1</td>\n",
              "      <td>1</td>\n",
              "      <td>1</td>\n",
              "      <td>1</td>\n",
              "      <td>37</td>\n",
              "      <td>675</td>\n",
              "      <td>1</td>\n",
              "      <td>10</td>\n",
              "      <td>0</td>\n",
              "      <td>0</td>\n",
              "      <td>10</td>\n",
              "      <td>2</td>\n",
              "      <td>1</td>\n",
              "    </tr>\n",
              "    <tr>\n",
              "      <th>4</th>\n",
              "      <td>206000</td>\n",
              "      <td>2007</td>\n",
              "      <td>0</td>\n",
              "      <td>1.6</td>\n",
              "      <td>0</td>\n",
              "      <td>0</td>\n",
              "      <td>1</td>\n",
              "      <td>0</td>\n",
              "      <td>1</td>\n",
              "      <td>0</td>\n",
              "      <td>1</td>\n",
              "      <td>0</td>\n",
              "      <td>0</td>\n",
              "      <td>0</td>\n",
              "      <td>0</td>\n",
              "      <td>18</td>\n",
              "      <td>398</td>\n",
              "      <td>1</td>\n",
              "      <td>8</td>\n",
              "      <td>3</td>\n",
              "      <td>2</td>\n",
              "      <td>8</td>\n",
              "      <td>2</td>\n",
              "      <td>1</td>\n",
              "    </tr>\n",
              "  </tbody>\n",
              "</table>\n",
              "</div>"
            ],
            "text/plain": [
              "   odometer_value  year_produced  engine_has_gas  ...  body_type  state  drivetrain\n",
              "0          360000           1997               0  ...          1      2           1\n",
              "1          267000           1999               0  ...          2      2           1\n",
              "2          172000           2000               0  ...          6      2           1\n",
              "3          230000           2009               0  ...         10      2           1\n",
              "4          206000           2007               0  ...          8      2           1\n",
              "\n",
              "[5 rows x 24 columns]"
            ]
          },
          "metadata": {
            "tags": []
          },
          "execution_count": 383
        }
      ]
    },
    {
      "cell_type": "code",
      "metadata": {
        "colab": {
          "base_uri": "https://localhost:8080/"
        },
        "id": "QQ5bTIyHKOhU",
        "outputId": "c0f44a6e-4ac7-4c55-b237-9f375a599f67"
      },
      "source": [
        "# print shape and number of total missing values\r\n",
        "print(df_test.shape)\r\n",
        "print(df_test.isnull().sum().sum())"
      ],
      "execution_count": 384,
      "outputs": [
        {
          "output_type": "stream",
          "text": [
            "(7707, 24)\n",
            "0\n"
          ],
          "name": "stdout"
        }
      ]
    },
    {
      "cell_type": "code",
      "metadata": {
        "id": "SVu-bFY-hByC"
      },
      "source": [
        "# Let's create a function to create adjusted R-Squared\r\n",
        "def adj_r2(x,y):\r\n",
        "    r2 = regression.score(x,y)\r\n",
        "    n = x.shape[0]\r\n",
        "    p = x.shape[1]\r\n",
        "    adjusted_r2 = 1-(1-r2)*(n-1)/(n-p-1)\r\n",
        "    return adjusted_r2"
      ],
      "execution_count": 385,
      "outputs": []
    },
    {
      "cell_type": "code",
      "metadata": {
        "colab": {
          "base_uri": "https://localhost:8080/",
          "height": 215
        },
        "id": "6V-sUWj7ErKi",
        "outputId": "52680ba6-522b-4b5c-df9e-d279c7515e51"
      },
      "source": [
        "# Specify label column name here\r\n",
        "label = 'price_usd'\r\n",
        "\r\n",
        "\r\n",
        "\r\n",
        "# Rearrage the dataset columns\r\n",
        "cols = df_train.columns.tolist()\r\n",
        "colIdx = df_train.columns.get_loc(label)\r\n",
        "# Do nothing if the label is in the 0th position\r\n",
        "# Otherwise, change the order of columns to move label to 0th position\r\n",
        "if colIdx != 0:\r\n",
        "    cols = cols[colIdx:colIdx+1] + cols[0:colIdx] + cols[colIdx+1:]\r\n",
        "    #cols =  cols[0:colIdx] + cols[colIdx:colIdx+1]\r\n",
        "# Change the order of data so that label is in the 0th column\r\n",
        "modified_df_train = df_train[cols]\r\n",
        "\r\n",
        "modified_df_train.head()"
      ],
      "execution_count": 386,
      "outputs": [
        {
          "output_type": "execute_result",
          "data": {
            "text/html": [
              "<div>\n",
              "<style scoped>\n",
              "    .dataframe tbody tr th:only-of-type {\n",
              "        vertical-align: middle;\n",
              "    }\n",
              "\n",
              "    .dataframe tbody tr th {\n",
              "        vertical-align: top;\n",
              "    }\n",
              "\n",
              "    .dataframe thead th {\n",
              "        text-align: right;\n",
              "    }\n",
              "</style>\n",
              "<table border=\"1\" class=\"dataframe\">\n",
              "  <thead>\n",
              "    <tr style=\"text-align: right;\">\n",
              "      <th></th>\n",
              "      <th>price_usd</th>\n",
              "      <th>odometer_value</th>\n",
              "      <th>year_produced</th>\n",
              "      <th>engine_has_gas</th>\n",
              "      <th>engine_capacity</th>\n",
              "      <th>has_warranty</th>\n",
              "      <th>feature_0</th>\n",
              "      <th>feature_1</th>\n",
              "      <th>feature_2</th>\n",
              "      <th>feature_3</th>\n",
              "      <th>feature_4</th>\n",
              "      <th>feature_5</th>\n",
              "      <th>feature_6</th>\n",
              "      <th>feature_7</th>\n",
              "      <th>feature_8</th>\n",
              "      <th>feature_9</th>\n",
              "      <th>manufacturer_name</th>\n",
              "      <th>model_name</th>\n",
              "      <th>transmission</th>\n",
              "      <th>color</th>\n",
              "      <th>engine_fuel</th>\n",
              "      <th>engine_type</th>\n",
              "      <th>body_type</th>\n",
              "      <th>state</th>\n",
              "      <th>drivetrain</th>\n",
              "    </tr>\n",
              "  </thead>\n",
              "  <tbody>\n",
              "    <tr>\n",
              "      <th>0</th>\n",
              "      <td>4250.0</td>\n",
              "      <td>245000</td>\n",
              "      <td>2006</td>\n",
              "      <td>0</td>\n",
              "      <td>1.6</td>\n",
              "      <td>0</td>\n",
              "      <td>1</td>\n",
              "      <td>0</td>\n",
              "      <td>0</td>\n",
              "      <td>0</td>\n",
              "      <td>0</td>\n",
              "      <td>0</td>\n",
              "      <td>0</td>\n",
              "      <td>0</td>\n",
              "      <td>0</td>\n",
              "      <td>0</td>\n",
              "      <td>20</td>\n",
              "      <td>612</td>\n",
              "      <td>1</td>\n",
              "      <td>1</td>\n",
              "      <td>3</td>\n",
              "      <td>2</td>\n",
              "      <td>2</td>\n",
              "      <td>2</td>\n",
              "      <td>1</td>\n",
              "    </tr>\n",
              "    <tr>\n",
              "      <th>1</th>\n",
              "      <td>4000.0</td>\n",
              "      <td>265542</td>\n",
              "      <td>2002</td>\n",
              "      <td>0</td>\n",
              "      <td>3.3</td>\n",
              "      <td>0</td>\n",
              "      <td>0</td>\n",
              "      <td>1</td>\n",
              "      <td>0</td>\n",
              "      <td>0</td>\n",
              "      <td>0</td>\n",
              "      <td>0</td>\n",
              "      <td>0</td>\n",
              "      <td>0</td>\n",
              "      <td>0</td>\n",
              "      <td>0</td>\n",
              "      <td>24</td>\n",
              "      <td>226</td>\n",
              "      <td>0</td>\n",
              "      <td>8</td>\n",
              "      <td>3</td>\n",
              "      <td>2</td>\n",
              "      <td>6</td>\n",
              "      <td>2</td>\n",
              "      <td>1</td>\n",
              "    </tr>\n",
              "    <tr>\n",
              "      <th>2</th>\n",
              "      <td>10900.0</td>\n",
              "      <td>168000</td>\n",
              "      <td>2009</td>\n",
              "      <td>0</td>\n",
              "      <td>1.8</td>\n",
              "      <td>0</td>\n",
              "      <td>0</td>\n",
              "      <td>0</td>\n",
              "      <td>0</td>\n",
              "      <td>1</td>\n",
              "      <td>0</td>\n",
              "      <td>0</td>\n",
              "      <td>1</td>\n",
              "      <td>1</td>\n",
              "      <td>1</td>\n",
              "      <td>1</td>\n",
              "      <td>20</td>\n",
              "      <td>395</td>\n",
              "      <td>1</td>\n",
              "      <td>1</td>\n",
              "      <td>0</td>\n",
              "      <td>0</td>\n",
              "      <td>6</td>\n",
              "      <td>2</td>\n",
              "      <td>1</td>\n",
              "    </tr>\n",
              "    <tr>\n",
              "      <th>3</th>\n",
              "      <td>6999.0</td>\n",
              "      <td>225522</td>\n",
              "      <td>2008</td>\n",
              "      <td>0</td>\n",
              "      <td>1.8</td>\n",
              "      <td>0</td>\n",
              "      <td>0</td>\n",
              "      <td>1</td>\n",
              "      <td>1</td>\n",
              "      <td>0</td>\n",
              "      <td>0</td>\n",
              "      <td>1</td>\n",
              "      <td>0</td>\n",
              "      <td>0</td>\n",
              "      <td>1</td>\n",
              "      <td>1</td>\n",
              "      <td>18</td>\n",
              "      <td>538</td>\n",
              "      <td>1</td>\n",
              "      <td>6</td>\n",
              "      <td>3</td>\n",
              "      <td>2</td>\n",
              "      <td>10</td>\n",
              "      <td>2</td>\n",
              "      <td>1</td>\n",
              "    </tr>\n",
              "    <tr>\n",
              "      <th>4</th>\n",
              "      <td>1600.0</td>\n",
              "      <td>370000</td>\n",
              "      <td>1991</td>\n",
              "      <td>0</td>\n",
              "      <td>1.8</td>\n",
              "      <td>0</td>\n",
              "      <td>0</td>\n",
              "      <td>0</td>\n",
              "      <td>0</td>\n",
              "      <td>0</td>\n",
              "      <td>0</td>\n",
              "      <td>0</td>\n",
              "      <td>0</td>\n",
              "      <td>0</td>\n",
              "      <td>0</td>\n",
              "      <td>1</td>\n",
              "      <td>29</td>\n",
              "      <td>101</td>\n",
              "      <td>1</td>\n",
              "      <td>0</td>\n",
              "      <td>3</td>\n",
              "      <td>2</td>\n",
              "      <td>8</td>\n",
              "      <td>2</td>\n",
              "      <td>1</td>\n",
              "    </tr>\n",
              "  </tbody>\n",
              "</table>\n",
              "</div>"
            ],
            "text/plain": [
              "   price_usd  odometer_value  year_produced  ...  body_type  state  drivetrain\n",
              "0     4250.0          245000           2006  ...          2      2           1\n",
              "1     4000.0          265542           2002  ...          6      2           1\n",
              "2    10900.0          168000           2009  ...          6      2           1\n",
              "3     6999.0          225522           2008  ...         10      2           1\n",
              "4     1600.0          370000           1991  ...          8      2           1\n",
              "\n",
              "[5 rows x 25 columns]"
            ]
          },
          "metadata": {
            "tags": []
          },
          "execution_count": 386
        }
      ]
    },
    {
      "cell_type": "code",
      "metadata": {
        "colab": {
          "base_uri": "https://localhost:8080/"
        },
        "id": "P7e9GHwrHUmj",
        "outputId": "ec8b4036-6b01-4178-c07b-0d6944ea747f"
      },
      "source": [
        "# Check shape of bith train sets\r\n",
        "print(\"Original test set shape is :\" , df_train.shape)\r\n",
        "print(\"Modified test set shape is :\" , modified_df_train.shape)"
      ],
      "execution_count": 387,
      "outputs": [
        {
          "output_type": "stream",
          "text": [
            "Original test set shape is : (30824, 25)\n",
            "Modified test set shape is : (30824, 25)\n"
          ],
          "name": "stdout"
        }
      ]
    },
    {
      "cell_type": "code",
      "metadata": {
        "colab": {
          "base_uri": "https://localhost:8080/",
          "height": 215
        },
        "id": "TvYASvV8GMg_",
        "outputId": "1ff30cf0-d443-49f1-e585-a11178e2f4cc"
      },
      "source": [
        "# Adjust test set also\r\n",
        "test_list_columns = modified_df_train.columns[1:]\r\n",
        "\r\n",
        "modified_df_test = df_test[test_list_columns]\r\n",
        "modified_df_test.head()"
      ],
      "execution_count": 388,
      "outputs": [
        {
          "output_type": "execute_result",
          "data": {
            "text/html": [
              "<div>\n",
              "<style scoped>\n",
              "    .dataframe tbody tr th:only-of-type {\n",
              "        vertical-align: middle;\n",
              "    }\n",
              "\n",
              "    .dataframe tbody tr th {\n",
              "        vertical-align: top;\n",
              "    }\n",
              "\n",
              "    .dataframe thead th {\n",
              "        text-align: right;\n",
              "    }\n",
              "</style>\n",
              "<table border=\"1\" class=\"dataframe\">\n",
              "  <thead>\n",
              "    <tr style=\"text-align: right;\">\n",
              "      <th></th>\n",
              "      <th>odometer_value</th>\n",
              "      <th>year_produced</th>\n",
              "      <th>engine_has_gas</th>\n",
              "      <th>engine_capacity</th>\n",
              "      <th>has_warranty</th>\n",
              "      <th>feature_0</th>\n",
              "      <th>feature_1</th>\n",
              "      <th>feature_2</th>\n",
              "      <th>feature_3</th>\n",
              "      <th>feature_4</th>\n",
              "      <th>feature_5</th>\n",
              "      <th>feature_6</th>\n",
              "      <th>feature_7</th>\n",
              "      <th>feature_8</th>\n",
              "      <th>feature_9</th>\n",
              "      <th>manufacturer_name</th>\n",
              "      <th>model_name</th>\n",
              "      <th>transmission</th>\n",
              "      <th>color</th>\n",
              "      <th>engine_fuel</th>\n",
              "      <th>engine_type</th>\n",
              "      <th>body_type</th>\n",
              "      <th>state</th>\n",
              "      <th>drivetrain</th>\n",
              "    </tr>\n",
              "  </thead>\n",
              "  <tbody>\n",
              "    <tr>\n",
              "      <th>0</th>\n",
              "      <td>360000</td>\n",
              "      <td>1997</td>\n",
              "      <td>0</td>\n",
              "      <td>1.6</td>\n",
              "      <td>0</td>\n",
              "      <td>0</td>\n",
              "      <td>1</td>\n",
              "      <td>0</td>\n",
              "      <td>0</td>\n",
              "      <td>0</td>\n",
              "      <td>0</td>\n",
              "      <td>0</td>\n",
              "      <td>1</td>\n",
              "      <td>0</td>\n",
              "      <td>1</td>\n",
              "      <td>16</td>\n",
              "      <td>210</td>\n",
              "      <td>1</td>\n",
              "      <td>1</td>\n",
              "      <td>3</td>\n",
              "      <td>2</td>\n",
              "      <td>1</td>\n",
              "      <td>2</td>\n",
              "      <td>1</td>\n",
              "    </tr>\n",
              "    <tr>\n",
              "      <th>1</th>\n",
              "      <td>267000</td>\n",
              "      <td>1999</td>\n",
              "      <td>0</td>\n",
              "      <td>1.4</td>\n",
              "      <td>0</td>\n",
              "      <td>0</td>\n",
              "      <td>0</td>\n",
              "      <td>0</td>\n",
              "      <td>0</td>\n",
              "      <td>0</td>\n",
              "      <td>0</td>\n",
              "      <td>0</td>\n",
              "      <td>0</td>\n",
              "      <td>0</td>\n",
              "      <td>1</td>\n",
              "      <td>13</td>\n",
              "      <td>167</td>\n",
              "      <td>1</td>\n",
              "      <td>8</td>\n",
              "      <td>3</td>\n",
              "      <td>2</td>\n",
              "      <td>2</td>\n",
              "      <td>2</td>\n",
              "      <td>1</td>\n",
              "    </tr>\n",
              "    <tr>\n",
              "      <th>2</th>\n",
              "      <td>172000</td>\n",
              "      <td>2000</td>\n",
              "      <td>0</td>\n",
              "      <td>2.0</td>\n",
              "      <td>0</td>\n",
              "      <td>1</td>\n",
              "      <td>0</td>\n",
              "      <td>0</td>\n",
              "      <td>0</td>\n",
              "      <td>0</td>\n",
              "      <td>0</td>\n",
              "      <td>0</td>\n",
              "      <td>0</td>\n",
              "      <td>0</td>\n",
              "      <td>0</td>\n",
              "      <td>26</td>\n",
              "      <td>417</td>\n",
              "      <td>1</td>\n",
              "      <td>1</td>\n",
              "      <td>3</td>\n",
              "      <td>2</td>\n",
              "      <td>6</td>\n",
              "      <td>2</td>\n",
              "      <td>1</td>\n",
              "    </tr>\n",
              "    <tr>\n",
              "      <th>3</th>\n",
              "      <td>230000</td>\n",
              "      <td>2009</td>\n",
              "      <td>0</td>\n",
              "      <td>2.4</td>\n",
              "      <td>0</td>\n",
              "      <td>0</td>\n",
              "      <td>1</td>\n",
              "      <td>1</td>\n",
              "      <td>1</td>\n",
              "      <td>0</td>\n",
              "      <td>1</td>\n",
              "      <td>1</td>\n",
              "      <td>1</td>\n",
              "      <td>1</td>\n",
              "      <td>1</td>\n",
              "      <td>37</td>\n",
              "      <td>675</td>\n",
              "      <td>1</td>\n",
              "      <td>10</td>\n",
              "      <td>0</td>\n",
              "      <td>0</td>\n",
              "      <td>10</td>\n",
              "      <td>2</td>\n",
              "      <td>1</td>\n",
              "    </tr>\n",
              "    <tr>\n",
              "      <th>4</th>\n",
              "      <td>206000</td>\n",
              "      <td>2007</td>\n",
              "      <td>0</td>\n",
              "      <td>1.6</td>\n",
              "      <td>0</td>\n",
              "      <td>0</td>\n",
              "      <td>1</td>\n",
              "      <td>0</td>\n",
              "      <td>1</td>\n",
              "      <td>0</td>\n",
              "      <td>1</td>\n",
              "      <td>0</td>\n",
              "      <td>0</td>\n",
              "      <td>0</td>\n",
              "      <td>0</td>\n",
              "      <td>18</td>\n",
              "      <td>398</td>\n",
              "      <td>1</td>\n",
              "      <td>8</td>\n",
              "      <td>3</td>\n",
              "      <td>2</td>\n",
              "      <td>8</td>\n",
              "      <td>2</td>\n",
              "      <td>1</td>\n",
              "    </tr>\n",
              "  </tbody>\n",
              "</table>\n",
              "</div>"
            ],
            "text/plain": [
              "   odometer_value  year_produced  engine_has_gas  ...  body_type  state  drivetrain\n",
              "0          360000           1997               0  ...          1      2           1\n",
              "1          267000           1999               0  ...          2      2           1\n",
              "2          172000           2000               0  ...          6      2           1\n",
              "3          230000           2009               0  ...         10      2           1\n",
              "4          206000           2007               0  ...          8      2           1\n",
              "\n",
              "[5 rows x 24 columns]"
            ]
          },
          "metadata": {
            "tags": []
          },
          "execution_count": 388
        }
      ]
    },
    {
      "cell_type": "code",
      "metadata": {
        "colab": {
          "base_uri": "https://localhost:8080/"
        },
        "id": "5W6boGuOHC0E",
        "outputId": "08403246-a606-4dfb-c55d-e272ddb928af"
      },
      "source": [
        "# Check shape of test set\r\n",
        "print(\"Original test set shape is :\" , df_test.shape)\r\n",
        "print(\"Modified test set shape is :\" , modified_df_test.shape)"
      ],
      "execution_count": 389,
      "outputs": [
        {
          "output_type": "stream",
          "text": [
            "Original test set shape is : (7707, 24)\n",
            "Modified test set shape is : (7707, 24)\n"
          ],
          "name": "stdout"
        }
      ]
    },
    {
      "cell_type": "code",
      "metadata": {
        "colab": {
          "base_uri": "https://localhost:8080/"
        },
        "id": "BJLcEqWJHi6U",
        "outputId": "81992a79-d31f-45fa-b0e7-f1e1d08b5661"
      },
      "source": [
        "# Create X and y from train set\r\n",
        "X = modified_df_train.iloc[:, 1:].values\r\n",
        "y = modified_df_train.iloc[:, 0].values\r\n",
        "X_test = modified_df_test.iloc[:,:].values\r\n",
        "y = y.reshape(len(y),1)\r\n",
        "print(X[0:1])\r\n",
        "\r\n",
        "print(\"*\"*30)\r\n",
        "print(y[0:2])\r\n",
        "print(\"*\"*30)\r\n",
        "print(X_test[0:1])"
      ],
      "execution_count": 390,
      "outputs": [
        {
          "output_type": "stream",
          "text": [
            "[[2.45e+05 2.01e+03 0.00e+00 1.60e+00 0.00e+00 1.00e+00 0.00e+00 0.00e+00\n",
            "  0.00e+00 0.00e+00 0.00e+00 0.00e+00 0.00e+00 0.00e+00 0.00e+00 2.00e+01\n",
            "  6.12e+02 1.00e+00 1.00e+00 3.00e+00 2.00e+00 2.00e+00 2.00e+00 1.00e+00]]\n",
            "******************************\n",
            "[[4250.]\n",
            " [4000.]]\n",
            "******************************\n",
            "[[3.6e+05 2.0e+03 0.0e+00 1.6e+00 0.0e+00 0.0e+00 1.0e+00 0.0e+00 0.0e+00\n",
            "  0.0e+00 0.0e+00 0.0e+00 1.0e+00 0.0e+00 1.0e+00 1.6e+01 2.1e+02 1.0e+00\n",
            "  1.0e+00 3.0e+00 2.0e+00 1.0e+00 2.0e+00 1.0e+00]]\n"
          ],
          "name": "stdout"
        }
      ]
    },
    {
      "cell_type": "code",
      "metadata": {
        "id": "iDP4SHF4IKXk"
      },
      "source": [
        "# Splitting the dataset into the Training set and Validation set\r\n",
        "X_train, X_validation, y_train, y_validation = train_test_split(X, y, test_size = 0.08, random_state = 0)"
      ],
      "execution_count": 391,
      "outputs": []
    },
    {
      "cell_type": "code",
      "metadata": {
        "id": "UPx-0yaxIzZp"
      },
      "source": [
        "# Feature Scaling\r\n",
        "sc = MinMaxScaler(feature_range= (0,1))\r\n",
        "sc_y = MinMaxScaler(feature_range= (0,1))\r\n",
        "\r\n",
        "# Features columns\r\n",
        "X_train = sc.fit_transform(X_train)\r\n",
        "X_validation = sc.transform(X_validation)\r\n",
        "X_test = sc.transform(X_test)\r\n",
        "\r\n",
        "# target columns\r\n",
        "y_train = sc_y.fit_transform(y_train)\r\n",
        "y_validation = sc_y.transform(y_validation)\r\n"
      ],
      "execution_count": 392,
      "outputs": []
    },
    {
      "cell_type": "code",
      "metadata": {
        "colab": {
          "base_uri": "https://localhost:8080/"
        },
        "id": "II22r_7OKvSr",
        "outputId": "63804db5-64a4-4638-d248-cae9f5da3ebf"
      },
      "source": [
        "# Let's print X_train\r\n",
        "print(X_train)"
      ],
      "execution_count": 393,
      "outputs": [
        {
          "output_type": "stream",
          "text": [
            "[[0.34 0.51 0.   ... 0.73 1.   0.5 ]\n",
            " [0.31 0.71 0.   ... 0.18 1.   0.5 ]\n",
            " [0.22 0.86 0.   ... 0.73 1.   0.5 ]\n",
            " ...\n",
            " [0.26 0.84 0.   ... 0.18 1.   0.5 ]\n",
            " [0.28 0.77 0.   ... 0.91 1.   0.5 ]\n",
            " [0.1  0.93 0.   ... 0.45 1.   0.5 ]]\n"
          ],
          "name": "stdout"
        }
      ]
    },
    {
      "cell_type": "markdown",
      "metadata": {
        "id": "Q2bgteTkfqpn"
      },
      "source": [
        "## Building  ANN "
      ]
    },
    {
      "cell_type": "code",
      "metadata": {
        "id": "V2NTuHuGQshH"
      },
      "source": [
        "# Import keras libraries\r\n",
        "from keras.layers import  Dropout,Flatten,Dense,Activation, BatchNormalization"
      ],
      "execution_count": 394,
      "outputs": []
    },
    {
      "cell_type": "code",
      "metadata": {
        "id": "QC3YBWjIHgAt"
      },
      "source": [
        "# Initializing the ANN\r\n",
        "ann = tf.keras.models.Sequential()"
      ],
      "execution_count": 395,
      "outputs": []
    },
    {
      "cell_type": "code",
      "metadata": {
        "id": "P5rTU5f3LTYm"
      },
      "source": [
        "# Adding the input layer and the first hidden layer\r\n",
        "ann.add(Dense(units=32, activation='relu'))\r\n",
        "ann.add(BatchNormalization())\r\n",
        "ann.add(Dropout(0.2))"
      ],
      "execution_count": 396,
      "outputs": []
    },
    {
      "cell_type": "code",
      "metadata": {
        "id": "nMAVuci3LeEP"
      },
      "source": [
        "# Adding the second hidden layer\r\n",
        "ann.add(Dense(units=16, activation='relu'))\r\n",
        "ann.add(BatchNormalization())\r\n",
        "ann.add(Dropout(0.2))"
      ],
      "execution_count": 397,
      "outputs": []
    },
    {
      "cell_type": "code",
      "metadata": {
        "id": "wuXJtZmELjCB"
      },
      "source": [
        "# Adding the output layer\r\n",
        "ann.add(Dense(units=1, activation=None))"
      ],
      "execution_count": 398,
      "outputs": []
    },
    {
      "cell_type": "markdown",
      "metadata": {
        "id": "XlwMQRBRL91Q"
      },
      "source": [
        "## Training the ANN"
      ]
    },
    {
      "cell_type": "code",
      "metadata": {
        "colab": {
          "base_uri": "https://localhost:8080/"
        },
        "id": "_7vwr4seL_8J",
        "outputId": "36d36c87-a895-4521-aa5a-1f378e04099d"
      },
      "source": [
        "# Compiling the ANN\r\n",
        "ann.compile(optimizer = 'rmsprop', loss = 'mean_squared_error')\r\n",
        "\r\n",
        "# Training the ANN on the Training set\r\n",
        "ann.fit(X_train, y_train, batch_size = 2**5, epochs = 30,  validation_data=(X_validation, y_validation))"
      ],
      "execution_count": 399,
      "outputs": [
        {
          "output_type": "stream",
          "text": [
            "Epoch 1/30\n",
            "887/887 [==============================] - 2s 2ms/step - loss: 0.4757 - val_loss: 0.0054\n",
            "Epoch 2/30\n",
            "887/887 [==============================] - 1s 1ms/step - loss: 0.0066 - val_loss: 0.0042\n",
            "Epoch 3/30\n",
            "887/887 [==============================] - 1s 1ms/step - loss: 0.0050 - val_loss: 0.0034\n",
            "Epoch 4/30\n",
            "887/887 [==============================] - 1s 1ms/step - loss: 0.0048 - val_loss: 0.0036\n",
            "Epoch 5/30\n",
            "887/887 [==============================] - 1s 1ms/step - loss: 0.0044 - val_loss: 0.0029\n",
            "Epoch 6/30\n",
            "887/887 [==============================] - 1s 1ms/step - loss: 0.0041 - val_loss: 0.0028\n",
            "Epoch 7/30\n",
            "887/887 [==============================] - 1s 2ms/step - loss: 0.0042 - val_loss: 0.0029\n",
            "Epoch 8/30\n",
            "887/887 [==============================] - 1s 1ms/step - loss: 0.0041 - val_loss: 0.0030\n",
            "Epoch 9/30\n",
            "887/887 [==============================] - 1s 1ms/step - loss: 0.0039 - val_loss: 0.0029\n",
            "Epoch 10/30\n",
            "887/887 [==============================] - 1s 2ms/step - loss: 0.0040 - val_loss: 0.0025\n",
            "Epoch 11/30\n",
            "887/887 [==============================] - 1s 1ms/step - loss: 0.0038 - val_loss: 0.0027\n",
            "Epoch 12/30\n",
            "887/887 [==============================] - 1s 1ms/step - loss: 0.0040 - val_loss: 0.0024\n",
            "Epoch 13/30\n",
            "887/887 [==============================] - 1s 2ms/step - loss: 0.0040 - val_loss: 0.0034\n",
            "Epoch 14/30\n",
            "887/887 [==============================] - 1s 1ms/step - loss: 0.0040 - val_loss: 0.0026\n",
            "Epoch 15/30\n",
            "887/887 [==============================] - 1s 1ms/step - loss: 0.0041 - val_loss: 0.0025\n",
            "Epoch 16/30\n",
            "887/887 [==============================] - 1s 1ms/step - loss: 0.0039 - val_loss: 0.0037\n",
            "Epoch 17/30\n",
            "887/887 [==============================] - 1s 2ms/step - loss: 0.0038 - val_loss: 0.0040\n",
            "Epoch 18/30\n",
            "887/887 [==============================] - 1s 1ms/step - loss: 0.0039 - val_loss: 0.0026\n",
            "Epoch 19/30\n",
            "887/887 [==============================] - 1s 1ms/step - loss: 0.0038 - val_loss: 0.0033\n",
            "Epoch 20/30\n",
            "887/887 [==============================] - 1s 2ms/step - loss: 0.0039 - val_loss: 0.0031\n",
            "Epoch 21/30\n",
            "887/887 [==============================] - 1s 2ms/step - loss: 0.0039 - val_loss: 0.0049\n",
            "Epoch 22/30\n",
            "887/887 [==============================] - 1s 1ms/step - loss: 0.0037 - val_loss: 0.0054\n",
            "Epoch 23/30\n",
            "887/887 [==============================] - 1s 1ms/step - loss: 0.0040 - val_loss: 0.0025\n",
            "Epoch 24/30\n",
            "887/887 [==============================] - 1s 2ms/step - loss: 0.0039 - val_loss: 0.0028\n",
            "Epoch 25/30\n",
            "887/887 [==============================] - 1s 1ms/step - loss: 0.0037 - val_loss: 0.0028\n",
            "Epoch 26/30\n",
            "887/887 [==============================] - 1s 1ms/step - loss: 0.0038 - val_loss: 0.0059\n",
            "Epoch 27/30\n",
            "887/887 [==============================] - 1s 1ms/step - loss: 0.0037 - val_loss: 0.0037\n",
            "Epoch 28/30\n",
            "887/887 [==============================] - 1s 1ms/step - loss: 0.0037 - val_loss: 0.0076\n",
            "Epoch 29/30\n",
            "887/887 [==============================] - 1s 1ms/step - loss: 0.0038 - val_loss: 0.0031\n",
            "Epoch 30/30\n",
            "887/887 [==============================] - 1s 1ms/step - loss: 0.0038 - val_loss: 0.0026\n"
          ],
          "name": "stdout"
        },
        {
          "output_type": "execute_result",
          "data": {
            "text/plain": [
              "<tensorflow.python.keras.callbacks.History at 0x7f11daf59fd0>"
            ]
          },
          "metadata": {
            "tags": []
          },
          "execution_count": 399
        }
      ]
    },
    {
      "cell_type": "markdown",
      "metadata": {
        "id": "YAOzjBQGN6a_"
      },
      "source": [
        "##  Making Predictions on ANN"
      ]
    },
    {
      "cell_type": "code",
      "metadata": {
        "colab": {
          "base_uri": "https://localhost:8080/"
        },
        "id": "rGs6I654N__q",
        "outputId": "955594cd-d413-4ca0-9e44-c1cfd360420b"
      },
      "source": [
        "# Make prediction on validation and test set\r\n",
        "y_hat_validation = ann.predict(X_validation)\r\n",
        "y_pred = ann.predict(X_test)\r\n",
        "y_hat_validation = sc_y.inverse_transform(y_hat_validation)\r\n",
        "y_validation = sc_y.inverse_transform(y_validation)\r\n",
        "y_pred = sc_y.inverse_transform(y_pred)\r\n",
        "np.set_printoptions(precision=2)\r\n",
        "print(np.concatenate((y_hat_validation.reshape(len(y_hat_validation),1), y_validation.reshape(len(y_validation),1)),1))"
      ],
      "execution_count": 400,
      "outputs": [
        {
          "output_type": "stream",
          "text": [
            "[[13022.78  9100.  ]\n",
            " [ 2732.84  2950.  ]\n",
            " [18264.02 23900.  ]\n",
            " ...\n",
            " [11357.05 10196.34]\n",
            " [ 3899.19  4500.  ]\n",
            " [14318.9  14500.  ]]\n"
          ],
          "name": "stdout"
        }
      ]
    },
    {
      "cell_type": "code",
      "metadata": {
        "colab": {
          "base_uri": "https://localhost:8080/"
        },
        "id": "3nCiOUZLONC0",
        "outputId": "591cb18d-93b5-45c1-8afa-dc212074fa5e"
      },
      "source": [
        "# Using scikit learn to evaluate performance\r\n",
        "from sklearn.metrics import  r2_score, mean_squared_error\r\n",
        "mse = mean_squared_error(y_hat_validation, y_validation)\r\n",
        "print(\"The r2_score on validation set is :\", r2_score(y_hat_validation, y_validation))\r\n",
        "print(\"The mean squared error (MSE) on validation set is :\", mse)\r\n",
        "print(\"The root mean squared error (RMSE) on validation set is :\", np.sqrt(mse))"
      ],
      "execution_count": 401,
      "outputs": [
        {
          "output_type": "stream",
          "text": [
            "The r2_score on validation set is : 0.8164742444853221\n",
            "The mean squared error (MSE) on validation set is : 6598791.949038474\n",
            "The root mean squared error (RMSE) on validation set is : 2568.8113883737115\n"
          ],
          "name": "stdout"
        }
      ]
    },
    {
      "cell_type": "code",
      "metadata": {
        "id": "9h2rLSwkUzeL",
        "outputId": "5553b433-8fe7-46f8-c5d7-bf262fc92b30",
        "colab": {
          "base_uri": "https://localhost:8080/",
          "height": 491
        }
      },
      "source": [
        "# Let's visualize the fit\r\n",
        "plt.figure(figsize=(8, 6))\r\n",
        "\r\n",
        "\r\n",
        "ax1 = sns.distplot(y_validation, hist=False, color=\"r\", label=\"Actual Value\")\r\n",
        "sns.distplot(y_hat_validation, hist=False, color=\"b\", label=\"Fitted Values\" , ax=ax1)\r\n",
        "\r\n",
        "\r\n",
        "plt.title('Actual vs Fitted Values for Price')\r\n",
        "plt.xlabel('Price (in dollars)')\r\n",
        "plt.ylabel('Proportion of Cars')\r\n",
        "plt.legend(['Actual Value','Fitted Value'])\r\n",
        "\r\n",
        "plt.show()\r\n",
        "plt.close()"
      ],
      "execution_count": 409,
      "outputs": [
        {
          "output_type": "stream",
          "text": [
            "/usr/local/lib/python3.6/dist-packages/seaborn/distributions.py:2557: FutureWarning: `distplot` is a deprecated function and will be removed in a future version. Please adapt your code to use either `displot` (a figure-level function with similar flexibility) or `kdeplot` (an axes-level function for kernel density plots).\n",
            "  warnings.warn(msg, FutureWarning)\n",
            "/usr/local/lib/python3.6/dist-packages/seaborn/distributions.py:2557: FutureWarning: `distplot` is a deprecated function and will be removed in a future version. Please adapt your code to use either `displot` (a figure-level function with similar flexibility) or `kdeplot` (an axes-level function for kernel density plots).\n",
            "  warnings.warn(msg, FutureWarning)\n"
          ],
          "name": "stderr"
        },
        {
          "output_type": "display_data",
          "data": {
            "image/png": "[encoded data removed]",
            "text/plain": [
              "<Figure size 576x432 with 1 Axes>"
            ]
          },
          "metadata": {
            "tags": [],
            "needs_background": "light"
          }
        }
      ]
    },
    {
      "cell_type": "markdown",
      "metadata": {
        "id": "AriQ1eUwYXI-"
      },
      "source": [
        "## # Conclusion: The model evaluation metrics on the validation set  are summarized as follows\r\n",
        "* target encoding: r2_score = 0.84 , mse = 6013449 , rmse = 2452\r\n",
        "* count encoding:  r2_score= 0.78 , mse = 6334479 , rmse = 2516 \r\n",
        "* selective encoding:  r2_score= 0.77 , mse = 6359849, rmse = 2521\r\n",
        "* selective encoding2 :  r2_score= 0.85 , mse = 5396513, rmse = 2323"
      ]
    },
    {
      "cell_type": "markdown",
      "metadata": {
        "id": "jn76Am5EpJ78"
      },
      "source": [
        "### Save ANN Model"
      ]
    },
    {
      "cell_type": "code",
      "metadata": {
        "id": "YYjAHOwMRnqJ"
      },
      "source": [
        "# Save model\r\n",
        "ann.save(\"Carprice_20epochs.h5\")"
      ],
      "execution_count": 403,
      "outputs": []
    }
  ]
}